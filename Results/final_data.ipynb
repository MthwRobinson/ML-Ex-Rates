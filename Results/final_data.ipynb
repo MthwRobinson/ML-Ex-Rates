{
 "cells": [
  {
   "cell_type": "code",
   "execution_count": 2,
   "metadata": {
    "collapsed": false
   },
   "outputs": [],
   "source": [
    "setwd('/home/matt/MSOR/ISYE7406/ML-Ex-Rates/Results')\n",
    "library(class)\n",
    "library(MASS)\n",
    "library(pls)\n",
    "library(lars)\n",
    "library(lattice)\n",
    "library(dplyr)"
   ]
  },
  {
   "cell_type": "code",
   "execution_count": 10,
   "metadata": {
    "collapsed": false
   },
   "outputs": [],
   "source": [
    "country <- 'canada'\n",
    "ex_rates <- read.csv('topfive.csv')\n",
    "ex_rates <- subset(ex_rates, ex_rates$Country.y==country)\n",
    "full <- subset(ex_rates, select = c(Pct_Chg, Exchange, X1Y_Yield_d, \n",
    "                X1Y_Yield_f, Int_d, Int_f,  Infl_d, Infl_f, GDPG_d,\n",
    "                GDPG_f, BOT_f, BOT_d, FER_f))\n",
    "\n",
    "full <- full %>% mutate(lag1.Exchange = lag(Exchange,1)) %>%\n",
    "                mutate(lag1.X1Y_Yield_d = lag(X1Y_Yield_d,1)) %>%\n",
    "                mutate(lag1.X1Y_Yield_f = lag(X1Y_Yield_f,1)) %>%\n",
    "                mutate(lag1.Infl_d = lag(Infl_d,1)) %>%\n",
    "                mutate(lag1.Infl_f = lag(Infl_f,1)) %>%\n",
    "                mutate(lag1.Int_d = lag(Int_d,1)) %>%\n",
    "                mutate(lag1.Int_f = lag(Int_f,1)) %>%\n",
    "\n",
    "                mutate(lag2.Exchange = lag(Exchange,2)) %>%\n",
    "                mutate(lag2.X1Y_Yield_d = lag(X1Y_Yield_d,2)) %>%\n",
    "                mutate(lag2.X1Y_Yield_f = lag(X1Y_Yield_f,2)) %>%\n",
    "                mutate(lag2.Infl_d = lag(Infl_d,2)) %>%\n",
    "                mutate(lag2.Infl_f = lag(Infl_f,2)) %>%\n",
    "                mutate(lag2.Int_d = lag(Int_d,2)) %>%\n",
    "                mutate(lag2.Int_f = lag(Int_f,2)) %>%\n",
    "    \n",
    "                mutate(lag3.Exchange = lag(Exchange,3)) %>%\n",
    "                mutate(lag3.X1Y_Yield_d = lag(X1Y_Yield_d,3)) %>%\n",
    "                mutate(lag3.X1Y_Yield_f = lag(X1Y_Yield_f,3)) %>%\n",
    "                mutate(lag3.Infl_d = lag(Infl_d,3)) %>%\n",
    "                mutate(lag3.Infl_f = lag(Infl_f,3)) %>%\n",
    "                mutate(lag3.Int_d = lag(Int_d,3)) %>%\n",
    "                mutate(lag3.Int_f = lag(Int_f,3)) %>%\n",
    "\n",
    "                mutate(lag4.Exchange = lag(Exchange,4)) %>%\n",
    "                mutate(lag4.X1Y_Yield_d = lag(X1Y_Yield_d,4)) %>%\n",
    "                mutate(lag4.X1Y_Yield_f = lag(X1Y_Yield_f,4)) %>%\n",
    "                mutate(lag4.Infl_d = lag(Infl_d,4)) %>%\n",
    "                mutate(lag4.Infl_f = lag(Infl_f,4)) %>%\n",
    "                mutate(lag4.Int_d = lag(Int_d,4)) %>%\n",
    "                mutate(lag4.Int_f = lag(Int_f,4))\n",
    "\n",
    "full <- na.omit(full)\n",
    "write.csv(full,file = paste(country,'_final.csv',sep=''))"
   ]
  },
  {
   "cell_type": "code",
   "execution_count": 11,
   "metadata": {
    "collapsed": true
   },
   "outputs": [],
   "source": [
    "countries <- c('europe','japan','korea')\n",
    "for (country in countries){\n",
    "    ex_rates <- read.csv('topfive.csv')\n",
    "    ex_rates <- subset(ex_rates, ex_rates$Country.y==country)\n",
    "    full <- subset(ex_rates, select = c(Pct_Chg, Exchange, X1Y_Yield_d, \n",
    "                X1Y_Yield_f, Int_d, Int_f,  Infl_d, Infl_f, GDPG_d,\n",
    "                GDPG_f, BOT_f, BOT_d, FER_f))\n",
    "\n",
    "    full <- full %>% mutate(lag1.Exchange = lag(Exchange,1)) %>%\n",
    "                mutate(lag1.X1Y_Yield_d = lag(X1Y_Yield_d,1)) %>%\n",
    "                mutate(lag1.X1Y_Yield_f = lag(X1Y_Yield_f,1)) %>%\n",
    "                mutate(lag1.Infl_d = lag(Infl_d,1)) %>%\n",
    "                mutate(lag1.Infl_f = lag(Infl_f,1)) %>%\n",
    "                mutate(lag1.Int_d = lag(Int_d,1)) %>%\n",
    "                mutate(lag1.Int_f = lag(Int_f,1)) %>%\n",
    "\n",
    "                mutate(lag2.Exchange = lag(Exchange,2)) %>%\n",
    "                mutate(lag2.X1Y_Yield_d = lag(X1Y_Yield_d,2)) %>%\n",
    "                mutate(lag2.X1Y_Yield_f = lag(X1Y_Yield_f,2)) %>%\n",
    "                mutate(lag2.Infl_d = lag(Infl_d,2)) %>%\n",
    "                mutate(lag2.Infl_f = lag(Infl_f,2)) %>%\n",
    "                mutate(lag2.Int_d = lag(Int_d,2)) %>%\n",
    "                mutate(lag2.Int_f = lag(Int_f,2)) %>%\n",
    "    \n",
    "                mutate(lag3.Exchange = lag(Exchange,3)) %>%\n",
    "                mutate(lag3.X1Y_Yield_d = lag(X1Y_Yield_d,3)) %>%\n",
    "                mutate(lag3.X1Y_Yield_f = lag(X1Y_Yield_f,3)) %>%\n",
    "                mutate(lag3.Infl_d = lag(Infl_d,3)) %>%\n",
    "                mutate(lag3.Infl_f = lag(Infl_f,3)) %>%\n",
    "                mutate(lag3.Int_d = lag(Int_d,3)) %>%\n",
    "                mutate(lag3.Int_f = lag(Int_f,3)) %>%\n",
    "\n",
    "                mutate(lag4.Exchange = lag(Exchange,4)) %>%\n",
    "                mutate(lag4.X1Y_Yield_d = lag(X1Y_Yield_d,4)) %>%\n",
    "                mutate(lag4.X1Y_Yield_f = lag(X1Y_Yield_f,4)) %>%\n",
    "                mutate(lag4.Infl_d = lag(Infl_d,4)) %>%\n",
    "                mutate(lag4.Infl_f = lag(Infl_f,4)) %>%\n",
    "                mutate(lag4.Int_d = lag(Int_d,4)) %>%\n",
    "                mutate(lag4.Int_f = lag(Int_f,4)) %>%\n",
    "    \n",
    "                mutate(lag5.Exchange = lag(Exchange,5)) %>%\n",
    "                mutate(lag5.X1Y_Yield_d = lag(X1Y_Yield_d,5)) %>%\n",
    "                mutate(lag5.X1Y_Yield_f = lag(X1Y_Yield_f,5)) %>%\n",
    "                mutate(lag5.Infl_d = lag(Infl_d,5)) %>%\n",
    "                mutate(lag5.Infl_f = lag(Infl_f,5)) %>%\n",
    "                mutate(lag5.Int_d = lag(Int_d,5)) %>%\n",
    "                mutate(lag5.Int_f = lag(Int_f,5)) %>%\n",
    "    \n",
    "                mutate(lag6.Exchange = lag(Exchange,6)) %>%\n",
    "                mutate(lag6.X1Y_Yield_d = lag(X1Y_Yield_d,6)) %>%\n",
    "                mutate(lag6.X1Y_Yield_f = lag(X1Y_Yield_f,6)) %>%\n",
    "                mutate(lag6.Infl_d = lag(Infl_d,6)) %>%\n",
    "                mutate(lag6.Infl_f = lag(Infl_f,6)) %>%\n",
    "                mutate(lag6.Int_d = lag(Int_d,6)) %>%\n",
    "                mutate(lag6.Int_f = lag(Int_f,6)) %>%\n",
    "\n",
    "                mutate(lag7.Exchange = lag(Exchange,7)) %>%\n",
    "                mutate(lag7.X1Y_Yield_d = lag(X1Y_Yield_d,7)) %>%\n",
    "                mutate(lag7.X1Y_Yield_f = lag(X1Y_Yield_f,7)) %>%\n",
    "                mutate(lag7.Infl_d = lag(Infl_d,7)) %>%\n",
    "                mutate(lag7.Infl_f = lag(Infl_f,7)) %>%\n",
    "                mutate(lag7.Int_d = lag(Int_d,7)) %>%\n",
    "                mutate(lag7.Int_f = lag(Int_f,7)) %>%\n",
    "\n",
    "                mutate(lag8.Exchange = lag(Exchange,8)) %>%\n",
    "                mutate(lag8.X1Y_Yield_d = lag(X1Y_Yield_d,8)) %>%\n",
    "                mutate(lag8.X1Y_Yield_f = lag(X1Y_Yield_f,8)) %>%\n",
    "                mutate(lag8.Infl_d = lag(Infl_d,8)) %>%\n",
    "                mutate(lag8.Infl_f = lag(Infl_f,8)) %>%\n",
    "                mutate(lag8.Int_d = lag(Int_d,8)) %>%\n",
    "                mutate(lag8.Int_f = lag(Int_f,8)) %>%\n",
    "    \n",
    "                mutate(lag9.Exchange = lag(Exchange,9)) %>%\n",
    "                mutate(lag9.X1Y_Yield_d = lag(X1Y_Yield_d,9)) %>%\n",
    "                mutate(lag9.X1Y_Yield_f = lag(X1Y_Yield_f,9)) %>%\n",
    "                mutate(lag9.Infl_d = lag(Infl_d,9)) %>%\n",
    "                mutate(lag9.Infl_f = lag(Infl_f,9)) %>%\n",
    "                mutate(lag9.Int_d = lag(Int_d,9)) %>%\n",
    "                mutate(lag9.Int_f = lag(Int_f,9))\n",
    "\n",
    "    full <- na.omit(full)\n",
    "    write.csv(full,file = paste(country,'_final.csv',sep=''))\n",
    "}"
   ]
  },
  {
   "cell_type": "code",
   "execution_count": 12,
   "metadata": {
    "collapsed": true
   },
   "outputs": [],
   "source": [
    "country <- 'mexico'\n",
    "ex_rates <- read.csv('topfive.csv')\n",
    "ex_rates <- subset(ex_rates, ex_rates$Country.y==country)\n",
    "full <- subset(ex_rates, select = c(Pct_Chg, Exchange, X1Y_Yield_d, \n",
    "                X1Y_Yield_f, Int_d, Int_f,  Infl_d, Infl_f, GDPG_d,\n",
    "                GDPG_f, BOT_f, BOT_d, FER_f))\n",
    "\n",
    "full <- full %>% mutate(lag1.Exchange = lag(Exchange,1)) %>%\n",
    "                mutate(lag1.X1Y_Yield_d = lag(X1Y_Yield_d,1)) %>%\n",
    "                mutate(lag1.X1Y_Yield_f = lag(X1Y_Yield_f,1)) %>%\n",
    "                mutate(lag1.Infl_d = lag(Infl_d,1)) %>%\n",
    "                mutate(lag1.Infl_f = lag(Infl_f,1)) %>%\n",
    "                mutate(lag1.Int_d = lag(Int_d,1)) %>%\n",
    "                mutate(lag1.Int_f = lag(Int_f,1)) %>%\n",
    "\n",
    "                mutate(lag2.Exchange = lag(Exchange,2)) %>%\n",
    "                mutate(lag2.X1Y_Yield_d = lag(X1Y_Yield_d,2)) %>%\n",
    "                mutate(lag2.X1Y_Yield_f = lag(X1Y_Yield_f,2)) %>%\n",
    "                mutate(lag2.Infl_d = lag(Infl_d,2)) %>%\n",
    "                mutate(lag2.Infl_f = lag(Infl_f,2)) %>%\n",
    "                mutate(lag2.Int_d = lag(Int_d,2)) %>%\n",
    "                mutate(lag2.Int_f = lag(Int_f,2)) %>%\n",
    "    \n",
    "                mutate(lag3.Exchange = lag(Exchange,3)) %>%\n",
    "                mutate(lag3.X1Y_Yield_d = lag(X1Y_Yield_d,3)) %>%\n",
    "                mutate(lag3.X1Y_Yield_f = lag(X1Y_Yield_f,3)) %>%\n",
    "                mutate(lag3.Infl_d = lag(Infl_d,3)) %>%\n",
    "                mutate(lag3.Infl_f = lag(Infl_f,3)) %>%\n",
    "                mutate(lag3.Int_d = lag(Int_d,3)) %>%\n",
    "                mutate(lag3.Int_f = lag(Int_f,3)) %>%\n",
    "\n",
    "                mutate(lag4.Exchange = lag(Exchange,4)) %>%\n",
    "                mutate(lag4.X1Y_Yield_d = lag(X1Y_Yield_d,4)) %>%\n",
    "                mutate(lag4.X1Y_Yield_f = lag(X1Y_Yield_f,4)) %>%\n",
    "                mutate(lag4.Infl_d = lag(Infl_d,4)) %>%\n",
    "                mutate(lag4.Infl_f = lag(Infl_f,4)) %>%\n",
    "                mutate(lag4.Int_d = lag(Int_d,4)) %>%\n",
    "                mutate(lag4.Int_f = lag(Int_f,4)) %>%\n",
    "\n",
    "                mutate(lag5.Exchange = lag(Exchange,5)) %>%\n",
    "                mutate(lag5.X1Y_Yield_d = lag(X1Y_Yield_d,5)) %>%\n",
    "                mutate(lag5.X1Y_Yield_f = lag(X1Y_Yield_f,5)) %>%\n",
    "                mutate(lag5.Infl_d = lag(Infl_d,5)) %>%\n",
    "                mutate(lag5.Infl_f = lag(Infl_f,5)) %>%\n",
    "                mutate(lag5.Int_d = lag(Int_d,5)) %>%\n",
    "                mutate(lag5.Int_f = lag(Int_f,5))\n",
    "\n",
    "full <- na.omit(full)\n",
    "write.csv(full,file = paste(country,'_final.csv',sep=''))"
   ]
  },
  {
   "cell_type": "code",
   "execution_count": 13,
   "metadata": {
    "collapsed": true
   },
   "outputs": [],
   "source": [
    "canada <- read.csv('canada_final.csv')\n",
    "mexico <- read.csv('mexico_final.csv')\n",
    "europe <- read.csv('europe_final.csv')\n",
    "japan <- read.csv('japan_final.csv')\n",
    "korea <- read.csv('korea_final.csv')"
   ]
  },
  {
   "cell_type": "code",
   "execution_count": 16,
   "metadata": {
    "collapsed": false
   },
   "outputs": [
    {
     "data": {
      "text/html": [
       "<ol class=list-inline>\n",
       "\t<li>141</li>\n",
       "\t<li>42</li>\n",
       "</ol>\n"
      ],
      "text/latex": [
       "\\begin{enumerate*}\n",
       "\\item 141\n",
       "\\item 42\n",
       "\\end{enumerate*}\n"
      ],
      "text/markdown": [
       "1. 141\n",
       "2. 42\n",
       "\n",
       "\n"
      ],
      "text/plain": [
       "[1] 141  42"
      ]
     },
     "execution_count": 16,
     "metadata": {},
     "output_type": "execute_result"
    },
    {
     "data": {
      "text/html": [
       "<ol class=list-inline>\n",
       "\t<li>106</li>\n",
       "\t<li>49</li>\n",
       "</ol>\n"
      ],
      "text/latex": [
       "\\begin{enumerate*}\n",
       "\\item 106\n",
       "\\item 49\n",
       "\\end{enumerate*}\n"
      ],
      "text/markdown": [
       "1. 106\n",
       "2. 49\n",
       "\n",
       "\n"
      ],
      "text/plain": [
       "[1] 106  49"
      ]
     },
     "execution_count": 16,
     "metadata": {},
     "output_type": "execute_result"
    },
    {
     "data": {
      "text/html": [
       "<ol class=list-inline>\n",
       "\t<li>182</li>\n",
       "\t<li>77</li>\n",
       "</ol>\n"
      ],
      "text/latex": [
       "\\begin{enumerate*}\n",
       "\\item 182\n",
       "\\item 77\n",
       "\\end{enumerate*}\n"
      ],
      "text/markdown": [
       "1. 182\n",
       "2. 77\n",
       "\n",
       "\n"
      ],
      "text/plain": [
       "[1] 182  77"
      ]
     },
     "execution_count": 16,
     "metadata": {},
     "output_type": "execute_result"
    },
    {
     "data": {
      "text/html": [
       "<ol class=list-inline>\n",
       "\t<li>432</li>\n",
       "\t<li>77</li>\n",
       "</ol>\n"
      ],
      "text/latex": [
       "\\begin{enumerate*}\n",
       "\\item 432\n",
       "\\item 77\n",
       "\\end{enumerate*}\n"
      ],
      "text/markdown": [
       "1. 432\n",
       "2. 77\n",
       "\n",
       "\n"
      ],
      "text/plain": [
       "[1] 432  77"
      ]
     },
     "execution_count": 16,
     "metadata": {},
     "output_type": "execute_result"
    },
    {
     "data": {
      "text/html": [
       "<ol class=list-inline>\n",
       "\t<li>171</li>\n",
       "\t<li>77</li>\n",
       "</ol>\n"
      ],
      "text/latex": [
       "\\begin{enumerate*}\n",
       "\\item 171\n",
       "\\item 77\n",
       "\\end{enumerate*}\n"
      ],
      "text/markdown": [
       "1. 171\n",
       "2. 77\n",
       "\n",
       "\n"
      ],
      "text/plain": [
       "[1] 171  77"
      ]
     },
     "execution_count": 16,
     "metadata": {},
     "output_type": "execute_result"
    }
   ],
   "source": [
    "dim(canada)\n",
    "dim(mexico)\n",
    "dim(europe)\n",
    "dim(japan)\n",
    "dim(korea)"
   ]
  },
  {
   "cell_type": "code",
   "execution_count": null,
   "metadata": {
    "collapsed": true
   },
   "outputs": [],
   "source": []
  }
 ],
 "metadata": {
  "kernelspec": {
   "display_name": "R",
   "language": "R",
   "name": "ir"
  },
  "language_info": {
   "codemirror_mode": "r",
   "file_extension": ".r",
   "mimetype": "text/x-r-source",
   "name": "R",
   "pygments_lexer": "r",
   "version": "3.2.2"
  }
 },
 "nbformat": 4,
 "nbformat_minor": 0
}
