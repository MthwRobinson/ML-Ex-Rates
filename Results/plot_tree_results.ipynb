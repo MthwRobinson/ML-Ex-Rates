{
 "cells": [
  {
   "cell_type": "code",
   "execution_count": 4,
   "metadata": {
    "collapsed": false
   },
   "outputs": [
    {
     "data": {
      "text/html": [
       "<strong>pdf:</strong> 2"
      ],
      "text/latex": [
       "\\textbf{pdf:} 2"
      ],
      "text/markdown": [
       "**pdf:** 2"
      ],
      "text/plain": [
       "pdf \n",
       "  2 "
      ]
     },
     "execution_count": 4,
     "metadata": {},
     "output_type": "execute_result"
    },
    {
     "data": {
      "text/html": [
       "<strong>pdf:</strong> 2"
      ],
      "text/latex": [
       "\\textbf{pdf:} 2"
      ],
      "text/markdown": [
       "**pdf:** 2"
      ],
      "text/plain": [
       "pdf \n",
       "  2 "
      ]
     },
     "execution_count": 4,
     "metadata": {},
     "output_type": "execute_result"
    }
   ],
   "source": [
    "library(ggplot2)\n",
    "\n",
    "lag <- c(0,1,2,3,4,5,6,7,8,9,10)\n",
    "\n",
    "canada <- c(0.00592102732259112,0.00593793699290156,0.0048794289887415,\n",
    "           0.00457214475174723,0.00449553836717566,0.00572198516599678,\n",
    "           0.0052191942049831,0.00522782391276848,0.00455615419014244,\n",
    "           0.00499734076862369,0.00461066777799263)\n",
    "\n",
    "europe <- c(0.0129708191130335,0.0136384271967105,0.0149496372429318,\n",
    "           0.0150212541682689,0.0143217478868706,0.0157595637793029,\n",
    "           0.0138535853907209,0.0131285449600935,0.0134108666692565,\n",
    "           0.0117277801853307,0.0113965787755688)\n",
    "\n",
    "mexico <- c(0.00448069327809074,0.00386712816203982,0.00436222548438125,\n",
    "           0.0042362671970574,0.00424786699461888,0.00376004145962435,\n",
    "           0.00424302502575267,0.00448237969565795,0.00466204917870393,\n",
    "           0.00488610732766068,0.00487092022287228)\n",
    "\n",
    "japan <- c(0.0246513838794793,0.0216769548587381,0.0248570789558837,\n",
    "          0.0201187979343201,0.0215440043172009,0.0194840474349247,\n",
    "          0.0193611711127937,0.0210822317375178,0.0195014561704828,\n",
    "          0.020056679550138,0.0200058805003958)\n",
    "\n",
    "korea <- c(0.00948329971078278,0.00942774477563622,0.00740004299870666,\n",
    "          0.00884049736995193,0.00937630844053643,0.00969578948302358,\n",
    "          0.00942913021717155,0.00921727722670517,0.00794518858211771,\n",
    "          0.00717086902746789,0.00808917290457083)\n",
    "\n",
    "canada_lag <- cbind(canada,rep('Canada',11))\n",
    "\n",
    "europe_lag <- cbind(europe,rep('Europe',11))\n",
    "\n",
    "mexico_lag <-cbind(mexico,rep('Mexico',11))\n",
    "\n",
    "japan_lag <- cbind(japan,rep('Japan',11))\n",
    "\n",
    "korea_lag <- cbind(korea,rep('Korea',11))\n",
    "\n",
    "\n",
    "df1 <- data.frame(rbind(\n",
    "                cbind(lag,canada_lag),\n",
    "                 cbind(lag,mexico_lag)))\n",
    "colnames(df1) <- c('Lag','Value','Country')\n",
    "df1$Lag <- as.numeric(paste(df1$Lag))\n",
    "df1$Value <- as.numeric(paste(df1$Value))\n",
    "\n",
    "df2 <- data.frame(rbind(\n",
    "                cbind(lag,europe_lag),\n",
    "                cbind(lag,japan_lag),\n",
    "                cbind(lag,korea_lag)))\n",
    "colnames(df2) <- c('Lag','Value','Country')\n",
    "df2$Lag <- as.numeric(paste(df2$Lag))\n",
    "df2$Value <- as.numeric(paste(df2$Value))\n",
    "\n",
    "\n",
    "pdf('ForestLag1.pdf')\n",
    "ggplot(data = df1, aes(x=Lag, y=Value,\n",
    "        group = Country, colour = Country))+\n",
    "    geom_line() +\n",
    "    xlab('Lag') + \n",
    "    ylab('Mean Testing Error') +\n",
    "    theme(legend.justification = c(1,1), legend.position = c(1,1)) +\n",
    "    scale_x_continuous(breaks = lag)\n",
    "dev.off()\n",
    "\n",
    "pdf('ForestLag2.pdf')\n",
    "ggplot(data = df2, aes(x=Lag, y=Value,\n",
    "        group = Country, colour = Country))+\n",
    "    geom_line() +\n",
    "    xlab('Lag') + \n",
    "    ylab('Mean Testing Error') +\n",
    "    theme(legend.justification = c(1,1), legend.position = c(1,1)) + \n",
    "    scale_x_continuous(breaks = lag)\n",
    "dev.off()\n",
    "\n",
    "\n"
   ]
  },
  {
   "cell_type": "code",
   "execution_count": null,
   "metadata": {
    "collapsed": true
   },
   "outputs": [],
   "source": []
  }
 ],
 "metadata": {
  "kernelspec": {
   "display_name": "R",
   "language": "R",
   "name": "ir"
  },
  "language_info": {
   "codemirror_mode": "r",
   "file_extension": ".r",
   "mimetype": "text/x-r-source",
   "name": "R",
   "pygments_lexer": "r",
   "version": "3.1.3"
  }
 },
 "nbformat": 4,
 "nbformat_minor": 0
}
