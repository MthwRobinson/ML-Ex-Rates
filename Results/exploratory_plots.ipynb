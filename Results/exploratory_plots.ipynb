{
 "cells": [
  {
   "cell_type": "code",
   "execution_count": 23,
   "metadata": {
    "collapsed": false
   },
   "outputs": [],
   "source": [
    "#install.packages('tseries', repos=\"http://cran.r-project.org\")\n",
    "library(ggplot2)\n",
    "library(gridExtra)\n",
    "library(tseries)"
   ]
  },
  {
   "cell_type": "code",
   "execution_count": 37,
   "metadata": {
    "collapsed": false
   },
   "outputs": [
    {
     "data": {
      "text/html": [
       "<table>\n",
       "<thead><tr><th></th><th scope=col>X.1</th><th scope=col>X</th><th scope=col>Date</th><th scope=col>Infl_d</th><th scope=col>BOT_d</th><th scope=col>Yield_d</th><th scope=col>FER_d</th><th scope=col>Int_d</th><th scope=col>PrimeRate_d</th><th scope=col>X1Y_Yield_d</th><th scope=col>GDPG_d</th><th scope=col>CA_d</th><th scope=col>FDI_d</th><th scope=col>Country.x</th><th scope=col>Infl_f</th><th scope=col>BOT_f</th><th scope=col>Yield_f</th><th scope=col>FER_f</th><th scope=col>Int_f</th><th scope=col>PrimeRate_f</th><th scope=col>GDPG_f</th><th scope=col>CA_f</th><th scope=col>FDI_f</th><th scope=col>Country.y</th><th scope=col>Exchange</th><th scope=col>Exchange_fut</th><th scope=col>Pct_Chg</th><th scope=col>X1Y_Yield_f</th></tr></thead>\n",
       "<tbody>\n",
       "\t<tr><th scope=row>1</th><td>1</td><td>1</td><td>1971-02-01</td><td>5.3</td><td>110</td><td>6.09</td><td>14699</td><td>NA</td><td>6.29</td><td>29.52117</td><td>2743.114</td><td>-837.3768</td><td>383949.5</td><td>usa</td><td>1</td><td>301</td><td>NA</td><td>4799.1</td><td>NA</td><td>7</td><td>771.7813</td><td>794683.4</td><td>979573.9</td><td>canada</td><td>1.0118</td><td>NA</td><td>NA</td><td>-6.548467</td></tr>\n",
       "\t<tr><th scope=row>2</th><td>3</td><td>3</td><td>1971-02-01</td><td>5.3</td><td>110</td><td>6.09</td><td>14699</td><td>NA</td><td>6.29</td><td>29.52117</td><td>2743.114</td><td>-837.3768</td><td>383949.5</td><td>usa</td><td>6.58</td><td>-117.3</td><td>NA</td><td>4532</td><td>NA</td><td>8.5</td><td>-41035827</td><td>1031419177</td><td>-2910.75</td><td>japan</td><td>358.02</td><td>NA</td><td>NA</td><td>-15420.68</td></tr>\n",
       "\t<tr><th scope=row>3</th><td>5</td><td>5</td><td>1971-02-01</td><td>5.3</td><td>110</td><td>6.09</td><td>14699</td><td>NA</td><td>6.29</td><td>29.52117</td><td>2743.114</td><td>-837.3768</td><td>383949.5</td><td>usa</td><td>15.9</td><td>-70.63</td><td>NA</td><td>593.8</td><td>NA</td><td>NA</td><td>2614352</td><td>-11202.12</td><td>12030719</td><td>korea</td><td>NA</td><td>NA</td><td>NA</td><td>-0.3089494</td></tr>\n",
       "\t<tr><th scope=row>4</th><td>9</td><td>9</td><td>1971-02-01</td><td>5.3</td><td>110</td><td>6.09</td><td>14699</td><td>NA</td><td>6.29</td><td>29.52117</td><td>2743.114</td><td>-837.3768</td><td>383949.5</td><td>usa</td><td>NA</td><td>NA</td><td>NA</td><td>11000</td><td>NA</td><td>NA</td><td>-268.1742</td><td>60718.98</td><td>5872299</td><td>mexico</td><td>NA</td><td>NA</td><td>NA</td><td>-189868.8</td></tr>\n",
       "\t<tr><th scope=row>5</th><td>11</td><td>11</td><td>1971-03-01</td><td>5</td><td>238</td><td>6.14</td><td>14534</td><td>NA</td><td>5.88</td><td>18.74402</td><td>1543.426</td><td>-178.3828</td><td>378957.3</td><td>usa</td><td>1.5</td><td>213</td><td>NA</td><td>4850.3</td><td>NA</td><td>7</td><td>328.7891</td><td>776032.6</td><td>972294.2</td><td>canada</td><td>1.0075</td><td>NA</td><td>NA</td><td>-3.139016</td></tr>\n",
       "\t<tr><th scope=row>6</th><td>13</td><td>13</td><td>1971-03-01</td><td>5</td><td>238</td><td>6.14</td><td>14534</td><td>NA</td><td>5.88</td><td>18.74402</td><td>1543.426</td><td>-178.3828</td><td>378957.3</td><td>usa</td><td>6.25</td><td>29.17</td><td>NA</td><td>4868</td><td>NA</td><td>8.5</td><td>-40336366</td><td>1021390962</td><td>-2722.166</td><td>japan</td><td>357.545</td><td>NA</td><td>NA</td><td>-15042.02</td></tr>\n",
       "</tbody>\n",
       "</table>\n"
      ],
      "text/latex": [
       "\\begin{tabular}{r|llllllllllllllllllllllllllll}\n",
       "  & X.1 & X & Date & Infl_d & BOT_d & Yield_d & FER_d & Int_d & PrimeRate_d & X1Y_Yield_d & GDPG_d & CA_d & FDI_d & Country.x & Infl_f & BOT_f & Yield_f & FER_f & Int_f & PrimeRate_f & GDPG_f & CA_f & FDI_f & Country.y & Exchange & Exchange_fut & Pct_Chg & X1Y_Yield_f\\\\\n",
       "\\hline\n",
       "\t1 & 1 & 1 & 1971-02-01 & 5.3 & 110 & 6.09 & 14699 & NA & 6.29 & 29.52117 & 2743.114 & -837.3768 & 383949.5 & usa & 1 & 301 & NA & 4799.1 & NA & 7 & 771.7813 & 794683.4 & 979573.9 & canada & 1.0118 & NA & NA & -6.548467\\\\\n",
       "\t2 & 3 & 3 & 1971-02-01 & 5.3 & 110 & 6.09 & 14699 & NA & 6.29 & 29.52117 & 2743.114 & -837.3768 & 383949.5 & usa & 6.58 & -117.3 & NA & 4532 & NA & 8.5 & -41035827 & 1031419177 & -2910.75 & japan & 358.02 & NA & NA & -15420.68\\\\\n",
       "\t3 & 5 & 5 & 1971-02-01 & 5.3 & 110 & 6.09 & 14699 & NA & 6.29 & 29.52117 & 2743.114 & -837.3768 & 383949.5 & usa & 15.9 & -70.63 & NA & 593.8 & NA & NA & 2614352 & -11202.12 & 12030719 & korea & NA & NA & NA & -0.3089494\\\\\n",
       "\t4 & 9 & 9 & 1971-02-01 & 5.3 & 110 & 6.09 & 14699 & NA & 6.29 & 29.52117 & 2743.114 & -837.3768 & 383949.5 & usa & NA & NA & NA & 11000 & NA & NA & -268.1742 & 60718.98 & 5872299 & mexico & NA & NA & NA & -189868.8\\\\\n",
       "\t5 & 11 & 11 & 1971-03-01 & 5 & 238 & 6.14 & 14534 & NA & 5.88 & 18.74402 & 1543.426 & -178.3828 & 378957.3 & usa & 1.5 & 213 & NA & 4850.3 & NA & 7 & 328.7891 & 776032.6 & 972294.2 & canada & 1.0075 & NA & NA & -3.139016\\\\\n",
       "\t6 & 13 & 13 & 1971-03-01 & 5 & 238 & 6.14 & 14534 & NA & 5.88 & 18.74402 & 1543.426 & -178.3828 & 378957.3 & usa & 6.25 & 29.17 & NA & 4868 & NA & 8.5 & -40336366 & 1021390962 & -2722.166 & japan & 357.545 & NA & NA & -15042.02\\\\\n",
       "\\end{tabular}\n"
      ],
      "text/plain": [
       "  X.1  X       Date Infl_d BOT_d Yield_d FER_d Int_d PrimeRate_d X1Y_Yield_d\n",
       "1   1  1 1971-02-01    5.3   110    6.09 14699    NA        6.29    29.52117\n",
       "2   3  3 1971-02-01    5.3   110    6.09 14699    NA        6.29    29.52117\n",
       "3   5  5 1971-02-01    5.3   110    6.09 14699    NA        6.29    29.52117\n",
       "4   9  9 1971-02-01    5.3   110    6.09 14699    NA        6.29    29.52117\n",
       "5  11 11 1971-03-01    5.0   238    6.14 14534    NA        5.88    18.74402\n",
       "6  13 13 1971-03-01    5.0   238    6.14 14534    NA        5.88    18.74402\n",
       "    GDPG_d      CA_d    FDI_d Country.x Infl_f   BOT_f Yield_f   FER_f Int_f\n",
       "1 2743.114 -837.3768 383949.5       usa   1.00  301.00      NA  4799.1    NA\n",
       "2 2743.114 -837.3768 383949.5       usa   6.58 -117.30      NA  4532.0    NA\n",
       "3 2743.114 -837.3768 383949.5       usa  15.90  -70.63      NA   593.8    NA\n",
       "4 2743.114 -837.3768 383949.5       usa     NA      NA      NA 11000.0    NA\n",
       "5 1543.426 -178.3828 378957.3       usa   1.50  213.00      NA  4850.3    NA\n",
       "6 1543.426 -178.3828 378957.3       usa   6.25   29.17      NA  4868.0    NA\n",
       "  PrimeRate_f        GDPG_f          CA_f        FDI_f Country.y Exchange\n",
       "1         7.0  7.717813e+02     794683.42   979573.890    canada   1.0118\n",
       "2         8.5 -4.103583e+07 1031419176.65    -2910.750     japan 358.0200\n",
       "3          NA  2.614352e+06     -11202.12 12030719.331     korea       NA\n",
       "4          NA -2.681742e+02      60718.98  5872298.728    mexico       NA\n",
       "5         7.0  3.287891e+02     776032.62   972294.228    canada   1.0075\n",
       "6         8.5 -4.033637e+07 1021390962.00    -2722.166     japan 357.5450\n",
       "  Exchange_fut Pct_Chg   X1Y_Yield_f\n",
       "1           NA      NA -6.548467e+00\n",
       "2           NA      NA -1.542068e+04\n",
       "3           NA      NA -3.089494e-01\n",
       "4           NA      NA -1.898688e+05\n",
       "5           NA      NA -3.139016e+00\n",
       "6           NA      NA -1.504202e+04"
      ]
     },
     "execution_count": 37,
     "metadata": {},
     "output_type": "execute_result"
    }
   ],
   "source": [
    "df <- read.csv('topfive.csv')\n",
    "#canada <- na.omit(canada)\n",
    "head(df)"
   ]
  },
  {
   "cell_type": "code",
   "execution_count": 4,
   "metadata": {
    "collapsed": false
   },
   "outputs": [
    {
     "data": {
      "text/html": [
       "<strong>pdf:</strong> 2"
      ],
      "text/latex": [
       "\\textbf{pdf:} 2"
      ],
      "text/markdown": [
       "**pdf:** 2"
      ],
      "text/plain": [
       "pdf \n",
       "  2 "
      ]
     },
     "execution_count": 4,
     "metadata": {},
     "output_type": "execute_result"
    }
   ],
   "source": [
    "df <- read.csv('topfive.csv')\n",
    "\n",
    "pdf('rates_over_time.pdf')\n",
    "require(gridExtra)\n",
    "canada <- subset(df, Country.y == 'canada')[-1:-12,]\n",
    "plot1 <- ggplot(data = canada, aes(x = as.POSIXct(Date), y = Pct_Chg)) +\n",
    "   geom_line() +\n",
    "    ggtitle('Canada') +\n",
    "    xlab('Date') +\n",
    "    ylab('1Y Pct Chg in Ex Rate') +\n",
    "    theme(legend.justification = c(1,1), legend.position = c(1,1))\n",
    "\n",
    "mexico <- subset(df, Country.y == 'mexico')[-1:-286,]\n",
    "plot2 <- ggplot(data = mexico, aes(x = as.POSIXct(Date), y = Pct_Chg)) +\n",
    "   geom_line() +\n",
    "    ggtitle('Mexico') +\n",
    "    xlab('Date') +\n",
    "    ylab('1Y Pct Chg in Ex Rate') +\n",
    "    theme(legend.justification = c(1,1), legend.position = c(1,1))\n",
    "\n",
    "europe <- subset(df, Country.y == 'europe')[-1:-108,]\n",
    "plot3 <- ggplot(data = europe, aes(x = as.POSIXct(Date), y = Pct_Chg)) +\n",
    "   geom_line() +\n",
    "    ggtitle('Europe') +\n",
    "    xlab('Date') +\n",
    "    ylab('1Y Pct Chg in Ex Rate') +\n",
    "    theme(legend.justification = c(1,1), legend.position = c(1,1))\n",
    "\n",
    "#japan <- subset(df, Country.y == 'japan')[-1:-12,]\n",
    "#ggplot(data = japan, aes(x = as.POSIXct(Date), y = Pct_Chg)) +\n",
    "#   geom_line() +\n",
    "#    ggtitle('Japan') +\n",
    "#    xlab('Date') +\n",
    "#    ylab('1Y Percent Change in Exchange Rate') +\n",
    "#    theme(legend.justification = c(1,1), legend.position = c(1,1))\n",
    "\n",
    "korea <- subset(df, Country.y == 'korea')[-1:-135,]\n",
    "plot4 <- ggplot(data = korea, aes(x = as.POSIXct(Date), y = Pct_Chg)) +\n",
    "   geom_line() +\n",
    "    ggtitle('Korea') +\n",
    "    xlab('Date') +\n",
    "    ylab('1Y Pct Chg in Ex Rate') +\n",
    "    theme(legend.justification = c(1,1), legend.position = c(1,1))\n",
    "grid.arrange(plot1,plot2,plot3,plot4, ncol=2)\n",
    "dev.off()"
   ]
  },
  {
   "cell_type": "code",
   "execution_count": 17,
   "metadata": {
    "collapsed": false
   },
   "outputs": [
    {
     "data": {
      "text/html": [
       "<strong>pdf:</strong> 2"
      ],
      "text/latex": [
       "\\textbf{pdf:} 2"
      ],
      "text/markdown": [
       "**pdf:** 2"
      ],
      "text/plain": [
       "pdf \n",
       "  2 "
      ]
     },
     "execution_count": 17,
     "metadata": {},
     "output_type": "execute_result"
    }
   ],
   "source": [
    "pdf('ex_rate_over_time.pdf')\n",
    "require(gridExtra)\n",
    "canada <- subset(df, Country.y == 'canada')[-1:-12,]\n",
    "plot1 <- ggplot(data = canada, aes(x = as.POSIXct(Date), y = Exchange)) +\n",
    "   geom_line() +\n",
    "    ggtitle('Canada') +\n",
    "    xlab('Date') +\n",
    "    ylab('Exchange Rate') +\n",
    "    theme(legend.justification = c(1,1), legend.position = c(1,1))\n",
    "\n",
    "mexico <- subset(df, Country.y == 'mexico')[-1:-286,]\n",
    "plot2 <- ggplot(data = mexico, aes(x = as.POSIXct(Date), y = Exchange)) +\n",
    "   geom_line() +\n",
    "    ggtitle('Mexico') +\n",
    "    xlab('Date') +\n",
    "    ylab('Exchange Rate') +\n",
    "    theme(legend.justification = c(1,1), legend.position = c(1,1))\n",
    "\n",
    "europe <- subset(df, Country.y == 'europe')[-1:-108,]\n",
    "plot3 <- ggplot(data = europe, aes(x = as.POSIXct(Date), y = Exchange)) +\n",
    "   geom_line() +\n",
    "    ggtitle('Europe') +\n",
    "    xlab('Date') +\n",
    "    ylab('Exchange Rate') +\n",
    "    theme(legend.justification = c(1,1), legend.position = c(1,1))\n",
    "\n",
    "#japan <- subset(df, Country.y == 'japan')[-1:-12,]\n",
    "#ggplot(data = japan, aes(x = as.POSIXct(Date), y = Pct_Chg)) +\n",
    "#   geom_line() +\n",
    "#    ggtitle('Japan') +\n",
    "#    xlab('Date') +\n",
    "#    ylab('1Y Percent Change in Exchange Rate') +\n",
    "#    theme(legend.justification = c(1,1), legend.position = c(1,1))\n",
    "\n",
    "korea <- subset(df, Country.y == 'korea')[-1:-135,]\n",
    "plot4 <- ggplot(data = korea, aes(x = as.POSIXct(Date), y = Exchange)) +\n",
    "   geom_line() +\n",
    "    ggtitle('Korea') +\n",
    "    xlab('Date') +\n",
    "    ylab('Exchange Rate') +\n",
    "    theme(legend.justification = c(1,1), legend.position = c(1,1))\n",
    "grid.arrange(plot1,plot2,plot3,plot4, ncol=2)\n",
    "dev.off()"
   ]
  },
  {
   "cell_type": "code",
   "execution_count": 20,
   "metadata": {
    "collapsed": false
   },
   "outputs": [
    {
     "data": {
      "text/html": [
       "<strong>pdf:</strong> 2"
      ],
      "text/latex": [
       "\\textbf{pdf:} 2"
      ],
      "text/markdown": [
       "**pdf:** 2"
      ],
      "text/plain": [
       "pdf \n",
       "  2 "
      ]
     },
     "execution_count": 20,
     "metadata": {},
     "output_type": "execute_result"
    }
   ],
   "source": [
    "pdf('stationarity.pdf')\n",
    "require(gridExtra)\n",
    "mexico <- subset(df, Country.y == 'mexico')[-1:-286,]\n",
    "plot1 <- ggplot(data = mexico, aes(x = as.POSIXct(Date), y = Pct_Chg)) +\n",
    "   geom_line() +\n",
    "    ggtitle('Mexico') +\n",
    "    xlab('Date') +\n",
    "    ylab('1Y Pct Chg in Ex Rate') +\n",
    "    theme(legend.justification = c(1,1), legend.position = c(1,1))\n",
    "\n",
    "europe <- subset(df, Country.y == 'europe')[-1:-108,]\n",
    "plot2 <- ggplot(data = europe, aes(x = as.POSIXct(Date), y = Pct_Chg)) +\n",
    "   geom_line() +\n",
    "    ggtitle('Europe') +\n",
    "    xlab('Date') +\n",
    "    ylab('1Y Pct Chg in Ex Rate') +\n",
    "    theme(legend.justification = c(1,1), legend.position = c(1,1))\n",
    "\n",
    "mexico <- subset(df, Country.y == 'mexico')[-1:-286,]\n",
    "plot3 <- ggplot(data = mexico, aes(x = as.POSIXct(Date), y = Exchange)) +\n",
    "   geom_line() +\n",
    "    ggtitle('Mexico') +\n",
    "    xlab('Date') +\n",
    "    ylab('Exchange Rate') +\n",
    "    theme(legend.justification = c(1,1), legend.position = c(1,1))\n",
    "\n",
    "europe <- subset(df, Country.y == 'europe')[-1:-108,]\n",
    "plot4 <- ggplot(data = europe, aes(x = as.POSIXct(Date), y = Exchange)) +\n",
    "   geom_line() +\n",
    "    ggtitle('Europe') +\n",
    "    xlab('Date') +\n",
    "    ylab('Exchange Rate') +\n",
    "    theme(legend.justification = c(1,1), legend.position = c(1,1))\n",
    "grid.arrange(plot1,plot2,plot3,plot4, ncol=2)\n",
    "dev.off()"
   ]
  },
  {
   "cell_type": "code",
   "execution_count": 47,
   "metadata": {
    "collapsed": false
   },
   "outputs": [
    {
     "data": {
      "text/plain": [
       "\n",
       "\tAugmented Dickey-Fuller Test\n",
       "\n",
       "data:  europe[, \"Exchange\"]\n",
       "Dickey-Fuller = -0.96548, Lag order = 5, p-value = 0.9415\n",
       "alternative hypothesis: stationary\n"
      ]
     },
     "execution_count": 47,
     "metadata": {},
     "output_type": "execute_result"
    },
    {
     "data": {
      "text/plain": [
       "\n",
       "\tAugmented Dickey-Fuller Test\n",
       "\n",
       "data:  europe[, \"Pct_Chg\"]\n",
       "Dickey-Fuller = -3.6054, Lag order = 5, p-value = 0.03433\n",
       "alternative hypothesis: stationary\n"
      ]
     },
     "execution_count": 47,
     "metadata": {},
     "output_type": "execute_result"
    },
    {
     "data": {
      "text/plain": [
       "\n",
       "\tAugmented Dickey-Fuller Test\n",
       "\n",
       "data:  mexico[, \"Exchange\"]\n",
       "Dickey-Fuller = -1.7963, Lag order = 6, p-value = 0.6616\n",
       "alternative hypothesis: stationary\n"
      ]
     },
     "execution_count": 47,
     "metadata": {},
     "output_type": "execute_result"
    },
    {
     "data": {
      "text/plain": [
       "\n",
       "\tAugmented Dickey-Fuller Test\n",
       "\n",
       "data:  mexico[, \"Pct_Chg\"]\n",
       "Dickey-Fuller = -3.6157, Lag order = 6, p-value = 0.03212\n",
       "alternative hypothesis: stationary\n"
      ]
     },
     "execution_count": 47,
     "metadata": {},
     "output_type": "execute_result"
    }
   ],
   "source": [
    "adf.test(europe[,'Exchange'])\n",
    "adf.test(europe[,'Pct_Chg'])\n",
    "adf.test(mexico[,'Exchange'])\n",
    "adf.test(mexico[,'Pct_Chg'])"
   ]
  },
  {
   "cell_type": "code",
   "execution_count": null,
   "metadata": {
    "collapsed": true
   },
   "outputs": [],
   "source": []
  }
 ],
 "metadata": {
  "kernelspec": {
   "display_name": "R",
   "language": "R",
   "name": "ir"
  },
  "language_info": {
   "codemirror_mode": "r",
   "file_extension": ".r",
   "mimetype": "text/x-r-source",
   "name": "R",
   "pygments_lexer": "r",
   "version": "3.2.2"
  }
 },
 "nbformat": 4,
 "nbformat_minor": 0
}
