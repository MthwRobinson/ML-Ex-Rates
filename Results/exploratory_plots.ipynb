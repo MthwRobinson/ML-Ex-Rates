{
 "cells": [
  {
   "cell_type": "code",
   "execution_count": 72,
   "metadata": {
    "collapsed": true
   },
   "outputs": [],
   "source": [
    "library(ggplot2)\n",
    "library(gridExtra)"
   ]
  },
  {
   "cell_type": "code",
   "execution_count": 34,
   "metadata": {
    "collapsed": false
   },
   "outputs": [],
   "source": [
    "df <- read.csv('topfive.csv')\n",
    "df <- subset(df, Country.y == 'korea')\n",
    "#canada <- na.omit(canada)"
   ]
  },
  {
   "cell_type": "code",
   "execution_count": 35,
   "metadata": {
    "collapsed": false
   },
   "outputs": [
    {
     "data": {
      "text/html": [
       "<table>\n",
       "<thead><tr><th></th><th scope=col>X.1</th><th scope=col>X</th><th scope=col>Date</th><th scope=col>Infl_d</th><th scope=col>BOT_d</th><th scope=col>Yield_d</th><th scope=col>FER_d</th><th scope=col>Int_d</th><th scope=col>PrimeRate_d</th><th scope=col>X1Y_Yield_d</th><th scope=col>GDPG_d</th><th scope=col>CA_d</th><th scope=col>FDI_d</th><th scope=col>Country.x</th><th scope=col>Infl_f</th><th scope=col>BOT_f</th><th scope=col>Yield_f</th><th scope=col>FER_f</th><th scope=col>Int_f</th><th scope=col>PrimeRate_f</th><th scope=col>GDPG_f</th><th scope=col>CA_f</th><th scope=col>FDI_f</th><th scope=col>Country.y</th><th scope=col>Exchange</th><th scope=col>Exchange_fut</th><th scope=col>Pct_Chg</th><th scope=col>X1Y_Yield_f</th></tr></thead>\n",
       "<tbody>\n",
       "\t<tr><th scope=row>1</th><td>1</td><td>1</td><td>1971-02-01</td><td>5.3</td><td>110</td><td>6.09</td><td>14699</td><td>NA</td><td>6.29</td><td>29.52117</td><td>2743.114</td><td>-837.3768</td><td>383949.5</td><td>usa</td><td>1</td><td>301</td><td>NA</td><td>4799.1</td><td>NA</td><td>7</td><td>771.7813</td><td>794683.4</td><td>979573.9</td><td>canada</td><td>1.0118</td><td>NA</td><td>NA</td><td>-6.548467</td></tr>\n",
       "\t<tr><th scope=row>5</th><td>11</td><td>11</td><td>1971-03-01</td><td>5</td><td>238</td><td>6.14</td><td>14534</td><td>NA</td><td>5.88</td><td>18.74402</td><td>1543.426</td><td>-178.3828</td><td>378957.3</td><td>usa</td><td>1.5</td><td>213</td><td>NA</td><td>4850.3</td><td>NA</td><td>7</td><td>328.7891</td><td>776032.6</td><td>972294.2</td><td>canada</td><td>1.0075</td><td>NA</td><td>NA</td><td>-3.139016</td></tr>\n",
       "\t<tr><th scope=row>9</th><td>21</td><td>21</td><td>1971-04-01</td><td>4.7</td><td>269</td><td>5.53</td><td>14342</td><td>NA</td><td>5.44</td><td>11.1</td><td>683</td><td>196</td><td>374008.6</td><td>usa</td><td>1.5</td><td>271</td><td>NA</td><td>4844.7</td><td>NA</td><td>6.5</td><td>30</td><td>757675.8</td><td>965050.7</td><td>canada</td><td>1.0064</td><td>NA</td><td>NA</td><td>-0.57</td></tr>\n",
       "\t<tr><th scope=row>13</th><td>31</td><td>31</td><td>1971-05-01</td><td>4.2</td><td>-70</td><td>6.08</td><td>14307</td><td>NA</td><td>5.28</td><td>6.122433</td><td>107.2068</td><td>338.6235</td><td>369103.1</td><td>usa</td><td>2</td><td>189</td><td>NA</td><td>4853.9</td><td>NA</td><td>6.5</td><td>-149.7711</td><td>739610.5</td><td>957843.3</td><td>canada</td><td>1.0077</td><td>NA</td><td>NA</td><td>1.254138</td></tr>\n",
       "\t<tr><th scope=row>17</th><td>41</td><td>41</td><td>1971-06-01</td><td>4.4</td><td>-89</td><td>6.38</td><td>13811</td><td>NA</td><td>5.46</td><td>3.344655</td><td>-238.5834</td><td>302.3396</td><td>364240.8</td><td>usa</td><td>2</td><td>218</td><td>NA</td><td>4878.7</td><td>NA</td><td>6.5</td><td>-235.7093</td><td>721834.6</td><td>950671.8</td><td>canada</td><td>1.0087</td><td>NA</td><td>NA</td><td>2.428953</td></tr>\n",
       "\t<tr><th scope=row>21</th><td>51</td><td>51</td><td>1971-07-01</td><td>4.6</td><td>-292</td><td>6.7</td><td>13504</td><td>NA</td><td>5.5</td><td>2.3</td><td>-409</td><td>140</td><td>359421.3</td><td>usa</td><td>2.5</td><td>196</td><td>NA</td><td>4851.8</td><td>NA</td><td>6.5</td><td>-253</td><td>704345.5</td><td>943536.2</td><td>canada</td><td>1.0213</td><td>NA</td><td>NA</td><td>3.05</td></tr>\n",
       "</tbody>\n",
       "</table>\n"
      ],
      "text/latex": [
       "\\begin{tabular}{r|llllllllllllllllllllllllllll}\n",
       "  & X.1 & X & Date & Infl_d & BOT_d & Yield_d & FER_d & Int_d & PrimeRate_d & X1Y_Yield_d & GDPG_d & CA_d & FDI_d & Country.x & Infl_f & BOT_f & Yield_f & FER_f & Int_f & PrimeRate_f & GDPG_f & CA_f & FDI_f & Country.y & Exchange & Exchange_fut & Pct_Chg & X1Y_Yield_f\\\\\n",
       "\\hline\n",
       "\t1 & 1 & 1 & 1971-02-01 & 5.3 & 110 & 6.09 & 14699 & NA & 6.29 & 29.52117 & 2743.114 & -837.3768 & 383949.5 & usa & 1 & 301 & NA & 4799.1 & NA & 7 & 771.7813 & 794683.4 & 979573.9 & canada & 1.0118 & NA & NA & -6.548467\\\\\n",
       "\t5 & 11 & 11 & 1971-03-01 & 5 & 238 & 6.14 & 14534 & NA & 5.88 & 18.74402 & 1543.426 & -178.3828 & 378957.3 & usa & 1.5 & 213 & NA & 4850.3 & NA & 7 & 328.7891 & 776032.6 & 972294.2 & canada & 1.0075 & NA & NA & -3.139016\\\\\n",
       "\t9 & 21 & 21 & 1971-04-01 & 4.7 & 269 & 5.53 & 14342 & NA & 5.44 & 11.1 & 683 & 196 & 374008.6 & usa & 1.5 & 271 & NA & 4844.7 & NA & 6.5 & 30 & 757675.8 & 965050.7 & canada & 1.0064 & NA & NA & -0.57\\\\\n",
       "\t13 & 31 & 31 & 1971-05-01 & 4.2 & -70 & 6.08 & 14307 & NA & 5.28 & 6.122433 & 107.2068 & 338.6235 & 369103.1 & usa & 2 & 189 & NA & 4853.9 & NA & 6.5 & -149.7711 & 739610.5 & 957843.3 & canada & 1.0077 & NA & NA & 1.254138\\\\\n",
       "\t17 & 41 & 41 & 1971-06-01 & 4.4 & -89 & 6.38 & 13811 & NA & 5.46 & 3.344655 & -238.5834 & 302.3396 & 364240.8 & usa & 2 & 218 & NA & 4878.7 & NA & 6.5 & -235.7093 & 721834.6 & 950671.8 & canada & 1.0087 & NA & NA & 2.428953\\\\\n",
       "\t21 & 51 & 51 & 1971-07-01 & 4.6 & -292 & 6.7 & 13504 & NA & 5.5 & 2.3 & -409 & 140 & 359421.3 & usa & 2.5 & 196 & NA & 4851.8 & NA & 6.5 & -253 & 704345.5 & 943536.2 & canada & 1.0213 & NA & NA & 3.05\\\\\n",
       "\\end{tabular}\n"
      ],
      "text/plain": [
       "   X.1  X       Date Infl_d BOT_d Yield_d FER_d Int_d PrimeRate_d X1Y_Yield_d\n",
       "1    1  1 1971-02-01    5.3   110    6.09 14699    NA        6.29   29.521169\n",
       "5   11 11 1971-03-01    5.0   238    6.14 14534    NA        5.88   18.744023\n",
       "9   21 21 1971-04-01    4.7   269    5.53 14342    NA        5.44   11.100000\n",
       "13  31 31 1971-05-01    4.2   -70    6.08 14307    NA        5.28    6.122433\n",
       "17  41 41 1971-06-01    4.4   -89    6.38 13811    NA        5.46    3.344655\n",
       "21  51 51 1971-07-01    4.6  -292    6.70 13504    NA        5.50    2.300000\n",
       "      GDPG_d      CA_d    FDI_d Country.x Infl_f BOT_f Yield_f  FER_f Int_f\n",
       "1  2743.1144 -837.3768 383949.5       usa    1.0   301      NA 4799.1    NA\n",
       "5  1543.4260 -178.3828 378957.3       usa    1.5   213      NA 4850.3    NA\n",
       "9   683.0000  196.0000 374008.6       usa    1.5   271      NA 4844.7    NA\n",
       "13  107.2068  338.6235 369103.1       usa    2.0   189      NA 4853.9    NA\n",
       "17 -238.5834  302.3396 364240.8       usa    2.0   218      NA 4878.7    NA\n",
       "21 -409.0000  140.0000 359421.3       usa    2.5   196      NA 4851.8    NA\n",
       "   PrimeRate_f    GDPG_f     CA_f    FDI_f Country.y Exchange Exchange_fut\n",
       "1          7.0  771.7813 794683.4 979573.9    canada   1.0118           NA\n",
       "5          7.0  328.7891 776032.6 972294.2    canada   1.0075           NA\n",
       "9          6.5   30.0000 757675.8 965050.7    canada   1.0064           NA\n",
       "13         6.5 -149.7711 739610.5 957843.3    canada   1.0077           NA\n",
       "17         6.5 -235.7093 721834.6 950671.8    canada   1.0087           NA\n",
       "21         6.5 -253.0000 704345.5 943536.2    canada   1.0213           NA\n",
       "   Pct_Chg X1Y_Yield_f\n",
       "1       NA   -6.548467\n",
       "5       NA   -3.139016\n",
       "9       NA   -0.570000\n",
       "13      NA    1.254138\n",
       "17      NA    2.428953\n",
       "21      NA    3.050000"
      ]
     },
     "execution_count": 35,
     "metadata": {},
     "output_type": "execute_result"
    }
   ],
   "source": [
    "head(canada)"
   ]
  },
  {
   "cell_type": "code",
   "execution_count": 75,
   "metadata": {
    "collapsed": false
   },
   "outputs": [
    {
     "data": {
      "text/html": [
       "<strong>pdf:</strong> 2"
      ],
      "text/latex": [
       "\\textbf{pdf:} 2"
      ],
      "text/markdown": [
       "**pdf:** 2"
      ],
      "text/plain": [
       "pdf \n",
       "  2 "
      ]
     },
     "execution_count": 75,
     "metadata": {},
     "output_type": "execute_result"
    }
   ],
   "source": [
    "df <- read.csv('topfive.csv')\n",
    "\n",
    "pdf('rates_over_time.pdf')\n",
    "require(gridExtra)\n",
    "canada <- subset(df, Country.y == 'canada')[-1:-12,]\n",
    "plot1 <- ggplot(data = canada, aes(x = as.POSIXct(Date), y = Pct_Chg)) +\n",
    "   geom_line() +\n",
    "    ggtitle('Canada') +\n",
    "    xlab('Date') +\n",
    "    ylab('1Y Pct Chg in Ex Rate') +\n",
    "    theme(legend.justification = c(1,1), legend.position = c(1,1))\n",
    "\n",
    "mexico <- subset(df, Country.y == 'mexico')[-1:-286,]\n",
    "plot2 <- ggplot(data = mexico, aes(x = as.POSIXct(Date), y = Pct_Chg)) +\n",
    "   geom_line() +\n",
    "    ggtitle('Mexico') +\n",
    "    xlab('Date') +\n",
    "    ylab('1Y Pct Chg in Ex Rate') +\n",
    "    theme(legend.justification = c(1,1), legend.position = c(1,1))\n",
    "\n",
    "europe <- subset(df, Country.y == 'europe')[-1:-108,]\n",
    "plot3 <- ggplot(data = europe, aes(x = as.POSIXct(Date), y = Pct_Chg)) +\n",
    "   geom_line() +\n",
    "    ggtitle('Europe') +\n",
    "    xlab('Date') +\n",
    "    ylab('1Y Pct Chg in Ex Rate') +\n",
    "    theme(legend.justification = c(1,1), legend.position = c(1,1))\n",
    "\n",
    "#japan <- subset(df, Country.y == 'japan')[-1:-12,]\n",
    "#ggplot(data = japan, aes(x = as.POSIXct(Date), y = Pct_Chg)) +\n",
    "#   geom_line() +\n",
    "#    ggtitle('Japan') +\n",
    "#    xlab('Date') +\n",
    "#    ylab('1Y Percent Change in Exchange Rate') +\n",
    "#    theme(legend.justification = c(1,1), legend.position = c(1,1))\n",
    "\n",
    "korea <- subset(df, Country.y == 'korea')[-1:-135,]\n",
    "plot4 <- ggplot(data = korea, aes(x = as.POSIXct(Date), y = Pct_Chg)) +\n",
    "   geom_line() +\n",
    "    ggtitle('Korea') +\n",
    "    xlab('Date') +\n",
    "    ylab('1Y Pct Chg in Ex Rate') +\n",
    "    theme(legend.justification = c(1,1), legend.position = c(1,1))\n",
    "grid.arrange(plot1,plot2,plot3,plot4, ncol=2)\n",
    "dev.off()"
   ]
  },
  {
   "cell_type": "code",
   "execution_count": null,
   "metadata": {
    "collapsed": true
   },
   "outputs": [],
   "source": []
  }
 ],
 "metadata": {
  "kernelspec": {
   "display_name": "R",
   "language": "R",
   "name": "ir"
  },
  "language_info": {
   "codemirror_mode": "r",
   "file_extension": ".r",
   "mimetype": "text/x-r-source",
   "name": "R",
   "pygments_lexer": "r",
   "version": "3.2.2"
  }
 },
 "nbformat": 4,
 "nbformat_minor": 0
}
