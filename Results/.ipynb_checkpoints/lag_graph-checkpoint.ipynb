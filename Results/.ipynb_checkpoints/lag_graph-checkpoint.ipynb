{
 "cells": [
  {
   "cell_type": "code",
   "execution_count": 1,
   "metadata": {
    "collapsed": true
   },
   "outputs": [],
   "source": [
    "library(ggplot2)"
   ]
  },
  {
   "cell_type": "code",
   "execution_count": 90,
   "metadata": {
    "collapsed": false
   },
   "outputs": [],
   "source": [
    "lag <- c(9,8,7,6,5,4,3,2,1,0)\n",
    "lag2 <- c(10,9,8,7,6,5,4,3,2,1,0)\n",
    "\n",
    "canada <- c(0.00123911389098851,0.000608183145705694,\n",
    "            0.00100597597473417,0.00144229494182569,\n",
    "            0.00160890932137478,0.00137447142765265,\n",
    "            0.00186906625586332,0.00239605966209788,\n",
    "            0.00358154677132368,0.00331800655151198)\n",
    "canada_lag <- cbind(canada, rep('Canada',10))\n",
    "\n",
    "europe <- c(0.00250316012843876,\n",
    "            0.00415081167615026,0.00661259983390063,\n",
    "            0.00764830089504619,0.0125623762233728, \n",
    "            0.0154799114613472,0.0159542418954869,\n",
    "            0.0156745813042794,0.0160027671837269,\n",
    "            0.0185970363263374,0.0147232143216596)\n",
    "europe_lag <- cbind(europe, rep('Europe',11))\n",
    "\n",
    "mexico <- c(0.00106413978289238,0.00133361782938726,0.00151627162822287,\n",
    "            0.00126408793276698,0.00141812914514133,0.0028615617515026,\n",
    "            0.00312714146682264,0.00441010150647147,\n",
    "            0.00584158655216713,0.00570276278938455)\n",
    "mexico_lag <- cbind(mexico, rep('Mexico',10))\n",
    "\n",
    "japan <- c(0.0086208388816652,\n",
    "           0.00984706495614857,0.0168655530568457, \n",
    "           0.0236656928334346, 0.0363874011541485,\n",
    "           0.0422426327007639,0.0404320333588216,\n",
    "            0.0437776480094219,0.0479783473970616,\n",
    "            0.0459328173829366,0.0474901194947727)\n",
    "japan_lag <- cbind(japan, rep('Japan',11))\n",
    "\n",
    "korea <- c(\t0.0019103270937254,\n",
    "           0.00291995903106997,0.00451942049886738,\n",
    "           0.00512914275265451, 0.00550160426682836,\n",
    "           0.00515048787207996,0.00609018116065966,\n",
    "            0.00625696329637037,0.00649573272245594,\n",
    "            0.006838426058482,0.00673945253826471)\n",
    "korea_lag <- cbind(korea, rep('Korea',11))\n",
    "\n",
    "df1 <- data.frame(rbind(\n",
    "                cbind(lag,canada_lag),\n",
    "                 cbind(lag,mexico_lag)))\n",
    "colnames(df1) <- c('Lag','Value','Country')\n",
    "df1$Lag <- as.numeric(paste(df1$Lag))\n",
    "df1$Value <- as.numeric(paste(df1$Value))\n",
    "\n",
    "df2 <- data.frame(rbind(\n",
    "                cbind(lag2,europe_lag),\n",
    "                cbind(lag2,japan_lag),\n",
    "                cbind(lag2,korea_lag)))\n",
    "colnames(df2) <- c('Lag','Value','Country')\n",
    "df2$Lag <- as.numeric(paste(df2$Lag))\n",
    "df2$Value <- as.numeric(paste(df2$Value))\n"
   ]
  },
  {
   "cell_type": "code",
   "execution_count": 96,
   "metadata": {
    "collapsed": false
   },
   "outputs": [
    {
     "data": {
      "text/html": [
       "<strong>pdf:</strong> 2"
      ],
      "text/latex": [
       "\\textbf{pdf:} 2"
      ],
      "text/markdown": [
       "**pdf:** 2"
      ],
      "text/plain": [
       "pdf \n",
       "  2 "
      ]
     },
     "execution_count": 96,
     "metadata": {},
     "output_type": "execute_result"
    },
    {
     "data": {
      "text/html": [
       "<strong>pdf:</strong> 2"
      ],
      "text/latex": [
       "\\textbf{pdf:} 2"
      ],
      "text/markdown": [
       "**pdf:** 2"
      ],
      "text/plain": [
       "pdf \n",
       "  2 "
      ]
     },
     "execution_count": 96,
     "metadata": {},
     "output_type": "execute_result"
    }
   ],
   "source": [
    "pdf('lag1.pdf')\n",
    "ggplot(data = df1, aes(x=Lag, y=Value,\n",
    "        group = Country, colour = Country))+\n",
    "    geom_line() +\n",
    "    xlab('Lag') + \n",
    "    theme(legend.justification = c(1,1), legend.position = c(1,1)) +\n",
    "    scale_x_continuous(breaks = lag)\n",
    "dev.off()\n",
    "\n",
    "pdf('lag2.pdf')\n",
    "ggplot(data = df2, aes(x=Lag, y=Value,\n",
    "        group = Country, colour = Country))+\n",
    "    geom_line() +\n",
    "    xlab('Lag') + \n",
    "    theme(legend.justification = c(1,1), legend.position = c(1,1)) + \n",
    "    scale_x_continuous(breaks = lag2)\n",
    "dev.off()"
   ]
  },
  {
   "cell_type": "code",
   "execution_count": null,
   "metadata": {
    "collapsed": true
   },
   "outputs": [],
   "source": []
  }
 ],
 "metadata": {
  "kernelspec": {
   "display_name": "R",
   "language": "R",
   "name": "ir"
  },
  "language_info": {
   "codemirror_mode": "r",
   "file_extension": ".r",
   "mimetype": "text/x-r-source",
   "name": "R",
   "pygments_lexer": "r",
   "version": "3.2.2"
  }
 },
 "nbformat": 4,
 "nbformat_minor": 0
}
