{
 "cells": [
  {
   "cell_type": "code",
   "execution_count": 2,
   "metadata": {
    "collapsed": false
   },
   "outputs": [
    {
     "name": "stderr",
     "output_type": "stream",
     "text": [
      "\n",
      "Attaching package: ‘dplyr’\n",
      "\n",
      "The following objects are masked from ‘package:stats’:\n",
      "\n",
      "    filter, lag\n",
      "\n",
      "The following objects are masked from ‘package:base’:\n",
      "\n",
      "    intersect, setdiff, setequal, union\n",
      "\n"
     ]
    }
   ],
   "source": [
    "library(car)\n",
    "library(dplyr)\n",
    "library(ggplot2)"
   ]
  },
  {
   "cell_type": "code",
   "execution_count": 32,
   "metadata": {
    "collapsed": false
   },
   "outputs": [
    {
     "data": {
      "text/plain": [
       " lag Autocorrelation D-W Statistic p-value\n",
       "   1      0.86516637     0.2537710   0.000\n",
       "   2      0.68749257     0.5975135   0.000\n",
       "   3      0.52079127     0.9218407   0.000\n",
       "   4      0.39838205     1.1651589   0.000\n",
       "   5      0.30982266     1.3420311   0.000\n",
       "   6      0.24177788     1.4780331   0.002\n",
       "   7      0.22253255     1.5162867   0.010\n",
       "   8      0.21918679     1.5220872   0.016\n",
       "   9      0.19495217     1.5670854   0.038\n",
       "  10      0.13979178     1.6723925   0.176\n",
       "  11      0.09092702     1.7652631   0.504\n",
       "  12      0.02833821     1.8823349   0.924\n",
       " Alternative hypothesis: rho[lag] != 0"
      ]
     },
     "execution_count": 32,
     "metadata": {},
     "output_type": "execute_result"
    }
   ],
   "source": [
    "country <- 'canada'\n",
    "ex_rates <- read.csv('topfive.csv')\n",
    "ex_rates <- subset(ex_rates, ex_rates$Country.y==country)\n",
    "full <- subset(ex_rates, select = c(Pct_Chg, Exchange, X1Y_Yield_d, \n",
    "                X1Y_Yield_f, Int_d, Int_f,  Infl_d, Infl_f))\n",
    "full <- na.omit(full)\n",
    "regmodel <- lm(Pct_Chg ~ ., data=full)\n",
    "durbinWatsonTest(regmodel, max.lag=12)\n",
    "canada_rho <- cbind(durbinWatsonTest(regmodel, max.lag=12)$r,\n",
    "                    rep('Canada',12))"
   ]
  },
  {
   "cell_type": "code",
   "execution_count": 33,
   "metadata": {
    "collapsed": false
   },
   "outputs": [
    {
     "data": {
      "text/plain": [
       " lag Autocorrelation D-W Statistic p-value\n",
       "   1       0.8783587     0.2371595   0.000\n",
       "   2       0.7268922     0.5387817   0.000\n",
       "   3       0.5868327     0.8181262   0.000\n",
       "   4       0.4767386     1.0366753   0.000\n",
       "   5       0.3980036     1.1812053   0.000\n",
       "   6       0.3404686     1.2891355   0.000\n",
       "   7       0.2860517     1.3825064   0.000\n",
       "   8       0.2559480     1.4275834   0.000\n",
       "   9       0.2210001     1.4886514   0.000\n",
       "  10       0.1650372     1.5880399   0.018\n",
       "  11       0.1120005     1.6810960   0.136\n",
       "  12       0.0511130     1.7959956   0.500\n",
       " Alternative hypothesis: rho[lag] != 0"
      ]
     },
     "execution_count": 33,
     "metadata": {},
     "output_type": "execute_result"
    }
   ],
   "source": [
    "country <- 'europe'\n",
    "ex_rates <- read.csv('topfive.csv')\n",
    "ex_rates <- subset(ex_rates, ex_rates$Country.y==country)\n",
    "full <- subset(ex_rates, select = c(Pct_Chg, Exchange, X1Y_Yield_d, \n",
    "                X1Y_Yield_f, Int_d, Int_f,  Infl_d, Infl_f))\n",
    "full <- na.omit(full)\n",
    "regmodel <- lm(Pct_Chg ~ ., data=full)\n",
    "durbinWatsonTest(regmodel, max.lag=12)\n",
    "europe_rho <- cbind(durbinWatsonTest(regmodel, max.lag=12)$r,\n",
    "                    rep('Europe',12))"
   ]
  },
  {
   "cell_type": "code",
   "execution_count": 34,
   "metadata": {
    "collapsed": false
   },
   "outputs": [
    {
     "data": {
      "text/plain": [
       " lag Autocorrelation D-W Statistic p-value\n",
       "   1       0.9492535     0.1007761   0.000\n",
       "   2       0.8721952     0.2539577   0.000\n",
       "   3       0.7910748     0.4135406   0.000\n",
       "   4       0.7099165     0.5720755   0.000\n",
       "   5       0.6306287     0.7256971   0.000\n",
       "   6       0.5557127     0.8704113   0.000\n",
       "   7       0.4870163     1.0028019   0.000\n",
       "   8       0.4174320     1.1379061   0.000\n",
       "   9       0.3416745     1.2864173   0.000\n",
       "  10       0.2613936     1.4444454   0.000\n",
       "  11       0.1822044     1.5999367   0.000\n",
       "  12       0.1049812     1.7518120   0.012\n",
       " Alternative hypothesis: rho[lag] != 0"
      ]
     },
     "execution_count": 34,
     "metadata": {},
     "output_type": "execute_result"
    }
   ],
   "source": [
    "country <- 'japan'\n",
    "ex_rates <- read.csv('topfive.csv')\n",
    "ex_rates <- subset(ex_rates, ex_rates$Country.y==country)\n",
    "full <- subset(ex_rates, select = c(Pct_Chg, Exchange, X1Y_Yield_d, \n",
    "                X1Y_Yield_f, Int_d, Int_f,  Infl_d, Infl_f))\n",
    "full <- na.omit(full)\n",
    "regmodel <- lm(Pct_Chg ~ ., data=full)\n",
    "durbinWatsonTest(regmodel, max.lag=12)\n",
    "japan_rho <- cbind(durbinWatsonTest(regmodel, max.lag=12)$r,\n",
    "                   rep('Japan',12))"
   ]
  },
  {
   "cell_type": "code",
   "execution_count": 45,
   "metadata": {
    "collapsed": false
   },
   "outputs": [
    {
     "data": {
      "text/plain": [
       " lag Autocorrelation D-W Statistic p-value\n",
       "   1      0.81364557     0.3401026   0.000\n",
       "   2      0.56813195     0.8239035   0.000\n",
       "   3      0.38036117     1.1954863   0.000\n",
       "   4      0.21540807     1.5198596   0.006\n",
       "   5      0.05903102     1.8315352   0.484\n",
       "   6     -0.06602813     2.0807421   0.422\n",
       "   7     -0.11487255     2.1761948   0.146\n",
       "   8     -0.13293243     2.2053527   0.084\n",
       "   9     -0.18702684     2.3057740   0.024\n",
       "  10     -0.23573122     2.3946044   0.006\n",
       "  11     -0.24659026     2.4123491   0.000\n",
       "  12     -0.26756825     2.4539282   0.000\n",
       " Alternative hypothesis: rho[lag] != 0"
      ]
     },
     "execution_count": 45,
     "metadata": {},
     "output_type": "execute_result"
    },
    {
     "data": {
      "text/html": [
       "<table>\n",
       "<tbody>\n",
       "\t<tr><td>0.813645573803978</td><td>Mexico           </td></tr>\n",
       "\t<tr><td>0.568131953896412</td><td>Mexico           </td></tr>\n",
       "\t<tr><td>0.380361165637634</td><td>Mexico           </td></tr>\n",
       "\t<tr><td>0.215408068346368</td><td>Mexico           </td></tr>\n",
       "\t<tr><td>0.0590310196990324</td><td>Mexico            </td></tr>\n",
       "\t<tr><td>-0.0660281258507537</td><td>Mexico             </td></tr>\n",
       "\t<tr><td>-0.114872546347978</td><td>Mexico            </td></tr>\n",
       "\t<tr><td>-0.132932430038999</td><td>Mexico            </td></tr>\n",
       "\t<tr><td>-0.187026843739244</td><td>Mexico            </td></tr>\n",
       "\t<tr><td>-0.235731219538105</td><td>Mexico            </td></tr>\n",
       "\t<tr><td>-0.246590257731971</td><td>Mexico            </td></tr>\n",
       "\t<tr><td>-0.267568245005299</td><td>Mexico            </td></tr>\n",
       "</tbody>\n",
       "</table>\n"
      ],
      "text/latex": [
       "\\begin{tabular}{ll}\n",
       "\t 0.813645573803978 & Mexico           \\\\\n",
       "\t 0.568131953896412 & Mexico           \\\\\n",
       "\t 0.380361165637634 & Mexico           \\\\\n",
       "\t 0.215408068346368 & Mexico           \\\\\n",
       "\t 0.0590310196990324 & Mexico            \\\\\n",
       "\t -0.0660281258507537 & Mexico             \\\\\n",
       "\t -0.114872546347978 & Mexico            \\\\\n",
       "\t -0.132932430038999 & Mexico            \\\\\n",
       "\t -0.187026843739244 & Mexico            \\\\\n",
       "\t -0.235731219538105 & Mexico            \\\\\n",
       "\t -0.246590257731971 & Mexico            \\\\\n",
       "\t -0.267568245005299 & Mexico            \\\\\n",
       "\\end{tabular}\n"
      ],
      "text/markdown": [
       "1. '0.813645573803978'\n",
       "2. '0.568131953896412'\n",
       "3. '0.380361165637634'\n",
       "4. '0.215408068346368'\n",
       "5. '0.0590310196990324'\n",
       "6. '-0.0660281258507537'\n",
       "7. '-0.114872546347978'\n",
       "8. '-0.132932430038999'\n",
       "9. '-0.187026843739244'\n",
       "10. '-0.235731219538105'\n",
       "11. '-0.246590257731971'\n",
       "12. '-0.267568245005299'\n",
       "13. 'Mexico'\n",
       "14. 'Mexico'\n",
       "15. 'Mexico'\n",
       "16. 'Mexico'\n",
       "17. 'Mexico'\n",
       "18. 'Mexico'\n",
       "19. 'Mexico'\n",
       "20. 'Mexico'\n",
       "21. 'Mexico'\n",
       "22. 'Mexico'\n",
       "23. 'Mexico'\n",
       "24. 'Mexico'\n",
       "\n",
       "\n"
      ],
      "text/plain": [
       "      [,1]                  [,2]    \n",
       " [1,] \"0.813645573803978\"   \"Mexico\"\n",
       " [2,] \"0.568131953896412\"   \"Mexico\"\n",
       " [3,] \"0.380361165637634\"   \"Mexico\"\n",
       " [4,] \"0.215408068346368\"   \"Mexico\"\n",
       " [5,] \"0.0590310196990324\"  \"Mexico\"\n",
       " [6,] \"-0.0660281258507537\" \"Mexico\"\n",
       " [7,] \"-0.114872546347978\"  \"Mexico\"\n",
       " [8,] \"-0.132932430038999\"  \"Mexico\"\n",
       " [9,] \"-0.187026843739244\"  \"Mexico\"\n",
       "[10,] \"-0.235731219538105\"  \"Mexico\"\n",
       "[11,] \"-0.246590257731971\"  \"Mexico\"\n",
       "[12,] \"-0.267568245005299\"  \"Mexico\""
      ]
     },
     "execution_count": 45,
     "metadata": {},
     "output_type": "execute_result"
    }
   ],
   "source": [
    "country <- 'mexico'\n",
    "ex_rates <- read.csv('topfive.csv')\n",
    "ex_rates <- subset(ex_rates, ex_rates$Country.y==country)\n",
    "full <- subset(ex_rates, select = c(Pct_Chg, Exchange, X1Y_Yield_d, \n",
    "                X1Y_Yield_f, Int_d, Int_f,  Infl_d, Infl_f))\n",
    "full <- na.omit(full)\n",
    "regmodel <- lm(Pct_Chg ~ ., data=full)\n",
    "durbinWatsonTest(regmodel, max.lag=12)\n",
    "mexico_rho <- cbind(durbinWatsonTest(regmodel, max.lag=12)$r,\n",
    "                    rep('Mexico',12))\n",
    "mexico_rho"
   ]
  },
  {
   "cell_type": "code",
   "execution_count": 36,
   "metadata": {
    "collapsed": false
   },
   "outputs": [
    {
     "data": {
      "text/plain": [
       " lag Autocorrelation D-W Statistic p-value\n",
       "   1     0.850539756     0.2793533   0.000\n",
       "   2     0.601918632     0.7595570   0.000\n",
       "   3     0.410177157     1.1406228   0.000\n",
       "   4     0.295458619     1.3625447   0.000\n",
       "   5     0.202537068     1.5251040   0.000\n",
       "   6     0.095385533     1.7152323   0.062\n",
       "   7     0.007579568     1.8697391   0.510\n",
       "   8    -0.009659942     1.8854395   0.616\n",
       "   9     0.023795168     1.8088830   0.404\n",
       "  10     0.048781291     1.7573714   0.238\n",
       "  11     0.016679254     1.8164978   0.502\n",
       "  12    -0.044245125     1.9359762   0.774\n",
       " Alternative hypothesis: rho[lag] != 0"
      ]
     },
     "execution_count": 36,
     "metadata": {},
     "output_type": "execute_result"
    }
   ],
   "source": [
    "country <- 'korea'\n",
    "ex_rates <- read.csv('topfive.csv')\n",
    "ex_rates <- subset(ex_rates, ex_rates$Country.y==country)\n",
    "full <- subset(ex_rates, select = c(Pct_Chg, Exchange, X1Y_Yield_d, \n",
    "                X1Y_Yield_f, Int_d, Int_f,  Infl_d, Infl_f))\n",
    "full <- na.omit(full)\n",
    "regmodel <- lm(Pct_Chg ~ ., data=full)\n",
    "durbinWatsonTest(regmodel, max.lag=12)\n",
    "korea_rho <- cbind(durbinWatsonTest(regmodel, max.lag=12)$r,\n",
    "                   rep('Korea',12))"
   ]
  },
  {
   "cell_type": "code",
   "execution_count": 57,
   "metadata": {
    "collapsed": false
   },
   "outputs": [],
   "source": [
    "months <- 1:12\n",
    "df <- data.frame(rbind(cbind(months,canada_rho),\n",
    "                 cbind(months,europe_rho),\n",
    "                 cbind(months,mexico_rho),\n",
    "                 cbind(months,japan_rho),\n",
    "                 cbind(months,korea_rho)))\n",
    "colnames(df) <- c('Months','Value','Country')\n",
    "df$Months <- as.numeric(paste(df$Months))\n",
    "df$Value <- as.numeric(paste(df$Value))\n",
    "df <- df[order(df$Months),]\n",
    "#ggplot(Months, Value, color=Country, data=df)\n",
    "#ggplot(df, aes(Months, Value,color=factor(Country))) \n",
    "#    + geom_line(Value, color = Canada)\n"
   ]
  },
  {
   "cell_type": "code",
   "execution_count": 59,
   "metadata": {
    "collapsed": false
   },
   "outputs": [
    {
     "data": {
      "text/html": [
       "<strong>pdf:</strong> 2"
      ],
      "text/latex": [
       "\\textbf{pdf:} 2"
      ],
      "text/markdown": [
       "**pdf:** 2"
      ],
      "text/plain": [
       "pdf \n",
       "  2 "
      ]
     },
     "execution_count": 59,
     "metadata": {},
     "output_type": "execute_result"
    }
   ],
   "source": [
    "pdf('autocorrelation.pdf')\n",
    "ggplot(data = df, aes(x=factor(Months), y= Value, \n",
    "                      group= Country, colour= Country)) +\n",
    "   geom_line() +\n",
    "    ggtitle('Severity of Autocorrelation') +\n",
    "    xlab('Lag (in months)') +\n",
    "    ylab('Correlation (rho)') +\n",
    "    theme(legend.justification = c(1,1), legend.position = c(1,1))\n",
    "dev.off()"
   ]
  },
  {
   "cell_type": "code",
   "execution_count": null,
   "metadata": {
    "collapsed": true
   },
   "outputs": [],
   "source": []
  }
 ],
 "metadata": {
  "kernelspec": {
   "display_name": "R",
   "language": "R",
   "name": "ir"
  },
  "language_info": {
   "codemirror_mode": "r",
   "file_extension": ".r",
   "mimetype": "text/x-r-source",
   "name": "R",
   "pygments_lexer": "r",
   "version": "3.2.2"
  }
 },
 "nbformat": 4,
 "nbformat_minor": 0
}
