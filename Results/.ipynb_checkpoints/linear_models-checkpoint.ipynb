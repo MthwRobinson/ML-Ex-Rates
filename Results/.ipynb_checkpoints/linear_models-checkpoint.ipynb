{
 "cells": [
  {
   "cell_type": "code",
   "execution_count": 2,
   "metadata": {
    "collapsed": false
   },
   "outputs": [],
   "source": [
    "setwd('/home/matt/MSOR/ISYE7406/ML-Ex-Rates/Results')\n",
    "library(class)\n",
    "library(MASS)\n",
    "library(pls)\n",
    "library(lars)\n",
    "library(lattice)"
   ]
  },
  {
   "cell_type": "code",
   "execution_count": 3,
   "metadata": {
    "collapsed": false
   },
   "outputs": [],
   "source": [
    "#setwd('/home/matt/MSOR/ISYE7406/ML-Ex-Rates/Data')\n",
    "#ex_rate <- read.csv('oecd.csv')\n",
    "#ex_rate <- subset(ex_rate, ex_rate$Country.y == 'canada' |\n",
    "#                  ex_rate$Country.y == 'europe' |\n",
    "#                  ex_rate$Country.y == 'mexico' |\n",
    "#                  ex_rate$Country.y == 'japan' |\n",
    "#                  ex_rate$Country.y == 'korea')\n",
    "#setwd('/home/matt/MSOR/ISYE7406/ML-Ex-Rates/Results')\n",
    "#write.csv(ex_rate, file = 'topfive.csv')"
   ]
  },
  {
   "cell_type": "code",
   "execution_count": 39,
   "metadata": {
    "collapsed": false
   },
   "outputs": [
    {
     "data": {
      "text/html": [
       "TRUE"
      ],
      "text/latex": [
       "TRUE"
      ],
      "text/markdown": [
       "TRUE"
      ],
      "text/plain": [
       "[1] TRUE"
      ]
     },
     "execution_count": 39,
     "metadata": {},
     "output_type": "execute_result"
    }
   ],
   "source": [
    "ex_rates <- read.csv('topfive.csv')\n",
    "ex_rates <- subset(ex_rates, ex_rate$Country.y=='canada')\n",
    "    \n",
    "full <- subset(ex_rates, select = c(Pct_Chg, Exchange, X1Y_Yield_d, \n",
    "                      X1Y_Yield_f, Int_d, Int_f,  Infl_d, Infl_f, GDPG_d,\n",
    "                      GDPG_f, BOT_f, BOT_d, FER_f))\n",
    "full <- na.omit(full)\n",
    "struct <- subset(full, select = c(Pct_Chg, Exchange, X1Y_Yield_d, \n",
    "                      X1Y_Yield_f, Int_d, Int_f,  Infl_d, Infl_f))\n",
    "rownames(full) <- 1:nrow(full)"
   ]
  },
  {
   "cell_type": "code",
   "execution_count": null,
   "metadata": {
    "collapsed": false,
    "scrolled": false
   },
   "outputs": [
    {
     "data": {
      "text/html": [
       "<table>\n",
       "<tbody>\n",
       "\t<tr><th scope=row>output</th><td>Measure</td><td>Step   </td><td>Ridge  </td><td>Lasso  </td><td>Naive  </td></tr>\n",
       "\t<tr><th scope=row></th><td>Mean               </td><td>0.00678812329735936</td><td>0.00651502013052024</td><td>0.00642320149891659</td><td>0.00712525370776689</td></tr>\n",
       "\t<tr><th scope=row></th><td>Variance            </td><td>1.66418952503162e-05</td><td>1.61159277537135e-05</td><td>1.49967141108612e-05</td><td>3.63457023590585e-05</td></tr>\n",
       "</tbody>\n",
       "</table>\n"
      ],
      "text/latex": [
       "\\begin{tabular}{r|lllll}\n",
       "\toutput & Measure & Step    & Ridge   & Lasso   & Naive  \\\\\n",
       "\t & Mean                & 0.00678812329735936 & 0.00651502013052024 & 0.00642320149891659 & 0.00712525370776689\\\\\n",
       "\t & Variance             & 1.66418952503162e-05 & 1.61159277537135e-05 & 1.49967141108612e-05 & 3.63457023590585e-05\\\\\n",
       "\\end{tabular}\n"
      ],
      "text/markdown": [
       "1. 'Measure'\n",
       "2. 'Mean'\n",
       "3. 'Variance'\n",
       "4. 'Step'\n",
       "5. '0.00678812329735936'\n",
       "6. '1.66418952503162e-05'\n",
       "7. 'Ridge'\n",
       "8. '0.00651502013052024'\n",
       "9. '1.61159277537135e-05'\n",
       "10. 'Lasso'\n",
       "11. '0.00642320149891659'\n",
       "12. '1.49967141108612e-05'\n",
       "13. 'Naive'\n",
       "14. '0.00712525370776689'\n",
       "15. '3.63457023590585e-05'\n",
       "\n",
       "\n"
      ],
      "text/plain": [
       "       [,1]       [,2]                   [,3]                  \n",
       "output \"Measure\"  \"Step\"                 \"Ridge\"               \n",
       "       \"Mean\"     \"0.00678812329735936\"  \"0.00651502013052024\" \n",
       "       \"Variance\" \"1.66418952503162e-05\" \"1.61159277537135e-05\"\n",
       "       [,4]                   [,5]                  \n",
       "output \"Lasso\"                \"Naive\"               \n",
       "       \"0.00642320149891659\"  \"0.00712525370776689\" \n",
       "       \"1.49967141108612e-05\" \"3.63457023590585e-05\""
      ]
     },
     "execution_count": 42,
     "metadata": {},
     "output_type": "execute_result"
    },
    {
     "data": {
      "text/html": [
       "<table>\n",
       "<tbody>\n",
       "\t<tr><th scope=row>output</th><td>Measure</td><td>Step   </td><td>Ridge  </td><td>Lasso  </td><td>Naive  </td></tr>\n",
       "\t<tr><th scope=row></th><td>Mean              </td><td>0.0252650854261638</td><td>0.0251999880269403</td><td>0.0247063139287376</td><td>0.0109856170171645</td></tr>\n",
       "\t<tr><th scope=row></th><td>Variance            </td><td>0.000713143831972675</td><td>0.00070837560805364 </td><td>0.000623066901465191</td><td>2.37200216731903e-05</td></tr>\n",
       "</tbody>\n",
       "</table>\n"
      ],
      "text/latex": [
       "\\begin{tabular}{r|lllll}\n",
       "\toutput & Measure & Step    & Ridge   & Lasso   & Naive  \\\\\n",
       "\t & Mean               & 0.0252650854261638 & 0.0251999880269403 & 0.0247063139287376 & 0.0109856170171645\\\\\n",
       "\t & Variance             & 0.000713143831972675 & 0.00070837560805364  & 0.000623066901465191 & 2.37200216731903e-05\\\\\n",
       "\\end{tabular}\n"
      ],
      "text/markdown": [
       "1. 'Measure'\n",
       "2. 'Mean'\n",
       "3. 'Variance'\n",
       "4. 'Step'\n",
       "5. '0.0252650854261638'\n",
       "6. '0.000713143831972675'\n",
       "7. 'Ridge'\n",
       "8. '0.0251999880269403'\n",
       "9. '0.00070837560805364'\n",
       "10. 'Lasso'\n",
       "11. '0.0247063139287376'\n",
       "12. '0.000623066901465191'\n",
       "13. 'Naive'\n",
       "14. '0.0109856170171645'\n",
       "15. '2.37200216731903e-05'\n",
       "\n",
       "\n"
      ],
      "text/plain": [
       "       [,1]       [,2]                   [,3]                 \n",
       "output \"Measure\"  \"Step\"                 \"Ridge\"              \n",
       "       \"Mean\"     \"0.0252650854261638\"   \"0.0251999880269403\" \n",
       "       \"Variance\" \"0.000713143831972675\" \"0.00070837560805364\"\n",
       "       [,4]                   [,5]                  \n",
       "output \"Lasso\"                \"Naive\"               \n",
       "       \"0.0247063139287376\"   \"0.0109856170171645\"  \n",
       "       \"0.000623066901465191\" \"2.37200216731903e-05\""
      ]
     },
     "execution_count": 42,
     "metadata": {},
     "output_type": "execute_result"
    },
    {
     "data": {
      "text/html": [
       "<table>\n",
       "<tbody>\n",
       "\t<tr><th scope=row>output</th><td>Measure</td><td>Step   </td><td>Ridge  </td><td>Lasso  </td><td>Naive  </td></tr>\n",
       "\t<tr><th scope=row></th><td>Mean               </td><td>0.00973973233114182</td><td>0.00993847942863735</td><td>0.00879014714510877</td><td>0.0100501642339257 </td></tr>\n",
       "\t<tr><th scope=row></th><td>Variance            </td><td>0.000101960582260975</td><td>0.000105829489802691</td><td>6.56562291649881e-05</td><td>6.52500762728929e-05</td></tr>\n",
       "</tbody>\n",
       "</table>\n"
      ],
      "text/latex": [
       "\\begin{tabular}{r|lllll}\n",
       "\toutput & Measure & Step    & Ridge   & Lasso   & Naive  \\\\\n",
       "\t & Mean                & 0.00973973233114182 & 0.00993847942863735 & 0.00879014714510877 & 0.0100501642339257 \\\\\n",
       "\t & Variance             & 0.000101960582260975 & 0.000105829489802691 & 6.56562291649881e-05 & 6.52500762728929e-05\\\\\n",
       "\\end{tabular}\n"
      ],
      "text/markdown": [
       "1. 'Measure'\n",
       "2. 'Mean'\n",
       "3. 'Variance'\n",
       "4. 'Step'\n",
       "5. '0.00973973233114182'\n",
       "6. '0.000101960582260975'\n",
       "7. 'Ridge'\n",
       "8. '0.00993847942863735'\n",
       "9. '0.000105829489802691'\n",
       "10. 'Lasso'\n",
       "11. '0.00879014714510877'\n",
       "12. '6.56562291649881e-05'\n",
       "13. 'Naive'\n",
       "14. '0.0100501642339257'\n",
       "15. '6.52500762728929e-05'\n",
       "\n",
       "\n"
      ],
      "text/plain": [
       "       [,1]       [,2]                   [,3]                  \n",
       "output \"Measure\"  \"Step\"                 \"Ridge\"               \n",
       "       \"Mean\"     \"0.00973973233114182\"  \"0.00993847942863735\" \n",
       "       \"Variance\" \"0.000101960582260975\" \"0.000105829489802691\"\n",
       "       [,4]                   [,5]                  \n",
       "output \"Lasso\"                \"Naive\"               \n",
       "       \"0.00879014714510877\"  \"0.0100501642339257\"  \n",
       "       \"6.56562291649881e-05\" \"6.52500762728929e-05\""
      ]
     },
     "execution_count": 42,
     "metadata": {},
     "output_type": "execute_result"
    },
    {
     "ename": "ERROR",
     "evalue": "Error in s[s > max(lambdas)] = max(lambdas): object 'lasso_lambda' not found\n",
     "output_type": "error",
     "traceback": [
      "Error in s[s > max(lambdas)] = max(lambdas): object 'lasso_lambda' not found\n"
     ]
    }
   ],
   "source": [
    "test_lin_models('canada',100)\n",
    "test_lin_models('europe',100)\n",
    "test_lin_models('mexico',100)\n",
    "test_lin_models('japan',100)\n",
    "test_lin_models('korea',100)"
   ]
  },
  {
   "cell_type": "code",
   "execution_count": 41,
   "metadata": {
    "collapsed": true
   },
   "outputs": [],
   "source": [
    "test_lin_models <- function(country, B){\n",
    "    \n",
    "        ex_rates <- read.csv('topfive.csv')\n",
    "        ex_rates <- subset(ex_rates, ex_rate$Country.y==country)\n",
    "    \n",
    "        full <- subset(ex_rates, select = c(Pct_Chg, Exchange, X1Y_Yield_d, \n",
    "                      X1Y_Yield_f, Int_d, Int_f,  Infl_d, Infl_f, GDPG_d,\n",
    "                      GDPG_f, BOT_f, BOT_d, FER_f))\n",
    "        full <- na.omit(full)\n",
    "        rownames(full) <- 1:nrow(full)\n",
    "        struct <- subset(full, select = c(Pct_Chg, Exchange, X1Y_Yield_d, \n",
    "                      X1Y_Yield_f, Int_d, Int_f,  Infl_d, Infl_f))\n",
    "\n",
    "        # Split into training and testing sets\n",
    "        n <- dim(full)[1]\n",
    "        n1 <- round(n/5)\n",
    "        B <- 100\n",
    "    \n",
    "        # Test Full Model\n",
    "\n",
    "        # Linear Regression -- Full Model\n",
    "        set.seed(19890211)\n",
    "        linreg.TE_list <- vector(length=0)\n",
    "        for(i in 1:B){\n",
    "            start <- sample(1:(n-n1-1),1)\n",
    "            flag <- (start):(start+n1)\n",
    "            train <- full[-flag,]; test <- full[flag,]\n",
    "    \n",
    "            regmodel <- lm(Pct_Chg ~ ., data = train)\n",
    "            linreg.test <- predict.lm(regmodel,test[,-18])\n",
    "            linreg.TE <- mean( (test[,1]-linreg.test)^2)\n",
    "            linreg.TE_list <- c(linreg.TE_list, linreg.TE)\n",
    "    \n",
    "        }    \n",
    "    \n",
    "        # Ridge Regression -- Full Model\n",
    "        set.seed(19890211)\n",
    "        ridge.TE_list <- vector(length=0)\n",
    "        for(i in 1:B){\n",
    "            start <- sample(1:(n-n1-1),1)\n",
    "            flag <- (start):(start+n1)\n",
    "            train <- full[-flag,]; test <- full[flag,]\n",
    "    \n",
    "            ridgereg <- lm.ridge(Pct_Chg ~ ., data = train, \n",
    "                        lambda = seq(0,10,0.001))\n",
    "            lambdaopt <- which.min(ridgereg$GCV)\n",
    "            ridge_coef <- coef(ridgereg)[lambdaopt,]\n",
    "            ridge_testmat <- as.matrix(cbind(1,test[,-1]))\n",
    "            ridge.test <- as.matrix(ridge_testmat %*% ridge_coef)\n",
    "            ridge.TE <- mean( (test[,1] - ridge.test)^2)\n",
    "            ridge.TE_list <- c(ridge.TE_list, ridge.TE)\n",
    "    \n",
    "        }\n",
    "    \n",
    "        # Lasso Regression -- Full Model\n",
    "        set.seed(19890211)\n",
    "        lasso.TE_list <- vector(length=0)\n",
    "        lasso_lambda <- 0\n",
    "        for(i in 1:B){\n",
    "            start <- sample(1:(n-n1-1),1)\n",
    "            flag <- (start):(start+n1)\n",
    "            train <- full[-flag,]; test <- full[flag,]\n",
    "    \n",
    "            lassoreg <- lars( x= as.matrix(train[,-1]),\n",
    "                            y = train[,1], type = 'lasso')\n",
    "            Cp1 <- summary(lassoreg)$Cp\n",
    "            index1 <- which.min(Cp1)\n",
    "            lasso_coef <- coef(lassoreg)[index1,]\n",
    "            if (is.na(lassoreg$lambda[index1])==FALSE){\n",
    "                lasso_lambda <- lassoreg$lambda[index1]\n",
    "            }\n",
    "            lassoreg.fit <- predict(lassoreg, as.matrix(test[,-1]),\n",
    "                                   s = lasso_lambda, type = 'fit',\n",
    "                                   mode = 'lambda')\n",
    "            lassoreg.test <- lassoreg.fit$fit\n",
    "            lassoreg.TE <- mean( (test[,1]-lassoreg.test)^2)\n",
    "            lasso.TE_list <- c(lasso.TE_list, lassoreg.TE)\n",
    "                \n",
    "        }\n",
    "    \n",
    "        # Naive\n",
    "        set.seed(19890211)\n",
    "        naive.TE_list <- vector(length=0)\n",
    "        for(i in 1:B){\n",
    "            start <- sample(1:(n-n1-1),1)\n",
    "            flag <- (start):(start+n1)\n",
    "            train <- full[-flag,]; test <- full[flag,]\n",
    "            naive.TE <- mean ( (test[,1])^2)\n",
    "            naive.TE_list <- c(naive.TE_list,naive.TE)\n",
    "        }\n",
    "    \n",
    "        output <- c('Measure','Step','Ridge','Lasso','Naive')\n",
    "        output <- rbind(output, c('Mean', mean(linreg.TE_list),\n",
    "                             mean(ridge.TE_list),mean(lasso.TE_list),\n",
    "                                  mean(naive.TE_list)))\n",
    "        output <- rbind(output, c('Variance', var(linreg.TE_list),\n",
    "                             var(ridge.TE_list), var(lasso.TE_list),\n",
    "                                  var(naive.TE_list)))\n",
    "    \n",
    "        return(output)\n",
    "}"
   ]
  },
  {
   "cell_type": "code",
   "execution_count": null,
   "metadata": {
    "collapsed": true
   },
   "outputs": [],
   "source": []
  }
 ],
 "metadata": {
  "kernelspec": {
   "display_name": "R",
   "language": "R",
   "name": "ir"
  },
  "language_info": {
   "codemirror_mode": "r",
   "file_extension": ".r",
   "mimetype": "text/x-r-source",
   "name": "R",
   "pygments_lexer": "r",
   "version": "3.2.2"
  }
 },
 "nbformat": 4,
 "nbformat_minor": 0
}
