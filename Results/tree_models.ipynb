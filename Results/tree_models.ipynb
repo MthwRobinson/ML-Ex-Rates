{
 "cells": [
  {
   "cell_type": "code",
   "execution_count": 1,
   "metadata": {
    "collapsed": false
   },
   "outputs": [
    {
     "name": "stderr",
     "output_type": "stream",
     "text": [
      "randomForest 4.6-10\n",
      "Type rfNews() to see new features/changes/bug fixes.\n"
     ]
    },
    {
     "name": "stdout",
     "output_type": "stream",
     "text": [
      "[1] \"canada\"\n"
     ]
    },
    {
     "data": {
      "text/html": [
       "<table>\n",
       "<tbody>\n",
       "\t<tr><th scope=row>output1</th><td>Full       </td><td>Full Tree  </td><td>Full Pruned</td><td>Full Forest</td></tr>\n",
       "\t<tr><th scope=row></th><td>Mean               </td><td>0.00286186754928327</td><td>0.00272616818424158</td><td>0.00371842861805248</td></tr>\n",
       "\t<tr><th scope=row></th><td>Variance            </td><td>9.73573559258191e-06</td><td>1.00597794608522e-05</td><td>2.89904602671658e-05</td></tr>\n",
       "</tbody>\n",
       "</table>\n"
      ],
      "text/latex": [
       "\\begin{tabular}{r|llll}\n",
       "\toutput1 & Full        & Full Tree   & Full Pruned & Full Forest\\\\\n",
       "\t & Mean                & 0.00286186754928327 & 0.00272616818424158 & 0.00371842861805248\\\\\n",
       "\t & Variance             & 9.73573559258191e-06 & 1.00597794608522e-05 & 2.89904602671658e-05\\\\\n",
       "\\end{tabular}\n"
      ],
      "text/markdown": [
       "1. \"Full\"\n",
       "2. \"Mean\"\n",
       "3. \"Variance\"\n",
       "4. \"Full Tree\"\n",
       "5. \"0.00286186754928327\"\n",
       "6. \"9.73573559258191e-06\"\n",
       "7. \"Full Pruned\"\n",
       "8. \"0.00272616818424158\"\n",
       "9. \"1.00597794608522e-05\"\n",
       "10. \"Full Forest\"\n",
       "11. \"0.00371842861805248\"\n",
       "12. \"2.89904602671658e-05\"\n",
       "\n",
       "\n"
      ],
      "text/plain": [
       "        [,1]       [,2]                   [,3]                  \n",
       "output1 \"Full\"     \"Full Tree\"            \"Full Pruned\"         \n",
       "        \"Mean\"     \"0.00286186754928327\"  \"0.00272616818424158\" \n",
       "        \"Variance\" \"9.73573559258191e-06\" \"1.00597794608522e-05\"\n",
       "        [,4]                  \n",
       "output1 \"Full Forest\"         \n",
       "        \"0.00371842861805248\" \n",
       "        \"2.89904602671658e-05\""
      ]
     },
     "execution_count": 1,
     "metadata": {},
     "output_type": "execute_result"
    },
    {
     "name": "stdout",
     "output_type": "stream",
     "text": [
      "[1] \"europe\"\n"
     ]
    },
    {
     "data": {
      "text/html": [
       "<table>\n",
       "<tbody>\n",
       "\t<tr><th scope=row>output1</th><td>Full       </td><td>Full Tree  </td><td>Full Pruned</td><td>Full Forest</td></tr>\n",
       "\t<tr><th scope=row></th><td>Mean               </td><td>0.0141188413996312 </td><td>0.0145516771244521 </td><td>0.00887244130575673</td></tr>\n",
       "\t<tr><th scope=row></th><td>Variance            </td><td>2.14367588826176e-05</td><td>3.0844576614562e-05 </td><td>2.27384581385476e-05</td></tr>\n",
       "</tbody>\n",
       "</table>\n"
      ],
      "text/latex": [
       "\\begin{tabular}{r|llll}\n",
       "\toutput1 & Full        & Full Tree   & Full Pruned & Full Forest\\\\\n",
       "\t & Mean                & 0.0141188413996312  & 0.0145516771244521  & 0.00887244130575673\\\\\n",
       "\t & Variance             & 2.14367588826176e-05 & 3.0844576614562e-05  & 2.27384581385476e-05\\\\\n",
       "\\end{tabular}\n"
      ],
      "text/markdown": [
       "1. \"Full\"\n",
       "2. \"Mean\"\n",
       "3. \"Variance\"\n",
       "4. \"Full Tree\"\n",
       "5. \"0.0141188413996312\"\n",
       "6. \"2.14367588826176e-05\"\n",
       "7. \"Full Pruned\"\n",
       "8. \"0.0145516771244521\"\n",
       "9. \"3.0844576614562e-05\"\n",
       "10. \"Full Forest\"\n",
       "11. \"0.00887244130575673\"\n",
       "12. \"2.27384581385476e-05\"\n",
       "\n",
       "\n"
      ],
      "text/plain": [
       "        [,1]       [,2]                   [,3]                 \n",
       "output1 \"Full\"     \"Full Tree\"            \"Full Pruned\"        \n",
       "        \"Mean\"     \"0.0141188413996312\"   \"0.0145516771244521\" \n",
       "        \"Variance\" \"2.14367588826176e-05\" \"3.0844576614562e-05\"\n",
       "        [,4]                  \n",
       "output1 \"Full Forest\"         \n",
       "        \"0.00887244130575673\" \n",
       "        \"2.27384581385476e-05\""
      ]
     },
     "execution_count": 1,
     "metadata": {},
     "output_type": "execute_result"
    },
    {
     "name": "stdout",
     "output_type": "stream",
     "text": [
      "[1] \"mexico\"\n"
     ]
    },
    {
     "data": {
      "text/html": [
       "<table>\n",
       "<tbody>\n",
       "\t<tr><th scope=row>output1</th><td>Full       </td><td>Full Tree  </td><td>Full Pruned</td><td>Full Forest</td></tr>\n",
       "\t<tr><th scope=row></th><td>Mean               </td><td>0.0077701432084026 </td><td>0.00762001524070815</td><td>0.00513111309502257</td></tr>\n",
       "\t<tr><th scope=row></th><td>Variance            </td><td>6.87165671409264e-05</td><td>7.24558380221787e-05</td><td>2.51513461688025e-05</td></tr>\n",
       "</tbody>\n",
       "</table>\n"
      ],
      "text/latex": [
       "\\begin{tabular}{r|llll}\n",
       "\toutput1 & Full        & Full Tree   & Full Pruned & Full Forest\\\\\n",
       "\t & Mean                & 0.0077701432084026  & 0.00762001524070815 & 0.00513111309502257\\\\\n",
       "\t & Variance             & 6.87165671409264e-05 & 7.24558380221787e-05 & 2.51513461688025e-05\\\\\n",
       "\\end{tabular}\n"
      ],
      "text/markdown": [
       "1. \"Full\"\n",
       "2. \"Mean\"\n",
       "3. \"Variance\"\n",
       "4. \"Full Tree\"\n",
       "5. \"0.0077701432084026\"\n",
       "6. \"6.87165671409264e-05\"\n",
       "7. \"Full Pruned\"\n",
       "8. \"0.00762001524070815\"\n",
       "9. \"7.24558380221787e-05\"\n",
       "10. \"Full Forest\"\n",
       "11. \"0.00513111309502257\"\n",
       "12. \"2.51513461688025e-05\"\n",
       "\n",
       "\n"
      ],
      "text/plain": [
       "        [,1]       [,2]                   [,3]                  \n",
       "output1 \"Full\"     \"Full Tree\"            \"Full Pruned\"         \n",
       "        \"Mean\"     \"0.0077701432084026\"   \"0.00762001524070815\" \n",
       "        \"Variance\" \"6.87165671409264e-05\" \"7.24558380221787e-05\"\n",
       "        [,4]                  \n",
       "output1 \"Full Forest\"         \n",
       "        \"0.00513111309502257\" \n",
       "        \"2.51513461688025e-05\""
      ]
     },
     "execution_count": 1,
     "metadata": {},
     "output_type": "execute_result"
    },
    {
     "name": "stdout",
     "output_type": "stream",
     "text": [
      "[1] \"japan\"\n"
     ]
    },
    {
     "data": {
      "text/html": [
       "<table>\n",
       "<tbody>\n",
       "\t<tr><th scope=row>output1</th><td>Full       </td><td>Full Tree  </td><td>Full Pruned</td><td>Full Forest</td></tr>\n",
       "\t<tr><th scope=row></th><td>Mean              </td><td>0.030954847425092 </td><td>0.0320798515009658</td><td>0.0172915545739086</td></tr>\n",
       "\t<tr><th scope=row></th><td>Variance            </td><td>0.00015674290687077 </td><td>0.000166866566216661</td><td>5.54138475996108e-05</td></tr>\n",
       "</tbody>\n",
       "</table>\n"
      ],
      "text/latex": [
       "\\begin{tabular}{r|llll}\n",
       "\toutput1 & Full        & Full Tree   & Full Pruned & Full Forest\\\\\n",
       "\t & Mean               & 0.030954847425092  & 0.0320798515009658 & 0.0172915545739086\\\\\n",
       "\t & Variance             & 0.00015674290687077  & 0.000166866566216661 & 5.54138475996108e-05\\\\\n",
       "\\end{tabular}\n"
      ],
      "text/markdown": [
       "1. \"Full\"\n",
       "2. \"Mean\"\n",
       "3. \"Variance\"\n",
       "4. \"Full Tree\"\n",
       "5. \"0.030954847425092\"\n",
       "6. \"0.00015674290687077\"\n",
       "7. \"Full Pruned\"\n",
       "8. \"0.0320798515009658\"\n",
       "9. \"0.000166866566216661\"\n",
       "10. \"Full Forest\"\n",
       "11. \"0.0172915545739086\"\n",
       "12. \"5.54138475996108e-05\"\n",
       "\n",
       "\n"
      ],
      "text/plain": [
       "        [,1]       [,2]                  [,3]                  \n",
       "output1 \"Full\"     \"Full Tree\"           \"Full Pruned\"         \n",
       "        \"Mean\"     \"0.030954847425092\"   \"0.0320798515009658\"  \n",
       "        \"Variance\" \"0.00015674290687077\" \"0.000166866566216661\"\n",
       "        [,4]                  \n",
       "output1 \"Full Forest\"         \n",
       "        \"0.0172915545739086\"  \n",
       "        \"5.54138475996108e-05\""
      ]
     },
     "execution_count": 1,
     "metadata": {},
     "output_type": "execute_result"
    },
    {
     "name": "stdout",
     "output_type": "stream",
     "text": [
      "[1] \"korea\"\n"
     ]
    },
    {
     "data": {
      "text/html": [
       "<table>\n",
       "<tbody>\n",
       "\t<tr><th scope=row>output1</th><td>Full       </td><td>Full Tree  </td><td>Full Pruned</td><td>Full Forest</td></tr>\n",
       "\t<tr><th scope=row></th><td>Mean              </td><td>0.0107077822435343</td><td>0.0104522252175932</td><td>0.0115367621337741</td></tr>\n",
       "\t<tr><th scope=row></th><td>Variance            </td><td>8.12971069771746e-05</td><td>8.1545096726855e-05 </td><td>0.000113930868570151</td></tr>\n",
       "</tbody>\n",
       "</table>\n"
      ],
      "text/latex": [
       "\\begin{tabular}{r|llll}\n",
       "\toutput1 & Full        & Full Tree   & Full Pruned & Full Forest\\\\\n",
       "\t & Mean               & 0.0107077822435343 & 0.0104522252175932 & 0.0115367621337741\\\\\n",
       "\t & Variance             & 8.12971069771746e-05 & 8.1545096726855e-05  & 0.000113930868570151\\\\\n",
       "\\end{tabular}\n"
      ],
      "text/markdown": [
       "1. \"Full\"\n",
       "2. \"Mean\"\n",
       "3. \"Variance\"\n",
       "4. \"Full Tree\"\n",
       "5. \"0.0107077822435343\"\n",
       "6. \"8.12971069771746e-05\"\n",
       "7. \"Full Pruned\"\n",
       "8. \"0.0104522252175932\"\n",
       "9. \"8.1545096726855e-05\"\n",
       "10. \"Full Forest\"\n",
       "11. \"0.0115367621337741\"\n",
       "12. \"0.000113930868570151\"\n",
       "\n",
       "\n"
      ],
      "text/plain": [
       "        [,1]       [,2]                   [,3]                 \n",
       "output1 \"Full\"     \"Full Tree\"            \"Full Pruned\"        \n",
       "        \"Mean\"     \"0.0107077822435343\"   \"0.0104522252175932\" \n",
       "        \"Variance\" \"8.12971069771746e-05\" \"8.1545096726855e-05\"\n",
       "        [,4]                  \n",
       "output1 \"Full Forest\"         \n",
       "        \"0.0115367621337741\"  \n",
       "        \"0.000113930868570151\""
      ]
     },
     "execution_count": 1,
     "metadata": {},
     "output_type": "execute_result"
    }
   ],
   "source": [
    "setwd('C:/Users/Eddie/Documents/GitHub/ML-Ex-Rates/Results')\n",
    "library(rpart)\n",
    "library(randomForest)\n",
    "\n",
    "test_full_trees <- function(country, B){\n",
    "    full <- read.csv(paste(country,'_full.csv',sep=''))\n",
    "    full <- full[,-1]\n",
    "    rownames(full) <- 1:nrow(full)\n",
    "    \n",
    "    # Split into testing and training\n",
    "    n <- dim(full)[1]\n",
    "    n1 <- round(n/5)\n",
    "    \n",
    "    # full Tree Models\n",
    "    set.seed(19890211)\n",
    "    fulltree.TE_list <- vector(length=0)\n",
    "    for(i in 1:B){\n",
    "        start <- sample(1:(n-n1-1),1)\n",
    "        flag <- (start+6):(start+n1-6)\n",
    "        train <- full[-flag,]\n",
    "        test <- full[flag,]\n",
    "        \n",
    "        treemodel <- rpart(Pct_Chg ~ ., method=\"anova\",data = train)\n",
    "        fulltree.test <- predict(treemodel,test[,-1])\n",
    "        fulltree.TE <- mean((test[,1]-fulltree.test)^2)\n",
    "        fulltree.TE_list <- c(fulltree.TE_list, fulltree.TE)\n",
    "    }\n",
    "    \n",
    "    # pruned tree models\n",
    "    set.seed(19890211)\n",
    "    fullpruned.TE_list <- vector(length=0)\n",
    "    for(i in 1:B) {\n",
    "        start <- sample(1:(n-n1-1),1)\n",
    "        flag <- (start+6):(start+n1-6)\n",
    "        train <- full[-flag,]\n",
    "        test <- full[flag,]\n",
    "        \n",
    "        treemodel <- rpart(Pct_Chg ~ ., method=\"anova\",data = train)\n",
    "        prunedtree <- prune(treemodel,\n",
    "                    treemodel$cptable[which.min(treemodel$cptable[,'xerror']),\"CP\"])\n",
    "        fullpruned.test <- predict(prunedtree,test[,-1])\n",
    "        fullpruned.TE <- mean((test[,1]-fullpruned.test)^2)\n",
    "        fullpruned.TE_list <- c(fullpruned.TE_list,fullpruned.TE)  \n",
    "    }\n",
    "    \n",
    "    # Full Random Forest\n",
    "    set.seed(19890211)\n",
    "    fullforest.TE_list <- vector(length=0)\n",
    "    for(i in 1:B) {\n",
    "        start <- sample(1:(n-n1-1),1)\n",
    "        flag <- (start+6):(start+n1-6)\n",
    "        train <- full[-flag,]\n",
    "        test <- full[flag,]\n",
    "        \n",
    "        forestmodel <- randomForest(Pct_Chg ~ ., data = train)\n",
    "        fullforest.test <- predict(forestmodel,test[,-1])\n",
    "        fullforest.TE <- mean((test[,1]-fullforest.test)^2)\n",
    "        fullforest.TE_list <- c(fullforest.TE_list, fullforest.TE) \n",
    "        \n",
    "    }\n",
    "\n",
    "output1 <- c('Full','Full Tree','Full Pruned', 'Full Forest')\n",
    "output1 <- rbind(output1,c('Mean',mean(fulltree.TE_list),mean(fullpruned.TE_list),mean(fullforest.TE_list)))\n",
    "output1 <- rbind(output1,c('Variance',var(fulltree.TE_list),var(fullpruned.TE_list),var(fullforest.TE_list)))\n",
    "\n",
    "\n",
    "return(output1)\n",
    "\n",
    "}\n",
    "\n",
    "print('canada')\n",
    "test_full_trees('canada',10)\n",
    "print('europe')\n",
    "test_full_trees('europe',10)\n",
    "print('mexico')\n",
    "test_full_trees('mexico',10)\n",
    "print('japan')\n",
    "test_full_trees('japan',10)\n",
    "print('korea')\n",
    "test_full_trees('korea',10)"
   ]
  },
  {
   "cell_type": "code",
   "execution_count": null,
   "metadata": {
    "collapsed": true
   },
   "outputs": [],
   "source": []
  }
 ],
 "metadata": {
  "kernelspec": {
   "display_name": "R",
   "language": "R",
   "name": "ir"
  },
  "language_info": {
   "codemirror_mode": "r",
   "file_extension": ".r",
   "mimetype": "text/x-r-source",
   "name": "R",
   "pygments_lexer": "r",
   "version": "3.1.3"
  }
 },
 "nbformat": 4,
 "nbformat_minor": 0
}
