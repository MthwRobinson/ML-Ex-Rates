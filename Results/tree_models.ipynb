{
 "cells": [
  {
   "cell_type": "code",
   "execution_count": 2,
   "metadata": {
    "collapsed": false
   },
   "outputs": [
    {
     "name": "stderr",
     "output_type": "stream",
     "text": [
      "randomForest 4.6-10\n",
      "Type rfNews() to see new features/changes/bug fixes.\n",
      "\n",
      "Attaching package: 'dplyr'\n",
      "\n",
      "The following object is masked from 'package:randomForest':\n",
      "\n",
      "    combine\n",
      "\n",
      "The following object is masked from 'package:stats':\n",
      "\n",
      "    filter\n",
      "\n",
      "The following objects are masked from 'package:base':\n",
      "\n",
      "    intersect, setdiff, setequal, union\n",
      "\n"
     ]
    },
    {
     "name": "stdout",
     "output_type": "stream",
     "text": [
      "[1] \"canada\"\n"
     ]
    },
    {
     "data": {
      "text/html": [
       "<table>\n",
       "<tbody>\n",
       "\t<tr><th scope=row>output1</th><td>Full       </td><td>Full Tree  </td><td>Full Pruned</td><td>Full Forest</td></tr>\n",
       "\t<tr><th scope=row></th><td>Mean               </td><td>0.00286186754928327</td><td>0.00272616818424158</td><td>0.00371842861805248</td></tr>\n",
       "\t<tr><th scope=row></th><td>Variance            </td><td>9.73573559258191e-06</td><td>1.00597794608522e-05</td><td>2.89904602671658e-05</td></tr>\n",
       "</tbody>\n",
       "</table>\n"
      ],
      "text/latex": [
       "\\begin{tabular}{r|llll}\n",
       "\toutput1 & Full        & Full Tree   & Full Pruned & Full Forest\\\\\n",
       "\t & Mean                & 0.00286186754928327 & 0.00272616818424158 & 0.00371842861805248\\\\\n",
       "\t & Variance             & 9.73573559258191e-06 & 1.00597794608522e-05 & 2.89904602671658e-05\\\\\n",
       "\\end{tabular}\n"
      ],
      "text/markdown": [
       "1. \"Full\"\n",
       "2. \"Mean\"\n",
       "3. \"Variance\"\n",
       "4. \"Full Tree\"\n",
       "5. \"0.00286186754928327\"\n",
       "6. \"9.73573559258191e-06\"\n",
       "7. \"Full Pruned\"\n",
       "8. \"0.00272616818424158\"\n",
       "9. \"1.00597794608522e-05\"\n",
       "10. \"Full Forest\"\n",
       "11. \"0.00371842861805248\"\n",
       "12. \"2.89904602671658e-05\"\n",
       "\n",
       "\n"
      ],
      "text/plain": [
       "        [,1]       [,2]                   [,3]                  \n",
       "output1 \"Full\"     \"Full Tree\"            \"Full Pruned\"         \n",
       "        \"Mean\"     \"0.00286186754928327\"  \"0.00272616818424158\" \n",
       "        \"Variance\" \"9.73573559258191e-06\" \"1.00597794608522e-05\"\n",
       "        [,4]                  \n",
       "output1 \"Full Forest\"         \n",
       "        \"0.00371842861805248\" \n",
       "        \"2.89904602671658e-05\""
      ]
     },
     "execution_count": 2,
     "metadata": {},
     "output_type": "execute_result"
    },
    {
     "name": "stdout",
     "output_type": "stream",
     "text": [
      "[1] \"europe\"\n"
     ]
    },
    {
     "data": {
      "text/html": [
       "<table>\n",
       "<tbody>\n",
       "\t<tr><th scope=row>output1</th><td>Full       </td><td>Full Tree  </td><td>Full Pruned</td><td>Full Forest</td></tr>\n",
       "\t<tr><th scope=row></th><td>Mean               </td><td>0.0141188413996312 </td><td>0.0145516771244521 </td><td>0.00887244130575673</td></tr>\n",
       "\t<tr><th scope=row></th><td>Variance            </td><td>2.14367588826176e-05</td><td>3.0844576614562e-05 </td><td>2.27384581385476e-05</td></tr>\n",
       "</tbody>\n",
       "</table>\n"
      ],
      "text/latex": [
       "\\begin{tabular}{r|llll}\n",
       "\toutput1 & Full        & Full Tree   & Full Pruned & Full Forest\\\\\n",
       "\t & Mean                & 0.0141188413996312  & 0.0145516771244521  & 0.00887244130575673\\\\\n",
       "\t & Variance             & 2.14367588826176e-05 & 3.0844576614562e-05  & 2.27384581385476e-05\\\\\n",
       "\\end{tabular}\n"
      ],
      "text/markdown": [
       "1. \"Full\"\n",
       "2. \"Mean\"\n",
       "3. \"Variance\"\n",
       "4. \"Full Tree\"\n",
       "5. \"0.0141188413996312\"\n",
       "6. \"2.14367588826176e-05\"\n",
       "7. \"Full Pruned\"\n",
       "8. \"0.0145516771244521\"\n",
       "9. \"3.0844576614562e-05\"\n",
       "10. \"Full Forest\"\n",
       "11. \"0.00887244130575673\"\n",
       "12. \"2.27384581385476e-05\"\n",
       "\n",
       "\n"
      ],
      "text/plain": [
       "        [,1]       [,2]                   [,3]                 \n",
       "output1 \"Full\"     \"Full Tree\"            \"Full Pruned\"        \n",
       "        \"Mean\"     \"0.0141188413996312\"   \"0.0145516771244521\" \n",
       "        \"Variance\" \"2.14367588826176e-05\" \"3.0844576614562e-05\"\n",
       "        [,4]                  \n",
       "output1 \"Full Forest\"         \n",
       "        \"0.00887244130575673\" \n",
       "        \"2.27384581385476e-05\""
      ]
     },
     "execution_count": 2,
     "metadata": {},
     "output_type": "execute_result"
    },
    {
     "name": "stdout",
     "output_type": "stream",
     "text": [
      "[1] \"mexico\"\n"
     ]
    },
    {
     "data": {
      "text/html": [
       "<table>\n",
       "<tbody>\n",
       "\t<tr><th scope=row>output1</th><td>Full       </td><td>Full Tree  </td><td>Full Pruned</td><td>Full Forest</td></tr>\n",
       "\t<tr><th scope=row></th><td>Mean               </td><td>0.0077701432084026 </td><td>0.00762001524070815</td><td>0.00513111309502257</td></tr>\n",
       "\t<tr><th scope=row></th><td>Variance            </td><td>6.87165671409264e-05</td><td>7.24558380221787e-05</td><td>2.51513461688025e-05</td></tr>\n",
       "</tbody>\n",
       "</table>\n"
      ],
      "text/latex": [
       "\\begin{tabular}{r|llll}\n",
       "\toutput1 & Full        & Full Tree   & Full Pruned & Full Forest\\\\\n",
       "\t & Mean                & 0.0077701432084026  & 0.00762001524070815 & 0.00513111309502257\\\\\n",
       "\t & Variance             & 6.87165671409264e-05 & 7.24558380221787e-05 & 2.51513461688025e-05\\\\\n",
       "\\end{tabular}\n"
      ],
      "text/markdown": [
       "1. \"Full\"\n",
       "2. \"Mean\"\n",
       "3. \"Variance\"\n",
       "4. \"Full Tree\"\n",
       "5. \"0.0077701432084026\"\n",
       "6. \"6.87165671409264e-05\"\n",
       "7. \"Full Pruned\"\n",
       "8. \"0.00762001524070815\"\n",
       "9. \"7.24558380221787e-05\"\n",
       "10. \"Full Forest\"\n",
       "11. \"0.00513111309502257\"\n",
       "12. \"2.51513461688025e-05\"\n",
       "\n",
       "\n"
      ],
      "text/plain": [
       "        [,1]       [,2]                   [,3]                  \n",
       "output1 \"Full\"     \"Full Tree\"            \"Full Pruned\"         \n",
       "        \"Mean\"     \"0.0077701432084026\"   \"0.00762001524070815\" \n",
       "        \"Variance\" \"6.87165671409264e-05\" \"7.24558380221787e-05\"\n",
       "        [,4]                  \n",
       "output1 \"Full Forest\"         \n",
       "        \"0.00513111309502257\" \n",
       "        \"2.51513461688025e-05\""
      ]
     },
     "execution_count": 2,
     "metadata": {},
     "output_type": "execute_result"
    },
    {
     "name": "stdout",
     "output_type": "stream",
     "text": [
      "[1] \"japan\"\n"
     ]
    },
    {
     "data": {
      "text/html": [
       "<table>\n",
       "<tbody>\n",
       "\t<tr><th scope=row>output1</th><td>Full       </td><td>Full Tree  </td><td>Full Pruned</td><td>Full Forest</td></tr>\n",
       "\t<tr><th scope=row></th><td>Mean              </td><td>0.030954847425092 </td><td>0.0320798515009658</td><td>0.0172915545739086</td></tr>\n",
       "\t<tr><th scope=row></th><td>Variance            </td><td>0.00015674290687077 </td><td>0.000166866566216661</td><td>5.54138475996108e-05</td></tr>\n",
       "</tbody>\n",
       "</table>\n"
      ],
      "text/latex": [
       "\\begin{tabular}{r|llll}\n",
       "\toutput1 & Full        & Full Tree   & Full Pruned & Full Forest\\\\\n",
       "\t & Mean               & 0.030954847425092  & 0.0320798515009658 & 0.0172915545739086\\\\\n",
       "\t & Variance             & 0.00015674290687077  & 0.000166866566216661 & 5.54138475996108e-05\\\\\n",
       "\\end{tabular}\n"
      ],
      "text/markdown": [
       "1. \"Full\"\n",
       "2. \"Mean\"\n",
       "3. \"Variance\"\n",
       "4. \"Full Tree\"\n",
       "5. \"0.030954847425092\"\n",
       "6. \"0.00015674290687077\"\n",
       "7. \"Full Pruned\"\n",
       "8. \"0.0320798515009658\"\n",
       "9. \"0.000166866566216661\"\n",
       "10. \"Full Forest\"\n",
       "11. \"0.0172915545739086\"\n",
       "12. \"5.54138475996108e-05\"\n",
       "\n",
       "\n"
      ],
      "text/plain": [
       "        [,1]       [,2]                  [,3]                  \n",
       "output1 \"Full\"     \"Full Tree\"           \"Full Pruned\"         \n",
       "        \"Mean\"     \"0.030954847425092\"   \"0.0320798515009658\"  \n",
       "        \"Variance\" \"0.00015674290687077\" \"0.000166866566216661\"\n",
       "        [,4]                  \n",
       "output1 \"Full Forest\"         \n",
       "        \"0.0172915545739086\"  \n",
       "        \"5.54138475996108e-05\""
      ]
     },
     "execution_count": 2,
     "metadata": {},
     "output_type": "execute_result"
    },
    {
     "name": "stdout",
     "output_type": "stream",
     "text": [
      "[1] \"korea\"\n"
     ]
    },
    {
     "data": {
      "text/html": [
       "<table>\n",
       "<tbody>\n",
       "\t<tr><th scope=row>output1</th><td>Full       </td><td>Full Tree  </td><td>Full Pruned</td><td>Full Forest</td></tr>\n",
       "\t<tr><th scope=row></th><td>Mean              </td><td>0.0107077822435343</td><td>0.0104522252175932</td><td>0.0115367621337741</td></tr>\n",
       "\t<tr><th scope=row></th><td>Variance            </td><td>8.12971069771746e-05</td><td>8.1545096726855e-05 </td><td>0.000113930868570151</td></tr>\n",
       "</tbody>\n",
       "</table>\n"
      ],
      "text/latex": [
       "\\begin{tabular}{r|llll}\n",
       "\toutput1 & Full        & Full Tree   & Full Pruned & Full Forest\\\\\n",
       "\t & Mean               & 0.0107077822435343 & 0.0104522252175932 & 0.0115367621337741\\\\\n",
       "\t & Variance             & 8.12971069771746e-05 & 8.1545096726855e-05  & 0.000113930868570151\\\\\n",
       "\\end{tabular}\n"
      ],
      "text/markdown": [
       "1. \"Full\"\n",
       "2. \"Mean\"\n",
       "3. \"Variance\"\n",
       "4. \"Full Tree\"\n",
       "5. \"0.0107077822435343\"\n",
       "6. \"8.12971069771746e-05\"\n",
       "7. \"Full Pruned\"\n",
       "8. \"0.0104522252175932\"\n",
       "9. \"8.1545096726855e-05\"\n",
       "10. \"Full Forest\"\n",
       "11. \"0.0115367621337741\"\n",
       "12. \"0.000113930868570151\"\n",
       "\n",
       "\n"
      ],
      "text/plain": [
       "        [,1]       [,2]                   [,3]                 \n",
       "output1 \"Full\"     \"Full Tree\"            \"Full Pruned\"        \n",
       "        \"Mean\"     \"0.0107077822435343\"   \"0.0104522252175932\" \n",
       "        \"Variance\" \"8.12971069771746e-05\" \"8.1545096726855e-05\"\n",
       "        [,4]                  \n",
       "output1 \"Full Forest\"         \n",
       "        \"0.0115367621337741\"  \n",
       "        \"0.000113930868570151\""
      ]
     },
     "execution_count": 2,
     "metadata": {},
     "output_type": "execute_result"
    }
   ],
   "source": [
    "setwd('C:/Users/Eddie/Documents/GitHub/ML-Ex-Rates/Results')\n",
    "library(rpart)\n",
    "library(randomForest)\n",
    "library(dplyr)\n",
    "\n",
    "test_full_trees <- function(country, B){\n",
    "    full <- read.csv(paste(country,'_full.csv',sep=''))\n",
    "    full <- full[,-1]\n",
    "    rownames(full) <- 1:nrow(full)\n",
    "    \n",
    "    # Split into testing and training\n",
    "    n <- dim(full)[1]\n",
    "    n1 <- round(n/5)\n",
    "    \n",
    "    # full Tree Models\n",
    "    set.seed(19890211)\n",
    "    fulltree.TE_list <- vector(length=0)\n",
    "    for(i in 1:B){\n",
    "        start <- sample(1:(n-n1-1),1)\n",
    "        flag <- (start+6):(start+n1-6)\n",
    "        train <- full[-flag,]\n",
    "        test <- full[flag,]\n",
    "        \n",
    "        treemodel <- rpart(Pct_Chg ~ ., method=\"anova\",data = train)\n",
    "        fulltree.test <- predict(treemodel,test[,-1])\n",
    "        fulltree.TE <- mean((test[,1]-fulltree.test)^2)\n",
    "        fulltree.TE_list <- c(fulltree.TE_list, fulltree.TE)\n",
    "    }\n",
    "    \n",
    "    # pruned tree models\n",
    "    set.seed(19890211)\n",
    "    fullpruned.TE_list <- vector(length=0)\n",
    "    for(i in 1:B) {\n",
    "        start <- sample(1:(n-n1-1),1)\n",
    "        flag <- (start+6):(start+n1-6)\n",
    "        train <- full[-flag,]\n",
    "        test <- full[flag,]\n",
    "        \n",
    "        treemodel <- rpart(Pct_Chg ~ ., method=\"anova\",data = train)\n",
    "        prunedtree <- prune(treemodel,\n",
    "                    treemodel$cptable[which.min(treemodel$cptable[,'xerror']),\"CP\"])\n",
    "        fullpruned.test <- predict(prunedtree,test[,-1])\n",
    "        fullpruned.TE <- mean((test[,1]-fullpruned.test)^2)\n",
    "        fullpruned.TE_list <- c(fullpruned.TE_list,fullpruned.TE)  \n",
    "    }\n",
    "    \n",
    "    # Full Random Forest\n",
    "    set.seed(19890211)\n",
    "    fullforest.TE_list <- vector(length=0)\n",
    "    for(i in 1:B) {\n",
    "        start <- sample(1:(n-n1-1),1)\n",
    "        flag <- (start+6):(start+n1-6)\n",
    "        train <- full[-flag,]\n",
    "        test <- full[flag,]\n",
    "        \n",
    "        forestmodel <- randomForest(Pct_Chg ~ ., data = train)\n",
    "        fullforest.test <- predict(forestmodel,test[,-1])\n",
    "        fullforest.TE <- mean((test[,1]-fullforest.test)^2)\n",
    "        fullforest.TE_list <- c(fullforest.TE_list, fullforest.TE) \n",
    "        \n",
    "    }\n",
    "\n",
    "output1 <- c('Full','Full Tree','Full Pruned', 'Full Forest')\n",
    "output1 <- rbind(output1,c('Mean',mean(fulltree.TE_list),mean(fullpruned.TE_list),mean(fullforest.TE_list)))\n",
    "output1 <- rbind(output1,c('Variance',var(fulltree.TE_list),var(fullpruned.TE_list),var(fullforest.TE_list)))\n",
    "\n",
    "\n",
    "return(output1)\n",
    "\n",
    "}\n",
    "\n",
    "print('canada')\n",
    "test_full_trees('canada',10)\n",
    "print('europe')\n",
    "test_full_trees('europe',10)\n",
    "print('mexico')\n",
    "test_full_trees('mexico',10)\n",
    "print('japan')\n",
    "test_full_trees('japan',10)\n",
    "print('korea')\n",
    "test_full_trees('korea',10)"
   ]
  },
  {
   "cell_type": "code",
   "execution_count": 3,
   "metadata": {
    "collapsed": false
   },
   "outputs": [
    {
     "name": "stdout",
     "output_type": "stream",
     "text": [
      "[1] \"canada\"\n"
     ]
    },
    {
     "ename": "ERROR",
     "evalue": "Error in `[.data.frame`(full, var_list): undefined columns selected\n",
     "output_type": "error",
     "traceback": [
      "Error in `[.data.frame`(full, var_list): undefined columns selected\n"
     ]
    },
    {
     "name": "stdout",
     "output_type": "stream",
     "text": [
      "[1] \"europe\"\n"
     ]
    },
    {
     "data": {
      "text/html": [
       "<table>\n",
       "<tbody>\n",
       "\t<tr><th scope=row>output1</th><td>AIC       </td><td>AIC Tree  </td><td>AIC Pruned</td><td>AIC Forest</td></tr>\n",
       "\t<tr><th scope=row></th><td>Mean              </td><td>0.0103816242516105</td><td>0.0104506346548643</td><td>0.0124021010473583</td></tr>\n",
       "\t<tr><th scope=row></th><td>Variance            </td><td>1.99709815212007e-05</td><td>1.91521608093144e-05</td><td>5.31634209224944e-05</td></tr>\n",
       "</tbody>\n",
       "</table>\n"
      ],
      "text/latex": [
       "\\begin{tabular}{r|llll}\n",
       "\toutput1 & AIC        & AIC Tree   & AIC Pruned & AIC Forest\\\\\n",
       "\t & Mean               & 0.0103816242516105 & 0.0104506346548643 & 0.0124021010473583\\\\\n",
       "\t & Variance             & 1.99709815212007e-05 & 1.91521608093144e-05 & 5.31634209224944e-05\\\\\n",
       "\\end{tabular}\n"
      ],
      "text/markdown": [
       "1. \"AIC\"\n",
       "2. \"Mean\"\n",
       "3. \"Variance\"\n",
       "4. \"AIC Tree\"\n",
       "5. \"0.0103816242516105\"\n",
       "6. \"1.99709815212007e-05\"\n",
       "7. \"AIC Pruned\"\n",
       "8. \"0.0104506346548643\"\n",
       "9. \"1.91521608093144e-05\"\n",
       "10. \"AIC Forest\"\n",
       "11. \"0.0124021010473583\"\n",
       "12. \"5.31634209224944e-05\"\n",
       "\n",
       "\n"
      ],
      "text/plain": [
       "        [,1]       [,2]                   [,3]                  \n",
       "output1 \"AIC\"      \"AIC Tree\"             \"AIC Pruned\"          \n",
       "        \"Mean\"     \"0.0103816242516105\"   \"0.0104506346548643\"  \n",
       "        \"Variance\" \"1.99709815212007e-05\" \"1.91521608093144e-05\"\n",
       "        [,4]                  \n",
       "output1 \"AIC Forest\"          \n",
       "        \"0.0124021010473583\"  \n",
       "        \"5.31634209224944e-05\""
      ]
     },
     "execution_count": 3,
     "metadata": {},
     "output_type": "execute_result"
    },
    {
     "name": "stdout",
     "output_type": "stream",
     "text": [
      "[1] \"mexico\"\n"
     ]
    },
    {
     "ename": "ERROR",
     "evalue": "Error in `[.data.frame`(full, var_list): undefined columns selected\n",
     "output_type": "error",
     "traceback": [
      "Error in `[.data.frame`(full, var_list): undefined columns selected\n"
     ]
    },
    {
     "name": "stdout",
     "output_type": "stream",
     "text": [
      "[1] \"japan\"\n"
     ]
    },
    {
     "data": {
      "text/html": [
       "<table>\n",
       "<tbody>\n",
       "\t<tr><th scope=row>output1</th><td>AIC       </td><td>AIC Tree  </td><td>AIC Pruned</td><td>AIC Forest</td></tr>\n",
       "\t<tr><th scope=row></th><td>Mean              </td><td>0.0241485786400307</td><td>0.0242219651472977</td><td>0.0190773710410276</td></tr>\n",
       "\t<tr><th scope=row></th><td>Variance            </td><td>5.39216891991406e-05</td><td>5.15751108636021e-05</td><td>7.23097547629656e-05</td></tr>\n",
       "</tbody>\n",
       "</table>\n"
      ],
      "text/latex": [
       "\\begin{tabular}{r|llll}\n",
       "\toutput1 & AIC        & AIC Tree   & AIC Pruned & AIC Forest\\\\\n",
       "\t & Mean               & 0.0241485786400307 & 0.0242219651472977 & 0.0190773710410276\\\\\n",
       "\t & Variance             & 5.39216891991406e-05 & 5.15751108636021e-05 & 7.23097547629656e-05\\\\\n",
       "\\end{tabular}\n"
      ],
      "text/markdown": [
       "1. \"AIC\"\n",
       "2. \"Mean\"\n",
       "3. \"Variance\"\n",
       "4. \"AIC Tree\"\n",
       "5. \"0.0241485786400307\"\n",
       "6. \"5.39216891991406e-05\"\n",
       "7. \"AIC Pruned\"\n",
       "8. \"0.0242219651472977\"\n",
       "9. \"5.15751108636021e-05\"\n",
       "10. \"AIC Forest\"\n",
       "11. \"0.0190773710410276\"\n",
       "12. \"7.23097547629656e-05\"\n",
       "\n",
       "\n"
      ],
      "text/plain": [
       "        [,1]       [,2]                   [,3]                  \n",
       "output1 \"AIC\"      \"AIC Tree\"             \"AIC Pruned\"          \n",
       "        \"Mean\"     \"0.0241485786400307\"   \"0.0242219651472977\"  \n",
       "        \"Variance\" \"5.39216891991406e-05\" \"5.15751108636021e-05\"\n",
       "        [,4]                  \n",
       "output1 \"AIC Forest\"          \n",
       "        \"0.0190773710410276\"  \n",
       "        \"7.23097547629656e-05\""
      ]
     },
     "execution_count": 3,
     "metadata": {},
     "output_type": "execute_result"
    },
    {
     "name": "stdout",
     "output_type": "stream",
     "text": [
      "[1] \"korea\"\n"
     ]
    },
    {
     "data": {
      "text/html": [
       "<table>\n",
       "<tbody>\n",
       "\t<tr><th scope=row>output1</th><td>AIC       </td><td>AIC Tree  </td><td>AIC Pruned</td><td>AIC Forest</td></tr>\n",
       "\t<tr><th scope=row></th><td>Mean               </td><td>0.00942921702920031</td><td>0.00949326438061241</td><td>0.00720811238193397</td></tr>\n",
       "\t<tr><th scope=row></th><td>Variance            </td><td>0.000125754514990017</td><td>0.000125489555476   </td><td>3.11268213505039e-05</td></tr>\n",
       "</tbody>\n",
       "</table>\n"
      ],
      "text/latex": [
       "\\begin{tabular}{r|llll}\n",
       "\toutput1 & AIC        & AIC Tree   & AIC Pruned & AIC Forest\\\\\n",
       "\t & Mean                & 0.00942921702920031 & 0.00949326438061241 & 0.00720811238193397\\\\\n",
       "\t & Variance             & 0.000125754514990017 & 0.000125489555476    & 3.11268213505039e-05\\\\\n",
       "\\end{tabular}\n"
      ],
      "text/markdown": [
       "1. \"AIC\"\n",
       "2. \"Mean\"\n",
       "3. \"Variance\"\n",
       "4. \"AIC Tree\"\n",
       "5. \"0.00942921702920031\"\n",
       "6. \"0.000125754514990017\"\n",
       "7. \"AIC Pruned\"\n",
       "8. \"0.00949326438061241\"\n",
       "9. \"0.000125489555476\"\n",
       "10. \"AIC Forest\"\n",
       "11. \"0.00720811238193397\"\n",
       "12. \"3.11268213505039e-05\"\n",
       "\n",
       "\n"
      ],
      "text/plain": [
       "        [,1]       [,2]                   [,3]                 \n",
       "output1 \"AIC\"      \"AIC Tree\"             \"AIC Pruned\"         \n",
       "        \"Mean\"     \"0.00942921702920031\"  \"0.00949326438061241\"\n",
       "        \"Variance\" \"0.000125754514990017\" \"0.000125489555476\"  \n",
       "        [,4]                  \n",
       "output1 \"AIC Forest\"          \n",
       "        \"0.00720811238193397\" \n",
       "        \"3.11268213505039e-05\""
      ]
     },
     "execution_count": 3,
     "metadata": {},
     "output_type": "execute_result"
    }
   ],
   "source": [
    "test_aic_trees <- function(country, B){    \n",
    "    full <- read.csv(paste(country,'_full.csv',sep=''))\n",
    "    full <- full[,-1]\n",
    "    rownames(full) <- 1:nrow(full)\n",
    "\n",
    "    #AIC Model\n",
    "    regmodel <- lm(Pct_Chg ~ ., data = full)\n",
    "    min.model = lm(Pct_Chg ~ 1, data = full)\n",
    "    max_model <- formula(regmodel)\n",
    "    linreg_AIC = step(min.model, direction = 'forward',\n",
    "             scope = max_model, trace = FALSE)\n",
    "    vars <- as.character(formula(linreg_AIC))\n",
    "    var_list <- unlist(strsplit(vars[3],' +'))\n",
    "    var_list <- var_list[c(TRUE,FALSE)]\n",
    "    var_list <- c('Pct_Chg',var_list)\n",
    "    aic_vars <- full[var_list]\n",
    "\n",
    "    # Split into testing and training\n",
    "    n <- dim(full)[1]\n",
    "    n1 <- round(n/5)\n",
    "\n",
    "    # AIC Tree Models\n",
    "    set.seed(19890211)\n",
    "    AICtree.TE_list <- vector(length=0)\n",
    "    for(i in 1:B){\n",
    "        start <- sample(1:(n-n1-1),1)\n",
    "        flag <- (start+6):(start+n1-6)\n",
    "        train <- aic_vars[-flag,]\n",
    "        test <- aic_vars[flag,]\n",
    "\n",
    "        treemodel <- rpart(Pct_Chg ~ ., method=\"anova\",data = train)\n",
    "        AICtree.test <- predict(treemodel,test[,-1])\n",
    "        AICtree.TE <- mean((test[,1]-AICtree.test)^2)\n",
    "        AICtree.TE_list <- c(AICtree.TE_list, AICtree.TE)\n",
    "    }\n",
    "\n",
    "    # AIC pruned tree models\n",
    "    set.seed(19890211)\n",
    "    AICpruned.TE_list <- vector(length=0)\n",
    "    for(i in 1:B) {\n",
    "        start <- sample(1:(n-n1-1),1)\n",
    "        flag <- (start+6):(start+n1-6)\n",
    "        train <- aic_vars[-flag,]\n",
    "        test <- aic_vars[flag,]\n",
    "\n",
    "        treemodel <- rpart(Pct_Chg ~ ., method=\"anova\",data = train)\n",
    "        prunedtree <- prune(treemodel,\n",
    "                    treemodel$cptable[which.min(treemodel$cptable[,'xerror']),\"CP\"])\n",
    "        AICpruned.test <- predict(prunedtree,test[,-1])\n",
    "        AICpruned.TE <- mean((test[,1]-AICpruned.test)^2)\n",
    "        AICpruned.TE_list <- c(AICpruned.TE_list,AICpruned.TE)  \n",
    "    }\n",
    "\n",
    "    # AIC Random Forest\n",
    "    set.seed(19890211)\n",
    "    AICforest.TE_list <- vector(length=0)\n",
    "    for(i in 1:B) {\n",
    "        start <- sample(1:(n-n1-1),1)\n",
    "        flag <- (start+6):(start+n1-6)\n",
    "        train <- aic_vars[-flag,]\n",
    "        test <- aic_vars[flag,]\n",
    "\n",
    "        forestmodel <- randomForest(Pct_Chg ~ ., data = train)\n",
    "        AICforest.test <- predict(forestmodel,test[,-1])\n",
    "        AICforest.TE <- mean((test[,1]-AICforest.test)^2)\n",
    "        AICforest.TE_list <- c(AICforest.TE_list, AICforest.TE) \n",
    "\n",
    "    }\n",
    "\n",
    "    output1 <- c('AIC','AIC Tree','AIC Pruned', 'AIC Forest')\n",
    "    output1 <- rbind(output1,c('Mean',mean(AICtree.TE_list),mean(AICpruned.TE_list),mean(AICforest.TE_list)))\n",
    "    output1 <- rbind(output1,c('Variance',var(AICtree.TE_list),var(AICpruned.TE_list),var(AICforest.TE_list)))\n",
    "\n",
    "\n",
    "    return(output1)\n",
    "}\n",
    "\n",
    "\n",
    "print('canada')\n",
    "test_aic_trees('canada',10)\n",
    "print('europe')\n",
    "test_aic_trees('europe',10)\n",
    "print('mexico')\n",
    "test_aic_trees('mexico',10)\n",
    "print('japan')\n",
    "test_aic_trees('japan',10)\n",
    "print('korea')\n",
    "test_aic_trees('korea',10)"
   ]
  },
  {
   "cell_type": "code",
   "execution_count": 5,
   "metadata": {
    "collapsed": false
   },
   "outputs": [
    {
     "name": "stdout",
     "output_type": "stream",
     "text": [
      "[1] \"canada\"\n"
     ]
    },
    {
     "data": {
      "text/html": [
       "<table>\n",
       "<tbody>\n",
       "\t<tr><th scope=row>output1</th><td>Full       </td><td>Full Tree  </td><td>Full Pruned</td><td>Full Forest</td></tr>\n",
       "\t<tr><th scope=row></th><td>Mean               </td><td>0.00641176429333256</td><td>0.0065465547044811 </td><td>0.00592102732259112</td></tr>\n",
       "\t<tr><th scope=row></th><td>Variance            </td><td>5.5251285524091e-05 </td><td>5.63924147604228e-05</td><td>5.15281046833127e-05</td></tr>\n",
       "</tbody>\n",
       "</table>\n"
      ],
      "text/latex": [
       "\\begin{tabular}{r|llll}\n",
       "\toutput1 & Full        & Full Tree   & Full Pruned & Full Forest\\\\\n",
       "\t & Mean                & 0.00641176429333256 & 0.0065465547044811  & 0.00592102732259112\\\\\n",
       "\t & Variance             & 5.5251285524091e-05  & 5.63924147604228e-05 & 5.15281046833127e-05\\\\\n",
       "\\end{tabular}\n"
      ],
      "text/markdown": [
       "1. \"Full\"\n",
       "2. \"Mean\"\n",
       "3. \"Variance\"\n",
       "4. \"Full Tree\"\n",
       "5. \"0.00641176429333256\"\n",
       "6. \"5.5251285524091e-05\"\n",
       "7. \"Full Pruned\"\n",
       "8. \"0.0065465547044811\"\n",
       "9. \"5.63924147604228e-05\"\n",
       "10. \"Full Forest\"\n",
       "11. \"0.00592102732259112\"\n",
       "12. \"5.15281046833127e-05\"\n",
       "\n",
       "\n"
      ],
      "text/plain": [
       "        [,1]       [,2]                  [,3]                  \n",
       "output1 \"Full\"     \"Full Tree\"           \"Full Pruned\"         \n",
       "        \"Mean\"     \"0.00641176429333256\" \"0.0065465547044811\"  \n",
       "        \"Variance\" \"5.5251285524091e-05\" \"5.63924147604228e-05\"\n",
       "        [,4]                  \n",
       "output1 \"Full Forest\"         \n",
       "        \"0.00592102732259112\" \n",
       "        \"5.15281046833127e-05\""
      ]
     },
     "execution_count": 5,
     "metadata": {},
     "output_type": "execute_result"
    },
    {
     "name": "stdout",
     "output_type": "stream",
     "text": [
      "[1] \"europe\"\n"
     ]
    },
    {
     "data": {
      "text/html": [
       "<table>\n",
       "<tbody>\n",
       "\t<tr><th scope=row>output1</th><td>Full       </td><td>Full Tree  </td><td>Full Pruned</td><td>Full Forest</td></tr>\n",
       "\t<tr><th scope=row></th><td>Mean              </td><td>0.021517387729752 </td><td>0.0215261055995086</td><td>0.0129708191130335</td></tr>\n",
       "\t<tr><th scope=row></th><td>Variance            </td><td>0.000195337155232761</td><td>0.000181170412091388</td><td>6.2762800379708e-05 </td></tr>\n",
       "</tbody>\n",
       "</table>\n"
      ],
      "text/latex": [
       "\\begin{tabular}{r|llll}\n",
       "\toutput1 & Full        & Full Tree   & Full Pruned & Full Forest\\\\\n",
       "\t & Mean               & 0.021517387729752  & 0.0215261055995086 & 0.0129708191130335\\\\\n",
       "\t & Variance             & 0.000195337155232761 & 0.000181170412091388 & 6.2762800379708e-05 \\\\\n",
       "\\end{tabular}\n"
      ],
      "text/markdown": [
       "1. \"Full\"\n",
       "2. \"Mean\"\n",
       "3. \"Variance\"\n",
       "4. \"Full Tree\"\n",
       "5. \"0.021517387729752\"\n",
       "6. \"0.000195337155232761\"\n",
       "7. \"Full Pruned\"\n",
       "8. \"0.0215261055995086\"\n",
       "9. \"0.000181170412091388\"\n",
       "10. \"Full Forest\"\n",
       "11. \"0.0129708191130335\"\n",
       "12. \"6.2762800379708e-05\"\n",
       "\n",
       "\n"
      ],
      "text/plain": [
       "        [,1]       [,2]                   [,3]                  \n",
       "output1 \"Full\"     \"Full Tree\"            \"Full Pruned\"         \n",
       "        \"Mean\"     \"0.021517387729752\"    \"0.0215261055995086\"  \n",
       "        \"Variance\" \"0.000195337155232761\" \"0.000181170412091388\"\n",
       "        [,4]                 \n",
       "output1 \"Full Forest\"        \n",
       "        \"0.0129708191130335\" \n",
       "        \"6.2762800379708e-05\""
      ]
     },
     "execution_count": 5,
     "metadata": {},
     "output_type": "execute_result"
    },
    {
     "name": "stdout",
     "output_type": "stream",
     "text": [
      "[1] \"mexico\"\n"
     ]
    },
    {
     "data": {
      "text/html": [
       "<table>\n",
       "<tbody>\n",
       "\t<tr><th scope=row>output1</th><td>Full       </td><td>Full Tree  </td><td>Full Pruned</td><td>Full Forest</td></tr>\n",
       "\t<tr><th scope=row></th><td>Mean               </td><td>0.00594388731394514</td><td>0.00578707303641143</td><td>0.00448069327809074</td></tr>\n",
       "\t<tr><th scope=row></th><td>Variance            </td><td>1.64723089097214e-05</td><td>1.40823681559213e-05</td><td>2.2505511379684e-05 </td></tr>\n",
       "</tbody>\n",
       "</table>\n"
      ],
      "text/latex": [
       "\\begin{tabular}{r|llll}\n",
       "\toutput1 & Full        & Full Tree   & Full Pruned & Full Forest\\\\\n",
       "\t & Mean                & 0.00594388731394514 & 0.00578707303641143 & 0.00448069327809074\\\\\n",
       "\t & Variance             & 1.64723089097214e-05 & 1.40823681559213e-05 & 2.2505511379684e-05 \\\\\n",
       "\\end{tabular}\n"
      ],
      "text/markdown": [
       "1. \"Full\"\n",
       "2. \"Mean\"\n",
       "3. \"Variance\"\n",
       "4. \"Full Tree\"\n",
       "5. \"0.00594388731394514\"\n",
       "6. \"1.64723089097214e-05\"\n",
       "7. \"Full Pruned\"\n",
       "8. \"0.00578707303641143\"\n",
       "9. \"1.40823681559213e-05\"\n",
       "10. \"Full Forest\"\n",
       "11. \"0.00448069327809074\"\n",
       "12. \"2.2505511379684e-05\"\n",
       "\n",
       "\n"
      ],
      "text/plain": [
       "        [,1]       [,2]                   [,3]                  \n",
       "output1 \"Full\"     \"Full Tree\"            \"Full Pruned\"         \n",
       "        \"Mean\"     \"0.00594388731394514\"  \"0.00578707303641143\" \n",
       "        \"Variance\" \"1.64723089097214e-05\" \"1.40823681559213e-05\"\n",
       "        [,4]                 \n",
       "output1 \"Full Forest\"        \n",
       "        \"0.00448069327809074\"\n",
       "        \"2.2505511379684e-05\""
      ]
     },
     "execution_count": 5,
     "metadata": {},
     "output_type": "execute_result"
    },
    {
     "name": "stdout",
     "output_type": "stream",
     "text": [
      "[1] \"japan\"\n"
     ]
    },
    {
     "data": {
      "text/html": [
       "<table>\n",
       "<tbody>\n",
       "\t<tr><th scope=row>output1</th><td>Full       </td><td>Full Tree  </td><td>Full Pruned</td><td>Full Forest</td></tr>\n",
       "\t<tr><th scope=row></th><td>Mean              </td><td>0.0305771028683636</td><td>0.0303814468799378</td><td>0.0246513838794793</td></tr>\n",
       "\t<tr><th scope=row></th><td>Variance            </td><td>0.00020026253504266 </td><td>0.000202354448876688</td><td>0.00011347981810077 </td></tr>\n",
       "</tbody>\n",
       "</table>\n"
      ],
      "text/latex": [
       "\\begin{tabular}{r|llll}\n",
       "\toutput1 & Full        & Full Tree   & Full Pruned & Full Forest\\\\\n",
       "\t & Mean               & 0.0305771028683636 & 0.0303814468799378 & 0.0246513838794793\\\\\n",
       "\t & Variance             & 0.00020026253504266  & 0.000202354448876688 & 0.00011347981810077 \\\\\n",
       "\\end{tabular}\n"
      ],
      "text/markdown": [
       "1. \"Full\"\n",
       "2. \"Mean\"\n",
       "3. \"Variance\"\n",
       "4. \"Full Tree\"\n",
       "5. \"0.0305771028683636\"\n",
       "6. \"0.00020026253504266\"\n",
       "7. \"Full Pruned\"\n",
       "8. \"0.0303814468799378\"\n",
       "9. \"0.000202354448876688\"\n",
       "10. \"Full Forest\"\n",
       "11. \"0.0246513838794793\"\n",
       "12. \"0.00011347981810077\"\n",
       "\n",
       "\n"
      ],
      "text/plain": [
       "        [,1]       [,2]                  [,3]                  \n",
       "output1 \"Full\"     \"Full Tree\"           \"Full Pruned\"         \n",
       "        \"Mean\"     \"0.0305771028683636\"  \"0.0303814468799378\"  \n",
       "        \"Variance\" \"0.00020026253504266\" \"0.000202354448876688\"\n",
       "        [,4]                 \n",
       "output1 \"Full Forest\"        \n",
       "        \"0.0246513838794793\" \n",
       "        \"0.00011347981810077\""
      ]
     },
     "execution_count": 5,
     "metadata": {},
     "output_type": "execute_result"
    },
    {
     "name": "stdout",
     "output_type": "stream",
     "text": [
      "[1] \"korea\"\n"
     ]
    },
    {
     "data": {
      "text/html": [
       "<table>\n",
       "<tbody>\n",
       "\t<tr><th scope=row>output1</th><td>Full       </td><td>Full Tree  </td><td>Full Pruned</td><td>Full Forest</td></tr>\n",
       "\t<tr><th scope=row></th><td>Mean               </td><td>0.014704428732304  </td><td>0.0146992590139343 </td><td>0.00948329971078278</td></tr>\n",
       "\t<tr><th scope=row></th><td>Variance            </td><td>9.26038752054188e-05</td><td>9.21961307124316e-05</td><td>0.000108471980005754</td></tr>\n",
       "</tbody>\n",
       "</table>\n"
      ],
      "text/latex": [
       "\\begin{tabular}{r|llll}\n",
       "\toutput1 & Full        & Full Tree   & Full Pruned & Full Forest\\\\\n",
       "\t & Mean                & 0.014704428732304   & 0.0146992590139343  & 0.00948329971078278\\\\\n",
       "\t & Variance             & 9.26038752054188e-05 & 9.21961307124316e-05 & 0.000108471980005754\\\\\n",
       "\\end{tabular}\n"
      ],
      "text/markdown": [
       "1. \"Full\"\n",
       "2. \"Mean\"\n",
       "3. \"Variance\"\n",
       "4. \"Full Tree\"\n",
       "5. \"0.014704428732304\"\n",
       "6. \"9.26038752054188e-05\"\n",
       "7. \"Full Pruned\"\n",
       "8. \"0.0146992590139343\"\n",
       "9. \"9.21961307124316e-05\"\n",
       "10. \"Full Forest\"\n",
       "11. \"0.00948329971078278\"\n",
       "12. \"0.000108471980005754\"\n",
       "\n",
       "\n"
      ],
      "text/plain": [
       "        [,1]       [,2]                   [,3]                  \n",
       "output1 \"Full\"     \"Full Tree\"            \"Full Pruned\"         \n",
       "        \"Mean\"     \"0.014704428732304\"    \"0.0146992590139343\"  \n",
       "        \"Variance\" \"9.26038752054188e-05\" \"9.21961307124316e-05\"\n",
       "        [,4]                  \n",
       "output1 \"Full Forest\"         \n",
       "        \"0.00948329971078278\" \n",
       "        \"0.000108471980005754\""
      ]
     },
     "execution_count": 5,
     "metadata": {},
     "output_type": "execute_result"
    },
    {
     "name": "stdout",
     "output_type": "stream",
     "text": [
      "[1] \"canada\"\n"
     ]
    },
    {
     "data": {
      "text/html": [
       "<table>\n",
       "<tbody>\n",
       "\t<tr><th scope=row>output1</th><td>AIC       </td><td>AIC Tree  </td><td>AIC Pruned</td><td>AIC Forest</td></tr>\n",
       "\t<tr><th scope=row></th><td>Mean               </td><td>0.00558007925988568</td><td>0.00558007925988568</td><td>0.00746676649782603</td></tr>\n",
       "\t<tr><th scope=row></th><td>Variance            </td><td>3.71903116462581e-05</td><td>3.71903116462581e-05</td><td>8.15469707084641e-05</td></tr>\n",
       "</tbody>\n",
       "</table>\n"
      ],
      "text/latex": [
       "\\begin{tabular}{r|llll}\n",
       "\toutput1 & AIC        & AIC Tree   & AIC Pruned & AIC Forest\\\\\n",
       "\t & Mean                & 0.00558007925988568 & 0.00558007925988568 & 0.00746676649782603\\\\\n",
       "\t & Variance             & 3.71903116462581e-05 & 3.71903116462581e-05 & 8.15469707084641e-05\\\\\n",
       "\\end{tabular}\n"
      ],
      "text/markdown": [
       "1. \"AIC\"\n",
       "2. \"Mean\"\n",
       "3. \"Variance\"\n",
       "4. \"AIC Tree\"\n",
       "5. \"0.00558007925988568\"\n",
       "6. \"3.71903116462581e-05\"\n",
       "7. \"AIC Pruned\"\n",
       "8. \"0.00558007925988568\"\n",
       "9. \"3.71903116462581e-05\"\n",
       "10. \"AIC Forest\"\n",
       "11. \"0.00746676649782603\"\n",
       "12. \"8.15469707084641e-05\"\n",
       "\n",
       "\n"
      ],
      "text/plain": [
       "        [,1]       [,2]                   [,3]                  \n",
       "output1 \"AIC\"      \"AIC Tree\"             \"AIC Pruned\"          \n",
       "        \"Mean\"     \"0.00558007925988568\"  \"0.00558007925988568\" \n",
       "        \"Variance\" \"3.71903116462581e-05\" \"3.71903116462581e-05\"\n",
       "        [,4]                  \n",
       "output1 \"AIC Forest\"          \n",
       "        \"0.00746676649782603\" \n",
       "        \"8.15469707084641e-05\""
      ]
     },
     "execution_count": 5,
     "metadata": {},
     "output_type": "execute_result"
    },
    {
     "name": "stdout",
     "output_type": "stream",
     "text": [
      "[1] \"europe\"\n"
     ]
    },
    {
     "data": {
      "text/html": [
       "<table>\n",
       "<tbody>\n",
       "\t<tr><th scope=row>output1</th><td>AIC       </td><td>AIC Tree  </td><td>AIC Pruned</td><td>AIC Forest</td></tr>\n",
       "\t<tr><th scope=row></th><td>Mean              </td><td>0.019706882114691 </td><td>0.0195392897289164</td><td>0.0120787954531309</td></tr>\n",
       "\t<tr><th scope=row></th><td>Variance            </td><td>0.000217553725585682</td><td>0.000199982784910124</td><td>5.09501979621594e-05</td></tr>\n",
       "</tbody>\n",
       "</table>\n"
      ],
      "text/latex": [
       "\\begin{tabular}{r|llll}\n",
       "\toutput1 & AIC        & AIC Tree   & AIC Pruned & AIC Forest\\\\\n",
       "\t & Mean               & 0.019706882114691  & 0.0195392897289164 & 0.0120787954531309\\\\\n",
       "\t & Variance             & 0.000217553725585682 & 0.000199982784910124 & 5.09501979621594e-05\\\\\n",
       "\\end{tabular}\n"
      ],
      "text/markdown": [
       "1. \"AIC\"\n",
       "2. \"Mean\"\n",
       "3. \"Variance\"\n",
       "4. \"AIC Tree\"\n",
       "5. \"0.019706882114691\"\n",
       "6. \"0.000217553725585682\"\n",
       "7. \"AIC Pruned\"\n",
       "8. \"0.0195392897289164\"\n",
       "9. \"0.000199982784910124\"\n",
       "10. \"AIC Forest\"\n",
       "11. \"0.0120787954531309\"\n",
       "12. \"5.09501979621594e-05\"\n",
       "\n",
       "\n"
      ],
      "text/plain": [
       "        [,1]       [,2]                   [,3]                  \n",
       "output1 \"AIC\"      \"AIC Tree\"             \"AIC Pruned\"          \n",
       "        \"Mean\"     \"0.019706882114691\"    \"0.0195392897289164\"  \n",
       "        \"Variance\" \"0.000217553725585682\" \"0.000199982784910124\"\n",
       "        [,4]                  \n",
       "output1 \"AIC Forest\"          \n",
       "        \"0.0120787954531309\"  \n",
       "        \"5.09501979621594e-05\""
      ]
     },
     "execution_count": 5,
     "metadata": {},
     "output_type": "execute_result"
    },
    {
     "name": "stdout",
     "output_type": "stream",
     "text": [
      "[1] \"mexico\"\n"
     ]
    },
    {
     "data": {
      "text/html": [
       "<table>\n",
       "<tbody>\n",
       "\t<tr><th scope=row>output1</th><td>AIC       </td><td>AIC Tree  </td><td>AIC Pruned</td><td>AIC Forest</td></tr>\n",
       "\t<tr><th scope=row></th><td>Mean               </td><td>0.00566359308998456</td><td>0.0055931082863976 </td><td>0.00345560664662473</td></tr>\n",
       "\t<tr><th scope=row></th><td>Variance            </td><td>1.72954007532264e-05</td><td>1.67116080415411e-05</td><td>9.31812349670489e-06</td></tr>\n",
       "</tbody>\n",
       "</table>\n"
      ],
      "text/latex": [
       "\\begin{tabular}{r|llll}\n",
       "\toutput1 & AIC        & AIC Tree   & AIC Pruned & AIC Forest\\\\\n",
       "\t & Mean                & 0.00566359308998456 & 0.0055931082863976  & 0.00345560664662473\\\\\n",
       "\t & Variance             & 1.72954007532264e-05 & 1.67116080415411e-05 & 9.31812349670489e-06\\\\\n",
       "\\end{tabular}\n"
      ],
      "text/markdown": [
       "1. \"AIC\"\n",
       "2. \"Mean\"\n",
       "3. \"Variance\"\n",
       "4. \"AIC Tree\"\n",
       "5. \"0.00566359308998456\"\n",
       "6. \"1.72954007532264e-05\"\n",
       "7. \"AIC Pruned\"\n",
       "8. \"0.0055931082863976\"\n",
       "9. \"1.67116080415411e-05\"\n",
       "10. \"AIC Forest\"\n",
       "11. \"0.00345560664662473\"\n",
       "12. \"9.31812349670489e-06\"\n",
       "\n",
       "\n"
      ],
      "text/plain": [
       "        [,1]       [,2]                   [,3]                  \n",
       "output1 \"AIC\"      \"AIC Tree\"             \"AIC Pruned\"          \n",
       "        \"Mean\"     \"0.00566359308998456\"  \"0.0055931082863976\"  \n",
       "        \"Variance\" \"1.72954007532264e-05\" \"1.67116080415411e-05\"\n",
       "        [,4]                  \n",
       "output1 \"AIC Forest\"          \n",
       "        \"0.00345560664662473\" \n",
       "        \"9.31812349670489e-06\""
      ]
     },
     "execution_count": 5,
     "metadata": {},
     "output_type": "execute_result"
    },
    {
     "name": "stdout",
     "output_type": "stream",
     "text": [
      "[1] \"japan\"\n"
     ]
    },
    {
     "data": {
      "text/html": [
       "<table>\n",
       "<tbody>\n",
       "\t<tr><th scope=row>output1</th><td>AIC       </td><td>AIC Tree  </td><td>AIC Pruned</td><td>AIC Forest</td></tr>\n",
       "\t<tr><th scope=row></th><td>Mean              </td><td>0.033376280576257 </td><td>0.0332824737418788</td><td>0.0236266491650808</td></tr>\n",
       "\t<tr><th scope=row></th><td>Variance            </td><td>0.000252324471835863</td><td>0.000252883012459207</td><td>9.71862810487227e-05</td></tr>\n",
       "</tbody>\n",
       "</table>\n"
      ],
      "text/latex": [
       "\\begin{tabular}{r|llll}\n",
       "\toutput1 & AIC        & AIC Tree   & AIC Pruned & AIC Forest\\\\\n",
       "\t & Mean               & 0.033376280576257  & 0.0332824737418788 & 0.0236266491650808\\\\\n",
       "\t & Variance             & 0.000252324471835863 & 0.000252883012459207 & 9.71862810487227e-05\\\\\n",
       "\\end{tabular}\n"
      ],
      "text/markdown": [
       "1. \"AIC\"\n",
       "2. \"Mean\"\n",
       "3. \"Variance\"\n",
       "4. \"AIC Tree\"\n",
       "5. \"0.033376280576257\"\n",
       "6. \"0.000252324471835863\"\n",
       "7. \"AIC Pruned\"\n",
       "8. \"0.0332824737418788\"\n",
       "9. \"0.000252883012459207\"\n",
       "10. \"AIC Forest\"\n",
       "11. \"0.0236266491650808\"\n",
       "12. \"9.71862810487227e-05\"\n",
       "\n",
       "\n"
      ],
      "text/plain": [
       "        [,1]       [,2]                   [,3]                  \n",
       "output1 \"AIC\"      \"AIC Tree\"             \"AIC Pruned\"          \n",
       "        \"Mean\"     \"0.033376280576257\"    \"0.0332824737418788\"  \n",
       "        \"Variance\" \"0.000252324471835863\" \"0.000252883012459207\"\n",
       "        [,4]                  \n",
       "output1 \"AIC Forest\"          \n",
       "        \"0.0236266491650808\"  \n",
       "        \"9.71862810487227e-05\""
      ]
     },
     "execution_count": 5,
     "metadata": {},
     "output_type": "execute_result"
    },
    {
     "name": "stdout",
     "output_type": "stream",
     "text": [
      "[1] \"korea\"\n"
     ]
    },
    {
     "data": {
      "text/html": [
       "<table>\n",
       "<tbody>\n",
       "\t<tr><th scope=row>output1</th><td>AIC       </td><td>AIC Tree  </td><td>AIC Pruned</td><td>AIC Forest</td></tr>\n",
       "\t<tr><th scope=row></th><td>Mean               </td><td>0.0145229900137072 </td><td>0.0145205879900288 </td><td>0.00856645783845349</td></tr>\n",
       "\t<tr><th scope=row></th><td>Variance            </td><td>9.50705703903392e-05</td><td>9.45136995809354e-05</td><td>9.42903210880554e-05</td></tr>\n",
       "</tbody>\n",
       "</table>\n"
      ],
      "text/latex": [
       "\\begin{tabular}{r|llll}\n",
       "\toutput1 & AIC        & AIC Tree   & AIC Pruned & AIC Forest\\\\\n",
       "\t & Mean                & 0.0145229900137072  & 0.0145205879900288  & 0.00856645783845349\\\\\n",
       "\t & Variance             & 9.50705703903392e-05 & 9.45136995809354e-05 & 9.42903210880554e-05\\\\\n",
       "\\end{tabular}\n"
      ],
      "text/markdown": [
       "1. \"AIC\"\n",
       "2. \"Mean\"\n",
       "3. \"Variance\"\n",
       "4. \"AIC Tree\"\n",
       "5. \"0.0145229900137072\"\n",
       "6. \"9.50705703903392e-05\"\n",
       "7. \"AIC Pruned\"\n",
       "8. \"0.0145205879900288\"\n",
       "9. \"9.45136995809354e-05\"\n",
       "10. \"AIC Forest\"\n",
       "11. \"0.00856645783845349\"\n",
       "12. \"9.42903210880554e-05\"\n",
       "\n",
       "\n"
      ],
      "text/plain": [
       "        [,1]       [,2]                   [,3]                  \n",
       "output1 \"AIC\"      \"AIC Tree\"             \"AIC Pruned\"          \n",
       "        \"Mean\"     \"0.0145229900137072\"   \"0.0145205879900288\"  \n",
       "        \"Variance\" \"9.50705703903392e-05\" \"9.45136995809354e-05\"\n",
       "        [,4]                  \n",
       "output1 \"AIC Forest\"          \n",
       "        \"0.00856645783845349\" \n",
       "        \"9.42903210880554e-05\""
      ]
     },
     "execution_count": 5,
     "metadata": {},
     "output_type": "execute_result"
    }
   ],
   "source": [
    "countries <- c('japan','europe','korea','mexico','canada')\n",
    "for (country in countries){\n",
    "ex_rates <- read.csv('topfive.csv')\n",
    "ex_rates <- subset(ex_rates, ex_rates$Country.y==country)\n",
    "    \n",
    "full <- subset(ex_rates, select = c(Pct_Chg, Exchange, X1Y_Yield_d, \n",
    "                X1Y_Yield_f, Int_d, Int_f,  Infl_d, Infl_f, GDPG_d,\n",
    "                GDPG_f, BOT_f, BOT_d, FER_f))\n",
    "\n",
    "\n",
    "full <- na.omit(full)\n",
    "write.csv(full,file = paste(country,'_full.csv',sep=''))\n",
    "}\n",
    "\n",
    "print('canada')\n",
    "test_full_trees('canada',100)\n",
    "print('europe')\n",
    "test_full_trees('europe',100)\n",
    "print('mexico')\n",
    "test_full_trees('mexico',100)\n",
    "print('japan')\n",
    "test_full_trees('japan',100)\n",
    "print('korea')\n",
    "test_full_trees('korea',100)\n",
    "\n",
    "print('canada')\n",
    "test_aic_trees('canada',100)\n",
    "print('europe')\n",
    "test_aic_trees('europe',100)\n",
    "print('mexico')\n",
    "test_aic_trees('mexico',100)\n",
    "print('japan')\n",
    "test_aic_trees('japan',100)\n",
    "print('korea')\n",
    "test_aic_trees('korea',100)"
   ]
  },
  {
   "cell_type": "code",
   "execution_count": 6,
   "metadata": {
    "collapsed": false
   },
   "outputs": [
    {
     "name": "stdout",
     "output_type": "stream",
     "text": [
      "[1] \"canada\"\n"
     ]
    },
    {
     "data": {
      "text/html": [
       "<table>\n",
       "<tbody>\n",
       "\t<tr><th scope=row>output1</th><td>Full       </td><td>Full Tree  </td><td>Full Pruned</td><td>Full Forest</td></tr>\n",
       "\t<tr><th scope=row></th><td>Mean               </td><td>0.00667886751046769</td><td>0.00667092755628869</td><td>0.00593793699290156</td></tr>\n",
       "\t<tr><th scope=row></th><td>Variance            </td><td>5.37516344168912e-05</td><td>5.34013552251048e-05</td><td>5.00421390854491e-05</td></tr>\n",
       "</tbody>\n",
       "</table>\n"
      ],
      "text/latex": [
       "\\begin{tabular}{r|llll}\n",
       "\toutput1 & Full        & Full Tree   & Full Pruned & Full Forest\\\\\n",
       "\t & Mean                & 0.00667886751046769 & 0.00667092755628869 & 0.00593793699290156\\\\\n",
       "\t & Variance             & 5.37516344168912e-05 & 5.34013552251048e-05 & 5.00421390854491e-05\\\\\n",
       "\\end{tabular}\n"
      ],
      "text/markdown": [
       "1. \"Full\"\n",
       "2. \"Mean\"\n",
       "3. \"Variance\"\n",
       "4. \"Full Tree\"\n",
       "5. \"0.00667886751046769\"\n",
       "6. \"5.37516344168912e-05\"\n",
       "7. \"Full Pruned\"\n",
       "8. \"0.00667092755628869\"\n",
       "9. \"5.34013552251048e-05\"\n",
       "10. \"Full Forest\"\n",
       "11. \"0.00593793699290156\"\n",
       "12. \"5.00421390854491e-05\"\n",
       "\n",
       "\n"
      ],
      "text/plain": [
       "        [,1]       [,2]                   [,3]                  \n",
       "output1 \"Full\"     \"Full Tree\"            \"Full Pruned\"         \n",
       "        \"Mean\"     \"0.00667886751046769\"  \"0.00667092755628869\" \n",
       "        \"Variance\" \"5.37516344168912e-05\" \"5.34013552251048e-05\"\n",
       "        [,4]                  \n",
       "output1 \"Full Forest\"         \n",
       "        \"0.00593793699290156\" \n",
       "        \"5.00421390854491e-05\""
      ]
     },
     "execution_count": 6,
     "metadata": {},
     "output_type": "execute_result"
    },
    {
     "name": "stdout",
     "output_type": "stream",
     "text": [
      "[1] \"europe\"\n"
     ]
    },
    {
     "data": {
      "text/html": [
       "<table>\n",
       "<tbody>\n",
       "\t<tr><th scope=row>output1</th><td>Full       </td><td>Full Tree  </td><td>Full Pruned</td><td>Full Forest</td></tr>\n",
       "\t<tr><th scope=row></th><td>Mean              </td><td>0.0206253139444022</td><td>0.0205606951851182</td><td>0.0136384271967105</td></tr>\n",
       "\t<tr><th scope=row></th><td>Variance            </td><td>0.000167544939892893</td><td>0.000168455265277135</td><td>6.14278105108876e-05</td></tr>\n",
       "</tbody>\n",
       "</table>\n"
      ],
      "text/latex": [
       "\\begin{tabular}{r|llll}\n",
       "\toutput1 & Full        & Full Tree   & Full Pruned & Full Forest\\\\\n",
       "\t & Mean               & 0.0206253139444022 & 0.0205606951851182 & 0.0136384271967105\\\\\n",
       "\t & Variance             & 0.000167544939892893 & 0.000168455265277135 & 6.14278105108876e-05\\\\\n",
       "\\end{tabular}\n"
      ],
      "text/markdown": [
       "1. \"Full\"\n",
       "2. \"Mean\"\n",
       "3. \"Variance\"\n",
       "4. \"Full Tree\"\n",
       "5. \"0.0206253139444022\"\n",
       "6. \"0.000167544939892893\"\n",
       "7. \"Full Pruned\"\n",
       "8. \"0.0205606951851182\"\n",
       "9. \"0.000168455265277135\"\n",
       "10. \"Full Forest\"\n",
       "11. \"0.0136384271967105\"\n",
       "12. \"6.14278105108876e-05\"\n",
       "\n",
       "\n"
      ],
      "text/plain": [
       "        [,1]       [,2]                   [,3]                  \n",
       "output1 \"Full\"     \"Full Tree\"            \"Full Pruned\"         \n",
       "        \"Mean\"     \"0.0206253139444022\"   \"0.0205606951851182\"  \n",
       "        \"Variance\" \"0.000167544939892893\" \"0.000168455265277135\"\n",
       "        [,4]                  \n",
       "output1 \"Full Forest\"         \n",
       "        \"0.0136384271967105\"  \n",
       "        \"6.14278105108876e-05\""
      ]
     },
     "execution_count": 6,
     "metadata": {},
     "output_type": "execute_result"
    },
    {
     "name": "stdout",
     "output_type": "stream",
     "text": [
      "[1] \"mexico\"\n"
     ]
    },
    {
     "data": {
      "text/html": [
       "<table>\n",
       "<tbody>\n",
       "\t<tr><th scope=row>output1</th><td>Full       </td><td>Full Tree  </td><td>Full Pruned</td><td>Full Forest</td></tr>\n",
       "\t<tr><th scope=row></th><td>Mean               </td><td>0.00625607363553695</td><td>0.00598287275360591</td><td>0.00386712816203982</td></tr>\n",
       "\t<tr><th scope=row></th><td>Variance            </td><td>2.14519839409811e-05</td><td>2.04786173204559e-05</td><td>1.39153567291263e-05</td></tr>\n",
       "</tbody>\n",
       "</table>\n"
      ],
      "text/latex": [
       "\\begin{tabular}{r|llll}\n",
       "\toutput1 & Full        & Full Tree   & Full Pruned & Full Forest\\\\\n",
       "\t & Mean                & 0.00625607363553695 & 0.00598287275360591 & 0.00386712816203982\\\\\n",
       "\t & Variance             & 2.14519839409811e-05 & 2.04786173204559e-05 & 1.39153567291263e-05\\\\\n",
       "\\end{tabular}\n"
      ],
      "text/markdown": [
       "1. \"Full\"\n",
       "2. \"Mean\"\n",
       "3. \"Variance\"\n",
       "4. \"Full Tree\"\n",
       "5. \"0.00625607363553695\"\n",
       "6. \"2.14519839409811e-05\"\n",
       "7. \"Full Pruned\"\n",
       "8. \"0.00598287275360591\"\n",
       "9. \"2.04786173204559e-05\"\n",
       "10. \"Full Forest\"\n",
       "11. \"0.00386712816203982\"\n",
       "12. \"1.39153567291263e-05\"\n",
       "\n",
       "\n"
      ],
      "text/plain": [
       "        [,1]       [,2]                   [,3]                  \n",
       "output1 \"Full\"     \"Full Tree\"            \"Full Pruned\"         \n",
       "        \"Mean\"     \"0.00625607363553695\"  \"0.00598287275360591\" \n",
       "        \"Variance\" \"2.14519839409811e-05\" \"2.04786173204559e-05\"\n",
       "        [,4]                  \n",
       "output1 \"Full Forest\"         \n",
       "        \"0.00386712816203982\" \n",
       "        \"1.39153567291263e-05\""
      ]
     },
     "execution_count": 6,
     "metadata": {},
     "output_type": "execute_result"
    },
    {
     "name": "stdout",
     "output_type": "stream",
     "text": [
      "[1] \"japan\"\n"
     ]
    },
    {
     "data": {
      "text/html": [
       "<table>\n",
       "<tbody>\n",
       "\t<tr><th scope=row>output1</th><td>Full       </td><td>Full Tree  </td><td>Full Pruned</td><td>Full Forest</td></tr>\n",
       "\t<tr><th scope=row></th><td>Mean              </td><td>0.0343235037139852</td><td>0.0343602614650828</td><td>0.0216769548587381</td></tr>\n",
       "\t<tr><th scope=row></th><td>Variance            </td><td>0.0003816387840824  </td><td>0.000381806460137255</td><td>8.62770507001568e-05</td></tr>\n",
       "</tbody>\n",
       "</table>\n"
      ],
      "text/latex": [
       "\\begin{tabular}{r|llll}\n",
       "\toutput1 & Full        & Full Tree   & Full Pruned & Full Forest\\\\\n",
       "\t & Mean               & 0.0343235037139852 & 0.0343602614650828 & 0.0216769548587381\\\\\n",
       "\t & Variance             & 0.0003816387840824   & 0.000381806460137255 & 8.62770507001568e-05\\\\\n",
       "\\end{tabular}\n"
      ],
      "text/markdown": [
       "1. \"Full\"\n",
       "2. \"Mean\"\n",
       "3. \"Variance\"\n",
       "4. \"Full Tree\"\n",
       "5. \"0.0343235037139852\"\n",
       "6. \"0.0003816387840824\"\n",
       "7. \"Full Pruned\"\n",
       "8. \"0.0343602614650828\"\n",
       "9. \"0.000381806460137255\"\n",
       "10. \"Full Forest\"\n",
       "11. \"0.0216769548587381\"\n",
       "12. \"8.62770507001568e-05\"\n",
       "\n",
       "\n"
      ],
      "text/plain": [
       "        [,1]       [,2]                 [,3]                  \n",
       "output1 \"Full\"     \"Full Tree\"          \"Full Pruned\"         \n",
       "        \"Mean\"     \"0.0343235037139852\" \"0.0343602614650828\"  \n",
       "        \"Variance\" \"0.0003816387840824\" \"0.000381806460137255\"\n",
       "        [,4]                  \n",
       "output1 \"Full Forest\"         \n",
       "        \"0.0216769548587381\"  \n",
       "        \"8.62770507001568e-05\""
      ]
     },
     "execution_count": 6,
     "metadata": {},
     "output_type": "execute_result"
    },
    {
     "name": "stdout",
     "output_type": "stream",
     "text": [
      "[1] \"korea\"\n"
     ]
    },
    {
     "data": {
      "text/html": [
       "<table>\n",
       "<tbody>\n",
       "\t<tr><th scope=row>output1</th><td>Full       </td><td>Full Tree  </td><td>Full Pruned</td><td>Full Forest</td></tr>\n",
       "\t<tr><th scope=row></th><td>Mean               </td><td>0.0146362499094438 </td><td>0.0146186166833097 </td><td>0.00942774477563622</td></tr>\n",
       "\t<tr><th scope=row></th><td>Variance            </td><td>0.000100375631619332</td><td>0.000100027511711266</td><td>0.000100749326458237</td></tr>\n",
       "</tbody>\n",
       "</table>\n"
      ],
      "text/latex": [
       "\\begin{tabular}{r|llll}\n",
       "\toutput1 & Full        & Full Tree   & Full Pruned & Full Forest\\\\\n",
       "\t & Mean                & 0.0146362499094438  & 0.0146186166833097  & 0.00942774477563622\\\\\n",
       "\t & Variance             & 0.000100375631619332 & 0.000100027511711266 & 0.000100749326458237\\\\\n",
       "\\end{tabular}\n"
      ],
      "text/markdown": [
       "1. \"Full\"\n",
       "2. \"Mean\"\n",
       "3. \"Variance\"\n",
       "4. \"Full Tree\"\n",
       "5. \"0.0146362499094438\"\n",
       "6. \"0.000100375631619332\"\n",
       "7. \"Full Pruned\"\n",
       "8. \"0.0146186166833097\"\n",
       "9. \"0.000100027511711266\"\n",
       "10. \"Full Forest\"\n",
       "11. \"0.00942774477563622\"\n",
       "12. \"0.000100749326458237\"\n",
       "\n",
       "\n"
      ],
      "text/plain": [
       "        [,1]       [,2]                   [,3]                  \n",
       "output1 \"Full\"     \"Full Tree\"            \"Full Pruned\"         \n",
       "        \"Mean\"     \"0.0146362499094438\"   \"0.0146186166833097\"  \n",
       "        \"Variance\" \"0.000100375631619332\" \"0.000100027511711266\"\n",
       "        [,4]                  \n",
       "output1 \"Full Forest\"         \n",
       "        \"0.00942774477563622\" \n",
       "        \"0.000100749326458237\""
      ]
     },
     "execution_count": 6,
     "metadata": {},
     "output_type": "execute_result"
    },
    {
     "name": "stdout",
     "output_type": "stream",
     "text": [
      "[1] \"canada\"\n"
     ]
    },
    {
     "data": {
      "text/html": [
       "<table>\n",
       "<tbody>\n",
       "\t<tr><th scope=row>output1</th><td>AIC       </td><td>AIC Tree  </td><td>AIC Pruned</td><td>AIC Forest</td></tr>\n",
       "\t<tr><th scope=row></th><td>Mean               </td><td>0.00664331220730208</td><td>0.00663195759815923</td><td>0.00507227640354868</td></tr>\n",
       "\t<tr><th scope=row></th><td>Variance            </td><td>5.39191653016944e-05</td><td>5.3305149280659e-05 </td><td>4.44650877259637e-05</td></tr>\n",
       "</tbody>\n",
       "</table>\n"
      ],
      "text/latex": [
       "\\begin{tabular}{r|llll}\n",
       "\toutput1 & AIC        & AIC Tree   & AIC Pruned & AIC Forest\\\\\n",
       "\t & Mean                & 0.00664331220730208 & 0.00663195759815923 & 0.00507227640354868\\\\\n",
       "\t & Variance             & 5.39191653016944e-05 & 5.3305149280659e-05  & 4.44650877259637e-05\\\\\n",
       "\\end{tabular}\n"
      ],
      "text/markdown": [
       "1. \"AIC\"\n",
       "2. \"Mean\"\n",
       "3. \"Variance\"\n",
       "4. \"AIC Tree\"\n",
       "5. \"0.00664331220730208\"\n",
       "6. \"5.39191653016944e-05\"\n",
       "7. \"AIC Pruned\"\n",
       "8. \"0.00663195759815923\"\n",
       "9. \"5.3305149280659e-05\"\n",
       "10. \"AIC Forest\"\n",
       "11. \"0.00507227640354868\"\n",
       "12. \"4.44650877259637e-05\"\n",
       "\n",
       "\n"
      ],
      "text/plain": [
       "        [,1]       [,2]                   [,3]                 \n",
       "output1 \"AIC\"      \"AIC Tree\"             \"AIC Pruned\"         \n",
       "        \"Mean\"     \"0.00664331220730208\"  \"0.00663195759815923\"\n",
       "        \"Variance\" \"5.39191653016944e-05\" \"5.3305149280659e-05\"\n",
       "        [,4]                  \n",
       "output1 \"AIC Forest\"          \n",
       "        \"0.00507227640354868\" \n",
       "        \"4.44650877259637e-05\""
      ]
     },
     "execution_count": 6,
     "metadata": {},
     "output_type": "execute_result"
    },
    {
     "name": "stdout",
     "output_type": "stream",
     "text": [
      "[1] \"europe\"\n"
     ]
    },
    {
     "data": {
      "text/html": [
       "<table>\n",
       "<tbody>\n",
       "\t<tr><th scope=row>output1</th><td>AIC       </td><td>AIC Tree  </td><td>AIC Pruned</td><td>AIC Forest</td></tr>\n",
       "\t<tr><th scope=row></th><td>Mean              </td><td>0.0208650001374509</td><td>0.0206313947090019</td><td>0.0130267407368825</td></tr>\n",
       "\t<tr><th scope=row></th><td>Variance            </td><td>0.000209639656237631</td><td>0.000191729305167676</td><td>7.35594820544872e-05</td></tr>\n",
       "</tbody>\n",
       "</table>\n"
      ],
      "text/latex": [
       "\\begin{tabular}{r|llll}\n",
       "\toutput1 & AIC        & AIC Tree   & AIC Pruned & AIC Forest\\\\\n",
       "\t & Mean               & 0.0208650001374509 & 0.0206313947090019 & 0.0130267407368825\\\\\n",
       "\t & Variance             & 0.000209639656237631 & 0.000191729305167676 & 7.35594820544872e-05\\\\\n",
       "\\end{tabular}\n"
      ],
      "text/markdown": [
       "1. \"AIC\"\n",
       "2. \"Mean\"\n",
       "3. \"Variance\"\n",
       "4. \"AIC Tree\"\n",
       "5. \"0.0208650001374509\"\n",
       "6. \"0.000209639656237631\"\n",
       "7. \"AIC Pruned\"\n",
       "8. \"0.0206313947090019\"\n",
       "9. \"0.000191729305167676\"\n",
       "10. \"AIC Forest\"\n",
       "11. \"0.0130267407368825\"\n",
       "12. \"7.35594820544872e-05\"\n",
       "\n",
       "\n"
      ],
      "text/plain": [
       "        [,1]       [,2]                   [,3]                  \n",
       "output1 \"AIC\"      \"AIC Tree\"             \"AIC Pruned\"          \n",
       "        \"Mean\"     \"0.0208650001374509\"   \"0.0206313947090019\"  \n",
       "        \"Variance\" \"0.000209639656237631\" \"0.000191729305167676\"\n",
       "        [,4]                  \n",
       "output1 \"AIC Forest\"          \n",
       "        \"0.0130267407368825\"  \n",
       "        \"7.35594820544872e-05\""
      ]
     },
     "execution_count": 6,
     "metadata": {},
     "output_type": "execute_result"
    },
    {
     "name": "stdout",
     "output_type": "stream",
     "text": [
      "[1] \"mexico\"\n"
     ]
    },
    {
     "data": {
      "text/html": [
       "<table>\n",
       "<tbody>\n",
       "\t<tr><th scope=row>output1</th><td>AIC       </td><td>AIC Tree  </td><td>AIC Pruned</td><td>AIC Forest</td></tr>\n",
       "\t<tr><th scope=row></th><td>Mean               </td><td>0.00560876917290206</td><td>0.00550172304608404</td><td>0.00460318416430582</td></tr>\n",
       "\t<tr><th scope=row></th><td>Variance            </td><td>2.37480506055359e-05</td><td>2.18911356610622e-05</td><td>2.92508824097789e-05</td></tr>\n",
       "</tbody>\n",
       "</table>\n"
      ],
      "text/latex": [
       "\\begin{tabular}{r|llll}\n",
       "\toutput1 & AIC        & AIC Tree   & AIC Pruned & AIC Forest\\\\\n",
       "\t & Mean                & 0.00560876917290206 & 0.00550172304608404 & 0.00460318416430582\\\\\n",
       "\t & Variance             & 2.37480506055359e-05 & 2.18911356610622e-05 & 2.92508824097789e-05\\\\\n",
       "\\end{tabular}\n"
      ],
      "text/markdown": [
       "1. \"AIC\"\n",
       "2. \"Mean\"\n",
       "3. \"Variance\"\n",
       "4. \"AIC Tree\"\n",
       "5. \"0.00560876917290206\"\n",
       "6. \"2.37480506055359e-05\"\n",
       "7. \"AIC Pruned\"\n",
       "8. \"0.00550172304608404\"\n",
       "9. \"2.18911356610622e-05\"\n",
       "10. \"AIC Forest\"\n",
       "11. \"0.00460318416430582\"\n",
       "12. \"2.92508824097789e-05\"\n",
       "\n",
       "\n"
      ],
      "text/plain": [
       "        [,1]       [,2]                   [,3]                  \n",
       "output1 \"AIC\"      \"AIC Tree\"             \"AIC Pruned\"          \n",
       "        \"Mean\"     \"0.00560876917290206\"  \"0.00550172304608404\" \n",
       "        \"Variance\" \"2.37480506055359e-05\" \"2.18911356610622e-05\"\n",
       "        [,4]                  \n",
       "output1 \"AIC Forest\"          \n",
       "        \"0.00460318416430582\" \n",
       "        \"2.92508824097789e-05\""
      ]
     },
     "execution_count": 6,
     "metadata": {},
     "output_type": "execute_result"
    },
    {
     "name": "stdout",
     "output_type": "stream",
     "text": [
      "[1] \"japan\"\n"
     ]
    },
    {
     "data": {
      "text/html": [
       "<table>\n",
       "<tbody>\n",
       "\t<tr><th scope=row>output1</th><td>AIC       </td><td>AIC Tree  </td><td>AIC Pruned</td><td>AIC Forest</td></tr>\n",
       "\t<tr><th scope=row></th><td>Mean              </td><td>0.0375041033727014</td><td>0.0375621867049354</td><td>0.0241980286282959</td></tr>\n",
       "\t<tr><th scope=row></th><td>Variance            </td><td>0.000410730763302962</td><td>0.000424241350685863</td><td>0.000110603114136601</td></tr>\n",
       "</tbody>\n",
       "</table>\n"
      ],
      "text/latex": [
       "\\begin{tabular}{r|llll}\n",
       "\toutput1 & AIC        & AIC Tree   & AIC Pruned & AIC Forest\\\\\n",
       "\t & Mean               & 0.0375041033727014 & 0.0375621867049354 & 0.0241980286282959\\\\\n",
       "\t & Variance             & 0.000410730763302962 & 0.000424241350685863 & 0.000110603114136601\\\\\n",
       "\\end{tabular}\n"
      ],
      "text/markdown": [
       "1. \"AIC\"\n",
       "2. \"Mean\"\n",
       "3. \"Variance\"\n",
       "4. \"AIC Tree\"\n",
       "5. \"0.0375041033727014\"\n",
       "6. \"0.000410730763302962\"\n",
       "7. \"AIC Pruned\"\n",
       "8. \"0.0375621867049354\"\n",
       "9. \"0.000424241350685863\"\n",
       "10. \"AIC Forest\"\n",
       "11. \"0.0241980286282959\"\n",
       "12. \"0.000110603114136601\"\n",
       "\n",
       "\n"
      ],
      "text/plain": [
       "        [,1]       [,2]                   [,3]                  \n",
       "output1 \"AIC\"      \"AIC Tree\"             \"AIC Pruned\"          \n",
       "        \"Mean\"     \"0.0375041033727014\"   \"0.0375621867049354\"  \n",
       "        \"Variance\" \"0.000410730763302962\" \"0.000424241350685863\"\n",
       "        [,4]                  \n",
       "output1 \"AIC Forest\"          \n",
       "        \"0.0241980286282959\"  \n",
       "        \"0.000110603114136601\""
      ]
     },
     "execution_count": 6,
     "metadata": {},
     "output_type": "execute_result"
    },
    {
     "name": "stdout",
     "output_type": "stream",
     "text": [
      "[1] \"korea\"\n"
     ]
    },
    {
     "data": {
      "text/html": [
       "<table>\n",
       "<tbody>\n",
       "\t<tr><th scope=row>output1</th><td>AIC       </td><td>AIC Tree  </td><td>AIC Pruned</td><td>AIC Forest</td></tr>\n",
       "\t<tr><th scope=row></th><td>Mean               </td><td>0.014100728593341  </td><td>0.0140096080130799 </td><td>0.00718709750764093</td></tr>\n",
       "\t<tr><th scope=row></th><td>Variance            </td><td>9.96637363364853e-05</td><td>9.99473524602808e-05</td><td>6.76180906516778e-05</td></tr>\n",
       "</tbody>\n",
       "</table>\n"
      ],
      "text/latex": [
       "\\begin{tabular}{r|llll}\n",
       "\toutput1 & AIC        & AIC Tree   & AIC Pruned & AIC Forest\\\\\n",
       "\t & Mean                & 0.014100728593341   & 0.0140096080130799  & 0.00718709750764093\\\\\n",
       "\t & Variance             & 9.96637363364853e-05 & 9.99473524602808e-05 & 6.76180906516778e-05\\\\\n",
       "\\end{tabular}\n"
      ],
      "text/markdown": [
       "1. \"AIC\"\n",
       "2. \"Mean\"\n",
       "3. \"Variance\"\n",
       "4. \"AIC Tree\"\n",
       "5. \"0.014100728593341\"\n",
       "6. \"9.96637363364853e-05\"\n",
       "7. \"AIC Pruned\"\n",
       "8. \"0.0140096080130799\"\n",
       "9. \"9.99473524602808e-05\"\n",
       "10. \"AIC Forest\"\n",
       "11. \"0.00718709750764093\"\n",
       "12. \"6.76180906516778e-05\"\n",
       "\n",
       "\n"
      ],
      "text/plain": [
       "        [,1]       [,2]                   [,3]                  \n",
       "output1 \"AIC\"      \"AIC Tree\"             \"AIC Pruned\"          \n",
       "        \"Mean\"     \"0.014100728593341\"    \"0.0140096080130799\"  \n",
       "        \"Variance\" \"9.96637363364853e-05\" \"9.99473524602808e-05\"\n",
       "        [,4]                  \n",
       "output1 \"AIC Forest\"          \n",
       "        \"0.00718709750764093\" \n",
       "        \"6.76180906516778e-05\""
      ]
     },
     "execution_count": 6,
     "metadata": {},
     "output_type": "execute_result"
    }
   ],
   "source": [
    "countries <- c('japan','europe','korea','mexico','canada')\n",
    "for (country in countries){\n",
    "ex_rates <- read.csv('topfive.csv')\n",
    "ex_rates <- subset(ex_rates, ex_rates$Country.y==country)\n",
    "    \n",
    "full <- subset(ex_rates, select = c(Pct_Chg, Exchange, X1Y_Yield_d, \n",
    "                X1Y_Yield_f, Int_d, Int_f,  Infl_d, Infl_f, GDPG_d,\n",
    "                GDPG_f, BOT_f, BOT_d, FER_f))\n",
    "\n",
    "full <- full %>% mutate(lag1.Exchange = lag(Exchange,1)) %>%\n",
    "                mutate(lag1.X1Y_Yield_d = lag(X1Y_Yield_d,1)) %>%\n",
    "                mutate(lag1.X1Y_Yield_f = lag(X1Y_Yield_f,1)) %>%\n",
    "                mutate(lag1.Infl_d = lag(Infl_d,1)) %>%\n",
    "                mutate(lag1.Infl_f = lag(Infl_f,1)) %>%\n",
    "                mutate(lag1.Int_d = lag(Int_d,1)) %>%\n",
    "                mutate(lag1.Int_f = lag(Int_f,1))\n",
    "\n",
    "full <- na.omit(full)\n",
    "write.csv(full,file = paste(country,'_full.csv',sep=''))\n",
    "}\n",
    "print('canada')\n",
    "test_full_trees('canada',100)\n",
    "print('europe')\n",
    "test_full_trees('europe',100)\n",
    "print('mexico')\n",
    "test_full_trees('mexico',100)\n",
    "print('japan')\n",
    "test_full_trees('japan',100)\n",
    "print('korea')\n",
    "test_full_trees('korea',100)\n",
    "\n",
    "print('canada')\n",
    "test_aic_trees('canada',100)\n",
    "print('europe')\n",
    "test_aic_trees('europe',100)\n",
    "print('mexico')\n",
    "test_aic_trees('mexico',100)\n",
    "print('japan')\n",
    "test_aic_trees('japan',100)\n",
    "print('korea')\n",
    "test_aic_trees('korea',100)"
   ]
  },
  {
   "cell_type": "code",
   "execution_count": 8,
   "metadata": {
    "collapsed": false
   },
   "outputs": [
    {
     "name": "stdout",
     "output_type": "stream",
     "text": [
      "[1] \"canada\"\n"
     ]
    },
    {
     "data": {
      "text/html": [
       "<table>\n",
       "<tbody>\n",
       "\t<tr><th scope=row>output1</th><td>Full       </td><td>Full Tree  </td><td>Full Pruned</td><td>Full Forest</td></tr>\n",
       "\t<tr><th scope=row></th><td>Mean               </td><td>0.00633638793798527</td><td>0.00621977331115025</td><td>0.0048794289887415 </td></tr>\n",
       "\t<tr><th scope=row></th><td>Variance            </td><td>4.82808774944263e-05</td><td>4.58837573632282e-05</td><td>3.45100540877489e-05</td></tr>\n",
       "</tbody>\n",
       "</table>\n"
      ],
      "text/latex": [
       "\\begin{tabular}{r|llll}\n",
       "\toutput1 & Full        & Full Tree   & Full Pruned & Full Forest\\\\\n",
       "\t & Mean                & 0.00633638793798527 & 0.00621977331115025 & 0.0048794289887415 \\\\\n",
       "\t & Variance             & 4.82808774944263e-05 & 4.58837573632282e-05 & 3.45100540877489e-05\\\\\n",
       "\\end{tabular}\n"
      ],
      "text/markdown": [
       "1. \"Full\"\n",
       "2. \"Mean\"\n",
       "3. \"Variance\"\n",
       "4. \"Full Tree\"\n",
       "5. \"0.00633638793798527\"\n",
       "6. \"4.82808774944263e-05\"\n",
       "7. \"Full Pruned\"\n",
       "8. \"0.00621977331115025\"\n",
       "9. \"4.58837573632282e-05\"\n",
       "10. \"Full Forest\"\n",
       "11. \"0.0048794289887415\"\n",
       "12. \"3.45100540877489e-05\"\n",
       "\n",
       "\n"
      ],
      "text/plain": [
       "        [,1]       [,2]                   [,3]                  \n",
       "output1 \"Full\"     \"Full Tree\"            \"Full Pruned\"         \n",
       "        \"Mean\"     \"0.00633638793798527\"  \"0.00621977331115025\" \n",
       "        \"Variance\" \"4.82808774944263e-05\" \"4.58837573632282e-05\"\n",
       "        [,4]                  \n",
       "output1 \"Full Forest\"         \n",
       "        \"0.0048794289887415\"  \n",
       "        \"3.45100540877489e-05\""
      ]
     },
     "execution_count": 8,
     "metadata": {},
     "output_type": "execute_result"
    },
    {
     "name": "stdout",
     "output_type": "stream",
     "text": [
      "[1] \"europe\"\n"
     ]
    },
    {
     "data": {
      "text/html": [
       "<table>\n",
       "<tbody>\n",
       "\t<tr><th scope=row>output1</th><td>Full       </td><td>Full Tree  </td><td>Full Pruned</td><td>Full Forest</td></tr>\n",
       "\t<tr><th scope=row></th><td>Mean              </td><td>0.019414823008102 </td><td>0.0198637424860631</td><td>0.0149496372429318</td></tr>\n",
       "\t<tr><th scope=row></th><td>Variance            </td><td>0.000124531053160331</td><td>0.000146740880463341</td><td>7.91779814850825e-05</td></tr>\n",
       "</tbody>\n",
       "</table>\n"
      ],
      "text/latex": [
       "\\begin{tabular}{r|llll}\n",
       "\toutput1 & Full        & Full Tree   & Full Pruned & Full Forest\\\\\n",
       "\t & Mean               & 0.019414823008102  & 0.0198637424860631 & 0.0149496372429318\\\\\n",
       "\t & Variance             & 0.000124531053160331 & 0.000146740880463341 & 7.91779814850825e-05\\\\\n",
       "\\end{tabular}\n"
      ],
      "text/markdown": [
       "1. \"Full\"\n",
       "2. \"Mean\"\n",
       "3. \"Variance\"\n",
       "4. \"Full Tree\"\n",
       "5. \"0.019414823008102\"\n",
       "6. \"0.000124531053160331\"\n",
       "7. \"Full Pruned\"\n",
       "8. \"0.0198637424860631\"\n",
       "9. \"0.000146740880463341\"\n",
       "10. \"Full Forest\"\n",
       "11. \"0.0149496372429318\"\n",
       "12. \"7.91779814850825e-05\"\n",
       "\n",
       "\n"
      ],
      "text/plain": [
       "        [,1]       [,2]                   [,3]                  \n",
       "output1 \"Full\"     \"Full Tree\"            \"Full Pruned\"         \n",
       "        \"Mean\"     \"0.019414823008102\"    \"0.0198637424860631\"  \n",
       "        \"Variance\" \"0.000124531053160331\" \"0.000146740880463341\"\n",
       "        [,4]                  \n",
       "output1 \"Full Forest\"         \n",
       "        \"0.0149496372429318\"  \n",
       "        \"7.91779814850825e-05\""
      ]
     },
     "execution_count": 8,
     "metadata": {},
     "output_type": "execute_result"
    },
    {
     "name": "stdout",
     "output_type": "stream",
     "text": [
      "[1] \"mexico\"\n"
     ]
    },
    {
     "data": {
      "text/html": [
       "<table>\n",
       "<tbody>\n",
       "\t<tr><th scope=row>output1</th><td>Full       </td><td>Full Tree  </td><td>Full Pruned</td><td>Full Forest</td></tr>\n",
       "\t<tr><th scope=row></th><td>Mean               </td><td>0.00712951067124779</td><td>0.006349107171787  </td><td>0.00436222548438125</td></tr>\n",
       "\t<tr><th scope=row></th><td>Variance            </td><td>2.37397959290659e-05</td><td>2.20091365078166e-05</td><td>2.2875298620295e-05 </td></tr>\n",
       "</tbody>\n",
       "</table>\n"
      ],
      "text/latex": [
       "\\begin{tabular}{r|llll}\n",
       "\toutput1 & Full        & Full Tree   & Full Pruned & Full Forest\\\\\n",
       "\t & Mean                & 0.00712951067124779 & 0.006349107171787   & 0.00436222548438125\\\\\n",
       "\t & Variance             & 2.37397959290659e-05 & 2.20091365078166e-05 & 2.2875298620295e-05 \\\\\n",
       "\\end{tabular}\n"
      ],
      "text/markdown": [
       "1. \"Full\"\n",
       "2. \"Mean\"\n",
       "3. \"Variance\"\n",
       "4. \"Full Tree\"\n",
       "5. \"0.00712951067124779\"\n",
       "6. \"2.37397959290659e-05\"\n",
       "7. \"Full Pruned\"\n",
       "8. \"0.006349107171787\"\n",
       "9. \"2.20091365078166e-05\"\n",
       "10. \"Full Forest\"\n",
       "11. \"0.00436222548438125\"\n",
       "12. \"2.2875298620295e-05\"\n",
       "\n",
       "\n"
      ],
      "text/plain": [
       "        [,1]       [,2]                   [,3]                  \n",
       "output1 \"Full\"     \"Full Tree\"            \"Full Pruned\"         \n",
       "        \"Mean\"     \"0.00712951067124779\"  \"0.006349107171787\"   \n",
       "        \"Variance\" \"2.37397959290659e-05\" \"2.20091365078166e-05\"\n",
       "        [,4]                 \n",
       "output1 \"Full Forest\"        \n",
       "        \"0.00436222548438125\"\n",
       "        \"2.2875298620295e-05\""
      ]
     },
     "execution_count": 8,
     "metadata": {},
     "output_type": "execute_result"
    },
    {
     "name": "stdout",
     "output_type": "stream",
     "text": [
      "[1] \"japan\"\n"
     ]
    },
    {
     "data": {
      "text/html": [
       "<table>\n",
       "<tbody>\n",
       "\t<tr><th scope=row>output1</th><td>Full       </td><td>Full Tree  </td><td>Full Pruned</td><td>Full Forest</td></tr>\n",
       "\t<tr><th scope=row></th><td>Mean              </td><td>0.0360778736893072</td><td>0.0359610195626952</td><td>0.0248570789558837</td></tr>\n",
       "\t<tr><th scope=row></th><td>Variance            </td><td>0.000486223230468644</td><td>0.00048827644266565 </td><td>0.000135948374188767</td></tr>\n",
       "</tbody>\n",
       "</table>\n"
      ],
      "text/latex": [
       "\\begin{tabular}{r|llll}\n",
       "\toutput1 & Full        & Full Tree   & Full Pruned & Full Forest\\\\\n",
       "\t & Mean               & 0.0360778736893072 & 0.0359610195626952 & 0.0248570789558837\\\\\n",
       "\t & Variance             & 0.000486223230468644 & 0.00048827644266565  & 0.000135948374188767\\\\\n",
       "\\end{tabular}\n"
      ],
      "text/markdown": [
       "1. \"Full\"\n",
       "2. \"Mean\"\n",
       "3. \"Variance\"\n",
       "4. \"Full Tree\"\n",
       "5. \"0.0360778736893072\"\n",
       "6. \"0.000486223230468644\"\n",
       "7. \"Full Pruned\"\n",
       "8. \"0.0359610195626952\"\n",
       "9. \"0.00048827644266565\"\n",
       "10. \"Full Forest\"\n",
       "11. \"0.0248570789558837\"\n",
       "12. \"0.000135948374188767\"\n",
       "\n",
       "\n"
      ],
      "text/plain": [
       "        [,1]       [,2]                   [,3]                 \n",
       "output1 \"Full\"     \"Full Tree\"            \"Full Pruned\"        \n",
       "        \"Mean\"     \"0.0360778736893072\"   \"0.0359610195626952\" \n",
       "        \"Variance\" \"0.000486223230468644\" \"0.00048827644266565\"\n",
       "        [,4]                  \n",
       "output1 \"Full Forest\"         \n",
       "        \"0.0248570789558837\"  \n",
       "        \"0.000135948374188767\""
      ]
     },
     "execution_count": 8,
     "metadata": {},
     "output_type": "execute_result"
    },
    {
     "name": "stdout",
     "output_type": "stream",
     "text": [
      "[1] \"korea\"\n"
     ]
    },
    {
     "data": {
      "text/html": [
       "<table>\n",
       "<tbody>\n",
       "\t<tr><th scope=row>output1</th><td>Full       </td><td>Full Tree  </td><td>Full Pruned</td><td>Full Forest</td></tr>\n",
       "\t<tr><th scope=row></th><td>Mean               </td><td>0.0150554397299359 </td><td>0.0150853211236856 </td><td>0.00740004299870666</td></tr>\n",
       "\t<tr><th scope=row></th><td>Variance            </td><td>0.000109444547275131</td><td>0.000108182539887836</td><td>6.29569252341419e-05</td></tr>\n",
       "</tbody>\n",
       "</table>\n"
      ],
      "text/latex": [
       "\\begin{tabular}{r|llll}\n",
       "\toutput1 & Full        & Full Tree   & Full Pruned & Full Forest\\\\\n",
       "\t & Mean                & 0.0150554397299359  & 0.0150853211236856  & 0.00740004299870666\\\\\n",
       "\t & Variance             & 0.000109444547275131 & 0.000108182539887836 & 6.29569252341419e-05\\\\\n",
       "\\end{tabular}\n"
      ],
      "text/markdown": [
       "1. \"Full\"\n",
       "2. \"Mean\"\n",
       "3. \"Variance\"\n",
       "4. \"Full Tree\"\n",
       "5. \"0.0150554397299359\"\n",
       "6. \"0.000109444547275131\"\n",
       "7. \"Full Pruned\"\n",
       "8. \"0.0150853211236856\"\n",
       "9. \"0.000108182539887836\"\n",
       "10. \"Full Forest\"\n",
       "11. \"0.00740004299870666\"\n",
       "12. \"6.29569252341419e-05\"\n",
       "\n",
       "\n"
      ],
      "text/plain": [
       "        [,1]       [,2]                   [,3]                  \n",
       "output1 \"Full\"     \"Full Tree\"            \"Full Pruned\"         \n",
       "        \"Mean\"     \"0.0150554397299359\"   \"0.0150853211236856\"  \n",
       "        \"Variance\" \"0.000109444547275131\" \"0.000108182539887836\"\n",
       "        [,4]                  \n",
       "output1 \"Full Forest\"         \n",
       "        \"0.00740004299870666\" \n",
       "        \"6.29569252341419e-05\""
      ]
     },
     "execution_count": 8,
     "metadata": {},
     "output_type": "execute_result"
    },
    {
     "name": "stdout",
     "output_type": "stream",
     "text": [
      "[1] \"canada\"\n"
     ]
    },
    {
     "data": {
      "text/html": [
       "<table>\n",
       "<tbody>\n",
       "\t<tr><th scope=row>output1</th><td>AIC       </td><td>AIC Tree  </td><td>AIC Pruned</td><td>AIC Forest</td></tr>\n",
       "\t<tr><th scope=row></th><td>Mean               </td><td>0.00627294312953143</td><td>0.00619556303082002</td><td>0.00481028323234883</td></tr>\n",
       "\t<tr><th scope=row></th><td>Variance            </td><td>4.80517780049542e-05</td><td>4.68043332163592e-05</td><td>3.5674254033493e-05 </td></tr>\n",
       "</tbody>\n",
       "</table>\n"
      ],
      "text/latex": [
       "\\begin{tabular}{r|llll}\n",
       "\toutput1 & AIC        & AIC Tree   & AIC Pruned & AIC Forest\\\\\n",
       "\t & Mean                & 0.00627294312953143 & 0.00619556303082002 & 0.00481028323234883\\\\\n",
       "\t & Variance             & 4.80517780049542e-05 & 4.68043332163592e-05 & 3.5674254033493e-05 \\\\\n",
       "\\end{tabular}\n"
      ],
      "text/markdown": [
       "1. \"AIC\"\n",
       "2. \"Mean\"\n",
       "3. \"Variance\"\n",
       "4. \"AIC Tree\"\n",
       "5. \"0.00627294312953143\"\n",
       "6. \"4.80517780049542e-05\"\n",
       "7. \"AIC Pruned\"\n",
       "8. \"0.00619556303082002\"\n",
       "9. \"4.68043332163592e-05\"\n",
       "10. \"AIC Forest\"\n",
       "11. \"0.00481028323234883\"\n",
       "12. \"3.5674254033493e-05\"\n",
       "\n",
       "\n"
      ],
      "text/plain": [
       "        [,1]       [,2]                   [,3]                  \n",
       "output1 \"AIC\"      \"AIC Tree\"             \"AIC Pruned\"          \n",
       "        \"Mean\"     \"0.00627294312953143\"  \"0.00619556303082002\" \n",
       "        \"Variance\" \"4.80517780049542e-05\" \"4.68043332163592e-05\"\n",
       "        [,4]                 \n",
       "output1 \"AIC Forest\"         \n",
       "        \"0.00481028323234883\"\n",
       "        \"3.5674254033493e-05\""
      ]
     },
     "execution_count": 8,
     "metadata": {},
     "output_type": "execute_result"
    },
    {
     "name": "stdout",
     "output_type": "stream",
     "text": [
      "[1] \"europe\"\n"
     ]
    },
    {
     "data": {
      "text/html": [
       "<table>\n",
       "<tbody>\n",
       "\t<tr><th scope=row>output1</th><td>AIC       </td><td>AIC Tree  </td><td>AIC Pruned</td><td>AIC Forest</td></tr>\n",
       "\t<tr><th scope=row></th><td>Mean              </td><td>0.0190970975642422</td><td>0.019213022448037 </td><td>0.0126717117906078</td></tr>\n",
       "\t<tr><th scope=row></th><td>Variance            </td><td>0.000163870672136133</td><td>0.000165106260703694</td><td>5.52181486589707e-05</td></tr>\n",
       "</tbody>\n",
       "</table>\n"
      ],
      "text/latex": [
       "\\begin{tabular}{r|llll}\n",
       "\toutput1 & AIC        & AIC Tree   & AIC Pruned & AIC Forest\\\\\n",
       "\t & Mean               & 0.0190970975642422 & 0.019213022448037  & 0.0126717117906078\\\\\n",
       "\t & Variance             & 0.000163870672136133 & 0.000165106260703694 & 5.52181486589707e-05\\\\\n",
       "\\end{tabular}\n"
      ],
      "text/markdown": [
       "1. \"AIC\"\n",
       "2. \"Mean\"\n",
       "3. \"Variance\"\n",
       "4. \"AIC Tree\"\n",
       "5. \"0.0190970975642422\"\n",
       "6. \"0.000163870672136133\"\n",
       "7. \"AIC Pruned\"\n",
       "8. \"0.019213022448037\"\n",
       "9. \"0.000165106260703694\"\n",
       "10. \"AIC Forest\"\n",
       "11. \"0.0126717117906078\"\n",
       "12. \"5.52181486589707e-05\"\n",
       "\n",
       "\n"
      ],
      "text/plain": [
       "        [,1]       [,2]                   [,3]                  \n",
       "output1 \"AIC\"      \"AIC Tree\"             \"AIC Pruned\"          \n",
       "        \"Mean\"     \"0.0190970975642422\"   \"0.019213022448037\"   \n",
       "        \"Variance\" \"0.000163870672136133\" \"0.000165106260703694\"\n",
       "        [,4]                  \n",
       "output1 \"AIC Forest\"          \n",
       "        \"0.0126717117906078\"  \n",
       "        \"5.52181486589707e-05\""
      ]
     },
     "execution_count": 8,
     "metadata": {},
     "output_type": "execute_result"
    },
    {
     "name": "stdout",
     "output_type": "stream",
     "text": [
      "[1] \"mexico\"\n"
     ]
    },
    {
     "data": {
      "text/html": [
       "<table>\n",
       "<tbody>\n",
       "\t<tr><th scope=row>output1</th><td>AIC       </td><td>AIC Tree  </td><td>AIC Pruned</td><td>AIC Forest</td></tr>\n",
       "\t<tr><th scope=row></th><td>Mean               </td><td>0.00675584774646629</td><td>0.00648876151961417</td><td>0.00566365139596594</td></tr>\n",
       "\t<tr><th scope=row></th><td>Variance            </td><td>2.23212403385359e-05</td><td>2.15503427442339e-05</td><td>3.2637064296227e-05 </td></tr>\n",
       "</tbody>\n",
       "</table>\n"
      ],
      "text/latex": [
       "\\begin{tabular}{r|llll}\n",
       "\toutput1 & AIC        & AIC Tree   & AIC Pruned & AIC Forest\\\\\n",
       "\t & Mean                & 0.00675584774646629 & 0.00648876151961417 & 0.00566365139596594\\\\\n",
       "\t & Variance             & 2.23212403385359e-05 & 2.15503427442339e-05 & 3.2637064296227e-05 \\\\\n",
       "\\end{tabular}\n"
      ],
      "text/markdown": [
       "1. \"AIC\"\n",
       "2. \"Mean\"\n",
       "3. \"Variance\"\n",
       "4. \"AIC Tree\"\n",
       "5. \"0.00675584774646629\"\n",
       "6. \"2.23212403385359e-05\"\n",
       "7. \"AIC Pruned\"\n",
       "8. \"0.00648876151961417\"\n",
       "9. \"2.15503427442339e-05\"\n",
       "10. \"AIC Forest\"\n",
       "11. \"0.00566365139596594\"\n",
       "12. \"3.2637064296227e-05\"\n",
       "\n",
       "\n"
      ],
      "text/plain": [
       "        [,1]       [,2]                   [,3]                  \n",
       "output1 \"AIC\"      \"AIC Tree\"             \"AIC Pruned\"          \n",
       "        \"Mean\"     \"0.00675584774646629\"  \"0.00648876151961417\" \n",
       "        \"Variance\" \"2.23212403385359e-05\" \"2.15503427442339e-05\"\n",
       "        [,4]                 \n",
       "output1 \"AIC Forest\"         \n",
       "        \"0.00566365139596594\"\n",
       "        \"3.2637064296227e-05\""
      ]
     },
     "execution_count": 8,
     "metadata": {},
     "output_type": "execute_result"
    },
    {
     "name": "stdout",
     "output_type": "stream",
     "text": [
      "[1] \"japan\"\n"
     ]
    },
    {
     "data": {
      "text/html": [
       "<table>\n",
       "<tbody>\n",
       "\t<tr><th scope=row>output1</th><td>AIC       </td><td>AIC Tree  </td><td>AIC Pruned</td><td>AIC Forest</td></tr>\n",
       "\t<tr><th scope=row></th><td>Mean              </td><td>0.0352526249919635</td><td>0.0353772815439313</td><td>0.0241965965505857</td></tr>\n",
       "\t<tr><th scope=row></th><td>Variance            </td><td>0.000330508942764121</td><td>0.000333081431385631</td><td>0.000123719964564766</td></tr>\n",
       "</tbody>\n",
       "</table>\n"
      ],
      "text/latex": [
       "\\begin{tabular}{r|llll}\n",
       "\toutput1 & AIC        & AIC Tree   & AIC Pruned & AIC Forest\\\\\n",
       "\t & Mean               & 0.0352526249919635 & 0.0353772815439313 & 0.0241965965505857\\\\\n",
       "\t & Variance             & 0.000330508942764121 & 0.000333081431385631 & 0.000123719964564766\\\\\n",
       "\\end{tabular}\n"
      ],
      "text/markdown": [
       "1. \"AIC\"\n",
       "2. \"Mean\"\n",
       "3. \"Variance\"\n",
       "4. \"AIC Tree\"\n",
       "5. \"0.0352526249919635\"\n",
       "6. \"0.000330508942764121\"\n",
       "7. \"AIC Pruned\"\n",
       "8. \"0.0353772815439313\"\n",
       "9. \"0.000333081431385631\"\n",
       "10. \"AIC Forest\"\n",
       "11. \"0.0241965965505857\"\n",
       "12. \"0.000123719964564766\"\n",
       "\n",
       "\n"
      ],
      "text/plain": [
       "        [,1]       [,2]                   [,3]                  \n",
       "output1 \"AIC\"      \"AIC Tree\"             \"AIC Pruned\"          \n",
       "        \"Mean\"     \"0.0352526249919635\"   \"0.0353772815439313\"  \n",
       "        \"Variance\" \"0.000330508942764121\" \"0.000333081431385631\"\n",
       "        [,4]                  \n",
       "output1 \"AIC Forest\"          \n",
       "        \"0.0241965965505857\"  \n",
       "        \"0.000123719964564766\""
      ]
     },
     "execution_count": 8,
     "metadata": {},
     "output_type": "execute_result"
    },
    {
     "name": "stdout",
     "output_type": "stream",
     "text": [
      "[1] \"korea\"\n"
     ]
    },
    {
     "data": {
      "text/html": [
       "<table>\n",
       "<tbody>\n",
       "\t<tr><th scope=row>output1</th><td>AIC       </td><td>AIC Tree  </td><td>AIC Pruned</td><td>AIC Forest</td></tr>\n",
       "\t<tr><th scope=row></th><td>Mean               </td><td>0.0158511860221116 </td><td>0.0158024127430073 </td><td>0.00879375733892992</td></tr>\n",
       "\t<tr><th scope=row></th><td>Variance            </td><td>0.000102645035548097</td><td>0.000104306862244824</td><td>7.89547067188721e-05</td></tr>\n",
       "</tbody>\n",
       "</table>\n"
      ],
      "text/latex": [
       "\\begin{tabular}{r|llll}\n",
       "\toutput1 & AIC        & AIC Tree   & AIC Pruned & AIC Forest\\\\\n",
       "\t & Mean                & 0.0158511860221116  & 0.0158024127430073  & 0.00879375733892992\\\\\n",
       "\t & Variance             & 0.000102645035548097 & 0.000104306862244824 & 7.89547067188721e-05\\\\\n",
       "\\end{tabular}\n"
      ],
      "text/markdown": [
       "1. \"AIC\"\n",
       "2. \"Mean\"\n",
       "3. \"Variance\"\n",
       "4. \"AIC Tree\"\n",
       "5. \"0.0158511860221116\"\n",
       "6. \"0.000102645035548097\"\n",
       "7. \"AIC Pruned\"\n",
       "8. \"0.0158024127430073\"\n",
       "9. \"0.000104306862244824\"\n",
       "10. \"AIC Forest\"\n",
       "11. \"0.00879375733892992\"\n",
       "12. \"7.89547067188721e-05\"\n",
       "\n",
       "\n"
      ],
      "text/plain": [
       "        [,1]       [,2]                   [,3]                  \n",
       "output1 \"AIC\"      \"AIC Tree\"             \"AIC Pruned\"          \n",
       "        \"Mean\"     \"0.0158511860221116\"   \"0.0158024127430073\"  \n",
       "        \"Variance\" \"0.000102645035548097\" \"0.000104306862244824\"\n",
       "        [,4]                  \n",
       "output1 \"AIC Forest\"          \n",
       "        \"0.00879375733892992\" \n",
       "        \"7.89547067188721e-05\""
      ]
     },
     "execution_count": 8,
     "metadata": {},
     "output_type": "execute_result"
    }
   ],
   "source": [
    "countries <- c('japan','europe','korea','mexico','canada')\n",
    "for (country in countries){\n",
    "ex_rates <- read.csv('topfive.csv')\n",
    "ex_rates <- subset(ex_rates, ex_rates$Country.y==country)\n",
    "    \n",
    "full <- subset(ex_rates, select = c(Pct_Chg, Exchange, X1Y_Yield_d, \n",
    "                X1Y_Yield_f, Int_d, Int_f,  Infl_d, Infl_f, GDPG_d,\n",
    "                GDPG_f, BOT_f, BOT_d, FER_f))\n",
    "\n",
    "full <- full %>% mutate(lag1.Exchange = lag(Exchange,1)) %>%\n",
    "                mutate(lag1.X1Y_Yield_d = lag(X1Y_Yield_d,1)) %>%\n",
    "                mutate(lag1.X1Y_Yield_f = lag(X1Y_Yield_f,1)) %>%\n",
    "                mutate(lag1.Infl_d = lag(Infl_d,1)) %>%\n",
    "                mutate(lag1.Infl_f = lag(Infl_f,1)) %>%\n",
    "                mutate(lag1.Int_d = lag(Int_d,1)) %>%\n",
    "                mutate(lag1.Int_f = lag(Int_f,1)) %>%\n",
    "\n",
    "                mutate(lag2.Exchange = lag(Exchange,2)) %>%\n",
    "                mutate(lag2.X1Y_Yield_d = lag(X1Y_Yield_d,2)) %>%\n",
    "                mutate(lag2.X1Y_Yield_f = lag(X1Y_Yield_f,2)) %>%\n",
    "                mutate(lag2.Infl_d = lag(Infl_d,2)) %>%\n",
    "                mutate(lag2.Infl_f = lag(Infl_f,2)) %>%\n",
    "                mutate(lag2.Int_d = lag(Int_d,2)) %>%\n",
    "                mutate(lag2.Int_f = lag(Int_f,2))\n",
    "\n",
    "full <- na.omit(full)\n",
    "write.csv(full,file = paste(country,'_full.csv',sep=''))\n",
    "}\n",
    "\n",
    "print('canada')\n",
    "test_full_trees('canada',100)\n",
    "print('europe')\n",
    "test_full_trees('europe',100)\n",
    "print('mexico')\n",
    "test_full_trees('mexico',100)\n",
    "print('japan')\n",
    "test_full_trees('japan',100)\n",
    "print('korea')\n",
    "test_full_trees('korea',100)\n",
    "\n",
    "print('canada')\n",
    "test_aic_trees('canada',100)\n",
    "print('europe')\n",
    "test_aic_trees('europe',100)\n",
    "print('mexico')\n",
    "test_aic_trees('mexico',100)\n",
    "print('japan')\n",
    "test_aic_trees('japan',100)\n",
    "print('korea')\n",
    "test_aic_trees('korea',100)"
   ]
  },
  {
   "cell_type": "code",
   "execution_count": 9,
   "metadata": {
    "collapsed": false
   },
   "outputs": [
    {
     "name": "stdout",
     "output_type": "stream",
     "text": [
      "[1] \"canada\"\n"
     ]
    },
    {
     "data": {
      "text/html": [
       "<table>\n",
       "<tbody>\n",
       "\t<tr><th scope=row>output1</th><td>Full       </td><td>Full Tree  </td><td>Full Pruned</td><td>Full Forest</td></tr>\n",
       "\t<tr><th scope=row></th><td>Mean               </td><td>0.00680462829068305</td><td>0.00687922575313016</td><td>0.00457214475174723</td></tr>\n",
       "\t<tr><th scope=row></th><td>Variance            </td><td>6.60472535202397e-05</td><td>6.65188037837501e-05</td><td>3.24506608638021e-05</td></tr>\n",
       "</tbody>\n",
       "</table>\n"
      ],
      "text/latex": [
       "\\begin{tabular}{r|llll}\n",
       "\toutput1 & Full        & Full Tree   & Full Pruned & Full Forest\\\\\n",
       "\t & Mean                & 0.00680462829068305 & 0.00687922575313016 & 0.00457214475174723\\\\\n",
       "\t & Variance             & 6.60472535202397e-05 & 6.65188037837501e-05 & 3.24506608638021e-05\\\\\n",
       "\\end{tabular}\n"
      ],
      "text/markdown": [
       "1. \"Full\"\n",
       "2. \"Mean\"\n",
       "3. \"Variance\"\n",
       "4. \"Full Tree\"\n",
       "5. \"0.00680462829068305\"\n",
       "6. \"6.60472535202397e-05\"\n",
       "7. \"Full Pruned\"\n",
       "8. \"0.00687922575313016\"\n",
       "9. \"6.65188037837501e-05\"\n",
       "10. \"Full Forest\"\n",
       "11. \"0.00457214475174723\"\n",
       "12. \"3.24506608638021e-05\"\n",
       "\n",
       "\n"
      ],
      "text/plain": [
       "        [,1]       [,2]                   [,3]                  \n",
       "output1 \"Full\"     \"Full Tree\"            \"Full Pruned\"         \n",
       "        \"Mean\"     \"0.00680462829068305\"  \"0.00687922575313016\" \n",
       "        \"Variance\" \"6.60472535202397e-05\" \"6.65188037837501e-05\"\n",
       "        [,4]                  \n",
       "output1 \"Full Forest\"         \n",
       "        \"0.00457214475174723\" \n",
       "        \"3.24506608638021e-05\""
      ]
     },
     "execution_count": 9,
     "metadata": {},
     "output_type": "execute_result"
    },
    {
     "name": "stdout",
     "output_type": "stream",
     "text": [
      "[1] \"europe\"\n"
     ]
    },
    {
     "data": {
      "text/html": [
       "<table>\n",
       "<tbody>\n",
       "\t<tr><th scope=row>output1</th><td>Full       </td><td>Full Tree  </td><td>Full Pruned</td><td>Full Forest</td></tr>\n",
       "\t<tr><th scope=row></th><td>Mean              </td><td>0.0227619834671656</td><td>0.0227924600210191</td><td>0.0150212541682689</td></tr>\n",
       "\t<tr><th scope=row></th><td>Variance            </td><td>0.000186138166449033</td><td>0.000193379926449185</td><td>8.59728851011119e-05</td></tr>\n",
       "</tbody>\n",
       "</table>\n"
      ],
      "text/latex": [
       "\\begin{tabular}{r|llll}\n",
       "\toutput1 & Full        & Full Tree   & Full Pruned & Full Forest\\\\\n",
       "\t & Mean               & 0.0227619834671656 & 0.0227924600210191 & 0.0150212541682689\\\\\n",
       "\t & Variance             & 0.000186138166449033 & 0.000193379926449185 & 8.59728851011119e-05\\\\\n",
       "\\end{tabular}\n"
      ],
      "text/markdown": [
       "1. \"Full\"\n",
       "2. \"Mean\"\n",
       "3. \"Variance\"\n",
       "4. \"Full Tree\"\n",
       "5. \"0.0227619834671656\"\n",
       "6. \"0.000186138166449033\"\n",
       "7. \"Full Pruned\"\n",
       "8. \"0.0227924600210191\"\n",
       "9. \"0.000193379926449185\"\n",
       "10. \"Full Forest\"\n",
       "11. \"0.0150212541682689\"\n",
       "12. \"8.59728851011119e-05\"\n",
       "\n",
       "\n"
      ],
      "text/plain": [
       "        [,1]       [,2]                   [,3]                  \n",
       "output1 \"Full\"     \"Full Tree\"            \"Full Pruned\"         \n",
       "        \"Mean\"     \"0.0227619834671656\"   \"0.0227924600210191\"  \n",
       "        \"Variance\" \"0.000186138166449033\" \"0.000193379926449185\"\n",
       "        [,4]                  \n",
       "output1 \"Full Forest\"         \n",
       "        \"0.0150212541682689\"  \n",
       "        \"8.59728851011119e-05\""
      ]
     },
     "execution_count": 9,
     "metadata": {},
     "output_type": "execute_result"
    },
    {
     "name": "stdout",
     "output_type": "stream",
     "text": [
      "[1] \"mexico\"\n"
     ]
    },
    {
     "data": {
      "text/html": [
       "<table>\n",
       "<tbody>\n",
       "\t<tr><th scope=row>output1</th><td>Full       </td><td>Full Tree  </td><td>Full Pruned</td><td>Full Forest</td></tr>\n",
       "\t<tr><th scope=row></th><td>Mean               </td><td>0.00761529767218638</td><td>0.00725202038449497</td><td>0.0042362671970574 </td></tr>\n",
       "\t<tr><th scope=row></th><td>Variance            </td><td>2.15930172441032e-05</td><td>2.35584006223383e-05</td><td>2.29807437420018e-05</td></tr>\n",
       "</tbody>\n",
       "</table>\n"
      ],
      "text/latex": [
       "\\begin{tabular}{r|llll}\n",
       "\toutput1 & Full        & Full Tree   & Full Pruned & Full Forest\\\\\n",
       "\t & Mean                & 0.00761529767218638 & 0.00725202038449497 & 0.0042362671970574 \\\\\n",
       "\t & Variance             & 2.15930172441032e-05 & 2.35584006223383e-05 & 2.29807437420018e-05\\\\\n",
       "\\end{tabular}\n"
      ],
      "text/markdown": [
       "1. \"Full\"\n",
       "2. \"Mean\"\n",
       "3. \"Variance\"\n",
       "4. \"Full Tree\"\n",
       "5. \"0.00761529767218638\"\n",
       "6. \"2.15930172441032e-05\"\n",
       "7. \"Full Pruned\"\n",
       "8. \"0.00725202038449497\"\n",
       "9. \"2.35584006223383e-05\"\n",
       "10. \"Full Forest\"\n",
       "11. \"0.0042362671970574\"\n",
       "12. \"2.29807437420018e-05\"\n",
       "\n",
       "\n"
      ],
      "text/plain": [
       "        [,1]       [,2]                   [,3]                  \n",
       "output1 \"Full\"     \"Full Tree\"            \"Full Pruned\"         \n",
       "        \"Mean\"     \"0.00761529767218638\"  \"0.00725202038449497\" \n",
       "        \"Variance\" \"2.15930172441032e-05\" \"2.35584006223383e-05\"\n",
       "        [,4]                  \n",
       "output1 \"Full Forest\"         \n",
       "        \"0.0042362671970574\"  \n",
       "        \"2.29807437420018e-05\""
      ]
     },
     "execution_count": 9,
     "metadata": {},
     "output_type": "execute_result"
    },
    {
     "name": "stdout",
     "output_type": "stream",
     "text": [
      "[1] \"japan\"\n"
     ]
    },
    {
     "data": {
      "text/html": [
       "<table>\n",
       "<tbody>\n",
       "\t<tr><th scope=row>output1</th><td>Full       </td><td>Full Tree  </td><td>Full Pruned</td><td>Full Forest</td></tr>\n",
       "\t<tr><th scope=row></th><td>Mean              </td><td>0.0271469183726131</td><td>0.0269859583786277</td><td>0.0201187979343201</td></tr>\n",
       "\t<tr><th scope=row></th><td>Variance            </td><td>0.000176186426366962</td><td>0.000173958237659692</td><td>7.69943473833957e-05</td></tr>\n",
       "</tbody>\n",
       "</table>\n"
      ],
      "text/latex": [
       "\\begin{tabular}{r|llll}\n",
       "\toutput1 & Full        & Full Tree   & Full Pruned & Full Forest\\\\\n",
       "\t & Mean               & 0.0271469183726131 & 0.0269859583786277 & 0.0201187979343201\\\\\n",
       "\t & Variance             & 0.000176186426366962 & 0.000173958237659692 & 7.69943473833957e-05\\\\\n",
       "\\end{tabular}\n"
      ],
      "text/markdown": [
       "1. \"Full\"\n",
       "2. \"Mean\"\n",
       "3. \"Variance\"\n",
       "4. \"Full Tree\"\n",
       "5. \"0.0271469183726131\"\n",
       "6. \"0.000176186426366962\"\n",
       "7. \"Full Pruned\"\n",
       "8. \"0.0269859583786277\"\n",
       "9. \"0.000173958237659692\"\n",
       "10. \"Full Forest\"\n",
       "11. \"0.0201187979343201\"\n",
       "12. \"7.69943473833957e-05\"\n",
       "\n",
       "\n"
      ],
      "text/plain": [
       "        [,1]       [,2]                   [,3]                  \n",
       "output1 \"Full\"     \"Full Tree\"            \"Full Pruned\"         \n",
       "        \"Mean\"     \"0.0271469183726131\"   \"0.0269859583786277\"  \n",
       "        \"Variance\" \"0.000176186426366962\" \"0.000173958237659692\"\n",
       "        [,4]                  \n",
       "output1 \"Full Forest\"         \n",
       "        \"0.0201187979343201\"  \n",
       "        \"7.69943473833957e-05\""
      ]
     },
     "execution_count": 9,
     "metadata": {},
     "output_type": "execute_result"
    },
    {
     "name": "stdout",
     "output_type": "stream",
     "text": [
      "[1] \"korea\"\n"
     ]
    },
    {
     "data": {
      "text/html": [
       "<table>\n",
       "<tbody>\n",
       "\t<tr><th scope=row>output1</th><td>Full       </td><td>Full Tree  </td><td>Full Pruned</td><td>Full Forest</td></tr>\n",
       "\t<tr><th scope=row></th><td>Mean               </td><td>0.0126474961024147 </td><td>0.0126839409103701 </td><td>0.00884049736995193</td></tr>\n",
       "\t<tr><th scope=row></th><td>Variance            </td><td>9.35597789380846e-05</td><td>9.3474211977837e-05 </td><td>8.61131221564454e-05</td></tr>\n",
       "</tbody>\n",
       "</table>\n"
      ],
      "text/latex": [
       "\\begin{tabular}{r|llll}\n",
       "\toutput1 & Full        & Full Tree   & Full Pruned & Full Forest\\\\\n",
       "\t & Mean                & 0.0126474961024147  & 0.0126839409103701  & 0.00884049736995193\\\\\n",
       "\t & Variance             & 9.35597789380846e-05 & 9.3474211977837e-05  & 8.61131221564454e-05\\\\\n",
       "\\end{tabular}\n"
      ],
      "text/markdown": [
       "1. \"Full\"\n",
       "2. \"Mean\"\n",
       "3. \"Variance\"\n",
       "4. \"Full Tree\"\n",
       "5. \"0.0126474961024147\"\n",
       "6. \"9.35597789380846e-05\"\n",
       "7. \"Full Pruned\"\n",
       "8. \"0.0126839409103701\"\n",
       "9. \"9.3474211977837e-05\"\n",
       "10. \"Full Forest\"\n",
       "11. \"0.00884049736995193\"\n",
       "12. \"8.61131221564454e-05\"\n",
       "\n",
       "\n"
      ],
      "text/plain": [
       "        [,1]       [,2]                   [,3]                 \n",
       "output1 \"Full\"     \"Full Tree\"            \"Full Pruned\"        \n",
       "        \"Mean\"     \"0.0126474961024147\"   \"0.0126839409103701\" \n",
       "        \"Variance\" \"9.35597789380846e-05\" \"9.3474211977837e-05\"\n",
       "        [,4]                  \n",
       "output1 \"Full Forest\"         \n",
       "        \"0.00884049736995193\" \n",
       "        \"8.61131221564454e-05\""
      ]
     },
     "execution_count": 9,
     "metadata": {},
     "output_type": "execute_result"
    },
    {
     "name": "stdout",
     "output_type": "stream",
     "text": [
      "[1] \"canada\"\n"
     ]
    },
    {
     "data": {
      "text/html": [
       "<table>\n",
       "<tbody>\n",
       "\t<tr><th scope=row>output1</th><td>AIC       </td><td>AIC Tree  </td><td>AIC Pruned</td><td>AIC Forest</td></tr>\n",
       "\t<tr><th scope=row></th><td>Mean               </td><td>0.00755913569992696</td><td>0.00745220423134806</td><td>0.00562451767012285</td></tr>\n",
       "\t<tr><th scope=row></th><td>Variance            </td><td>7.28569846419308e-05</td><td>7.12065290814968e-05</td><td>5.15259520479532e-05</td></tr>\n",
       "</tbody>\n",
       "</table>\n"
      ],
      "text/latex": [
       "\\begin{tabular}{r|llll}\n",
       "\toutput1 & AIC        & AIC Tree   & AIC Pruned & AIC Forest\\\\\n",
       "\t & Mean                & 0.00755913569992696 & 0.00745220423134806 & 0.00562451767012285\\\\\n",
       "\t & Variance             & 7.28569846419308e-05 & 7.12065290814968e-05 & 5.15259520479532e-05\\\\\n",
       "\\end{tabular}\n"
      ],
      "text/markdown": [
       "1. \"AIC\"\n",
       "2. \"Mean\"\n",
       "3. \"Variance\"\n",
       "4. \"AIC Tree\"\n",
       "5. \"0.00755913569992696\"\n",
       "6. \"7.28569846419308e-05\"\n",
       "7. \"AIC Pruned\"\n",
       "8. \"0.00745220423134806\"\n",
       "9. \"7.12065290814968e-05\"\n",
       "10. \"AIC Forest\"\n",
       "11. \"0.00562451767012285\"\n",
       "12. \"5.15259520479532e-05\"\n",
       "\n",
       "\n"
      ],
      "text/plain": [
       "        [,1]       [,2]                   [,3]                  \n",
       "output1 \"AIC\"      \"AIC Tree\"             \"AIC Pruned\"          \n",
       "        \"Mean\"     \"0.00755913569992696\"  \"0.00745220423134806\" \n",
       "        \"Variance\" \"7.28569846419308e-05\" \"7.12065290814968e-05\"\n",
       "        [,4]                  \n",
       "output1 \"AIC Forest\"          \n",
       "        \"0.00562451767012285\" \n",
       "        \"5.15259520479532e-05\""
      ]
     },
     "execution_count": 9,
     "metadata": {},
     "output_type": "execute_result"
    },
    {
     "name": "stdout",
     "output_type": "stream",
     "text": [
      "[1] \"europe\"\n"
     ]
    },
    {
     "data": {
      "text/html": [
       "<table>\n",
       "<tbody>\n",
       "\t<tr><th scope=row>output1</th><td>AIC       </td><td>AIC Tree  </td><td>AIC Pruned</td><td>AIC Forest</td></tr>\n",
       "\t<tr><th scope=row></th><td>Mean              </td><td>0.0231580337235506</td><td>0.023220248191459 </td><td>0.014707216356122 </td></tr>\n",
       "\t<tr><th scope=row></th><td>Variance            </td><td>0.00016882199437296 </td><td>0.00018131805611903 </td><td>0.000110588585228883</td></tr>\n",
       "</tbody>\n",
       "</table>\n"
      ],
      "text/latex": [
       "\\begin{tabular}{r|llll}\n",
       "\toutput1 & AIC        & AIC Tree   & AIC Pruned & AIC Forest\\\\\n",
       "\t & Mean               & 0.0231580337235506 & 0.023220248191459  & 0.014707216356122 \\\\\n",
       "\t & Variance             & 0.00016882199437296  & 0.00018131805611903  & 0.000110588585228883\\\\\n",
       "\\end{tabular}\n"
      ],
      "text/markdown": [
       "1. \"AIC\"\n",
       "2. \"Mean\"\n",
       "3. \"Variance\"\n",
       "4. \"AIC Tree\"\n",
       "5. \"0.0231580337235506\"\n",
       "6. \"0.00016882199437296\"\n",
       "7. \"AIC Pruned\"\n",
       "8. \"0.023220248191459\"\n",
       "9. \"0.00018131805611903\"\n",
       "10. \"AIC Forest\"\n",
       "11. \"0.014707216356122\"\n",
       "12. \"0.000110588585228883\"\n",
       "\n",
       "\n"
      ],
      "text/plain": [
       "        [,1]       [,2]                  [,3]                 \n",
       "output1 \"AIC\"      \"AIC Tree\"            \"AIC Pruned\"         \n",
       "        \"Mean\"     \"0.0231580337235506\"  \"0.023220248191459\"  \n",
       "        \"Variance\" \"0.00016882199437296\" \"0.00018131805611903\"\n",
       "        [,4]                  \n",
       "output1 \"AIC Forest\"          \n",
       "        \"0.014707216356122\"   \n",
       "        \"0.000110588585228883\""
      ]
     },
     "execution_count": 9,
     "metadata": {},
     "output_type": "execute_result"
    },
    {
     "name": "stdout",
     "output_type": "stream",
     "text": [
      "[1] \"mexico\"\n"
     ]
    },
    {
     "data": {
      "text/html": [
       "<table>\n",
       "<tbody>\n",
       "\t<tr><th scope=row>output1</th><td>AIC       </td><td>AIC Tree  </td><td>AIC Pruned</td><td>AIC Forest</td></tr>\n",
       "\t<tr><th scope=row></th><td>Mean               </td><td>0.0070837145777984 </td><td>0.00691456032435144</td><td>0.0057785952347072 </td></tr>\n",
       "\t<tr><th scope=row></th><td>Variance            </td><td>2.70034712708398e-05</td><td>2.7028240692858e-05 </td><td>4.36514469579504e-05</td></tr>\n",
       "</tbody>\n",
       "</table>\n"
      ],
      "text/latex": [
       "\\begin{tabular}{r|llll}\n",
       "\toutput1 & AIC        & AIC Tree   & AIC Pruned & AIC Forest\\\\\n",
       "\t & Mean                & 0.0070837145777984  & 0.00691456032435144 & 0.0057785952347072 \\\\\n",
       "\t & Variance             & 2.70034712708398e-05 & 2.7028240692858e-05  & 4.36514469579504e-05\\\\\n",
       "\\end{tabular}\n"
      ],
      "text/markdown": [
       "1. \"AIC\"\n",
       "2. \"Mean\"\n",
       "3. \"Variance\"\n",
       "4. \"AIC Tree\"\n",
       "5. \"0.0070837145777984\"\n",
       "6. \"2.70034712708398e-05\"\n",
       "7. \"AIC Pruned\"\n",
       "8. \"0.00691456032435144\"\n",
       "9. \"2.7028240692858e-05\"\n",
       "10. \"AIC Forest\"\n",
       "11. \"0.0057785952347072\"\n",
       "12. \"4.36514469579504e-05\"\n",
       "\n",
       "\n"
      ],
      "text/plain": [
       "        [,1]       [,2]                   [,3]                 \n",
       "output1 \"AIC\"      \"AIC Tree\"             \"AIC Pruned\"         \n",
       "        \"Mean\"     \"0.0070837145777984\"   \"0.00691456032435144\"\n",
       "        \"Variance\" \"2.70034712708398e-05\" \"2.7028240692858e-05\"\n",
       "        [,4]                  \n",
       "output1 \"AIC Forest\"          \n",
       "        \"0.0057785952347072\"  \n",
       "        \"4.36514469579504e-05\""
      ]
     },
     "execution_count": 9,
     "metadata": {},
     "output_type": "execute_result"
    },
    {
     "name": "stdout",
     "output_type": "stream",
     "text": [
      "[1] \"japan\"\n"
     ]
    },
    {
     "data": {
      "text/html": [
       "<table>\n",
       "<tbody>\n",
       "\t<tr><th scope=row>output1</th><td>AIC       </td><td>AIC Tree  </td><td>AIC Pruned</td><td>AIC Forest</td></tr>\n",
       "\t<tr><th scope=row></th><td>Mean              </td><td>0.0330721868624739</td><td>0.0330195971992459</td><td>0.0218985084393031</td></tr>\n",
       "\t<tr><th scope=row></th><td>Variance            </td><td>0.000288205113671281</td><td>0.000291853003529252</td><td>7.9319272208785e-05 </td></tr>\n",
       "</tbody>\n",
       "</table>\n"
      ],
      "text/latex": [
       "\\begin{tabular}{r|llll}\n",
       "\toutput1 & AIC        & AIC Tree   & AIC Pruned & AIC Forest\\\\\n",
       "\t & Mean               & 0.0330721868624739 & 0.0330195971992459 & 0.0218985084393031\\\\\n",
       "\t & Variance             & 0.000288205113671281 & 0.000291853003529252 & 7.9319272208785e-05 \\\\\n",
       "\\end{tabular}\n"
      ],
      "text/markdown": [
       "1. \"AIC\"\n",
       "2. \"Mean\"\n",
       "3. \"Variance\"\n",
       "4. \"AIC Tree\"\n",
       "5. \"0.0330721868624739\"\n",
       "6. \"0.000288205113671281\"\n",
       "7. \"AIC Pruned\"\n",
       "8. \"0.0330195971992459\"\n",
       "9. \"0.000291853003529252\"\n",
       "10. \"AIC Forest\"\n",
       "11. \"0.0218985084393031\"\n",
       "12. \"7.9319272208785e-05\"\n",
       "\n",
       "\n"
      ],
      "text/plain": [
       "        [,1]       [,2]                   [,3]                  \n",
       "output1 \"AIC\"      \"AIC Tree\"             \"AIC Pruned\"          \n",
       "        \"Mean\"     \"0.0330721868624739\"   \"0.0330195971992459\"  \n",
       "        \"Variance\" \"0.000288205113671281\" \"0.000291853003529252\"\n",
       "        [,4]                 \n",
       "output1 \"AIC Forest\"         \n",
       "        \"0.0218985084393031\" \n",
       "        \"7.9319272208785e-05\""
      ]
     },
     "execution_count": 9,
     "metadata": {},
     "output_type": "execute_result"
    },
    {
     "name": "stdout",
     "output_type": "stream",
     "text": [
      "[1] \"korea\"\n"
     ]
    },
    {
     "data": {
      "text/html": [
       "<table>\n",
       "<tbody>\n",
       "\t<tr><th scope=row>output1</th><td>AIC       </td><td>AIC Tree  </td><td>AIC Pruned</td><td>AIC Forest</td></tr>\n",
       "\t<tr><th scope=row></th><td>Mean               </td><td>0.0119839174585882 </td><td>0.0119757402523155 </td><td>0.00879097966967551</td></tr>\n",
       "\t<tr><th scope=row></th><td>Variance            </td><td>9.64884973850864e-05</td><td>9.75991560001485e-05</td><td>9.46950699156657e-05</td></tr>\n",
       "</tbody>\n",
       "</table>\n"
      ],
      "text/latex": [
       "\\begin{tabular}{r|llll}\n",
       "\toutput1 & AIC        & AIC Tree   & AIC Pruned & AIC Forest\\\\\n",
       "\t & Mean                & 0.0119839174585882  & 0.0119757402523155  & 0.00879097966967551\\\\\n",
       "\t & Variance             & 9.64884973850864e-05 & 9.75991560001485e-05 & 9.46950699156657e-05\\\\\n",
       "\\end{tabular}\n"
      ],
      "text/markdown": [
       "1. \"AIC\"\n",
       "2. \"Mean\"\n",
       "3. \"Variance\"\n",
       "4. \"AIC Tree\"\n",
       "5. \"0.0119839174585882\"\n",
       "6. \"9.64884973850864e-05\"\n",
       "7. \"AIC Pruned\"\n",
       "8. \"0.0119757402523155\"\n",
       "9. \"9.75991560001485e-05\"\n",
       "10. \"AIC Forest\"\n",
       "11. \"0.00879097966967551\"\n",
       "12. \"9.46950699156657e-05\"\n",
       "\n",
       "\n"
      ],
      "text/plain": [
       "        [,1]       [,2]                   [,3]                  \n",
       "output1 \"AIC\"      \"AIC Tree\"             \"AIC Pruned\"          \n",
       "        \"Mean\"     \"0.0119839174585882\"   \"0.0119757402523155\"  \n",
       "        \"Variance\" \"9.64884973850864e-05\" \"9.75991560001485e-05\"\n",
       "        [,4]                  \n",
       "output1 \"AIC Forest\"          \n",
       "        \"0.00879097966967551\" \n",
       "        \"9.46950699156657e-05\""
      ]
     },
     "execution_count": 9,
     "metadata": {},
     "output_type": "execute_result"
    }
   ],
   "source": [
    "countries <- c('japan','europe','korea','mexico','canada')\n",
    "for (country in countries){\n",
    "ex_rates <- read.csv('topfive.csv')\n",
    "ex_rates <- subset(ex_rates, ex_rates$Country.y==country)\n",
    "    \n",
    "full <- subset(ex_rates, select = c(Pct_Chg, Exchange, X1Y_Yield_d, \n",
    "                X1Y_Yield_f, Int_d, Int_f,  Infl_d, Infl_f, GDPG_d,\n",
    "                GDPG_f, BOT_f, BOT_d, FER_f))\n",
    "\n",
    "full <- full %>% mutate(lag1.Exchange = lag(Exchange,1)) %>%\n",
    "                mutate(lag1.X1Y_Yield_d = lag(X1Y_Yield_d,1)) %>%\n",
    "                mutate(lag1.X1Y_Yield_f = lag(X1Y_Yield_f,1)) %>%\n",
    "                mutate(lag1.Infl_d = lag(Infl_d,1)) %>%\n",
    "                mutate(lag1.Infl_f = lag(Infl_f,1)) %>%\n",
    "                mutate(lag1.Int_d = lag(Int_d,1)) %>%\n",
    "                mutate(lag1.Int_f = lag(Int_f,1)) %>%\n",
    "\n",
    "                mutate(lag2.Exchange = lag(Exchange,2)) %>%\n",
    "                mutate(lag2.X1Y_Yield_d = lag(X1Y_Yield_d,2)) %>%\n",
    "                mutate(lag2.X1Y_Yield_f = lag(X1Y_Yield_f,2)) %>%\n",
    "                mutate(lag2.Infl_d = lag(Infl_d,2)) %>%\n",
    "                mutate(lag2.Infl_f = lag(Infl_f,2)) %>%\n",
    "                mutate(lag2.Int_d = lag(Int_d,2)) %>%\n",
    "                mutate(lag2.Int_f = lag(Int_f,2)) %>%\n",
    "    \n",
    "                mutate(lag3.Exchange = lag(Exchange,3)) %>%\n",
    "                mutate(lag3.X1Y_Yield_d = lag(X1Y_Yield_d,3)) %>%\n",
    "                mutate(lag3.X1Y_Yield_f = lag(X1Y_Yield_f,3)) %>%\n",
    "                mutate(lag3.Infl_d = lag(Infl_d,3)) %>%\n",
    "                mutate(lag3.Infl_f = lag(Infl_f,3)) %>%\n",
    "                mutate(lag3.Int_d = lag(Int_d,3)) %>%\n",
    "                mutate(lag3.Int_f = lag(Int_f,3))\n",
    "\n",
    "full <- na.omit(full)\n",
    "write.csv(full,file = paste(country,'_full.csv',sep=''))\n",
    "}\n",
    "\n",
    "print('canada')\n",
    "test_full_trees('canada',100)\n",
    "print('europe')\n",
    "test_full_trees('europe',100)\n",
    "print('mexico')\n",
    "test_full_trees('mexico',100)\n",
    "print('japan')\n",
    "test_full_trees('japan',100)\n",
    "print('korea')\n",
    "test_full_trees('korea',100)\n",
    "\n",
    "print('canada')\n",
    "test_aic_trees('canada',100)\n",
    "print('europe')\n",
    "test_aic_trees('europe',100)\n",
    "print('mexico')\n",
    "test_aic_trees('mexico',100)\n",
    "print('japan')\n",
    "test_aic_trees('japan',100)\n",
    "print('korea')\n",
    "test_aic_trees('korea',100)"
   ]
  },
  {
   "cell_type": "code",
   "execution_count": 10,
   "metadata": {
    "collapsed": false
   },
   "outputs": [
    {
     "name": "stdout",
     "output_type": "stream",
     "text": [
      "[1] \"canada\"\n"
     ]
    },
    {
     "data": {
      "text/html": [
       "<table>\n",
       "<tbody>\n",
       "\t<tr><th scope=row>output1</th><td>Full       </td><td>Full Tree  </td><td>Full Pruned</td><td>Full Forest</td></tr>\n",
       "\t<tr><th scope=row></th><td>Mean               </td><td>0.00738881355527953</td><td>0.00734461551975625</td><td>0.00449553836717566</td></tr>\n",
       "\t<tr><th scope=row></th><td>Variance            </td><td>6.81083472834278e-05</td><td>6.63864784116058e-05</td><td>3.53430112402808e-05</td></tr>\n",
       "</tbody>\n",
       "</table>\n"
      ],
      "text/latex": [
       "\\begin{tabular}{r|llll}\n",
       "\toutput1 & Full        & Full Tree   & Full Pruned & Full Forest\\\\\n",
       "\t & Mean                & 0.00738881355527953 & 0.00734461551975625 & 0.00449553836717566\\\\\n",
       "\t & Variance             & 6.81083472834278e-05 & 6.63864784116058e-05 & 3.53430112402808e-05\\\\\n",
       "\\end{tabular}\n"
      ],
      "text/markdown": [
       "1. \"Full\"\n",
       "2. \"Mean\"\n",
       "3. \"Variance\"\n",
       "4. \"Full Tree\"\n",
       "5. \"0.00738881355527953\"\n",
       "6. \"6.81083472834278e-05\"\n",
       "7. \"Full Pruned\"\n",
       "8. \"0.00734461551975625\"\n",
       "9. \"6.63864784116058e-05\"\n",
       "10. \"Full Forest\"\n",
       "11. \"0.00449553836717566\"\n",
       "12. \"3.53430112402808e-05\"\n",
       "\n",
       "\n"
      ],
      "text/plain": [
       "        [,1]       [,2]                   [,3]                  \n",
       "output1 \"Full\"     \"Full Tree\"            \"Full Pruned\"         \n",
       "        \"Mean\"     \"0.00738881355527953\"  \"0.00734461551975625\" \n",
       "        \"Variance\" \"6.81083472834278e-05\" \"6.63864784116058e-05\"\n",
       "        [,4]                  \n",
       "output1 \"Full Forest\"         \n",
       "        \"0.00449553836717566\" \n",
       "        \"3.53430112402808e-05\""
      ]
     },
     "execution_count": 10,
     "metadata": {},
     "output_type": "execute_result"
    },
    {
     "name": "stdout",
     "output_type": "stream",
     "text": [
      "[1] \"europe\"\n"
     ]
    },
    {
     "data": {
      "text/html": [
       "<table>\n",
       "<tbody>\n",
       "\t<tr><th scope=row>output1</th><td>Full       </td><td>Full Tree  </td><td>Full Pruned</td><td>Full Forest</td></tr>\n",
       "\t<tr><th scope=row></th><td>Mean              </td><td>0.0217281710690849</td><td>0.0219035232598653</td><td>0.0143217478868706</td></tr>\n",
       "\t<tr><th scope=row></th><td>Variance            </td><td>0.000180664463967327</td><td>0.000183393530030901</td><td>9.1887159221236e-05 </td></tr>\n",
       "</tbody>\n",
       "</table>\n"
      ],
      "text/latex": [
       "\\begin{tabular}{r|llll}\n",
       "\toutput1 & Full        & Full Tree   & Full Pruned & Full Forest\\\\\n",
       "\t & Mean               & 0.0217281710690849 & 0.0219035232598653 & 0.0143217478868706\\\\\n",
       "\t & Variance             & 0.000180664463967327 & 0.000183393530030901 & 9.1887159221236e-05 \\\\\n",
       "\\end{tabular}\n"
      ],
      "text/markdown": [
       "1. \"Full\"\n",
       "2. \"Mean\"\n",
       "3. \"Variance\"\n",
       "4. \"Full Tree\"\n",
       "5. \"0.0217281710690849\"\n",
       "6. \"0.000180664463967327\"\n",
       "7. \"Full Pruned\"\n",
       "8. \"0.0219035232598653\"\n",
       "9. \"0.000183393530030901\"\n",
       "10. \"Full Forest\"\n",
       "11. \"0.0143217478868706\"\n",
       "12. \"9.1887159221236e-05\"\n",
       "\n",
       "\n"
      ],
      "text/plain": [
       "        [,1]       [,2]                   [,3]                  \n",
       "output1 \"Full\"     \"Full Tree\"            \"Full Pruned\"         \n",
       "        \"Mean\"     \"0.0217281710690849\"   \"0.0219035232598653\"  \n",
       "        \"Variance\" \"0.000180664463967327\" \"0.000183393530030901\"\n",
       "        [,4]                 \n",
       "output1 \"Full Forest\"        \n",
       "        \"0.0143217478868706\" \n",
       "        \"9.1887159221236e-05\""
      ]
     },
     "execution_count": 10,
     "metadata": {},
     "output_type": "execute_result"
    },
    {
     "name": "stdout",
     "output_type": "stream",
     "text": [
      "[1] \"mexico\"\n"
     ]
    },
    {
     "data": {
      "text/html": [
       "<table>\n",
       "<tbody>\n",
       "\t<tr><th scope=row>output1</th><td>Full       </td><td>Full Tree  </td><td>Full Pruned</td><td>Full Forest</td></tr>\n",
       "\t<tr><th scope=row></th><td>Mean               </td><td>0.00724846677029357</td><td>0.00649524257280933</td><td>0.00424786699461888</td></tr>\n",
       "\t<tr><th scope=row></th><td>Variance            </td><td>1.85498731793957e-05</td><td>1.9584667071375e-05 </td><td>1.93397474779781e-05</td></tr>\n",
       "</tbody>\n",
       "</table>\n"
      ],
      "text/latex": [
       "\\begin{tabular}{r|llll}\n",
       "\toutput1 & Full        & Full Tree   & Full Pruned & Full Forest\\\\\n",
       "\t & Mean                & 0.00724846677029357 & 0.00649524257280933 & 0.00424786699461888\\\\\n",
       "\t & Variance             & 1.85498731793957e-05 & 1.9584667071375e-05  & 1.93397474779781e-05\\\\\n",
       "\\end{tabular}\n"
      ],
      "text/markdown": [
       "1. \"Full\"\n",
       "2. \"Mean\"\n",
       "3. \"Variance\"\n",
       "4. \"Full Tree\"\n",
       "5. \"0.00724846677029357\"\n",
       "6. \"1.85498731793957e-05\"\n",
       "7. \"Full Pruned\"\n",
       "8. \"0.00649524257280933\"\n",
       "9. \"1.9584667071375e-05\"\n",
       "10. \"Full Forest\"\n",
       "11. \"0.00424786699461888\"\n",
       "12. \"1.93397474779781e-05\"\n",
       "\n",
       "\n"
      ],
      "text/plain": [
       "        [,1]       [,2]                   [,3]                 \n",
       "output1 \"Full\"     \"Full Tree\"            \"Full Pruned\"        \n",
       "        \"Mean\"     \"0.00724846677029357\"  \"0.00649524257280933\"\n",
       "        \"Variance\" \"1.85498731793957e-05\" \"1.9584667071375e-05\"\n",
       "        [,4]                  \n",
       "output1 \"Full Forest\"         \n",
       "        \"0.00424786699461888\" \n",
       "        \"1.93397474779781e-05\""
      ]
     },
     "execution_count": 10,
     "metadata": {},
     "output_type": "execute_result"
    },
    {
     "name": "stdout",
     "output_type": "stream",
     "text": [
      "[1] \"japan\"\n"
     ]
    },
    {
     "data": {
      "text/html": [
       "<table>\n",
       "<tbody>\n",
       "\t<tr><th scope=row>output1</th><td>Full       </td><td>Full Tree  </td><td>Full Pruned</td><td>Full Forest</td></tr>\n",
       "\t<tr><th scope=row></th><td>Mean              </td><td>0.0253874887534733</td><td>0.0251580667934505</td><td>0.0215440043172009</td></tr>\n",
       "\t<tr><th scope=row></th><td>Variance            </td><td>9.236890946203e-05  </td><td>8.74002079456116e-05</td><td>8.24614362369181e-05</td></tr>\n",
       "</tbody>\n",
       "</table>\n"
      ],
      "text/latex": [
       "\\begin{tabular}{r|llll}\n",
       "\toutput1 & Full        & Full Tree   & Full Pruned & Full Forest\\\\\n",
       "\t & Mean               & 0.0253874887534733 & 0.0251580667934505 & 0.0215440043172009\\\\\n",
       "\t & Variance             & 9.236890946203e-05   & 8.74002079456116e-05 & 8.24614362369181e-05\\\\\n",
       "\\end{tabular}\n"
      ],
      "text/markdown": [
       "1. \"Full\"\n",
       "2. \"Mean\"\n",
       "3. \"Variance\"\n",
       "4. \"Full Tree\"\n",
       "5. \"0.0253874887534733\"\n",
       "6. \"9.236890946203e-05\"\n",
       "7. \"Full Pruned\"\n",
       "8. \"0.0251580667934505\"\n",
       "9. \"8.74002079456116e-05\"\n",
       "10. \"Full Forest\"\n",
       "11. \"0.0215440043172009\"\n",
       "12. \"8.24614362369181e-05\"\n",
       "\n",
       "\n"
      ],
      "text/plain": [
       "        [,1]       [,2]                 [,3]                  \n",
       "output1 \"Full\"     \"Full Tree\"          \"Full Pruned\"         \n",
       "        \"Mean\"     \"0.0253874887534733\" \"0.0251580667934505\"  \n",
       "        \"Variance\" \"9.236890946203e-05\" \"8.74002079456116e-05\"\n",
       "        [,4]                  \n",
       "output1 \"Full Forest\"         \n",
       "        \"0.0215440043172009\"  \n",
       "        \"8.24614362369181e-05\""
      ]
     },
     "execution_count": 10,
     "metadata": {},
     "output_type": "execute_result"
    },
    {
     "name": "stdout",
     "output_type": "stream",
     "text": [
      "[1] \"korea\"\n"
     ]
    },
    {
     "data": {
      "text/html": [
       "<table>\n",
       "<tbody>\n",
       "\t<tr><th scope=row>output1</th><td>Full       </td><td>Full Tree  </td><td>Full Pruned</td><td>Full Forest</td></tr>\n",
       "\t<tr><th scope=row></th><td>Mean               </td><td>0.0135187054057505 </td><td>0.0134902313402889 </td><td>0.00937630844053643</td></tr>\n",
       "\t<tr><th scope=row></th><td>Variance            </td><td>8.35552373586643e-05</td><td>7.99134918145662e-05</td><td>9.80410019722864e-05</td></tr>\n",
       "</tbody>\n",
       "</table>\n"
      ],
      "text/latex": [
       "\\begin{tabular}{r|llll}\n",
       "\toutput1 & Full        & Full Tree   & Full Pruned & Full Forest\\\\\n",
       "\t & Mean                & 0.0135187054057505  & 0.0134902313402889  & 0.00937630844053643\\\\\n",
       "\t & Variance             & 8.35552373586643e-05 & 7.99134918145662e-05 & 9.80410019722864e-05\\\\\n",
       "\\end{tabular}\n"
      ],
      "text/markdown": [
       "1. \"Full\"\n",
       "2. \"Mean\"\n",
       "3. \"Variance\"\n",
       "4. \"Full Tree\"\n",
       "5. \"0.0135187054057505\"\n",
       "6. \"8.35552373586643e-05\"\n",
       "7. \"Full Pruned\"\n",
       "8. \"0.0134902313402889\"\n",
       "9. \"7.99134918145662e-05\"\n",
       "10. \"Full Forest\"\n",
       "11. \"0.00937630844053643\"\n",
       "12. \"9.80410019722864e-05\"\n",
       "\n",
       "\n"
      ],
      "text/plain": [
       "        [,1]       [,2]                   [,3]                  \n",
       "output1 \"Full\"     \"Full Tree\"            \"Full Pruned\"         \n",
       "        \"Mean\"     \"0.0135187054057505\"   \"0.0134902313402889\"  \n",
       "        \"Variance\" \"8.35552373586643e-05\" \"7.99134918145662e-05\"\n",
       "        [,4]                  \n",
       "output1 \"Full Forest\"         \n",
       "        \"0.00937630844053643\" \n",
       "        \"9.80410019722864e-05\""
      ]
     },
     "execution_count": 10,
     "metadata": {},
     "output_type": "execute_result"
    },
    {
     "name": "stdout",
     "output_type": "stream",
     "text": [
      "[1] \"canada\"\n"
     ]
    },
    {
     "data": {
      "text/html": [
       "<table>\n",
       "<tbody>\n",
       "\t<tr><th scope=row>output1</th><td>AIC       </td><td>AIC Tree  </td><td>AIC Pruned</td><td>AIC Forest</td></tr>\n",
       "\t<tr><th scope=row></th><td>Mean               </td><td>0.00936332206653394</td><td>0.00938342187183933</td><td>0.00481623399955967</td></tr>\n",
       "\t<tr><th scope=row></th><td>Variance            </td><td>9.02021315849426e-05</td><td>9.0278076750857e-05 </td><td>4.43161330544487e-05</td></tr>\n",
       "</tbody>\n",
       "</table>\n"
      ],
      "text/latex": [
       "\\begin{tabular}{r|llll}\n",
       "\toutput1 & AIC        & AIC Tree   & AIC Pruned & AIC Forest\\\\\n",
       "\t & Mean                & 0.00936332206653394 & 0.00938342187183933 & 0.00481623399955967\\\\\n",
       "\t & Variance             & 9.02021315849426e-05 & 9.0278076750857e-05  & 4.43161330544487e-05\\\\\n",
       "\\end{tabular}\n"
      ],
      "text/markdown": [
       "1. \"AIC\"\n",
       "2. \"Mean\"\n",
       "3. \"Variance\"\n",
       "4. \"AIC Tree\"\n",
       "5. \"0.00936332206653394\"\n",
       "6. \"9.02021315849426e-05\"\n",
       "7. \"AIC Pruned\"\n",
       "8. \"0.00938342187183933\"\n",
       "9. \"9.0278076750857e-05\"\n",
       "10. \"AIC Forest\"\n",
       "11. \"0.00481623399955967\"\n",
       "12. \"4.43161330544487e-05\"\n",
       "\n",
       "\n"
      ],
      "text/plain": [
       "        [,1]       [,2]                   [,3]                 \n",
       "output1 \"AIC\"      \"AIC Tree\"             \"AIC Pruned\"         \n",
       "        \"Mean\"     \"0.00936332206653394\"  \"0.00938342187183933\"\n",
       "        \"Variance\" \"9.02021315849426e-05\" \"9.0278076750857e-05\"\n",
       "        [,4]                  \n",
       "output1 \"AIC Forest\"          \n",
       "        \"0.00481623399955967\" \n",
       "        \"4.43161330544487e-05\""
      ]
     },
     "execution_count": 10,
     "metadata": {},
     "output_type": "execute_result"
    },
    {
     "name": "stdout",
     "output_type": "stream",
     "text": [
      "[1] \"europe\"\n"
     ]
    },
    {
     "data": {
      "text/html": [
       "<table>\n",
       "<tbody>\n",
       "\t<tr><th scope=row>output1</th><td>AIC       </td><td>AIC Tree  </td><td>AIC Pruned</td><td>AIC Forest</td></tr>\n",
       "\t<tr><th scope=row></th><td>Mean              </td><td>0.0210894373726745</td><td>0.0215459129153275</td><td>0.0144243483409743</td></tr>\n",
       "\t<tr><th scope=row></th><td>Variance            </td><td>0.000230576320500969</td><td>0.000234626999993755</td><td>9.28710038685665e-05</td></tr>\n",
       "</tbody>\n",
       "</table>\n"
      ],
      "text/latex": [
       "\\begin{tabular}{r|llll}\n",
       "\toutput1 & AIC        & AIC Tree   & AIC Pruned & AIC Forest\\\\\n",
       "\t & Mean               & 0.0210894373726745 & 0.0215459129153275 & 0.0144243483409743\\\\\n",
       "\t & Variance             & 0.000230576320500969 & 0.000234626999993755 & 9.28710038685665e-05\\\\\n",
       "\\end{tabular}\n"
      ],
      "text/markdown": [
       "1. \"AIC\"\n",
       "2. \"Mean\"\n",
       "3. \"Variance\"\n",
       "4. \"AIC Tree\"\n",
       "5. \"0.0210894373726745\"\n",
       "6. \"0.000230576320500969\"\n",
       "7. \"AIC Pruned\"\n",
       "8. \"0.0215459129153275\"\n",
       "9. \"0.000234626999993755\"\n",
       "10. \"AIC Forest\"\n",
       "11. \"0.0144243483409743\"\n",
       "12. \"9.28710038685665e-05\"\n",
       "\n",
       "\n"
      ],
      "text/plain": [
       "        [,1]       [,2]                   [,3]                  \n",
       "output1 \"AIC\"      \"AIC Tree\"             \"AIC Pruned\"          \n",
       "        \"Mean\"     \"0.0210894373726745\"   \"0.0215459129153275\"  \n",
       "        \"Variance\" \"0.000230576320500969\" \"0.000234626999993755\"\n",
       "        [,4]                  \n",
       "output1 \"AIC Forest\"          \n",
       "        \"0.0144243483409743\"  \n",
       "        \"9.28710038685665e-05\""
      ]
     },
     "execution_count": 10,
     "metadata": {},
     "output_type": "execute_result"
    },
    {
     "name": "stdout",
     "output_type": "stream",
     "text": [
      "[1] \"mexico\"\n"
     ]
    },
    {
     "data": {
      "text/html": [
       "<table>\n",
       "<tbody>\n",
       "\t<tr><th scope=row>output1</th><td>AIC       </td><td>AIC Tree  </td><td>AIC Pruned</td><td>AIC Forest</td></tr>\n",
       "\t<tr><th scope=row></th><td>Mean               </td><td>0.00639137793224928</td><td>0.00602320275556258</td><td>0.00404840897692636</td></tr>\n",
       "\t<tr><th scope=row></th><td>Variance            </td><td>1.65223040486217e-05</td><td>1.62217860976515e-05</td><td>1.07588451486262e-05</td></tr>\n",
       "</tbody>\n",
       "</table>\n"
      ],
      "text/latex": [
       "\\begin{tabular}{r|llll}\n",
       "\toutput1 & AIC        & AIC Tree   & AIC Pruned & AIC Forest\\\\\n",
       "\t & Mean                & 0.00639137793224928 & 0.00602320275556258 & 0.00404840897692636\\\\\n",
       "\t & Variance             & 1.65223040486217e-05 & 1.62217860976515e-05 & 1.07588451486262e-05\\\\\n",
       "\\end{tabular}\n"
      ],
      "text/markdown": [
       "1. \"AIC\"\n",
       "2. \"Mean\"\n",
       "3. \"Variance\"\n",
       "4. \"AIC Tree\"\n",
       "5. \"0.00639137793224928\"\n",
       "6. \"1.65223040486217e-05\"\n",
       "7. \"AIC Pruned\"\n",
       "8. \"0.00602320275556258\"\n",
       "9. \"1.62217860976515e-05\"\n",
       "10. \"AIC Forest\"\n",
       "11. \"0.00404840897692636\"\n",
       "12. \"1.07588451486262e-05\"\n",
       "\n",
       "\n"
      ],
      "text/plain": [
       "        [,1]       [,2]                   [,3]                  \n",
       "output1 \"AIC\"      \"AIC Tree\"             \"AIC Pruned\"          \n",
       "        \"Mean\"     \"0.00639137793224928\"  \"0.00602320275556258\" \n",
       "        \"Variance\" \"1.65223040486217e-05\" \"1.62217860976515e-05\"\n",
       "        [,4]                  \n",
       "output1 \"AIC Forest\"          \n",
       "        \"0.00404840897692636\" \n",
       "        \"1.07588451486262e-05\""
      ]
     },
     "execution_count": 10,
     "metadata": {},
     "output_type": "execute_result"
    },
    {
     "name": "stdout",
     "output_type": "stream",
     "text": [
      "[1] \"japan\"\n"
     ]
    },
    {
     "data": {
      "text/html": [
       "<table>\n",
       "<tbody>\n",
       "\t<tr><th scope=row>output1</th><td>AIC       </td><td>AIC Tree  </td><td>AIC Pruned</td><td>AIC Forest</td></tr>\n",
       "\t<tr><th scope=row></th><td>Mean              </td><td>0.026292644842399 </td><td>0.0260870577934918</td><td>0.0202909203876781</td></tr>\n",
       "\t<tr><th scope=row></th><td>Variance            </td><td>0.000104323242956075</td><td>0.000102268321690948</td><td>6.90613100201775e-05</td></tr>\n",
       "</tbody>\n",
       "</table>\n"
      ],
      "text/latex": [
       "\\begin{tabular}{r|llll}\n",
       "\toutput1 & AIC        & AIC Tree   & AIC Pruned & AIC Forest\\\\\n",
       "\t & Mean               & 0.026292644842399  & 0.0260870577934918 & 0.0202909203876781\\\\\n",
       "\t & Variance             & 0.000104323242956075 & 0.000102268321690948 & 6.90613100201775e-05\\\\\n",
       "\\end{tabular}\n"
      ],
      "text/markdown": [
       "1. \"AIC\"\n",
       "2. \"Mean\"\n",
       "3. \"Variance\"\n",
       "4. \"AIC Tree\"\n",
       "5. \"0.026292644842399\"\n",
       "6. \"0.000104323242956075\"\n",
       "7. \"AIC Pruned\"\n",
       "8. \"0.0260870577934918\"\n",
       "9. \"0.000102268321690948\"\n",
       "10. \"AIC Forest\"\n",
       "11. \"0.0202909203876781\"\n",
       "12. \"6.90613100201775e-05\"\n",
       "\n",
       "\n"
      ],
      "text/plain": [
       "        [,1]       [,2]                   [,3]                  \n",
       "output1 \"AIC\"      \"AIC Tree\"             \"AIC Pruned\"          \n",
       "        \"Mean\"     \"0.026292644842399\"    \"0.0260870577934918\"  \n",
       "        \"Variance\" \"0.000104323242956075\" \"0.000102268321690948\"\n",
       "        [,4]                  \n",
       "output1 \"AIC Forest\"          \n",
       "        \"0.0202909203876781\"  \n",
       "        \"6.90613100201775e-05\""
      ]
     },
     "execution_count": 10,
     "metadata": {},
     "output_type": "execute_result"
    },
    {
     "name": "stdout",
     "output_type": "stream",
     "text": [
      "[1] \"korea\"\n"
     ]
    },
    {
     "data": {
      "text/html": [
       "<table>\n",
       "<tbody>\n",
       "\t<tr><th scope=row>output1</th><td>AIC       </td><td>AIC Tree  </td><td>AIC Pruned</td><td>AIC Forest</td></tr>\n",
       "\t<tr><th scope=row></th><td>Mean               </td><td>0.012729679550198  </td><td>0.0128071321914963 </td><td>0.00966755904843823</td></tr>\n",
       "\t<tr><th scope=row></th><td>Variance            </td><td>7.43913582202799e-05</td><td>7.38776897245598e-05</td><td>0.000111925098700196</td></tr>\n",
       "</tbody>\n",
       "</table>\n"
      ],
      "text/latex": [
       "\\begin{tabular}{r|llll}\n",
       "\toutput1 & AIC        & AIC Tree   & AIC Pruned & AIC Forest\\\\\n",
       "\t & Mean                & 0.012729679550198   & 0.0128071321914963  & 0.00966755904843823\\\\\n",
       "\t & Variance             & 7.43913582202799e-05 & 7.38776897245598e-05 & 0.000111925098700196\\\\\n",
       "\\end{tabular}\n"
      ],
      "text/markdown": [
       "1. \"AIC\"\n",
       "2. \"Mean\"\n",
       "3. \"Variance\"\n",
       "4. \"AIC Tree\"\n",
       "5. \"0.012729679550198\"\n",
       "6. \"7.43913582202799e-05\"\n",
       "7. \"AIC Pruned\"\n",
       "8. \"0.0128071321914963\"\n",
       "9. \"7.38776897245598e-05\"\n",
       "10. \"AIC Forest\"\n",
       "11. \"0.00966755904843823\"\n",
       "12. \"0.000111925098700196\"\n",
       "\n",
       "\n"
      ],
      "text/plain": [
       "        [,1]       [,2]                   [,3]                  \n",
       "output1 \"AIC\"      \"AIC Tree\"             \"AIC Pruned\"          \n",
       "        \"Mean\"     \"0.012729679550198\"    \"0.0128071321914963\"  \n",
       "        \"Variance\" \"7.43913582202799e-05\" \"7.38776897245598e-05\"\n",
       "        [,4]                  \n",
       "output1 \"AIC Forest\"          \n",
       "        \"0.00966755904843823\" \n",
       "        \"0.000111925098700196\""
      ]
     },
     "execution_count": 10,
     "metadata": {},
     "output_type": "execute_result"
    }
   ],
   "source": [
    "countries <- c('japan','europe','korea','mexico','canada')\n",
    "for (country in countries){\n",
    "ex_rates <- read.csv('topfive.csv')\n",
    "ex_rates <- subset(ex_rates, ex_rates$Country.y==country)\n",
    "    \n",
    "full <- subset(ex_rates, select = c(Pct_Chg, Exchange, X1Y_Yield_d, \n",
    "                X1Y_Yield_f, Int_d, Int_f,  Infl_d, Infl_f, GDPG_d,\n",
    "                GDPG_f, BOT_f, BOT_d, FER_f))\n",
    "\n",
    "full <- full %>% mutate(lag1.Exchange = lag(Exchange,1)) %>%\n",
    "                mutate(lag1.X1Y_Yield_d = lag(X1Y_Yield_d,1)) %>%\n",
    "                mutate(lag1.X1Y_Yield_f = lag(X1Y_Yield_f,1)) %>%\n",
    "                mutate(lag1.Infl_d = lag(Infl_d,1)) %>%\n",
    "                mutate(lag1.Infl_f = lag(Infl_f,1)) %>%\n",
    "                mutate(lag1.Int_d = lag(Int_d,1)) %>%\n",
    "                mutate(lag1.Int_f = lag(Int_f,1)) %>%\n",
    "\n",
    "                mutate(lag2.Exchange = lag(Exchange,2)) %>%\n",
    "                mutate(lag2.X1Y_Yield_d = lag(X1Y_Yield_d,2)) %>%\n",
    "                mutate(lag2.X1Y_Yield_f = lag(X1Y_Yield_f,2)) %>%\n",
    "                mutate(lag2.Infl_d = lag(Infl_d,2)) %>%\n",
    "                mutate(lag2.Infl_f = lag(Infl_f,2)) %>%\n",
    "                mutate(lag2.Int_d = lag(Int_d,2)) %>%\n",
    "                mutate(lag2.Int_f = lag(Int_f,2)) %>%\n",
    "    \n",
    "                mutate(lag3.Exchange = lag(Exchange,3)) %>%\n",
    "                mutate(lag3.X1Y_Yield_d = lag(X1Y_Yield_d,3)) %>%\n",
    "                mutate(lag3.X1Y_Yield_f = lag(X1Y_Yield_f,3)) %>%\n",
    "                mutate(lag3.Infl_d = lag(Infl_d,3)) %>%\n",
    "                mutate(lag3.Infl_f = lag(Infl_f,3)) %>%\n",
    "                mutate(lag3.Int_d = lag(Int_d,3)) %>%\n",
    "                mutate(lag3.Int_f = lag(Int_f,3)) %>%\n",
    "    \n",
    "                mutate(lag4.Exchange = lag(Exchange,4)) %>%\n",
    "                mutate(lag4.X1Y_Yield_d = lag(X1Y_Yield_d,4)) %>%\n",
    "                mutate(lag4.X1Y_Yield_f = lag(X1Y_Yield_f,4)) %>%\n",
    "                mutate(lag4.Infl_d = lag(Infl_d,4)) %>%\n",
    "                mutate(lag4.Infl_f = lag(Infl_f,4)) %>%\n",
    "                mutate(lag4.Int_d = lag(Int_d,4)) %>%\n",
    "                mutate(lag4.Int_f = lag(Int_f,4))\n",
    "\n",
    "full <- na.omit(full)\n",
    "write.csv(full,file = paste(country,'_full.csv',sep=''))\n",
    "}\n",
    "\n",
    "print('canada')\n",
    "test_full_trees('canada',100)\n",
    "print('europe')\n",
    "test_full_trees('europe',100)\n",
    "print('mexico')\n",
    "test_full_trees('mexico',100)\n",
    "print('japan')\n",
    "test_full_trees('japan',100)\n",
    "print('korea')\n",
    "test_full_trees('korea',100)\n",
    "\n",
    "print('canada')\n",
    "test_aic_trees('canada',100)\n",
    "print('europe')\n",
    "test_aic_trees('europe',100)\n",
    "print('mexico')\n",
    "test_aic_trees('mexico',100)\n",
    "print('japan')\n",
    "test_aic_trees('japan',100)\n",
    "print('korea')\n",
    "test_aic_trees('korea',100)"
   ]
  },
  {
   "cell_type": "code",
   "execution_count": 11,
   "metadata": {
    "collapsed": false
   },
   "outputs": [
    {
     "name": "stdout",
     "output_type": "stream",
     "text": [
      "[1] \"canada\"\n"
     ]
    },
    {
     "data": {
      "text/html": [
       "<table>\n",
       "<tbody>\n",
       "\t<tr><th scope=row>output1</th><td>Full       </td><td>Full Tree  </td><td>Full Pruned</td><td>Full Forest</td></tr>\n",
       "\t<tr><th scope=row></th><td>Mean               </td><td>0.00632818371050797</td><td>0.00633556804805361</td><td>0.00572198516599678</td></tr>\n",
       "\t<tr><th scope=row></th><td>Variance            </td><td>5.11763283085318e-05</td><td>5.07342179348371e-05</td><td>6.15439822029388e-05</td></tr>\n",
       "</tbody>\n",
       "</table>\n"
      ],
      "text/latex": [
       "\\begin{tabular}{r|llll}\n",
       "\toutput1 & Full        & Full Tree   & Full Pruned & Full Forest\\\\\n",
       "\t & Mean                & 0.00632818371050797 & 0.00633556804805361 & 0.00572198516599678\\\\\n",
       "\t & Variance             & 5.11763283085318e-05 & 5.07342179348371e-05 & 6.15439822029388e-05\\\\\n",
       "\\end{tabular}\n"
      ],
      "text/markdown": [
       "1. \"Full\"\n",
       "2. \"Mean\"\n",
       "3. \"Variance\"\n",
       "4. \"Full Tree\"\n",
       "5. \"0.00632818371050797\"\n",
       "6. \"5.11763283085318e-05\"\n",
       "7. \"Full Pruned\"\n",
       "8. \"0.00633556804805361\"\n",
       "9. \"5.07342179348371e-05\"\n",
       "10. \"Full Forest\"\n",
       "11. \"0.00572198516599678\"\n",
       "12. \"6.15439822029388e-05\"\n",
       "\n",
       "\n"
      ],
      "text/plain": [
       "        [,1]       [,2]                   [,3]                  \n",
       "output1 \"Full\"     \"Full Tree\"            \"Full Pruned\"         \n",
       "        \"Mean\"     \"0.00632818371050797\"  \"0.00633556804805361\" \n",
       "        \"Variance\" \"5.11763283085318e-05\" \"5.07342179348371e-05\"\n",
       "        [,4]                  \n",
       "output1 \"Full Forest\"         \n",
       "        \"0.00572198516599678\" \n",
       "        \"6.15439822029388e-05\""
      ]
     },
     "execution_count": 11,
     "metadata": {},
     "output_type": "execute_result"
    },
    {
     "name": "stdout",
     "output_type": "stream",
     "text": [
      "[1] \"europe\"\n"
     ]
    },
    {
     "data": {
      "text/html": [
       "<table>\n",
       "<tbody>\n",
       "\t<tr><th scope=row>output1</th><td>Full       </td><td>Full Tree  </td><td>Full Pruned</td><td>Full Forest</td></tr>\n",
       "\t<tr><th scope=row></th><td>Mean              </td><td>0.0234175207719483</td><td>0.0233819695564869</td><td>0.0157595637793029</td></tr>\n",
       "\t<tr><th scope=row></th><td>Variance            </td><td>0.000270758611027842</td><td>0.000266204535785848</td><td>0.000111320044988505</td></tr>\n",
       "</tbody>\n",
       "</table>\n"
      ],
      "text/latex": [
       "\\begin{tabular}{r|llll}\n",
       "\toutput1 & Full        & Full Tree   & Full Pruned & Full Forest\\\\\n",
       "\t & Mean               & 0.0234175207719483 & 0.0233819695564869 & 0.0157595637793029\\\\\n",
       "\t & Variance             & 0.000270758611027842 & 0.000266204535785848 & 0.000111320044988505\\\\\n",
       "\\end{tabular}\n"
      ],
      "text/markdown": [
       "1. \"Full\"\n",
       "2. \"Mean\"\n",
       "3. \"Variance\"\n",
       "4. \"Full Tree\"\n",
       "5. \"0.0234175207719483\"\n",
       "6. \"0.000270758611027842\"\n",
       "7. \"Full Pruned\"\n",
       "8. \"0.0233819695564869\"\n",
       "9. \"0.000266204535785848\"\n",
       "10. \"Full Forest\"\n",
       "11. \"0.0157595637793029\"\n",
       "12. \"0.000111320044988505\"\n",
       "\n",
       "\n"
      ],
      "text/plain": [
       "        [,1]       [,2]                   [,3]                  \n",
       "output1 \"Full\"     \"Full Tree\"            \"Full Pruned\"         \n",
       "        \"Mean\"     \"0.0234175207719483\"   \"0.0233819695564869\"  \n",
       "        \"Variance\" \"0.000270758611027842\" \"0.000266204535785848\"\n",
       "        [,4]                  \n",
       "output1 \"Full Forest\"         \n",
       "        \"0.0157595637793029\"  \n",
       "        \"0.000111320044988505\""
      ]
     },
     "execution_count": 11,
     "metadata": {},
     "output_type": "execute_result"
    },
    {
     "name": "stdout",
     "output_type": "stream",
     "text": [
      "[1] \"mexico\"\n"
     ]
    },
    {
     "data": {
      "text/html": [
       "<table>\n",
       "<tbody>\n",
       "\t<tr><th scope=row>output1</th><td>Full       </td><td>Full Tree  </td><td>Full Pruned</td><td>Full Forest</td></tr>\n",
       "\t<tr><th scope=row></th><td>Mean               </td><td>0.00707414274690525</td><td>0.00706475831543387</td><td>0.00376004145962435</td></tr>\n",
       "\t<tr><th scope=row></th><td>Variance            </td><td>3.20399959092261e-05</td><td>3.13438412036878e-05</td><td>1.19293745642211e-05</td></tr>\n",
       "</tbody>\n",
       "</table>\n"
      ],
      "text/latex": [
       "\\begin{tabular}{r|llll}\n",
       "\toutput1 & Full        & Full Tree   & Full Pruned & Full Forest\\\\\n",
       "\t & Mean                & 0.00707414274690525 & 0.00706475831543387 & 0.00376004145962435\\\\\n",
       "\t & Variance             & 3.20399959092261e-05 & 3.13438412036878e-05 & 1.19293745642211e-05\\\\\n",
       "\\end{tabular}\n"
      ],
      "text/markdown": [
       "1. \"Full\"\n",
       "2. \"Mean\"\n",
       "3. \"Variance\"\n",
       "4. \"Full Tree\"\n",
       "5. \"0.00707414274690525\"\n",
       "6. \"3.20399959092261e-05\"\n",
       "7. \"Full Pruned\"\n",
       "8. \"0.00706475831543387\"\n",
       "9. \"3.13438412036878e-05\"\n",
       "10. \"Full Forest\"\n",
       "11. \"0.00376004145962435\"\n",
       "12. \"1.19293745642211e-05\"\n",
       "\n",
       "\n"
      ],
      "text/plain": [
       "        [,1]       [,2]                   [,3]                  \n",
       "output1 \"Full\"     \"Full Tree\"            \"Full Pruned\"         \n",
       "        \"Mean\"     \"0.00707414274690525\"  \"0.00706475831543387\" \n",
       "        \"Variance\" \"3.20399959092261e-05\" \"3.13438412036878e-05\"\n",
       "        [,4]                  \n",
       "output1 \"Full Forest\"         \n",
       "        \"0.00376004145962435\" \n",
       "        \"1.19293745642211e-05\""
      ]
     },
     "execution_count": 11,
     "metadata": {},
     "output_type": "execute_result"
    },
    {
     "name": "stdout",
     "output_type": "stream",
     "text": [
      "[1] \"japan\"\n"
     ]
    },
    {
     "data": {
      "text/html": [
       "<table>\n",
       "<tbody>\n",
       "\t<tr><th scope=row>output1</th><td>Full       </td><td>Full Tree  </td><td>Full Pruned</td><td>Full Forest</td></tr>\n",
       "\t<tr><th scope=row></th><td>Mean              </td><td>0.0251392531462186</td><td>0.0249481180410519</td><td>0.0194840474349247</td></tr>\n",
       "\t<tr><th scope=row></th><td>Variance            </td><td>0.000103436367957419</td><td>0.000102604706767962</td><td>7.65668672750947e-05</td></tr>\n",
       "</tbody>\n",
       "</table>\n"
      ],
      "text/latex": [
       "\\begin{tabular}{r|llll}\n",
       "\toutput1 & Full        & Full Tree   & Full Pruned & Full Forest\\\\\n",
       "\t & Mean               & 0.0251392531462186 & 0.0249481180410519 & 0.0194840474349247\\\\\n",
       "\t & Variance             & 0.000103436367957419 & 0.000102604706767962 & 7.65668672750947e-05\\\\\n",
       "\\end{tabular}\n"
      ],
      "text/markdown": [
       "1. \"Full\"\n",
       "2. \"Mean\"\n",
       "3. \"Variance\"\n",
       "4. \"Full Tree\"\n",
       "5. \"0.0251392531462186\"\n",
       "6. \"0.000103436367957419\"\n",
       "7. \"Full Pruned\"\n",
       "8. \"0.0249481180410519\"\n",
       "9. \"0.000102604706767962\"\n",
       "10. \"Full Forest\"\n",
       "11. \"0.0194840474349247\"\n",
       "12. \"7.65668672750947e-05\"\n",
       "\n",
       "\n"
      ],
      "text/plain": [
       "        [,1]       [,2]                   [,3]                  \n",
       "output1 \"Full\"     \"Full Tree\"            \"Full Pruned\"         \n",
       "        \"Mean\"     \"0.0251392531462186\"   \"0.0249481180410519\"  \n",
       "        \"Variance\" \"0.000103436367957419\" \"0.000102604706767962\"\n",
       "        [,4]                  \n",
       "output1 \"Full Forest\"         \n",
       "        \"0.0194840474349247\"  \n",
       "        \"7.65668672750947e-05\""
      ]
     },
     "execution_count": 11,
     "metadata": {},
     "output_type": "execute_result"
    },
    {
     "name": "stdout",
     "output_type": "stream",
     "text": [
      "[1] \"korea\"\n"
     ]
    },
    {
     "data": {
      "text/html": [
       "<table>\n",
       "<tbody>\n",
       "\t<tr><th scope=row>output1</th><td>Full       </td><td>Full Tree  </td><td>Full Pruned</td><td>Full Forest</td></tr>\n",
       "\t<tr><th scope=row></th><td>Mean               </td><td>0.0155901105752191 </td><td>0.0154263002935465 </td><td>0.00969578948302358</td></tr>\n",
       "\t<tr><th scope=row></th><td>Variance            </td><td>8.14713952433877e-05</td><td>8.37404049007351e-05</td><td>9.62410538415353e-05</td></tr>\n",
       "</tbody>\n",
       "</table>\n"
      ],
      "text/latex": [
       "\\begin{tabular}{r|llll}\n",
       "\toutput1 & Full        & Full Tree   & Full Pruned & Full Forest\\\\\n",
       "\t & Mean                & 0.0155901105752191  & 0.0154263002935465  & 0.00969578948302358\\\\\n",
       "\t & Variance             & 8.14713952433877e-05 & 8.37404049007351e-05 & 9.62410538415353e-05\\\\\n",
       "\\end{tabular}\n"
      ],
      "text/markdown": [
       "1. \"Full\"\n",
       "2. \"Mean\"\n",
       "3. \"Variance\"\n",
       "4. \"Full Tree\"\n",
       "5. \"0.0155901105752191\"\n",
       "6. \"8.14713952433877e-05\"\n",
       "7. \"Full Pruned\"\n",
       "8. \"0.0154263002935465\"\n",
       "9. \"8.37404049007351e-05\"\n",
       "10. \"Full Forest\"\n",
       "11. \"0.00969578948302358\"\n",
       "12. \"9.62410538415353e-05\"\n",
       "\n",
       "\n"
      ],
      "text/plain": [
       "        [,1]       [,2]                   [,3]                  \n",
       "output1 \"Full\"     \"Full Tree\"            \"Full Pruned\"         \n",
       "        \"Mean\"     \"0.0155901105752191\"   \"0.0154263002935465\"  \n",
       "        \"Variance\" \"8.14713952433877e-05\" \"8.37404049007351e-05\"\n",
       "        [,4]                  \n",
       "output1 \"Full Forest\"         \n",
       "        \"0.00969578948302358\" \n",
       "        \"9.62410538415353e-05\""
      ]
     },
     "execution_count": 11,
     "metadata": {},
     "output_type": "execute_result"
    },
    {
     "name": "stdout",
     "output_type": "stream",
     "text": [
      "[1] \"canada\"\n"
     ]
    },
    {
     "data": {
      "text/html": [
       "<table>\n",
       "<tbody>\n",
       "\t<tr><th scope=row>output1</th><td>AIC       </td><td>AIC Tree  </td><td>AIC Pruned</td><td>AIC Forest</td></tr>\n",
       "\t<tr><th scope=row></th><td>Mean               </td><td>0.00521094181817907</td><td>0.00522078120270162</td><td>0.00431271251551261</td></tr>\n",
       "\t<tr><th scope=row></th><td>Variance            </td><td>5.08841202604072e-05</td><td>5.10587105166066e-05</td><td>3.64348644555315e-05</td></tr>\n",
       "</tbody>\n",
       "</table>\n"
      ],
      "text/latex": [
       "\\begin{tabular}{r|llll}\n",
       "\toutput1 & AIC        & AIC Tree   & AIC Pruned & AIC Forest\\\\\n",
       "\t & Mean                & 0.00521094181817907 & 0.00522078120270162 & 0.00431271251551261\\\\\n",
       "\t & Variance             & 5.08841202604072e-05 & 5.10587105166066e-05 & 3.64348644555315e-05\\\\\n",
       "\\end{tabular}\n"
      ],
      "text/markdown": [
       "1. \"AIC\"\n",
       "2. \"Mean\"\n",
       "3. \"Variance\"\n",
       "4. \"AIC Tree\"\n",
       "5. \"0.00521094181817907\"\n",
       "6. \"5.08841202604072e-05\"\n",
       "7. \"AIC Pruned\"\n",
       "8. \"0.00522078120270162\"\n",
       "9. \"5.10587105166066e-05\"\n",
       "10. \"AIC Forest\"\n",
       "11. \"0.00431271251551261\"\n",
       "12. \"3.64348644555315e-05\"\n",
       "\n",
       "\n"
      ],
      "text/plain": [
       "        [,1]       [,2]                   [,3]                  \n",
       "output1 \"AIC\"      \"AIC Tree\"             \"AIC Pruned\"          \n",
       "        \"Mean\"     \"0.00521094181817907\"  \"0.00522078120270162\" \n",
       "        \"Variance\" \"5.08841202604072e-05\" \"5.10587105166066e-05\"\n",
       "        [,4]                  \n",
       "output1 \"AIC Forest\"          \n",
       "        \"0.00431271251551261\" \n",
       "        \"3.64348644555315e-05\""
      ]
     },
     "execution_count": 11,
     "metadata": {},
     "output_type": "execute_result"
    },
    {
     "name": "stdout",
     "output_type": "stream",
     "text": [
      "[1] \"europe\"\n"
     ]
    },
    {
     "data": {
      "text/html": [
       "<table>\n",
       "<tbody>\n",
       "\t<tr><th scope=row>output1</th><td>AIC       </td><td>AIC Tree  </td><td>AIC Pruned</td><td>AIC Forest</td></tr>\n",
       "\t<tr><th scope=row></th><td>Mean              </td><td>0.0215349924348071</td><td>0.0219746015227531</td><td>0.0148148195962615</td></tr>\n",
       "\t<tr><th scope=row></th><td>Variance            </td><td>0.000303058455293629</td><td>0.000307268455685622</td><td>8.94192690853607e-05</td></tr>\n",
       "</tbody>\n",
       "</table>\n"
      ],
      "text/latex": [
       "\\begin{tabular}{r|llll}\n",
       "\toutput1 & AIC        & AIC Tree   & AIC Pruned & AIC Forest\\\\\n",
       "\t & Mean               & 0.0215349924348071 & 0.0219746015227531 & 0.0148148195962615\\\\\n",
       "\t & Variance             & 0.000303058455293629 & 0.000307268455685622 & 8.94192690853607e-05\\\\\n",
       "\\end{tabular}\n"
      ],
      "text/markdown": [
       "1. \"AIC\"\n",
       "2. \"Mean\"\n",
       "3. \"Variance\"\n",
       "4. \"AIC Tree\"\n",
       "5. \"0.0215349924348071\"\n",
       "6. \"0.000303058455293629\"\n",
       "7. \"AIC Pruned\"\n",
       "8. \"0.0219746015227531\"\n",
       "9. \"0.000307268455685622\"\n",
       "10. \"AIC Forest\"\n",
       "11. \"0.0148148195962615\"\n",
       "12. \"8.94192690853607e-05\"\n",
       "\n",
       "\n"
      ],
      "text/plain": [
       "        [,1]       [,2]                   [,3]                  \n",
       "output1 \"AIC\"      \"AIC Tree\"             \"AIC Pruned\"          \n",
       "        \"Mean\"     \"0.0215349924348071\"   \"0.0219746015227531\"  \n",
       "        \"Variance\" \"0.000303058455293629\" \"0.000307268455685622\"\n",
       "        [,4]                  \n",
       "output1 \"AIC Forest\"          \n",
       "        \"0.0148148195962615\"  \n",
       "        \"8.94192690853607e-05\""
      ]
     },
     "execution_count": 11,
     "metadata": {},
     "output_type": "execute_result"
    },
    {
     "name": "stdout",
     "output_type": "stream",
     "text": [
      "[1] \"mexico\"\n"
     ]
    },
    {
     "data": {
      "text/html": [
       "<table>\n",
       "<tbody>\n",
       "\t<tr><th scope=row>output1</th><td>AIC       </td><td>AIC Tree  </td><td>AIC Pruned</td><td>AIC Forest</td></tr>\n",
       "\t<tr><th scope=row></th><td>Mean               </td><td>0.00620051397700545</td><td>0.00621235669664418</td><td>0.00313367347085067</td></tr>\n",
       "\t<tr><th scope=row></th><td>Variance            </td><td>2.82760239485212e-05</td><td>2.95301316308539e-05</td><td>6.37894489359502e-06</td></tr>\n",
       "</tbody>\n",
       "</table>\n"
      ],
      "text/latex": [
       "\\begin{tabular}{r|llll}\n",
       "\toutput1 & AIC        & AIC Tree   & AIC Pruned & AIC Forest\\\\\n",
       "\t & Mean                & 0.00620051397700545 & 0.00621235669664418 & 0.00313367347085067\\\\\n",
       "\t & Variance             & 2.82760239485212e-05 & 2.95301316308539e-05 & 6.37894489359502e-06\\\\\n",
       "\\end{tabular}\n"
      ],
      "text/markdown": [
       "1. \"AIC\"\n",
       "2. \"Mean\"\n",
       "3. \"Variance\"\n",
       "4. \"AIC Tree\"\n",
       "5. \"0.00620051397700545\"\n",
       "6. \"2.82760239485212e-05\"\n",
       "7. \"AIC Pruned\"\n",
       "8. \"0.00621235669664418\"\n",
       "9. \"2.95301316308539e-05\"\n",
       "10. \"AIC Forest\"\n",
       "11. \"0.00313367347085067\"\n",
       "12. \"6.37894489359502e-06\"\n",
       "\n",
       "\n"
      ],
      "text/plain": [
       "        [,1]       [,2]                   [,3]                  \n",
       "output1 \"AIC\"      \"AIC Tree\"             \"AIC Pruned\"          \n",
       "        \"Mean\"     \"0.00620051397700545\"  \"0.00621235669664418\" \n",
       "        \"Variance\" \"2.82760239485212e-05\" \"2.95301316308539e-05\"\n",
       "        [,4]                  \n",
       "output1 \"AIC Forest\"          \n",
       "        \"0.00313367347085067\" \n",
       "        \"6.37894489359502e-06\""
      ]
     },
     "execution_count": 11,
     "metadata": {},
     "output_type": "execute_result"
    },
    {
     "name": "stdout",
     "output_type": "stream",
     "text": [
      "[1] \"japan\"\n"
     ]
    },
    {
     "data": {
      "text/html": [
       "<table>\n",
       "<tbody>\n",
       "\t<tr><th scope=row>output1</th><td>AIC       </td><td>AIC Tree  </td><td>AIC Pruned</td><td>AIC Forest</td></tr>\n",
       "\t<tr><th scope=row></th><td>Mean              </td><td>0.0271566346099998</td><td>0.0269836296865464</td><td>0.0206899863938671</td></tr>\n",
       "\t<tr><th scope=row></th><td>Variance            </td><td>0.000107655433766088</td><td>0.000102997027021231</td><td>6.59539813342089e-05</td></tr>\n",
       "</tbody>\n",
       "</table>\n"
      ],
      "text/latex": [
       "\\begin{tabular}{r|llll}\n",
       "\toutput1 & AIC        & AIC Tree   & AIC Pruned & AIC Forest\\\\\n",
       "\t & Mean               & 0.0271566346099998 & 0.0269836296865464 & 0.0206899863938671\\\\\n",
       "\t & Variance             & 0.000107655433766088 & 0.000102997027021231 & 6.59539813342089e-05\\\\\n",
       "\\end{tabular}\n"
      ],
      "text/markdown": [
       "1. \"AIC\"\n",
       "2. \"Mean\"\n",
       "3. \"Variance\"\n",
       "4. \"AIC Tree\"\n",
       "5. \"0.0271566346099998\"\n",
       "6. \"0.000107655433766088\"\n",
       "7. \"AIC Pruned\"\n",
       "8. \"0.0269836296865464\"\n",
       "9. \"0.000102997027021231\"\n",
       "10. \"AIC Forest\"\n",
       "11. \"0.0206899863938671\"\n",
       "12. \"6.59539813342089e-05\"\n",
       "\n",
       "\n"
      ],
      "text/plain": [
       "        [,1]       [,2]                   [,3]                  \n",
       "output1 \"AIC\"      \"AIC Tree\"             \"AIC Pruned\"          \n",
       "        \"Mean\"     \"0.0271566346099998\"   \"0.0269836296865464\"  \n",
       "        \"Variance\" \"0.000107655433766088\" \"0.000102997027021231\"\n",
       "        [,4]                  \n",
       "output1 \"AIC Forest\"          \n",
       "        \"0.0206899863938671\"  \n",
       "        \"6.59539813342089e-05\""
      ]
     },
     "execution_count": 11,
     "metadata": {},
     "output_type": "execute_result"
    },
    {
     "name": "stdout",
     "output_type": "stream",
     "text": [
      "[1] \"korea\"\n"
     ]
    },
    {
     "data": {
      "text/html": [
       "<table>\n",
       "<tbody>\n",
       "\t<tr><th scope=row>output1</th><td>AIC       </td><td>AIC Tree  </td><td>AIC Pruned</td><td>AIC Forest</td></tr>\n",
       "\t<tr><th scope=row></th><td>Mean              </td><td>0.0142880214202198</td><td>0.0143698389666439</td><td>0.009413044993738 </td></tr>\n",
       "\t<tr><th scope=row></th><td>Variance            </td><td>8.82222133241143e-05</td><td>8.62851260314784e-05</td><td>0.000108119653996643</td></tr>\n",
       "</tbody>\n",
       "</table>\n"
      ],
      "text/latex": [
       "\\begin{tabular}{r|llll}\n",
       "\toutput1 & AIC        & AIC Tree   & AIC Pruned & AIC Forest\\\\\n",
       "\t & Mean               & 0.0142880214202198 & 0.0143698389666439 & 0.009413044993738 \\\\\n",
       "\t & Variance             & 8.82222133241143e-05 & 8.62851260314784e-05 & 0.000108119653996643\\\\\n",
       "\\end{tabular}\n"
      ],
      "text/markdown": [
       "1. \"AIC\"\n",
       "2. \"Mean\"\n",
       "3. \"Variance\"\n",
       "4. \"AIC Tree\"\n",
       "5. \"0.0142880214202198\"\n",
       "6. \"8.82222133241143e-05\"\n",
       "7. \"AIC Pruned\"\n",
       "8. \"0.0143698389666439\"\n",
       "9. \"8.62851260314784e-05\"\n",
       "10. \"AIC Forest\"\n",
       "11. \"0.009413044993738\"\n",
       "12. \"0.000108119653996643\"\n",
       "\n",
       "\n"
      ],
      "text/plain": [
       "        [,1]       [,2]                   [,3]                  \n",
       "output1 \"AIC\"      \"AIC Tree\"             \"AIC Pruned\"          \n",
       "        \"Mean\"     \"0.0142880214202198\"   \"0.0143698389666439\"  \n",
       "        \"Variance\" \"8.82222133241143e-05\" \"8.62851260314784e-05\"\n",
       "        [,4]                  \n",
       "output1 \"AIC Forest\"          \n",
       "        \"0.009413044993738\"   \n",
       "        \"0.000108119653996643\""
      ]
     },
     "execution_count": 11,
     "metadata": {},
     "output_type": "execute_result"
    }
   ],
   "source": [
    "countries <- c('japan','europe','korea','mexico','canada')\n",
    "for (country in countries){\n",
    "ex_rates <- read.csv('topfive.csv')\n",
    "ex_rates <- subset(ex_rates, ex_rates$Country.y==country)\n",
    "    \n",
    "full <- subset(ex_rates, select = c(Pct_Chg, Exchange, X1Y_Yield_d, \n",
    "                X1Y_Yield_f, Int_d, Int_f,  Infl_d, Infl_f, GDPG_d,\n",
    "                GDPG_f, BOT_f, BOT_d, FER_f))\n",
    "\n",
    "full <- full %>% mutate(lag1.Exchange = lag(Exchange,1)) %>%\n",
    "                mutate(lag1.X1Y_Yield_d = lag(X1Y_Yield_d,1)) %>%\n",
    "                mutate(lag1.X1Y_Yield_f = lag(X1Y_Yield_f,1)) %>%\n",
    "                mutate(lag1.Infl_d = lag(Infl_d,1)) %>%\n",
    "                mutate(lag1.Infl_f = lag(Infl_f,1)) %>%\n",
    "                mutate(lag1.Int_d = lag(Int_d,1)) %>%\n",
    "                mutate(lag1.Int_f = lag(Int_f,1)) %>%\n",
    "\n",
    "                mutate(lag2.Exchange = lag(Exchange,2)) %>%\n",
    "                mutate(lag2.X1Y_Yield_d = lag(X1Y_Yield_d,2)) %>%\n",
    "                mutate(lag2.X1Y_Yield_f = lag(X1Y_Yield_f,2)) %>%\n",
    "                mutate(lag2.Infl_d = lag(Infl_d,2)) %>%\n",
    "                mutate(lag2.Infl_f = lag(Infl_f,2)) %>%\n",
    "                mutate(lag2.Int_d = lag(Int_d,2)) %>%\n",
    "                mutate(lag2.Int_f = lag(Int_f,2)) %>%\n",
    "    \n",
    "                mutate(lag3.Exchange = lag(Exchange,3)) %>%\n",
    "                mutate(lag3.X1Y_Yield_d = lag(X1Y_Yield_d,3)) %>%\n",
    "                mutate(lag3.X1Y_Yield_f = lag(X1Y_Yield_f,3)) %>%\n",
    "                mutate(lag3.Infl_d = lag(Infl_d,3)) %>%\n",
    "                mutate(lag3.Infl_f = lag(Infl_f,3)) %>%\n",
    "                mutate(lag3.Int_d = lag(Int_d,3)) %>%\n",
    "                mutate(lag3.Int_f = lag(Int_f,3)) %>%\n",
    "    \n",
    "                mutate(lag4.Exchange = lag(Exchange,4)) %>%\n",
    "                mutate(lag4.X1Y_Yield_d = lag(X1Y_Yield_d,4)) %>%\n",
    "                mutate(lag4.X1Y_Yield_f = lag(X1Y_Yield_f,4)) %>%\n",
    "                mutate(lag4.Infl_d = lag(Infl_d,4)) %>%\n",
    "                mutate(lag4.Infl_f = lag(Infl_f,4)) %>%\n",
    "                mutate(lag4.Int_d = lag(Int_d,4)) %>%\n",
    "                mutate(lag4.Int_f = lag(Int_f,4)) %>%\n",
    "    \n",
    "                mutate(lag5.Exchange = lag(Exchange,5)) %>%\n",
    "                mutate(lag5.X1Y_Yield_d = lag(X1Y_Yield_d,5)) %>%\n",
    "                mutate(lag5.X1Y_Yield_f = lag(X1Y_Yield_f,5)) %>%\n",
    "                mutate(lag5.Infl_d = lag(Infl_d,5)) %>%\n",
    "                mutate(lag5.Infl_f = lag(Infl_f,5)) %>%\n",
    "                mutate(lag5.Int_d = lag(Int_d,5)) %>%\n",
    "                mutate(lag5.Int_f = lag(Int_f,5))\n",
    "\n",
    "full <- na.omit(full)\n",
    "write.csv(full,file = paste(country,'_full.csv',sep=''))\n",
    "}\n",
    "\n",
    "print('canada')\n",
    "test_full_trees('canada',100)\n",
    "print('europe')\n",
    "test_full_trees('europe',100)\n",
    "print('mexico')\n",
    "test_full_trees('mexico',100)\n",
    "print('japan')\n",
    "test_full_trees('japan',100)\n",
    "print('korea')\n",
    "test_full_trees('korea',100)\n",
    "\n",
    "print('canada')\n",
    "test_aic_trees('canada',100)\n",
    "print('europe')\n",
    "test_aic_trees('europe',100)\n",
    "print('mexico')\n",
    "test_aic_trees('mexico',100)\n",
    "print('japan')\n",
    "test_aic_trees('japan',100)\n",
    "print('korea')\n",
    "test_aic_trees('korea',100)"
   ]
  },
  {
   "cell_type": "code",
   "execution_count": 12,
   "metadata": {
    "collapsed": false
   },
   "outputs": [
    {
     "name": "stdout",
     "output_type": "stream",
     "text": [
      "[1] \"canada\"\n"
     ]
    },
    {
     "data": {
      "text/html": [
       "<table>\n",
       "<tbody>\n",
       "\t<tr><th scope=row>output1</th><td>Full       </td><td>Full Tree  </td><td>Full Pruned</td><td>Full Forest</td></tr>\n",
       "\t<tr><th scope=row></th><td>Mean               </td><td>0.0071538424936152 </td><td>0.00717573546335076</td><td>0.0052191942049831 </td></tr>\n",
       "\t<tr><th scope=row></th><td>Variance            </td><td>8.53476302772296e-05</td><td>8.62813892814601e-05</td><td>5.61641551625972e-05</td></tr>\n",
       "</tbody>\n",
       "</table>\n"
      ],
      "text/latex": [
       "\\begin{tabular}{r|llll}\n",
       "\toutput1 & Full        & Full Tree   & Full Pruned & Full Forest\\\\\n",
       "\t & Mean                & 0.0071538424936152  & 0.00717573546335076 & 0.0052191942049831 \\\\\n",
       "\t & Variance             & 8.53476302772296e-05 & 8.62813892814601e-05 & 5.61641551625972e-05\\\\\n",
       "\\end{tabular}\n"
      ],
      "text/markdown": [
       "1. \"Full\"\n",
       "2. \"Mean\"\n",
       "3. \"Variance\"\n",
       "4. \"Full Tree\"\n",
       "5. \"0.0071538424936152\"\n",
       "6. \"8.53476302772296e-05\"\n",
       "7. \"Full Pruned\"\n",
       "8. \"0.00717573546335076\"\n",
       "9. \"8.62813892814601e-05\"\n",
       "10. \"Full Forest\"\n",
       "11. \"0.0052191942049831\"\n",
       "12. \"5.61641551625972e-05\"\n",
       "\n",
       "\n"
      ],
      "text/plain": [
       "        [,1]       [,2]                   [,3]                  \n",
       "output1 \"Full\"     \"Full Tree\"            \"Full Pruned\"         \n",
       "        \"Mean\"     \"0.0071538424936152\"   \"0.00717573546335076\" \n",
       "        \"Variance\" \"8.53476302772296e-05\" \"8.62813892814601e-05\"\n",
       "        [,4]                  \n",
       "output1 \"Full Forest\"         \n",
       "        \"0.0052191942049831\"  \n",
       "        \"5.61641551625972e-05\""
      ]
     },
     "execution_count": 12,
     "metadata": {},
     "output_type": "execute_result"
    },
    {
     "name": "stdout",
     "output_type": "stream",
     "text": [
      "[1] \"europe\"\n"
     ]
    },
    {
     "data": {
      "text/html": [
       "<table>\n",
       "<tbody>\n",
       "\t<tr><th scope=row>output1</th><td>Full       </td><td>Full Tree  </td><td>Full Pruned</td><td>Full Forest</td></tr>\n",
       "\t<tr><th scope=row></th><td>Mean              </td><td>0.0197017431857603</td><td>0.0200090359426321</td><td>0.0138535853907209</td></tr>\n",
       "\t<tr><th scope=row></th><td>Variance            </td><td>7.48057072340353e-05</td><td>8.17324355308687e-05</td><td>8.04226905762999e-05</td></tr>\n",
       "</tbody>\n",
       "</table>\n"
      ],
      "text/latex": [
       "\\begin{tabular}{r|llll}\n",
       "\toutput1 & Full        & Full Tree   & Full Pruned & Full Forest\\\\\n",
       "\t & Mean               & 0.0197017431857603 & 0.0200090359426321 & 0.0138535853907209\\\\\n",
       "\t & Variance             & 7.48057072340353e-05 & 8.17324355308687e-05 & 8.04226905762999e-05\\\\\n",
       "\\end{tabular}\n"
      ],
      "text/markdown": [
       "1. \"Full\"\n",
       "2. \"Mean\"\n",
       "3. \"Variance\"\n",
       "4. \"Full Tree\"\n",
       "5. \"0.0197017431857603\"\n",
       "6. \"7.48057072340353e-05\"\n",
       "7. \"Full Pruned\"\n",
       "8. \"0.0200090359426321\"\n",
       "9. \"8.17324355308687e-05\"\n",
       "10. \"Full Forest\"\n",
       "11. \"0.0138535853907209\"\n",
       "12. \"8.04226905762999e-05\"\n",
       "\n",
       "\n"
      ],
      "text/plain": [
       "        [,1]       [,2]                   [,3]                  \n",
       "output1 \"Full\"     \"Full Tree\"            \"Full Pruned\"         \n",
       "        \"Mean\"     \"0.0197017431857603\"   \"0.0200090359426321\"  \n",
       "        \"Variance\" \"7.48057072340353e-05\" \"8.17324355308687e-05\"\n",
       "        [,4]                  \n",
       "output1 \"Full Forest\"         \n",
       "        \"0.0138535853907209\"  \n",
       "        \"8.04226905762999e-05\""
      ]
     },
     "execution_count": 12,
     "metadata": {},
     "output_type": "execute_result"
    },
    {
     "name": "stdout",
     "output_type": "stream",
     "text": [
      "[1] \"mexico\"\n"
     ]
    },
    {
     "data": {
      "text/html": [
       "<table>\n",
       "<tbody>\n",
       "\t<tr><th scope=row>output1</th><td>Full       </td><td>Full Tree  </td><td>Full Pruned</td><td>Full Forest</td></tr>\n",
       "\t<tr><th scope=row></th><td>Mean               </td><td>0.00716805401445601</td><td>0.00703405382511897</td><td>0.00424302502575267</td></tr>\n",
       "\t<tr><th scope=row></th><td>Variance            </td><td>3.44142680174562e-05</td><td>3.56502244681072e-05</td><td>2.12938058988651e-05</td></tr>\n",
       "</tbody>\n",
       "</table>\n"
      ],
      "text/latex": [
       "\\begin{tabular}{r|llll}\n",
       "\toutput1 & Full        & Full Tree   & Full Pruned & Full Forest\\\\\n",
       "\t & Mean                & 0.00716805401445601 & 0.00703405382511897 & 0.00424302502575267\\\\\n",
       "\t & Variance             & 3.44142680174562e-05 & 3.56502244681072e-05 & 2.12938058988651e-05\\\\\n",
       "\\end{tabular}\n"
      ],
      "text/markdown": [
       "1. \"Full\"\n",
       "2. \"Mean\"\n",
       "3. \"Variance\"\n",
       "4. \"Full Tree\"\n",
       "5. \"0.00716805401445601\"\n",
       "6. \"3.44142680174562e-05\"\n",
       "7. \"Full Pruned\"\n",
       "8. \"0.00703405382511897\"\n",
       "9. \"3.56502244681072e-05\"\n",
       "10. \"Full Forest\"\n",
       "11. \"0.00424302502575267\"\n",
       "12. \"2.12938058988651e-05\"\n",
       "\n",
       "\n"
      ],
      "text/plain": [
       "        [,1]       [,2]                   [,3]                  \n",
       "output1 \"Full\"     \"Full Tree\"            \"Full Pruned\"         \n",
       "        \"Mean\"     \"0.00716805401445601\"  \"0.00703405382511897\" \n",
       "        \"Variance\" \"3.44142680174562e-05\" \"3.56502244681072e-05\"\n",
       "        [,4]                  \n",
       "output1 \"Full Forest\"         \n",
       "        \"0.00424302502575267\" \n",
       "        \"2.12938058988651e-05\""
      ]
     },
     "execution_count": 12,
     "metadata": {},
     "output_type": "execute_result"
    },
    {
     "name": "stdout",
     "output_type": "stream",
     "text": [
      "[1] \"japan\"\n"
     ]
    },
    {
     "data": {
      "text/html": [
       "<table>\n",
       "<tbody>\n",
       "\t<tr><th scope=row>output1</th><td>Full       </td><td>Full Tree  </td><td>Full Pruned</td><td>Full Forest</td></tr>\n",
       "\t<tr><th scope=row></th><td>Mean              </td><td>0.0245286494969599</td><td>0.0243260350321499</td><td>0.0193611711127937</td></tr>\n",
       "\t<tr><th scope=row></th><td>Variance            </td><td>0.000193136866135706</td><td>0.000189644422648814</td><td>6.93531503714816e-05</td></tr>\n",
       "</tbody>\n",
       "</table>\n"
      ],
      "text/latex": [
       "\\begin{tabular}{r|llll}\n",
       "\toutput1 & Full        & Full Tree   & Full Pruned & Full Forest\\\\\n",
       "\t & Mean               & 0.0245286494969599 & 0.0243260350321499 & 0.0193611711127937\\\\\n",
       "\t & Variance             & 0.000193136866135706 & 0.000189644422648814 & 6.93531503714816e-05\\\\\n",
       "\\end{tabular}\n"
      ],
      "text/markdown": [
       "1. \"Full\"\n",
       "2. \"Mean\"\n",
       "3. \"Variance\"\n",
       "4. \"Full Tree\"\n",
       "5. \"0.0245286494969599\"\n",
       "6. \"0.000193136866135706\"\n",
       "7. \"Full Pruned\"\n",
       "8. \"0.0243260350321499\"\n",
       "9. \"0.000189644422648814\"\n",
       "10. \"Full Forest\"\n",
       "11. \"0.0193611711127937\"\n",
       "12. \"6.93531503714816e-05\"\n",
       "\n",
       "\n"
      ],
      "text/plain": [
       "        [,1]       [,2]                   [,3]                  \n",
       "output1 \"Full\"     \"Full Tree\"            \"Full Pruned\"         \n",
       "        \"Mean\"     \"0.0245286494969599\"   \"0.0243260350321499\"  \n",
       "        \"Variance\" \"0.000193136866135706\" \"0.000189644422648814\"\n",
       "        [,4]                  \n",
       "output1 \"Full Forest\"         \n",
       "        \"0.0193611711127937\"  \n",
       "        \"6.93531503714816e-05\""
      ]
     },
     "execution_count": 12,
     "metadata": {},
     "output_type": "execute_result"
    },
    {
     "name": "stdout",
     "output_type": "stream",
     "text": [
      "[1] \"korea\"\n"
     ]
    },
    {
     "data": {
      "text/html": [
       "<table>\n",
       "<tbody>\n",
       "\t<tr><th scope=row>output1</th><td>Full       </td><td>Full Tree  </td><td>Full Pruned</td><td>Full Forest</td></tr>\n",
       "\t<tr><th scope=row></th><td>Mean               </td><td>0.014802692344686  </td><td>0.0145284526460965 </td><td>0.00942913021717155</td></tr>\n",
       "\t<tr><th scope=row></th><td>Variance            </td><td>7.72964409464497e-05</td><td>8.0338864914272e-05 </td><td>9.17537858274044e-05</td></tr>\n",
       "</tbody>\n",
       "</table>\n"
      ],
      "text/latex": [
       "\\begin{tabular}{r|llll}\n",
       "\toutput1 & Full        & Full Tree   & Full Pruned & Full Forest\\\\\n",
       "\t & Mean                & 0.014802692344686   & 0.0145284526460965  & 0.00942913021717155\\\\\n",
       "\t & Variance             & 7.72964409464497e-05 & 8.0338864914272e-05  & 9.17537858274044e-05\\\\\n",
       "\\end{tabular}\n"
      ],
      "text/markdown": [
       "1. \"Full\"\n",
       "2. \"Mean\"\n",
       "3. \"Variance\"\n",
       "4. \"Full Tree\"\n",
       "5. \"0.014802692344686\"\n",
       "6. \"7.72964409464497e-05\"\n",
       "7. \"Full Pruned\"\n",
       "8. \"0.0145284526460965\"\n",
       "9. \"8.0338864914272e-05\"\n",
       "10. \"Full Forest\"\n",
       "11. \"0.00942913021717155\"\n",
       "12. \"9.17537858274044e-05\"\n",
       "\n",
       "\n"
      ],
      "text/plain": [
       "        [,1]       [,2]                   [,3]                 \n",
       "output1 \"Full\"     \"Full Tree\"            \"Full Pruned\"        \n",
       "        \"Mean\"     \"0.014802692344686\"    \"0.0145284526460965\" \n",
       "        \"Variance\" \"7.72964409464497e-05\" \"8.0338864914272e-05\"\n",
       "        [,4]                  \n",
       "output1 \"Full Forest\"         \n",
       "        \"0.00942913021717155\" \n",
       "        \"9.17537858274044e-05\""
      ]
     },
     "execution_count": 12,
     "metadata": {},
     "output_type": "execute_result"
    },
    {
     "name": "stdout",
     "output_type": "stream",
     "text": [
      "[1] \"canada\"\n"
     ]
    },
    {
     "data": {
      "text/html": [
       "<table>\n",
       "<tbody>\n",
       "\t<tr><th scope=row>output1</th><td>AIC       </td><td>AIC Tree  </td><td>AIC Pruned</td><td>AIC Forest</td></tr>\n",
       "\t<tr><th scope=row></th><td>Mean               </td><td>0.00708421707659448</td><td>0.00707098616610663</td><td>0.00521801041651024</td></tr>\n",
       "\t<tr><th scope=row></th><td>Variance            </td><td>8.66482305722037e-05</td><td>8.25901689452565e-05</td><td>5.70695724057031e-05</td></tr>\n",
       "</tbody>\n",
       "</table>\n"
      ],
      "text/latex": [
       "\\begin{tabular}{r|llll}\n",
       "\toutput1 & AIC        & AIC Tree   & AIC Pruned & AIC Forest\\\\\n",
       "\t & Mean                & 0.00708421707659448 & 0.00707098616610663 & 0.00521801041651024\\\\\n",
       "\t & Variance             & 8.66482305722037e-05 & 8.25901689452565e-05 & 5.70695724057031e-05\\\\\n",
       "\\end{tabular}\n"
      ],
      "text/markdown": [
       "1. \"AIC\"\n",
       "2. \"Mean\"\n",
       "3. \"Variance\"\n",
       "4. \"AIC Tree\"\n",
       "5. \"0.00708421707659448\"\n",
       "6. \"8.66482305722037e-05\"\n",
       "7. \"AIC Pruned\"\n",
       "8. \"0.00707098616610663\"\n",
       "9. \"8.25901689452565e-05\"\n",
       "10. \"AIC Forest\"\n",
       "11. \"0.00521801041651024\"\n",
       "12. \"5.70695724057031e-05\"\n",
       "\n",
       "\n"
      ],
      "text/plain": [
       "        [,1]       [,2]                   [,3]                  \n",
       "output1 \"AIC\"      \"AIC Tree\"             \"AIC Pruned\"          \n",
       "        \"Mean\"     \"0.00708421707659448\"  \"0.00707098616610663\" \n",
       "        \"Variance\" \"8.66482305722037e-05\" \"8.25901689452565e-05\"\n",
       "        [,4]                  \n",
       "output1 \"AIC Forest\"          \n",
       "        \"0.00521801041651024\" \n",
       "        \"5.70695724057031e-05\""
      ]
     },
     "execution_count": 12,
     "metadata": {},
     "output_type": "execute_result"
    },
    {
     "name": "stdout",
     "output_type": "stream",
     "text": [
      "[1] \"europe\"\n"
     ]
    },
    {
     "data": {
      "text/html": [
       "<table>\n",
       "<tbody>\n",
       "\t<tr><th scope=row>output1</th><td>AIC       </td><td>AIC Tree  </td><td>AIC Pruned</td><td>AIC Forest</td></tr>\n",
       "\t<tr><th scope=row></th><td>Mean              </td><td>0.0179804588492135</td><td>0.0179277853712602</td><td>0.0151018310002651</td></tr>\n",
       "\t<tr><th scope=row></th><td>Variance            </td><td>9.39203017964397e-05</td><td>9.38430521569059e-05</td><td>8.68009689743722e-05</td></tr>\n",
       "</tbody>\n",
       "</table>\n"
      ],
      "text/latex": [
       "\\begin{tabular}{r|llll}\n",
       "\toutput1 & AIC        & AIC Tree   & AIC Pruned & AIC Forest\\\\\n",
       "\t & Mean               & 0.0179804588492135 & 0.0179277853712602 & 0.0151018310002651\\\\\n",
       "\t & Variance             & 9.39203017964397e-05 & 9.38430521569059e-05 & 8.68009689743722e-05\\\\\n",
       "\\end{tabular}\n"
      ],
      "text/markdown": [
       "1. \"AIC\"\n",
       "2. \"Mean\"\n",
       "3. \"Variance\"\n",
       "4. \"AIC Tree\"\n",
       "5. \"0.0179804588492135\"\n",
       "6. \"9.39203017964397e-05\"\n",
       "7. \"AIC Pruned\"\n",
       "8. \"0.0179277853712602\"\n",
       "9. \"9.38430521569059e-05\"\n",
       "10. \"AIC Forest\"\n",
       "11. \"0.0151018310002651\"\n",
       "12. \"8.68009689743722e-05\"\n",
       "\n",
       "\n"
      ],
      "text/plain": [
       "        [,1]       [,2]                   [,3]                  \n",
       "output1 \"AIC\"      \"AIC Tree\"             \"AIC Pruned\"          \n",
       "        \"Mean\"     \"0.0179804588492135\"   \"0.0179277853712602\"  \n",
       "        \"Variance\" \"9.39203017964397e-05\" \"9.38430521569059e-05\"\n",
       "        [,4]                  \n",
       "output1 \"AIC Forest\"          \n",
       "        \"0.0151018310002651\"  \n",
       "        \"8.68009689743722e-05\""
      ]
     },
     "execution_count": 12,
     "metadata": {},
     "output_type": "execute_result"
    },
    {
     "name": "stdout",
     "output_type": "stream",
     "text": [
      "[1] \"mexico\"\n"
     ]
    },
    {
     "data": {
      "text/html": [
       "<table>\n",
       "<tbody>\n",
       "\t<tr><th scope=row>output1</th><td>AIC       </td><td>AIC Tree  </td><td>AIC Pruned</td><td>AIC Forest</td></tr>\n",
       "\t<tr><th scope=row></th><td>Mean               </td><td>0.00646410551679496</td><td>0.00636401477026538</td><td>0.00408503571876879</td></tr>\n",
       "\t<tr><th scope=row></th><td>Variance            </td><td>2.61671551688303e-05</td><td>2.7565087369239e-05 </td><td>1.66200541745753e-05</td></tr>\n",
       "</tbody>\n",
       "</table>\n"
      ],
      "text/latex": [
       "\\begin{tabular}{r|llll}\n",
       "\toutput1 & AIC        & AIC Tree   & AIC Pruned & AIC Forest\\\\\n",
       "\t & Mean                & 0.00646410551679496 & 0.00636401477026538 & 0.00408503571876879\\\\\n",
       "\t & Variance             & 2.61671551688303e-05 & 2.7565087369239e-05  & 1.66200541745753e-05\\\\\n",
       "\\end{tabular}\n"
      ],
      "text/markdown": [
       "1. \"AIC\"\n",
       "2. \"Mean\"\n",
       "3. \"Variance\"\n",
       "4. \"AIC Tree\"\n",
       "5. \"0.00646410551679496\"\n",
       "6. \"2.61671551688303e-05\"\n",
       "7. \"AIC Pruned\"\n",
       "8. \"0.00636401477026538\"\n",
       "9. \"2.7565087369239e-05\"\n",
       "10. \"AIC Forest\"\n",
       "11. \"0.00408503571876879\"\n",
       "12. \"1.66200541745753e-05\"\n",
       "\n",
       "\n"
      ],
      "text/plain": [
       "        [,1]       [,2]                   [,3]                 \n",
       "output1 \"AIC\"      \"AIC Tree\"             \"AIC Pruned\"         \n",
       "        \"Mean\"     \"0.00646410551679496\"  \"0.00636401477026538\"\n",
       "        \"Variance\" \"2.61671551688303e-05\" \"2.7565087369239e-05\"\n",
       "        [,4]                  \n",
       "output1 \"AIC Forest\"          \n",
       "        \"0.00408503571876879\" \n",
       "        \"1.66200541745753e-05\""
      ]
     },
     "execution_count": 12,
     "metadata": {},
     "output_type": "execute_result"
    },
    {
     "name": "stdout",
     "output_type": "stream",
     "text": [
      "[1] \"japan\"\n"
     ]
    },
    {
     "data": {
      "text/html": [
       "<table>\n",
       "<tbody>\n",
       "\t<tr><th scope=row>output1</th><td>AIC       </td><td>AIC Tree  </td><td>AIC Pruned</td><td>AIC Forest</td></tr>\n",
       "\t<tr><th scope=row></th><td>Mean              </td><td>0.0286944341041191</td><td>0.0284888042286558</td><td>0.0213237366978958</td></tr>\n",
       "\t<tr><th scope=row></th><td>Variance            </td><td>0.000298914275070719</td><td>0.000298721717368116</td><td>6.17467837586999e-05</td></tr>\n",
       "</tbody>\n",
       "</table>\n"
      ],
      "text/latex": [
       "\\begin{tabular}{r|llll}\n",
       "\toutput1 & AIC        & AIC Tree   & AIC Pruned & AIC Forest\\\\\n",
       "\t & Mean               & 0.0286944341041191 & 0.0284888042286558 & 0.0213237366978958\\\\\n",
       "\t & Variance             & 0.000298914275070719 & 0.000298721717368116 & 6.17467837586999e-05\\\\\n",
       "\\end{tabular}\n"
      ],
      "text/markdown": [
       "1. \"AIC\"\n",
       "2. \"Mean\"\n",
       "3. \"Variance\"\n",
       "4. \"AIC Tree\"\n",
       "5. \"0.0286944341041191\"\n",
       "6. \"0.000298914275070719\"\n",
       "7. \"AIC Pruned\"\n",
       "8. \"0.0284888042286558\"\n",
       "9. \"0.000298721717368116\"\n",
       "10. \"AIC Forest\"\n",
       "11. \"0.0213237366978958\"\n",
       "12. \"6.17467837586999e-05\"\n",
       "\n",
       "\n"
      ],
      "text/plain": [
       "        [,1]       [,2]                   [,3]                  \n",
       "output1 \"AIC\"      \"AIC Tree\"             \"AIC Pruned\"          \n",
       "        \"Mean\"     \"0.0286944341041191\"   \"0.0284888042286558\"  \n",
       "        \"Variance\" \"0.000298914275070719\" \"0.000298721717368116\"\n",
       "        [,4]                  \n",
       "output1 \"AIC Forest\"          \n",
       "        \"0.0213237366978958\"  \n",
       "        \"6.17467837586999e-05\""
      ]
     },
     "execution_count": 12,
     "metadata": {},
     "output_type": "execute_result"
    },
    {
     "name": "stdout",
     "output_type": "stream",
     "text": [
      "[1] \"korea\"\n"
     ]
    },
    {
     "data": {
      "text/html": [
       "<table>\n",
       "<tbody>\n",
       "\t<tr><th scope=row>output1</th><td>AIC       </td><td>AIC Tree  </td><td>AIC Pruned</td><td>AIC Forest</td></tr>\n",
       "\t<tr><th scope=row></th><td>Mean               </td><td>0.0127518374340552 </td><td>0.012817220658813  </td><td>0.00933978269579364</td></tr>\n",
       "\t<tr><th scope=row></th><td>Variance            </td><td>9.07184186363705e-05</td><td>9.02170593619813e-05</td><td>0.000115939827889348</td></tr>\n",
       "</tbody>\n",
       "</table>\n"
      ],
      "text/latex": [
       "\\begin{tabular}{r|llll}\n",
       "\toutput1 & AIC        & AIC Tree   & AIC Pruned & AIC Forest\\\\\n",
       "\t & Mean                & 0.0127518374340552  & 0.012817220658813   & 0.00933978269579364\\\\\n",
       "\t & Variance             & 9.07184186363705e-05 & 9.02170593619813e-05 & 0.000115939827889348\\\\\n",
       "\\end{tabular}\n"
      ],
      "text/markdown": [
       "1. \"AIC\"\n",
       "2. \"Mean\"\n",
       "3. \"Variance\"\n",
       "4. \"AIC Tree\"\n",
       "5. \"0.0127518374340552\"\n",
       "6. \"9.07184186363705e-05\"\n",
       "7. \"AIC Pruned\"\n",
       "8. \"0.012817220658813\"\n",
       "9. \"9.02170593619813e-05\"\n",
       "10. \"AIC Forest\"\n",
       "11. \"0.00933978269579364\"\n",
       "12. \"0.000115939827889348\"\n",
       "\n",
       "\n"
      ],
      "text/plain": [
       "        [,1]       [,2]                   [,3]                  \n",
       "output1 \"AIC\"      \"AIC Tree\"             \"AIC Pruned\"          \n",
       "        \"Mean\"     \"0.0127518374340552\"   \"0.012817220658813\"   \n",
       "        \"Variance\" \"9.07184186363705e-05\" \"9.02170593619813e-05\"\n",
       "        [,4]                  \n",
       "output1 \"AIC Forest\"          \n",
       "        \"0.00933978269579364\" \n",
       "        \"0.000115939827889348\""
      ]
     },
     "execution_count": 12,
     "metadata": {},
     "output_type": "execute_result"
    }
   ],
   "source": [
    "countries <- c('japan','europe','korea','mexico','canada')\n",
    "for (country in countries){\n",
    "ex_rates <- read.csv('topfive.csv')\n",
    "ex_rates <- subset(ex_rates, ex_rates$Country.y==country)\n",
    "    \n",
    "full <- subset(ex_rates, select = c(Pct_Chg, Exchange, X1Y_Yield_d, \n",
    "                X1Y_Yield_f, Int_d, Int_f,  Infl_d, Infl_f, GDPG_d,\n",
    "                GDPG_f, BOT_f, BOT_d, FER_f))\n",
    "\n",
    "full <- full %>% mutate(lag1.Exchange = lag(Exchange,1)) %>%\n",
    "                mutate(lag1.X1Y_Yield_d = lag(X1Y_Yield_d,1)) %>%\n",
    "                mutate(lag1.X1Y_Yield_f = lag(X1Y_Yield_f,1)) %>%\n",
    "                mutate(lag1.Infl_d = lag(Infl_d,1)) %>%\n",
    "                mutate(lag1.Infl_f = lag(Infl_f,1)) %>%\n",
    "                mutate(lag1.Int_d = lag(Int_d,1)) %>%\n",
    "                mutate(lag1.Int_f = lag(Int_f,1)) %>%\n",
    "\n",
    "                mutate(lag2.Exchange = lag(Exchange,2)) %>%\n",
    "                mutate(lag2.X1Y_Yield_d = lag(X1Y_Yield_d,2)) %>%\n",
    "                mutate(lag2.X1Y_Yield_f = lag(X1Y_Yield_f,2)) %>%\n",
    "                mutate(lag2.Infl_d = lag(Infl_d,2)) %>%\n",
    "                mutate(lag2.Infl_f = lag(Infl_f,2)) %>%\n",
    "                mutate(lag2.Int_d = lag(Int_d,2)) %>%\n",
    "                mutate(lag2.Int_f = lag(Int_f,2)) %>%\n",
    "    \n",
    "                mutate(lag3.Exchange = lag(Exchange,3)) %>%\n",
    "                mutate(lag3.X1Y_Yield_d = lag(X1Y_Yield_d,3)) %>%\n",
    "                mutate(lag3.X1Y_Yield_f = lag(X1Y_Yield_f,3)) %>%\n",
    "                mutate(lag3.Infl_d = lag(Infl_d,3)) %>%\n",
    "                mutate(lag3.Infl_f = lag(Infl_f,3)) %>%\n",
    "                mutate(lag3.Int_d = lag(Int_d,3)) %>%\n",
    "                mutate(lag3.Int_f = lag(Int_f,3)) %>%\n",
    "    \n",
    "                mutate(lag4.Exchange = lag(Exchange,4)) %>%\n",
    "                mutate(lag4.X1Y_Yield_d = lag(X1Y_Yield_d,4)) %>%\n",
    "                mutate(lag4.X1Y_Yield_f = lag(X1Y_Yield_f,4)) %>%\n",
    "                mutate(lag4.Infl_d = lag(Infl_d,4)) %>%\n",
    "                mutate(lag4.Infl_f = lag(Infl_f,4)) %>%\n",
    "                mutate(lag4.Int_d = lag(Int_d,4)) %>%\n",
    "                mutate(lag4.Int_f = lag(Int_f,4)) %>%\n",
    "    \n",
    "                mutate(lag5.Exchange = lag(Exchange,5)) %>%\n",
    "                mutate(lag5.X1Y_Yield_d = lag(X1Y_Yield_d,5)) %>%\n",
    "                mutate(lag5.X1Y_Yield_f = lag(X1Y_Yield_f,5)) %>%\n",
    "                mutate(lag5.Infl_d = lag(Infl_d,5)) %>%\n",
    "                mutate(lag5.Infl_f = lag(Infl_f,5)) %>%\n",
    "                mutate(lag5.Int_d = lag(Int_d,5)) %>%\n",
    "                mutate(lag5.Int_f = lag(Int_f,5)) %>%\n",
    "    \n",
    "                mutate(lag6.Exchange = lag(Exchange,6)) %>%\n",
    "                mutate(lag6.X1Y_Yield_d = lag(X1Y_Yield_d,6)) %>%\n",
    "                mutate(lag6.X1Y_Yield_f = lag(X1Y_Yield_f,6)) %>%\n",
    "                mutate(lag6.Infl_d = lag(Infl_d,6)) %>%\n",
    "                mutate(lag6.Infl_f = lag(Infl_f,6)) %>%\n",
    "                mutate(lag6.Int_d = lag(Int_d,6)) %>%\n",
    "                mutate(lag6.Int_f = lag(Int_f,6))\n",
    "\n",
    "full <- na.omit(full)\n",
    "write.csv(full,file = paste(country,'_full.csv',sep=''))\n",
    "}\n",
    "\n",
    "print('canada')\n",
    "test_full_trees('canada',100)\n",
    "print('europe')\n",
    "test_full_trees('europe',100)\n",
    "print('mexico')\n",
    "test_full_trees('mexico',100)\n",
    "print('japan')\n",
    "test_full_trees('japan',100)\n",
    "print('korea')\n",
    "test_full_trees('korea',100)\n",
    "\n",
    "print('canada')\n",
    "test_aic_trees('canada',100)\n",
    "print('europe')\n",
    "test_aic_trees('europe',100)\n",
    "print('mexico')\n",
    "test_aic_trees('mexico',100)\n",
    "print('japan')\n",
    "test_aic_trees('japan',100)\n",
    "print('korea')\n",
    "test_aic_trees('korea',100)"
   ]
  },
  {
   "cell_type": "code",
   "execution_count": 13,
   "metadata": {
    "collapsed": false
   },
   "outputs": [
    {
     "name": "stdout",
     "output_type": "stream",
     "text": [
      "[1] \"canada\"\n"
     ]
    },
    {
     "data": {
      "text/html": [
       "<table>\n",
       "<tbody>\n",
       "\t<tr><th scope=row>output1</th><td>Full       </td><td>Full Tree  </td><td>Full Pruned</td><td>Full Forest</td></tr>\n",
       "\t<tr><th scope=row></th><td>Mean               </td><td>0.00554410732563508</td><td>0.00548976639830343</td><td>0.00522782391276848</td></tr>\n",
       "\t<tr><th scope=row></th><td>Variance            </td><td>3.86600009386317e-05</td><td>3.92117883312043e-05</td><td>6.26140253121961e-05</td></tr>\n",
       "</tbody>\n",
       "</table>\n"
      ],
      "text/latex": [
       "\\begin{tabular}{r|llll}\n",
       "\toutput1 & Full        & Full Tree   & Full Pruned & Full Forest\\\\\n",
       "\t & Mean                & 0.00554410732563508 & 0.00548976639830343 & 0.00522782391276848\\\\\n",
       "\t & Variance             & 3.86600009386317e-05 & 3.92117883312043e-05 & 6.26140253121961e-05\\\\\n",
       "\\end{tabular}\n"
      ],
      "text/markdown": [
       "1. \"Full\"\n",
       "2. \"Mean\"\n",
       "3. \"Variance\"\n",
       "4. \"Full Tree\"\n",
       "5. \"0.00554410732563508\"\n",
       "6. \"3.86600009386317e-05\"\n",
       "7. \"Full Pruned\"\n",
       "8. \"0.00548976639830343\"\n",
       "9. \"3.92117883312043e-05\"\n",
       "10. \"Full Forest\"\n",
       "11. \"0.00522782391276848\"\n",
       "12. \"6.26140253121961e-05\"\n",
       "\n",
       "\n"
      ],
      "text/plain": [
       "        [,1]       [,2]                   [,3]                  \n",
       "output1 \"Full\"     \"Full Tree\"            \"Full Pruned\"         \n",
       "        \"Mean\"     \"0.00554410732563508\"  \"0.00548976639830343\" \n",
       "        \"Variance\" \"3.86600009386317e-05\" \"3.92117883312043e-05\"\n",
       "        [,4]                  \n",
       "output1 \"Full Forest\"         \n",
       "        \"0.00522782391276848\" \n",
       "        \"6.26140253121961e-05\""
      ]
     },
     "execution_count": 13,
     "metadata": {},
     "output_type": "execute_result"
    },
    {
     "name": "stdout",
     "output_type": "stream",
     "text": [
      "[1] \"europe\"\n"
     ]
    },
    {
     "data": {
      "text/html": [
       "<table>\n",
       "<tbody>\n",
       "\t<tr><th scope=row>output1</th><td>Full       </td><td>Full Tree  </td><td>Full Pruned</td><td>Full Forest</td></tr>\n",
       "\t<tr><th scope=row></th><td>Mean              </td><td>0.0180673327445436</td><td>0.0183763931652427</td><td>0.0131285449600935</td></tr>\n",
       "\t<tr><th scope=row></th><td>Variance            </td><td>8.58200123166978e-05</td><td>9.0641715187494e-05 </td><td>8.07190210296585e-05</td></tr>\n",
       "</tbody>\n",
       "</table>\n"
      ],
      "text/latex": [
       "\\begin{tabular}{r|llll}\n",
       "\toutput1 & Full        & Full Tree   & Full Pruned & Full Forest\\\\\n",
       "\t & Mean               & 0.0180673327445436 & 0.0183763931652427 & 0.0131285449600935\\\\\n",
       "\t & Variance             & 8.58200123166978e-05 & 9.0641715187494e-05  & 8.07190210296585e-05\\\\\n",
       "\\end{tabular}\n"
      ],
      "text/markdown": [
       "1. \"Full\"\n",
       "2. \"Mean\"\n",
       "3. \"Variance\"\n",
       "4. \"Full Tree\"\n",
       "5. \"0.0180673327445436\"\n",
       "6. \"8.58200123166978e-05\"\n",
       "7. \"Full Pruned\"\n",
       "8. \"0.0183763931652427\"\n",
       "9. \"9.0641715187494e-05\"\n",
       "10. \"Full Forest\"\n",
       "11. \"0.0131285449600935\"\n",
       "12. \"8.07190210296585e-05\"\n",
       "\n",
       "\n"
      ],
      "text/plain": [
       "        [,1]       [,2]                   [,3]                 \n",
       "output1 \"Full\"     \"Full Tree\"            \"Full Pruned\"        \n",
       "        \"Mean\"     \"0.0180673327445436\"   \"0.0183763931652427\" \n",
       "        \"Variance\" \"8.58200123166978e-05\" \"9.0641715187494e-05\"\n",
       "        [,4]                  \n",
       "output1 \"Full Forest\"         \n",
       "        \"0.0131285449600935\"  \n",
       "        \"8.07190210296585e-05\""
      ]
     },
     "execution_count": 13,
     "metadata": {},
     "output_type": "execute_result"
    },
    {
     "name": "stdout",
     "output_type": "stream",
     "text": [
      "[1] \"mexico\"\n"
     ]
    },
    {
     "data": {
      "text/html": [
       "<table>\n",
       "<tbody>\n",
       "\t<tr><th scope=row>output1</th><td>Full       </td><td>Full Tree  </td><td>Full Pruned</td><td>Full Forest</td></tr>\n",
       "\t<tr><th scope=row></th><td>Mean               </td><td>0.00721325768698996</td><td>0.00725397475072899</td><td>0.00448237969565795</td></tr>\n",
       "\t<tr><th scope=row></th><td>Variance            </td><td>5.37292688786806e-05</td><td>5.55264993418707e-05</td><td>2.12337870789854e-05</td></tr>\n",
       "</tbody>\n",
       "</table>\n"
      ],
      "text/latex": [
       "\\begin{tabular}{r|llll}\n",
       "\toutput1 & Full        & Full Tree   & Full Pruned & Full Forest\\\\\n",
       "\t & Mean                & 0.00721325768698996 & 0.00725397475072899 & 0.00448237969565795\\\\\n",
       "\t & Variance             & 5.37292688786806e-05 & 5.55264993418707e-05 & 2.12337870789854e-05\\\\\n",
       "\\end{tabular}\n"
      ],
      "text/markdown": [
       "1. \"Full\"\n",
       "2. \"Mean\"\n",
       "3. \"Variance\"\n",
       "4. \"Full Tree\"\n",
       "5. \"0.00721325768698996\"\n",
       "6. \"5.37292688786806e-05\"\n",
       "7. \"Full Pruned\"\n",
       "8. \"0.00725397475072899\"\n",
       "9. \"5.55264993418707e-05\"\n",
       "10. \"Full Forest\"\n",
       "11. \"0.00448237969565795\"\n",
       "12. \"2.12337870789854e-05\"\n",
       "\n",
       "\n"
      ],
      "text/plain": [
       "        [,1]       [,2]                   [,3]                  \n",
       "output1 \"Full\"     \"Full Tree\"            \"Full Pruned\"         \n",
       "        \"Mean\"     \"0.00721325768698996\"  \"0.00725397475072899\" \n",
       "        \"Variance\" \"5.37292688786806e-05\" \"5.55264993418707e-05\"\n",
       "        [,4]                  \n",
       "output1 \"Full Forest\"         \n",
       "        \"0.00448237969565795\" \n",
       "        \"2.12337870789854e-05\""
      ]
     },
     "execution_count": 13,
     "metadata": {},
     "output_type": "execute_result"
    },
    {
     "name": "stdout",
     "output_type": "stream",
     "text": [
      "[1] \"japan\"\n"
     ]
    },
    {
     "data": {
      "text/html": [
       "<table>\n",
       "<tbody>\n",
       "\t<tr><th scope=row>output1</th><td>Full       </td><td>Full Tree  </td><td>Full Pruned</td><td>Full Forest</td></tr>\n",
       "\t<tr><th scope=row></th><td>Mean              </td><td>0.0254430642506339</td><td>0.0254043683318543</td><td>0.0210822317375178</td></tr>\n",
       "\t<tr><th scope=row></th><td>Variance            </td><td>0.000129657793779139</td><td>0.000129830032653653</td><td>7.48222616543815e-05</td></tr>\n",
       "</tbody>\n",
       "</table>\n"
      ],
      "text/latex": [
       "\\begin{tabular}{r|llll}\n",
       "\toutput1 & Full        & Full Tree   & Full Pruned & Full Forest\\\\\n",
       "\t & Mean               & 0.0254430642506339 & 0.0254043683318543 & 0.0210822317375178\\\\\n",
       "\t & Variance             & 0.000129657793779139 & 0.000129830032653653 & 7.48222616543815e-05\\\\\n",
       "\\end{tabular}\n"
      ],
      "text/markdown": [
       "1. \"Full\"\n",
       "2. \"Mean\"\n",
       "3. \"Variance\"\n",
       "4. \"Full Tree\"\n",
       "5. \"0.0254430642506339\"\n",
       "6. \"0.000129657793779139\"\n",
       "7. \"Full Pruned\"\n",
       "8. \"0.0254043683318543\"\n",
       "9. \"0.000129830032653653\"\n",
       "10. \"Full Forest\"\n",
       "11. \"0.0210822317375178\"\n",
       "12. \"7.48222616543815e-05\"\n",
       "\n",
       "\n"
      ],
      "text/plain": [
       "        [,1]       [,2]                   [,3]                  \n",
       "output1 \"Full\"     \"Full Tree\"            \"Full Pruned\"         \n",
       "        \"Mean\"     \"0.0254430642506339\"   \"0.0254043683318543\"  \n",
       "        \"Variance\" \"0.000129657793779139\" \"0.000129830032653653\"\n",
       "        [,4]                  \n",
       "output1 \"Full Forest\"         \n",
       "        \"0.0210822317375178\"  \n",
       "        \"7.48222616543815e-05\""
      ]
     },
     "execution_count": 13,
     "metadata": {},
     "output_type": "execute_result"
    },
    {
     "name": "stdout",
     "output_type": "stream",
     "text": [
      "[1] \"korea\"\n"
     ]
    },
    {
     "data": {
      "text/html": [
       "<table>\n",
       "<tbody>\n",
       "\t<tr><th scope=row>output1</th><td>Full       </td><td>Full Tree  </td><td>Full Pruned</td><td>Full Forest</td></tr>\n",
       "\t<tr><th scope=row></th><td>Mean               </td><td>0.0169917663134616 </td><td>0.0168279035731189 </td><td>0.00921727722670517</td></tr>\n",
       "\t<tr><th scope=row></th><td>Variance            </td><td>7.59377551084435e-05</td><td>7.680215998444e-05  </td><td>7.61292175802515e-05</td></tr>\n",
       "</tbody>\n",
       "</table>\n"
      ],
      "text/latex": [
       "\\begin{tabular}{r|llll}\n",
       "\toutput1 & Full        & Full Tree   & Full Pruned & Full Forest\\\\\n",
       "\t & Mean                & 0.0169917663134616  & 0.0168279035731189  & 0.00921727722670517\\\\\n",
       "\t & Variance             & 7.59377551084435e-05 & 7.680215998444e-05   & 7.61292175802515e-05\\\\\n",
       "\\end{tabular}\n"
      ],
      "text/markdown": [
       "1. \"Full\"\n",
       "2. \"Mean\"\n",
       "3. \"Variance\"\n",
       "4. \"Full Tree\"\n",
       "5. \"0.0169917663134616\"\n",
       "6. \"7.59377551084435e-05\"\n",
       "7. \"Full Pruned\"\n",
       "8. \"0.0168279035731189\"\n",
       "9. \"7.680215998444e-05\"\n",
       "10. \"Full Forest\"\n",
       "11. \"0.00921727722670517\"\n",
       "12. \"7.61292175802515e-05\"\n",
       "\n",
       "\n"
      ],
      "text/plain": [
       "        [,1]       [,2]                   [,3]                \n",
       "output1 \"Full\"     \"Full Tree\"            \"Full Pruned\"       \n",
       "        \"Mean\"     \"0.0169917663134616\"   \"0.0168279035731189\"\n",
       "        \"Variance\" \"7.59377551084435e-05\" \"7.680215998444e-05\"\n",
       "        [,4]                  \n",
       "output1 \"Full Forest\"         \n",
       "        \"0.00921727722670517\" \n",
       "        \"7.61292175802515e-05\""
      ]
     },
     "execution_count": 13,
     "metadata": {},
     "output_type": "execute_result"
    },
    {
     "name": "stdout",
     "output_type": "stream",
     "text": [
      "[1] \"canada\"\n"
     ]
    },
    {
     "data": {
      "text/html": [
       "<table>\n",
       "<tbody>\n",
       "\t<tr><th scope=row>output1</th><td>AIC       </td><td>AIC Tree  </td><td>AIC Pruned</td><td>AIC Forest</td></tr>\n",
       "\t<tr><th scope=row></th><td>Mean               </td><td>0.00565770208808198</td><td>0.00572524834733494</td><td>0.00470689567978302</td></tr>\n",
       "\t<tr><th scope=row></th><td>Variance            </td><td>3.56651374416174e-05</td><td>3.67834153285657e-05</td><td>5.2324891331611e-05 </td></tr>\n",
       "</tbody>\n",
       "</table>\n"
      ],
      "text/latex": [
       "\\begin{tabular}{r|llll}\n",
       "\toutput1 & AIC        & AIC Tree   & AIC Pruned & AIC Forest\\\\\n",
       "\t & Mean                & 0.00565770208808198 & 0.00572524834733494 & 0.00470689567978302\\\\\n",
       "\t & Variance             & 3.56651374416174e-05 & 3.67834153285657e-05 & 5.2324891331611e-05 \\\\\n",
       "\\end{tabular}\n"
      ],
      "text/markdown": [
       "1. \"AIC\"\n",
       "2. \"Mean\"\n",
       "3. \"Variance\"\n",
       "4. \"AIC Tree\"\n",
       "5. \"0.00565770208808198\"\n",
       "6. \"3.56651374416174e-05\"\n",
       "7. \"AIC Pruned\"\n",
       "8. \"0.00572524834733494\"\n",
       "9. \"3.67834153285657e-05\"\n",
       "10. \"AIC Forest\"\n",
       "11. \"0.00470689567978302\"\n",
       "12. \"5.2324891331611e-05\"\n",
       "\n",
       "\n"
      ],
      "text/plain": [
       "        [,1]       [,2]                   [,3]                  \n",
       "output1 \"AIC\"      \"AIC Tree\"             \"AIC Pruned\"          \n",
       "        \"Mean\"     \"0.00565770208808198\"  \"0.00572524834733494\" \n",
       "        \"Variance\" \"3.56651374416174e-05\" \"3.67834153285657e-05\"\n",
       "        [,4]                 \n",
       "output1 \"AIC Forest\"         \n",
       "        \"0.00470689567978302\"\n",
       "        \"5.2324891331611e-05\""
      ]
     },
     "execution_count": 13,
     "metadata": {},
     "output_type": "execute_result"
    },
    {
     "name": "stdout",
     "output_type": "stream",
     "text": [
      "[1] \"europe\"\n"
     ]
    },
    {
     "data": {
      "text/html": [
       "<table>\n",
       "<tbody>\n",
       "\t<tr><th scope=row>output1</th><td>AIC       </td><td>AIC Tree  </td><td>AIC Pruned</td><td>AIC Forest</td></tr>\n",
       "\t<tr><th scope=row></th><td>Mean              </td><td>0.0184915816718747</td><td>0.018517733547698 </td><td>0.0129722745025327</td></tr>\n",
       "\t<tr><th scope=row></th><td>Variance            </td><td>0.000123791397339983</td><td>0.000124281079689817</td><td>4.65945357232759e-05</td></tr>\n",
       "</tbody>\n",
       "</table>\n"
      ],
      "text/latex": [
       "\\begin{tabular}{r|llll}\n",
       "\toutput1 & AIC        & AIC Tree   & AIC Pruned & AIC Forest\\\\\n",
       "\t & Mean               & 0.0184915816718747 & 0.018517733547698  & 0.0129722745025327\\\\\n",
       "\t & Variance             & 0.000123791397339983 & 0.000124281079689817 & 4.65945357232759e-05\\\\\n",
       "\\end{tabular}\n"
      ],
      "text/markdown": [
       "1. \"AIC\"\n",
       "2. \"Mean\"\n",
       "3. \"Variance\"\n",
       "4. \"AIC Tree\"\n",
       "5. \"0.0184915816718747\"\n",
       "6. \"0.000123791397339983\"\n",
       "7. \"AIC Pruned\"\n",
       "8. \"0.018517733547698\"\n",
       "9. \"0.000124281079689817\"\n",
       "10. \"AIC Forest\"\n",
       "11. \"0.0129722745025327\"\n",
       "12. \"4.65945357232759e-05\"\n",
       "\n",
       "\n"
      ],
      "text/plain": [
       "        [,1]       [,2]                   [,3]                  \n",
       "output1 \"AIC\"      \"AIC Tree\"             \"AIC Pruned\"          \n",
       "        \"Mean\"     \"0.0184915816718747\"   \"0.018517733547698\"   \n",
       "        \"Variance\" \"0.000123791397339983\" \"0.000124281079689817\"\n",
       "        [,4]                  \n",
       "output1 \"AIC Forest\"          \n",
       "        \"0.0129722745025327\"  \n",
       "        \"4.65945357232759e-05\""
      ]
     },
     "execution_count": 13,
     "metadata": {},
     "output_type": "execute_result"
    },
    {
     "name": "stdout",
     "output_type": "stream",
     "text": [
      "[1] \"mexico\"\n"
     ]
    },
    {
     "data": {
      "text/html": [
       "<table>\n",
       "<tbody>\n",
       "\t<tr><th scope=row>output1</th><td>AIC       </td><td>AIC Tree  </td><td>AIC Pruned</td><td>AIC Forest</td></tr>\n",
       "\t<tr><th scope=row></th><td>Mean               </td><td>0.00655824984924581</td><td>0.00660429565925371</td><td>0.00404790159244874</td></tr>\n",
       "\t<tr><th scope=row></th><td>Variance            </td><td>5.06912283698866e-05</td><td>5.0841478397267e-05 </td><td>1.39003728685671e-05</td></tr>\n",
       "</tbody>\n",
       "</table>\n"
      ],
      "text/latex": [
       "\\begin{tabular}{r|llll}\n",
       "\toutput1 & AIC        & AIC Tree   & AIC Pruned & AIC Forest\\\\\n",
       "\t & Mean                & 0.00655824984924581 & 0.00660429565925371 & 0.00404790159244874\\\\\n",
       "\t & Variance             & 5.06912283698866e-05 & 5.0841478397267e-05  & 1.39003728685671e-05\\\\\n",
       "\\end{tabular}\n"
      ],
      "text/markdown": [
       "1. \"AIC\"\n",
       "2. \"Mean\"\n",
       "3. \"Variance\"\n",
       "4. \"AIC Tree\"\n",
       "5. \"0.00655824984924581\"\n",
       "6. \"5.06912283698866e-05\"\n",
       "7. \"AIC Pruned\"\n",
       "8. \"0.00660429565925371\"\n",
       "9. \"5.0841478397267e-05\"\n",
       "10. \"AIC Forest\"\n",
       "11. \"0.00404790159244874\"\n",
       "12. \"1.39003728685671e-05\"\n",
       "\n",
       "\n"
      ],
      "text/plain": [
       "        [,1]       [,2]                   [,3]                 \n",
       "output1 \"AIC\"      \"AIC Tree\"             \"AIC Pruned\"         \n",
       "        \"Mean\"     \"0.00655824984924581\"  \"0.00660429565925371\"\n",
       "        \"Variance\" \"5.06912283698866e-05\" \"5.0841478397267e-05\"\n",
       "        [,4]                  \n",
       "output1 \"AIC Forest\"          \n",
       "        \"0.00404790159244874\" \n",
       "        \"1.39003728685671e-05\""
      ]
     },
     "execution_count": 13,
     "metadata": {},
     "output_type": "execute_result"
    },
    {
     "name": "stdout",
     "output_type": "stream",
     "text": [
      "[1] \"japan\"\n"
     ]
    },
    {
     "data": {
      "text/html": [
       "<table>\n",
       "<tbody>\n",
       "\t<tr><th scope=row>output1</th><td>AIC       </td><td>AIC Tree  </td><td>AIC Pruned</td><td>AIC Forest</td></tr>\n",
       "\t<tr><th scope=row></th><td>Mean              </td><td>0.0273959655431472</td><td>0.0274043770667193</td><td>0.0207074672264812</td></tr>\n",
       "\t<tr><th scope=row></th><td>Variance            </td><td>0.000189102781631345</td><td>0.000188695248355497</td><td>6.8523212565192e-05 </td></tr>\n",
       "</tbody>\n",
       "</table>\n"
      ],
      "text/latex": [
       "\\begin{tabular}{r|llll}\n",
       "\toutput1 & AIC        & AIC Tree   & AIC Pruned & AIC Forest\\\\\n",
       "\t & Mean               & 0.0273959655431472 & 0.0274043770667193 & 0.0207074672264812\\\\\n",
       "\t & Variance             & 0.000189102781631345 & 0.000188695248355497 & 6.8523212565192e-05 \\\\\n",
       "\\end{tabular}\n"
      ],
      "text/markdown": [
       "1. \"AIC\"\n",
       "2. \"Mean\"\n",
       "3. \"Variance\"\n",
       "4. \"AIC Tree\"\n",
       "5. \"0.0273959655431472\"\n",
       "6. \"0.000189102781631345\"\n",
       "7. \"AIC Pruned\"\n",
       "8. \"0.0274043770667193\"\n",
       "9. \"0.000188695248355497\"\n",
       "10. \"AIC Forest\"\n",
       "11. \"0.0207074672264812\"\n",
       "12. \"6.8523212565192e-05\"\n",
       "\n",
       "\n"
      ],
      "text/plain": [
       "        [,1]       [,2]                   [,3]                  \n",
       "output1 \"AIC\"      \"AIC Tree\"             \"AIC Pruned\"          \n",
       "        \"Mean\"     \"0.0273959655431472\"   \"0.0274043770667193\"  \n",
       "        \"Variance\" \"0.000189102781631345\" \"0.000188695248355497\"\n",
       "        [,4]                 \n",
       "output1 \"AIC Forest\"         \n",
       "        \"0.0207074672264812\" \n",
       "        \"6.8523212565192e-05\""
      ]
     },
     "execution_count": 13,
     "metadata": {},
     "output_type": "execute_result"
    },
    {
     "name": "stdout",
     "output_type": "stream",
     "text": [
      "[1] \"korea\"\n"
     ]
    },
    {
     "data": {
      "text/html": [
       "<table>\n",
       "<tbody>\n",
       "\t<tr><th scope=row>output1</th><td>AIC       </td><td>AIC Tree  </td><td>AIC Pruned</td><td>AIC Forest</td></tr>\n",
       "\t<tr><th scope=row></th><td>Mean              </td><td>0.0145341481344421</td><td>0.0148013983457763</td><td>0.0096775904213935</td></tr>\n",
       "\t<tr><th scope=row></th><td>Variance            </td><td>8.39074058922083e-05</td><td>8.75664823320566e-05</td><td>0.000113683817060146</td></tr>\n",
       "</tbody>\n",
       "</table>\n"
      ],
      "text/latex": [
       "\\begin{tabular}{r|llll}\n",
       "\toutput1 & AIC        & AIC Tree   & AIC Pruned & AIC Forest\\\\\n",
       "\t & Mean               & 0.0145341481344421 & 0.0148013983457763 & 0.0096775904213935\\\\\n",
       "\t & Variance             & 8.39074058922083e-05 & 8.75664823320566e-05 & 0.000113683817060146\\\\\n",
       "\\end{tabular}\n"
      ],
      "text/markdown": [
       "1. \"AIC\"\n",
       "2. \"Mean\"\n",
       "3. \"Variance\"\n",
       "4. \"AIC Tree\"\n",
       "5. \"0.0145341481344421\"\n",
       "6. \"8.39074058922083e-05\"\n",
       "7. \"AIC Pruned\"\n",
       "8. \"0.0148013983457763\"\n",
       "9. \"8.75664823320566e-05\"\n",
       "10. \"AIC Forest\"\n",
       "11. \"0.0096775904213935\"\n",
       "12. \"0.000113683817060146\"\n",
       "\n",
       "\n"
      ],
      "text/plain": [
       "        [,1]       [,2]                   [,3]                  \n",
       "output1 \"AIC\"      \"AIC Tree\"             \"AIC Pruned\"          \n",
       "        \"Mean\"     \"0.0145341481344421\"   \"0.0148013983457763\"  \n",
       "        \"Variance\" \"8.39074058922083e-05\" \"8.75664823320566e-05\"\n",
       "        [,4]                  \n",
       "output1 \"AIC Forest\"          \n",
       "        \"0.0096775904213935\"  \n",
       "        \"0.000113683817060146\""
      ]
     },
     "execution_count": 13,
     "metadata": {},
     "output_type": "execute_result"
    }
   ],
   "source": [
    "countries <- c('japan','europe','korea','mexico','canada')\n",
    "for (country in countries){\n",
    "ex_rates <- read.csv('topfive.csv')\n",
    "ex_rates <- subset(ex_rates, ex_rates$Country.y==country)\n",
    "    \n",
    "full <- subset(ex_rates, select = c(Pct_Chg, Exchange, X1Y_Yield_d, \n",
    "                X1Y_Yield_f, Int_d, Int_f,  Infl_d, Infl_f, GDPG_d,\n",
    "                GDPG_f, BOT_f, BOT_d, FER_f))\n",
    "\n",
    "full <- full %>% mutate(lag1.Exchange = lag(Exchange,1)) %>%\n",
    "                mutate(lag1.X1Y_Yield_d = lag(X1Y_Yield_d,1)) %>%\n",
    "                mutate(lag1.X1Y_Yield_f = lag(X1Y_Yield_f,1)) %>%\n",
    "                mutate(lag1.Infl_d = lag(Infl_d,1)) %>%\n",
    "                mutate(lag1.Infl_f = lag(Infl_f,1)) %>%\n",
    "                mutate(lag1.Int_d = lag(Int_d,1)) %>%\n",
    "                mutate(lag1.Int_f = lag(Int_f,1)) %>%\n",
    "\n",
    "                mutate(lag2.Exchange = lag(Exchange,2)) %>%\n",
    "                mutate(lag2.X1Y_Yield_d = lag(X1Y_Yield_d,2)) %>%\n",
    "                mutate(lag2.X1Y_Yield_f = lag(X1Y_Yield_f,2)) %>%\n",
    "                mutate(lag2.Infl_d = lag(Infl_d,2)) %>%\n",
    "                mutate(lag2.Infl_f = lag(Infl_f,2)) %>%\n",
    "                mutate(lag2.Int_d = lag(Int_d,2)) %>%\n",
    "                mutate(lag2.Int_f = lag(Int_f,2)) %>%\n",
    "    \n",
    "                mutate(lag3.Exchange = lag(Exchange,3)) %>%\n",
    "                mutate(lag3.X1Y_Yield_d = lag(X1Y_Yield_d,3)) %>%\n",
    "                mutate(lag3.X1Y_Yield_f = lag(X1Y_Yield_f,3)) %>%\n",
    "                mutate(lag3.Infl_d = lag(Infl_d,3)) %>%\n",
    "                mutate(lag3.Infl_f = lag(Infl_f,3)) %>%\n",
    "                mutate(lag3.Int_d = lag(Int_d,3)) %>%\n",
    "                mutate(lag3.Int_f = lag(Int_f,3)) %>%\n",
    "    \n",
    "                mutate(lag4.Exchange = lag(Exchange,4)) %>%\n",
    "                mutate(lag4.X1Y_Yield_d = lag(X1Y_Yield_d,4)) %>%\n",
    "                mutate(lag4.X1Y_Yield_f = lag(X1Y_Yield_f,4)) %>%\n",
    "                mutate(lag4.Infl_d = lag(Infl_d,4)) %>%\n",
    "                mutate(lag4.Infl_f = lag(Infl_f,4)) %>%\n",
    "                mutate(lag4.Int_d = lag(Int_d,4)) %>%\n",
    "                mutate(lag4.Int_f = lag(Int_f,4)) %>%\n",
    "    \n",
    "                mutate(lag5.Exchange = lag(Exchange,5)) %>%\n",
    "                mutate(lag5.X1Y_Yield_d = lag(X1Y_Yield_d,5)) %>%\n",
    "                mutate(lag5.X1Y_Yield_f = lag(X1Y_Yield_f,5)) %>%\n",
    "                mutate(lag5.Infl_d = lag(Infl_d,5)) %>%\n",
    "                mutate(lag5.Infl_f = lag(Infl_f,5)) %>%\n",
    "                mutate(lag5.Int_d = lag(Int_d,5)) %>%\n",
    "                mutate(lag5.Int_f = lag(Int_f,5)) %>%\n",
    "    \n",
    "                mutate(lag6.Exchange = lag(Exchange,6)) %>%\n",
    "                mutate(lag6.X1Y_Yield_d = lag(X1Y_Yield_d,6)) %>%\n",
    "                mutate(lag6.X1Y_Yield_f = lag(X1Y_Yield_f,6)) %>%\n",
    "                mutate(lag6.Infl_d = lag(Infl_d,6)) %>%\n",
    "                mutate(lag6.Infl_f = lag(Infl_f,6)) %>%\n",
    "                mutate(lag6.Int_d = lag(Int_d,6)) %>%\n",
    "                mutate(lag6.Int_f = lag(Int_f,6)) %>%\n",
    "\n",
    "                mutate(lag7.Exchange = lag(Exchange,7)) %>%\n",
    "                mutate(lag7.X1Y_Yield_d = lag(X1Y_Yield_d,7)) %>%\n",
    "                mutate(lag7.X1Y_Yield_f = lag(X1Y_Yield_f,7)) %>%\n",
    "                mutate(lag7.Infl_d = lag(Infl_d,7)) %>%\n",
    "                mutate(lag7.Infl_f = lag(Infl_f,7)) %>%\n",
    "                mutate(lag7.Int_d = lag(Int_d,7)) %>%\n",
    "                mutate(lag7.Int_f = lag(Int_f,7))\n",
    "\n",
    "full <- na.omit(full)\n",
    "write.csv(full,file = paste(country,'_full.csv',sep=''))\n",
    "}\n",
    "\n",
    "print('canada')\n",
    "test_full_trees('canada',100)\n",
    "print('europe')\n",
    "test_full_trees('europe',100)\n",
    "print('mexico')\n",
    "test_full_trees('mexico',100)\n",
    "print('japan')\n",
    "test_full_trees('japan',100)\n",
    "print('korea')\n",
    "test_full_trees('korea',100)\n",
    "\n",
    "print('canada')\n",
    "test_aic_trees('canada',100)\n",
    "print('europe')\n",
    "test_aic_trees('europe',100)\n",
    "print('mexico')\n",
    "test_aic_trees('mexico',100)\n",
    "print('japan')\n",
    "test_aic_trees('japan',100)\n",
    "print('korea')\n",
    "test_aic_trees('korea',100)"
   ]
  },
  {
   "cell_type": "code",
   "execution_count": 14,
   "metadata": {
    "collapsed": false
   },
   "outputs": [
    {
     "name": "stdout",
     "output_type": "stream",
     "text": [
      "[1] \"canada\"\n"
     ]
    },
    {
     "data": {
      "text/html": [
       "<table>\n",
       "<tbody>\n",
       "\t<tr><th scope=row>output1</th><td>Full       </td><td>Full Tree  </td><td>Full Pruned</td><td>Full Forest</td></tr>\n",
       "\t<tr><th scope=row></th><td>Mean               </td><td>0.00681947885573587</td><td>0.00691188993265094</td><td>0.00455615419014244</td></tr>\n",
       "\t<tr><th scope=row></th><td>Variance            </td><td>8.25743468710592e-05</td><td>8.13808267352957e-05</td><td>3.94297313355836e-05</td></tr>\n",
       "</tbody>\n",
       "</table>\n"
      ],
      "text/latex": [
       "\\begin{tabular}{r|llll}\n",
       "\toutput1 & Full        & Full Tree   & Full Pruned & Full Forest\\\\\n",
       "\t & Mean                & 0.00681947885573587 & 0.00691188993265094 & 0.00455615419014244\\\\\n",
       "\t & Variance             & 8.25743468710592e-05 & 8.13808267352957e-05 & 3.94297313355836e-05\\\\\n",
       "\\end{tabular}\n"
      ],
      "text/markdown": [
       "1. \"Full\"\n",
       "2. \"Mean\"\n",
       "3. \"Variance\"\n",
       "4. \"Full Tree\"\n",
       "5. \"0.00681947885573587\"\n",
       "6. \"8.25743468710592e-05\"\n",
       "7. \"Full Pruned\"\n",
       "8. \"0.00691188993265094\"\n",
       "9. \"8.13808267352957e-05\"\n",
       "10. \"Full Forest\"\n",
       "11. \"0.00455615419014244\"\n",
       "12. \"3.94297313355836e-05\"\n",
       "\n",
       "\n"
      ],
      "text/plain": [
       "        [,1]       [,2]                   [,3]                  \n",
       "output1 \"Full\"     \"Full Tree\"            \"Full Pruned\"         \n",
       "        \"Mean\"     \"0.00681947885573587\"  \"0.00691188993265094\" \n",
       "        \"Variance\" \"8.25743468710592e-05\" \"8.13808267352957e-05\"\n",
       "        [,4]                  \n",
       "output1 \"Full Forest\"         \n",
       "        \"0.00455615419014244\" \n",
       "        \"3.94297313355836e-05\""
      ]
     },
     "execution_count": 14,
     "metadata": {},
     "output_type": "execute_result"
    },
    {
     "name": "stdout",
     "output_type": "stream",
     "text": [
      "[1] \"europe\"\n"
     ]
    },
    {
     "data": {
      "text/html": [
       "<table>\n",
       "<tbody>\n",
       "\t<tr><th scope=row>output1</th><td>Full       </td><td>Full Tree  </td><td>Full Pruned</td><td>Full Forest</td></tr>\n",
       "\t<tr><th scope=row></th><td>Mean              </td><td>0.0191725249021173</td><td>0.0192645404191145</td><td>0.0134108666692565</td></tr>\n",
       "\t<tr><th scope=row></th><td>Variance            </td><td>0.000127978426107884</td><td>0.000126700807904745</td><td>6.1815314894508e-05 </td></tr>\n",
       "</tbody>\n",
       "</table>\n"
      ],
      "text/latex": [
       "\\begin{tabular}{r|llll}\n",
       "\toutput1 & Full        & Full Tree   & Full Pruned & Full Forest\\\\\n",
       "\t & Mean               & 0.0191725249021173 & 0.0192645404191145 & 0.0134108666692565\\\\\n",
       "\t & Variance             & 0.000127978426107884 & 0.000126700807904745 & 6.1815314894508e-05 \\\\\n",
       "\\end{tabular}\n"
      ],
      "text/markdown": [
       "1. \"Full\"\n",
       "2. \"Mean\"\n",
       "3. \"Variance\"\n",
       "4. \"Full Tree\"\n",
       "5. \"0.0191725249021173\"\n",
       "6. \"0.000127978426107884\"\n",
       "7. \"Full Pruned\"\n",
       "8. \"0.0192645404191145\"\n",
       "9. \"0.000126700807904745\"\n",
       "10. \"Full Forest\"\n",
       "11. \"0.0134108666692565\"\n",
       "12. \"6.1815314894508e-05\"\n",
       "\n",
       "\n"
      ],
      "text/plain": [
       "        [,1]       [,2]                   [,3]                  \n",
       "output1 \"Full\"     \"Full Tree\"            \"Full Pruned\"         \n",
       "        \"Mean\"     \"0.0191725249021173\"   \"0.0192645404191145\"  \n",
       "        \"Variance\" \"0.000127978426107884\" \"0.000126700807904745\"\n",
       "        [,4]                 \n",
       "output1 \"Full Forest\"        \n",
       "        \"0.0134108666692565\" \n",
       "        \"6.1815314894508e-05\""
      ]
     },
     "execution_count": 14,
     "metadata": {},
     "output_type": "execute_result"
    },
    {
     "name": "stdout",
     "output_type": "stream",
     "text": [
      "[1] \"mexico\"\n"
     ]
    },
    {
     "data": {
      "text/html": [
       "<table>\n",
       "<tbody>\n",
       "\t<tr><th scope=row>output1</th><td>Full       </td><td>Full Tree  </td><td>Full Pruned</td><td>Full Forest</td></tr>\n",
       "\t<tr><th scope=row></th><td>Mean               </td><td>0.00497110740030089</td><td>0.00493054924386664</td><td>0.00466204917870393</td></tr>\n",
       "\t<tr><th scope=row></th><td>Variance            </td><td>2.97654049446405e-05</td><td>3.1270931161642e-05 </td><td>2.37485404662743e-05</td></tr>\n",
       "</tbody>\n",
       "</table>\n"
      ],
      "text/latex": [
       "\\begin{tabular}{r|llll}\n",
       "\toutput1 & Full        & Full Tree   & Full Pruned & Full Forest\\\\\n",
       "\t & Mean                & 0.00497110740030089 & 0.00493054924386664 & 0.00466204917870393\\\\\n",
       "\t & Variance             & 2.97654049446405e-05 & 3.1270931161642e-05  & 2.37485404662743e-05\\\\\n",
       "\\end{tabular}\n"
      ],
      "text/markdown": [
       "1. \"Full\"\n",
       "2. \"Mean\"\n",
       "3. \"Variance\"\n",
       "4. \"Full Tree\"\n",
       "5. \"0.00497110740030089\"\n",
       "6. \"2.97654049446405e-05\"\n",
       "7. \"Full Pruned\"\n",
       "8. \"0.00493054924386664\"\n",
       "9. \"3.1270931161642e-05\"\n",
       "10. \"Full Forest\"\n",
       "11. \"0.00466204917870393\"\n",
       "12. \"2.37485404662743e-05\"\n",
       "\n",
       "\n"
      ],
      "text/plain": [
       "        [,1]       [,2]                   [,3]                 \n",
       "output1 \"Full\"     \"Full Tree\"            \"Full Pruned\"        \n",
       "        \"Mean\"     \"0.00497110740030089\"  \"0.00493054924386664\"\n",
       "        \"Variance\" \"2.97654049446405e-05\" \"3.1270931161642e-05\"\n",
       "        [,4]                  \n",
       "output1 \"Full Forest\"         \n",
       "        \"0.00466204917870393\" \n",
       "        \"2.37485404662743e-05\""
      ]
     },
     "execution_count": 14,
     "metadata": {},
     "output_type": "execute_result"
    },
    {
     "name": "stdout",
     "output_type": "stream",
     "text": [
      "[1] \"japan\"\n"
     ]
    },
    {
     "data": {
      "text/html": [
       "<table>\n",
       "<tbody>\n",
       "\t<tr><th scope=row>output1</th><td>Full       </td><td>Full Tree  </td><td>Full Pruned</td><td>Full Forest</td></tr>\n",
       "\t<tr><th scope=row></th><td>Mean              </td><td>0.0282567083398063</td><td>0.0280145588304149</td><td>0.0195014561704828</td></tr>\n",
       "\t<tr><th scope=row></th><td>Variance            </td><td>0.00015785838850127 </td><td>0.00015503882393694 </td><td>6.17542423771668e-05</td></tr>\n",
       "</tbody>\n",
       "</table>\n"
      ],
      "text/latex": [
       "\\begin{tabular}{r|llll}\n",
       "\toutput1 & Full        & Full Tree   & Full Pruned & Full Forest\\\\\n",
       "\t & Mean               & 0.0282567083398063 & 0.0280145588304149 & 0.0195014561704828\\\\\n",
       "\t & Variance             & 0.00015785838850127  & 0.00015503882393694  & 6.17542423771668e-05\\\\\n",
       "\\end{tabular}\n"
      ],
      "text/markdown": [
       "1. \"Full\"\n",
       "2. \"Mean\"\n",
       "3. \"Variance\"\n",
       "4. \"Full Tree\"\n",
       "5. \"0.0282567083398063\"\n",
       "6. \"0.00015785838850127\"\n",
       "7. \"Full Pruned\"\n",
       "8. \"0.0280145588304149\"\n",
       "9. \"0.00015503882393694\"\n",
       "10. \"Full Forest\"\n",
       "11. \"0.0195014561704828\"\n",
       "12. \"6.17542423771668e-05\"\n",
       "\n",
       "\n"
      ],
      "text/plain": [
       "        [,1]       [,2]                  [,3]                 \n",
       "output1 \"Full\"     \"Full Tree\"           \"Full Pruned\"        \n",
       "        \"Mean\"     \"0.0282567083398063\"  \"0.0280145588304149\" \n",
       "        \"Variance\" \"0.00015785838850127\" \"0.00015503882393694\"\n",
       "        [,4]                  \n",
       "output1 \"Full Forest\"         \n",
       "        \"0.0195014561704828\"  \n",
       "        \"6.17542423771668e-05\""
      ]
     },
     "execution_count": 14,
     "metadata": {},
     "output_type": "execute_result"
    },
    {
     "name": "stdout",
     "output_type": "stream",
     "text": [
      "[1] \"korea\"\n"
     ]
    },
    {
     "data": {
      "text/html": [
       "<table>\n",
       "<tbody>\n",
       "\t<tr><th scope=row>output1</th><td>Full       </td><td>Full Tree  </td><td>Full Pruned</td><td>Full Forest</td></tr>\n",
       "\t<tr><th scope=row></th><td>Mean               </td><td>0.0156683942167517 </td><td>0.0155342162891388 </td><td>0.00794518858211771</td></tr>\n",
       "\t<tr><th scope=row></th><td>Variance            </td><td>0.000111413714744211</td><td>0.000110923956441094</td><td>5.18056507136565e-05</td></tr>\n",
       "</tbody>\n",
       "</table>\n"
      ],
      "text/latex": [
       "\\begin{tabular}{r|llll}\n",
       "\toutput1 & Full        & Full Tree   & Full Pruned & Full Forest\\\\\n",
       "\t & Mean                & 0.0156683942167517  & 0.0155342162891388  & 0.00794518858211771\\\\\n",
       "\t & Variance             & 0.000111413714744211 & 0.000110923956441094 & 5.18056507136565e-05\\\\\n",
       "\\end{tabular}\n"
      ],
      "text/markdown": [
       "1. \"Full\"\n",
       "2. \"Mean\"\n",
       "3. \"Variance\"\n",
       "4. \"Full Tree\"\n",
       "5. \"0.0156683942167517\"\n",
       "6. \"0.000111413714744211\"\n",
       "7. \"Full Pruned\"\n",
       "8. \"0.0155342162891388\"\n",
       "9. \"0.000110923956441094\"\n",
       "10. \"Full Forest\"\n",
       "11. \"0.00794518858211771\"\n",
       "12. \"5.18056507136565e-05\"\n",
       "\n",
       "\n"
      ],
      "text/plain": [
       "        [,1]       [,2]                   [,3]                  \n",
       "output1 \"Full\"     \"Full Tree\"            \"Full Pruned\"         \n",
       "        \"Mean\"     \"0.0156683942167517\"   \"0.0155342162891388\"  \n",
       "        \"Variance\" \"0.000111413714744211\" \"0.000110923956441094\"\n",
       "        [,4]                  \n",
       "output1 \"Full Forest\"         \n",
       "        \"0.00794518858211771\" \n",
       "        \"5.18056507136565e-05\""
      ]
     },
     "execution_count": 14,
     "metadata": {},
     "output_type": "execute_result"
    },
    {
     "name": "stdout",
     "output_type": "stream",
     "text": [
      "[1] \"canada\"\n"
     ]
    },
    {
     "data": {
      "text/html": [
       "<table>\n",
       "<tbody>\n",
       "\t<tr><th scope=row>output1</th><td>AIC       </td><td>AIC Tree  </td><td>AIC Pruned</td><td>AIC Forest</td></tr>\n",
       "\t<tr><th scope=row></th><td>Mean               </td><td>0.00720169695201122</td><td>0.00717857783597736</td><td>0.00377265310081646</td></tr>\n",
       "\t<tr><th scope=row></th><td>Variance            </td><td>7.53416612549902e-05</td><td>7.52838981229405e-05</td><td>3.85134979758748e-05</td></tr>\n",
       "</tbody>\n",
       "</table>\n"
      ],
      "text/latex": [
       "\\begin{tabular}{r|llll}\n",
       "\toutput1 & AIC        & AIC Tree   & AIC Pruned & AIC Forest\\\\\n",
       "\t & Mean                & 0.00720169695201122 & 0.00717857783597736 & 0.00377265310081646\\\\\n",
       "\t & Variance             & 7.53416612549902e-05 & 7.52838981229405e-05 & 3.85134979758748e-05\\\\\n",
       "\\end{tabular}\n"
      ],
      "text/markdown": [
       "1. \"AIC\"\n",
       "2. \"Mean\"\n",
       "3. \"Variance\"\n",
       "4. \"AIC Tree\"\n",
       "5. \"0.00720169695201122\"\n",
       "6. \"7.53416612549902e-05\"\n",
       "7. \"AIC Pruned\"\n",
       "8. \"0.00717857783597736\"\n",
       "9. \"7.52838981229405e-05\"\n",
       "10. \"AIC Forest\"\n",
       "11. \"0.00377265310081646\"\n",
       "12. \"3.85134979758748e-05\"\n",
       "\n",
       "\n"
      ],
      "text/plain": [
       "        [,1]       [,2]                   [,3]                  \n",
       "output1 \"AIC\"      \"AIC Tree\"             \"AIC Pruned\"          \n",
       "        \"Mean\"     \"0.00720169695201122\"  \"0.00717857783597736\" \n",
       "        \"Variance\" \"7.53416612549902e-05\" \"7.52838981229405e-05\"\n",
       "        [,4]                  \n",
       "output1 \"AIC Forest\"          \n",
       "        \"0.00377265310081646\" \n",
       "        \"3.85134979758748e-05\""
      ]
     },
     "execution_count": 14,
     "metadata": {},
     "output_type": "execute_result"
    },
    {
     "name": "stdout",
     "output_type": "stream",
     "text": [
      "[1] \"europe\"\n"
     ]
    },
    {
     "data": {
      "text/html": [
       "<table>\n",
       "<tbody>\n",
       "\t<tr><th scope=row>output1</th><td>AIC       </td><td>AIC Tree  </td><td>AIC Pruned</td><td>AIC Forest</td></tr>\n",
       "\t<tr><th scope=row></th><td>Mean              </td><td>0.0161007370279517</td><td>0.0158506046712425</td><td>0.0117937102367853</td></tr>\n",
       "\t<tr><th scope=row></th><td>Variance            </td><td>7.41388333842152e-05</td><td>6.82545324257451e-05</td><td>6.77136418332446e-05</td></tr>\n",
       "</tbody>\n",
       "</table>\n"
      ],
      "text/latex": [
       "\\begin{tabular}{r|llll}\n",
       "\toutput1 & AIC        & AIC Tree   & AIC Pruned & AIC Forest\\\\\n",
       "\t & Mean               & 0.0161007370279517 & 0.0158506046712425 & 0.0117937102367853\\\\\n",
       "\t & Variance             & 7.41388333842152e-05 & 6.82545324257451e-05 & 6.77136418332446e-05\\\\\n",
       "\\end{tabular}\n"
      ],
      "text/markdown": [
       "1. \"AIC\"\n",
       "2. \"Mean\"\n",
       "3. \"Variance\"\n",
       "4. \"AIC Tree\"\n",
       "5. \"0.0161007370279517\"\n",
       "6. \"7.41388333842152e-05\"\n",
       "7. \"AIC Pruned\"\n",
       "8. \"0.0158506046712425\"\n",
       "9. \"6.82545324257451e-05\"\n",
       "10. \"AIC Forest\"\n",
       "11. \"0.0117937102367853\"\n",
       "12. \"6.77136418332446e-05\"\n",
       "\n",
       "\n"
      ],
      "text/plain": [
       "        [,1]       [,2]                   [,3]                  \n",
       "output1 \"AIC\"      \"AIC Tree\"             \"AIC Pruned\"          \n",
       "        \"Mean\"     \"0.0161007370279517\"   \"0.0158506046712425\"  \n",
       "        \"Variance\" \"7.41388333842152e-05\" \"6.82545324257451e-05\"\n",
       "        [,4]                  \n",
       "output1 \"AIC Forest\"          \n",
       "        \"0.0117937102367853\"  \n",
       "        \"6.77136418332446e-05\""
      ]
     },
     "execution_count": 14,
     "metadata": {},
     "output_type": "execute_result"
    },
    {
     "name": "stdout",
     "output_type": "stream",
     "text": [
      "[1] \"mexico\"\n"
     ]
    },
    {
     "data": {
      "text/html": [
       "<table>\n",
       "<tbody>\n",
       "\t<tr><th scope=row>output1</th><td>AIC       </td><td>AIC Tree  </td><td>AIC Pruned</td><td>AIC Forest</td></tr>\n",
       "\t<tr><th scope=row></th><td>Mean               </td><td>0.00421825470391673</td><td>0.00424706058672509</td><td>0.00441892712788619</td></tr>\n",
       "\t<tr><th scope=row></th><td>Variance            </td><td>3.11533130345124e-05</td><td>3.16643413437764e-05</td><td>1.67473017317252e-05</td></tr>\n",
       "</tbody>\n",
       "</table>\n"
      ],
      "text/latex": [
       "\\begin{tabular}{r|llll}\n",
       "\toutput1 & AIC        & AIC Tree   & AIC Pruned & AIC Forest\\\\\n",
       "\t & Mean                & 0.00421825470391673 & 0.00424706058672509 & 0.00441892712788619\\\\\n",
       "\t & Variance             & 3.11533130345124e-05 & 3.16643413437764e-05 & 1.67473017317252e-05\\\\\n",
       "\\end{tabular}\n"
      ],
      "text/markdown": [
       "1. \"AIC\"\n",
       "2. \"Mean\"\n",
       "3. \"Variance\"\n",
       "4. \"AIC Tree\"\n",
       "5. \"0.00421825470391673\"\n",
       "6. \"3.11533130345124e-05\"\n",
       "7. \"AIC Pruned\"\n",
       "8. \"0.00424706058672509\"\n",
       "9. \"3.16643413437764e-05\"\n",
       "10. \"AIC Forest\"\n",
       "11. \"0.00441892712788619\"\n",
       "12. \"1.67473017317252e-05\"\n",
       "\n",
       "\n"
      ],
      "text/plain": [
       "        [,1]       [,2]                   [,3]                  \n",
       "output1 \"AIC\"      \"AIC Tree\"             \"AIC Pruned\"          \n",
       "        \"Mean\"     \"0.00421825470391673\"  \"0.00424706058672509\" \n",
       "        \"Variance\" \"3.11533130345124e-05\" \"3.16643413437764e-05\"\n",
       "        [,4]                  \n",
       "output1 \"AIC Forest\"          \n",
       "        \"0.00441892712788619\" \n",
       "        \"1.67473017317252e-05\""
      ]
     },
     "execution_count": 14,
     "metadata": {},
     "output_type": "execute_result"
    },
    {
     "name": "stdout",
     "output_type": "stream",
     "text": [
      "[1] \"japan\"\n"
     ]
    },
    {
     "data": {
      "text/html": [
       "<table>\n",
       "<tbody>\n",
       "\t<tr><th scope=row>output1</th><td>AIC       </td><td>AIC Tree  </td><td>AIC Pruned</td><td>AIC Forest</td></tr>\n",
       "\t<tr><th scope=row></th><td>Mean              </td><td>0.0288610001528075</td><td>0.0288556658898031</td><td>0.0194989468913627</td></tr>\n",
       "\t<tr><th scope=row></th><td>Variance            </td><td>0.00018559439006926 </td><td>0.000186538193993641</td><td>4.73702379712535e-05</td></tr>\n",
       "</tbody>\n",
       "</table>\n"
      ],
      "text/latex": [
       "\\begin{tabular}{r|llll}\n",
       "\toutput1 & AIC        & AIC Tree   & AIC Pruned & AIC Forest\\\\\n",
       "\t & Mean               & 0.0288610001528075 & 0.0288556658898031 & 0.0194989468913627\\\\\n",
       "\t & Variance             & 0.00018559439006926  & 0.000186538193993641 & 4.73702379712535e-05\\\\\n",
       "\\end{tabular}\n"
      ],
      "text/markdown": [
       "1. \"AIC\"\n",
       "2. \"Mean\"\n",
       "3. \"Variance\"\n",
       "4. \"AIC Tree\"\n",
       "5. \"0.0288610001528075\"\n",
       "6. \"0.00018559439006926\"\n",
       "7. \"AIC Pruned\"\n",
       "8. \"0.0288556658898031\"\n",
       "9. \"0.000186538193993641\"\n",
       "10. \"AIC Forest\"\n",
       "11. \"0.0194989468913627\"\n",
       "12. \"4.73702379712535e-05\"\n",
       "\n",
       "\n"
      ],
      "text/plain": [
       "        [,1]       [,2]                  [,3]                  \n",
       "output1 \"AIC\"      \"AIC Tree\"            \"AIC Pruned\"          \n",
       "        \"Mean\"     \"0.0288610001528075\"  \"0.0288556658898031\"  \n",
       "        \"Variance\" \"0.00018559439006926\" \"0.000186538193993641\"\n",
       "        [,4]                  \n",
       "output1 \"AIC Forest\"          \n",
       "        \"0.0194989468913627\"  \n",
       "        \"4.73702379712535e-05\""
      ]
     },
     "execution_count": 14,
     "metadata": {},
     "output_type": "execute_result"
    },
    {
     "name": "stdout",
     "output_type": "stream",
     "text": [
      "[1] \"korea\"\n"
     ]
    },
    {
     "data": {
      "text/html": [
       "<table>\n",
       "<tbody>\n",
       "\t<tr><th scope=row>output1</th><td>AIC       </td><td>AIC Tree  </td><td>AIC Pruned</td><td>AIC Forest</td></tr>\n",
       "\t<tr><th scope=row></th><td>Mean               </td><td>0.0148803495025235 </td><td>0.0144179469880041 </td><td>0.00902913828954807</td></tr>\n",
       "\t<tr><th scope=row></th><td>Variance            </td><td>9.80123783913825e-05</td><td>0.000100931057112197</td><td>0.000102209277399995</td></tr>\n",
       "</tbody>\n",
       "</table>\n"
      ],
      "text/latex": [
       "\\begin{tabular}{r|llll}\n",
       "\toutput1 & AIC        & AIC Tree   & AIC Pruned & AIC Forest\\\\\n",
       "\t & Mean                & 0.0148803495025235  & 0.0144179469880041  & 0.00902913828954807\\\\\n",
       "\t & Variance             & 9.80123783913825e-05 & 0.000100931057112197 & 0.000102209277399995\\\\\n",
       "\\end{tabular}\n"
      ],
      "text/markdown": [
       "1. \"AIC\"\n",
       "2. \"Mean\"\n",
       "3. \"Variance\"\n",
       "4. \"AIC Tree\"\n",
       "5. \"0.0148803495025235\"\n",
       "6. \"9.80123783913825e-05\"\n",
       "7. \"AIC Pruned\"\n",
       "8. \"0.0144179469880041\"\n",
       "9. \"0.000100931057112197\"\n",
       "10. \"AIC Forest\"\n",
       "11. \"0.00902913828954807\"\n",
       "12. \"0.000102209277399995\"\n",
       "\n",
       "\n"
      ],
      "text/plain": [
       "        [,1]       [,2]                   [,3]                  \n",
       "output1 \"AIC\"      \"AIC Tree\"             \"AIC Pruned\"          \n",
       "        \"Mean\"     \"0.0148803495025235\"   \"0.0144179469880041\"  \n",
       "        \"Variance\" \"9.80123783913825e-05\" \"0.000100931057112197\"\n",
       "        [,4]                  \n",
       "output1 \"AIC Forest\"          \n",
       "        \"0.00902913828954807\" \n",
       "        \"0.000102209277399995\""
      ]
     },
     "execution_count": 14,
     "metadata": {},
     "output_type": "execute_result"
    }
   ],
   "source": [
    "countries <- c('japan','europe','korea','mexico','canada')\n",
    "for (country in countries){\n",
    "ex_rates <- read.csv('topfive.csv')\n",
    "ex_rates <- subset(ex_rates, ex_rates$Country.y==country)\n",
    "    \n",
    "full <- subset(ex_rates, select = c(Pct_Chg, Exchange, X1Y_Yield_d, \n",
    "                X1Y_Yield_f, Int_d, Int_f,  Infl_d, Infl_f, GDPG_d,\n",
    "                GDPG_f, BOT_f, BOT_d, FER_f))\n",
    "\n",
    "full <- full %>% mutate(lag1.Exchange = lag(Exchange,1)) %>%\n",
    "                mutate(lag1.X1Y_Yield_d = lag(X1Y_Yield_d,1)) %>%\n",
    "                mutate(lag1.X1Y_Yield_f = lag(X1Y_Yield_f,1)) %>%\n",
    "                mutate(lag1.Infl_d = lag(Infl_d,1)) %>%\n",
    "                mutate(lag1.Infl_f = lag(Infl_f,1)) %>%\n",
    "                mutate(lag1.Int_d = lag(Int_d,1)) %>%\n",
    "                mutate(lag1.Int_f = lag(Int_f,1)) %>%\n",
    "\n",
    "                mutate(lag2.Exchange = lag(Exchange,2)) %>%\n",
    "                mutate(lag2.X1Y_Yield_d = lag(X1Y_Yield_d,2)) %>%\n",
    "                mutate(lag2.X1Y_Yield_f = lag(X1Y_Yield_f,2)) %>%\n",
    "                mutate(lag2.Infl_d = lag(Infl_d,2)) %>%\n",
    "                mutate(lag2.Infl_f = lag(Infl_f,2)) %>%\n",
    "                mutate(lag2.Int_d = lag(Int_d,2)) %>%\n",
    "                mutate(lag2.Int_f = lag(Int_f,2)) %>%\n",
    "    \n",
    "                mutate(lag3.Exchange = lag(Exchange,3)) %>%\n",
    "                mutate(lag3.X1Y_Yield_d = lag(X1Y_Yield_d,3)) %>%\n",
    "                mutate(lag3.X1Y_Yield_f = lag(X1Y_Yield_f,3)) %>%\n",
    "                mutate(lag3.Infl_d = lag(Infl_d,3)) %>%\n",
    "                mutate(lag3.Infl_f = lag(Infl_f,3)) %>%\n",
    "                mutate(lag3.Int_d = lag(Int_d,3)) %>%\n",
    "                mutate(lag3.Int_f = lag(Int_f,3)) %>%\n",
    "    \n",
    "                mutate(lag4.Exchange = lag(Exchange,4)) %>%\n",
    "                mutate(lag4.X1Y_Yield_d = lag(X1Y_Yield_d,4)) %>%\n",
    "                mutate(lag4.X1Y_Yield_f = lag(X1Y_Yield_f,4)) %>%\n",
    "                mutate(lag4.Infl_d = lag(Infl_d,4)) %>%\n",
    "                mutate(lag4.Infl_f = lag(Infl_f,4)) %>%\n",
    "                mutate(lag4.Int_d = lag(Int_d,4)) %>%\n",
    "                mutate(lag4.Int_f = lag(Int_f,4)) %>%\n",
    "    \n",
    "                mutate(lag5.Exchange = lag(Exchange,5)) %>%\n",
    "                mutate(lag5.X1Y_Yield_d = lag(X1Y_Yield_d,5)) %>%\n",
    "                mutate(lag5.X1Y_Yield_f = lag(X1Y_Yield_f,5)) %>%\n",
    "                mutate(lag5.Infl_d = lag(Infl_d,5)) %>%\n",
    "                mutate(lag5.Infl_f = lag(Infl_f,5)) %>%\n",
    "                mutate(lag5.Int_d = lag(Int_d,5)) %>%\n",
    "                mutate(lag5.Int_f = lag(Int_f,5)) %>%\n",
    "    \n",
    "                mutate(lag6.Exchange = lag(Exchange,6)) %>%\n",
    "                mutate(lag6.X1Y_Yield_d = lag(X1Y_Yield_d,6)) %>%\n",
    "                mutate(lag6.X1Y_Yield_f = lag(X1Y_Yield_f,6)) %>%\n",
    "                mutate(lag6.Infl_d = lag(Infl_d,6)) %>%\n",
    "                mutate(lag6.Infl_f = lag(Infl_f,6)) %>%\n",
    "                mutate(lag6.Int_d = lag(Int_d,6)) %>%\n",
    "                mutate(lag6.Int_f = lag(Int_f,6)) %>%\n",
    "\n",
    "                mutate(lag7.Exchange = lag(Exchange,7)) %>%\n",
    "                mutate(lag7.X1Y_Yield_d = lag(X1Y_Yield_d,7)) %>%\n",
    "                mutate(lag7.X1Y_Yield_f = lag(X1Y_Yield_f,7)) %>%\n",
    "                mutate(lag7.Infl_d = lag(Infl_d,7)) %>%\n",
    "                mutate(lag7.Infl_f = lag(Infl_f,7)) %>%\n",
    "                mutate(lag7.Int_d = lag(Int_d,7)) %>%\n",
    "                mutate(lag7.Int_f = lag(Int_f,7)) %>%\n",
    "\n",
    "                mutate(lag8.Exchange = lag(Exchange,8)) %>%\n",
    "                mutate(lag8.X1Y_Yield_d = lag(X1Y_Yield_d,8)) %>%\n",
    "                mutate(lag8.X1Y_Yield_f = lag(X1Y_Yield_f,8)) %>%\n",
    "                mutate(lag8.Infl_d = lag(Infl_d,8)) %>%\n",
    "                mutate(lag8.Infl_f = lag(Infl_f,8)) %>%\n",
    "                mutate(lag8.Int_d = lag(Int_d,8)) %>%\n",
    "                mutate(lag8.Int_f = lag(Int_f,8))\n",
    "\n",
    "full <- na.omit(full)\n",
    "write.csv(full,file = paste(country,'_full.csv',sep=''))\n",
    "}\n",
    "\n",
    "print('canada')\n",
    "test_full_trees('canada',100)\n",
    "print('europe')\n",
    "test_full_trees('europe',100)\n",
    "print('mexico')\n",
    "test_full_trees('mexico',100)\n",
    "print('japan')\n",
    "test_full_trees('japan',100)\n",
    "print('korea')\n",
    "test_full_trees('korea',100)\n",
    "\n",
    "print('canada')\n",
    "test_aic_trees('canada',100)\n",
    "print('europe')\n",
    "test_aic_trees('europe',100)\n",
    "print('mexico')\n",
    "test_aic_trees('mexico',100)\n",
    "print('japan')\n",
    "test_aic_trees('japan',100)\n",
    "print('korea')\n",
    "test_aic_trees('korea',100)"
   ]
  },
  {
   "cell_type": "code",
   "execution_count": 15,
   "metadata": {
    "collapsed": false
   },
   "outputs": [
    {
     "name": "stdout",
     "output_type": "stream",
     "text": [
      "[1] \"canada\"\n"
     ]
    },
    {
     "data": {
      "text/html": [
       "<table>\n",
       "<tbody>\n",
       "\t<tr><th scope=row>output1</th><td>Full       </td><td>Full Tree  </td><td>Full Pruned</td><td>Full Forest</td></tr>\n",
       "\t<tr><th scope=row></th><td>Mean               </td><td>0.00688464601939339</td><td>0.00692051215770299</td><td>0.00499734076862369</td></tr>\n",
       "\t<tr><th scope=row></th><td>Variance            </td><td>6.78283238872792e-05</td><td>6.73627278820789e-05</td><td>3.91746678462974e-05</td></tr>\n",
       "</tbody>\n",
       "</table>\n"
      ],
      "text/latex": [
       "\\begin{tabular}{r|llll}\n",
       "\toutput1 & Full        & Full Tree   & Full Pruned & Full Forest\\\\\n",
       "\t & Mean                & 0.00688464601939339 & 0.00692051215770299 & 0.00499734076862369\\\\\n",
       "\t & Variance             & 6.78283238872792e-05 & 6.73627278820789e-05 & 3.91746678462974e-05\\\\\n",
       "\\end{tabular}\n"
      ],
      "text/markdown": [
       "1. \"Full\"\n",
       "2. \"Mean\"\n",
       "3. \"Variance\"\n",
       "4. \"Full Tree\"\n",
       "5. \"0.00688464601939339\"\n",
       "6. \"6.78283238872792e-05\"\n",
       "7. \"Full Pruned\"\n",
       "8. \"0.00692051215770299\"\n",
       "9. \"6.73627278820789e-05\"\n",
       "10. \"Full Forest\"\n",
       "11. \"0.00499734076862369\"\n",
       "12. \"3.91746678462974e-05\"\n",
       "\n",
       "\n"
      ],
      "text/plain": [
       "        [,1]       [,2]                   [,3]                  \n",
       "output1 \"Full\"     \"Full Tree\"            \"Full Pruned\"         \n",
       "        \"Mean\"     \"0.00688464601939339\"  \"0.00692051215770299\" \n",
       "        \"Variance\" \"6.78283238872792e-05\" \"6.73627278820789e-05\"\n",
       "        [,4]                  \n",
       "output1 \"Full Forest\"         \n",
       "        \"0.00499734076862369\" \n",
       "        \"3.91746678462974e-05\""
      ]
     },
     "execution_count": 15,
     "metadata": {},
     "output_type": "execute_result"
    },
    {
     "name": "stdout",
     "output_type": "stream",
     "text": [
      "[1] \"europe\"\n"
     ]
    },
    {
     "data": {
      "text/html": [
       "<table>\n",
       "<tbody>\n",
       "\t<tr><th scope=row>output1</th><td>Full       </td><td>Full Tree  </td><td>Full Pruned</td><td>Full Forest</td></tr>\n",
       "\t<tr><th scope=row></th><td>Mean              </td><td>0.018559912364554 </td><td>0.0186502027373072</td><td>0.0117277801853307</td></tr>\n",
       "\t<tr><th scope=row></th><td>Variance            </td><td>0.000155115258102305</td><td>0.000156048693641692</td><td>5.10149439376311e-05</td></tr>\n",
       "</tbody>\n",
       "</table>\n"
      ],
      "text/latex": [
       "\\begin{tabular}{r|llll}\n",
       "\toutput1 & Full        & Full Tree   & Full Pruned & Full Forest\\\\\n",
       "\t & Mean               & 0.018559912364554  & 0.0186502027373072 & 0.0117277801853307\\\\\n",
       "\t & Variance             & 0.000155115258102305 & 0.000156048693641692 & 5.10149439376311e-05\\\\\n",
       "\\end{tabular}\n"
      ],
      "text/markdown": [
       "1. \"Full\"\n",
       "2. \"Mean\"\n",
       "3. \"Variance\"\n",
       "4. \"Full Tree\"\n",
       "5. \"0.018559912364554\"\n",
       "6. \"0.000155115258102305\"\n",
       "7. \"Full Pruned\"\n",
       "8. \"0.0186502027373072\"\n",
       "9. \"0.000156048693641692\"\n",
       "10. \"Full Forest\"\n",
       "11. \"0.0117277801853307\"\n",
       "12. \"5.10149439376311e-05\"\n",
       "\n",
       "\n"
      ],
      "text/plain": [
       "        [,1]       [,2]                   [,3]                  \n",
       "output1 \"Full\"     \"Full Tree\"            \"Full Pruned\"         \n",
       "        \"Mean\"     \"0.018559912364554\"    \"0.0186502027373072\"  \n",
       "        \"Variance\" \"0.000155115258102305\" \"0.000156048693641692\"\n",
       "        [,4]                  \n",
       "output1 \"Full Forest\"         \n",
       "        \"0.0117277801853307\"  \n",
       "        \"5.10149439376311e-05\""
      ]
     },
     "execution_count": 15,
     "metadata": {},
     "output_type": "execute_result"
    },
    {
     "name": "stdout",
     "output_type": "stream",
     "text": [
      "[1] \"mexico\"\n"
     ]
    },
    {
     "data": {
      "text/html": [
       "<table>\n",
       "<tbody>\n",
       "\t<tr><th scope=row>output1</th><td>Full       </td><td>Full Tree  </td><td>Full Pruned</td><td>Full Forest</td></tr>\n",
       "\t<tr><th scope=row></th><td>Mean               </td><td>0.00606367614779166</td><td>0.00621883436343913</td><td>0.00488610732766068</td></tr>\n",
       "\t<tr><th scope=row></th><td>Variance            </td><td>3.91599716011118e-05</td><td>3.78008425383455e-05</td><td>2.74662030940326e-05</td></tr>\n",
       "</tbody>\n",
       "</table>\n"
      ],
      "text/latex": [
       "\\begin{tabular}{r|llll}\n",
       "\toutput1 & Full        & Full Tree   & Full Pruned & Full Forest\\\\\n",
       "\t & Mean                & 0.00606367614779166 & 0.00621883436343913 & 0.00488610732766068\\\\\n",
       "\t & Variance             & 3.91599716011118e-05 & 3.78008425383455e-05 & 2.74662030940326e-05\\\\\n",
       "\\end{tabular}\n"
      ],
      "text/markdown": [
       "1. \"Full\"\n",
       "2. \"Mean\"\n",
       "3. \"Variance\"\n",
       "4. \"Full Tree\"\n",
       "5. \"0.00606367614779166\"\n",
       "6. \"3.91599716011118e-05\"\n",
       "7. \"Full Pruned\"\n",
       "8. \"0.00621883436343913\"\n",
       "9. \"3.78008425383455e-05\"\n",
       "10. \"Full Forest\"\n",
       "11. \"0.00488610732766068\"\n",
       "12. \"2.74662030940326e-05\"\n",
       "\n",
       "\n"
      ],
      "text/plain": [
       "        [,1]       [,2]                   [,3]                  \n",
       "output1 \"Full\"     \"Full Tree\"            \"Full Pruned\"         \n",
       "        \"Mean\"     \"0.00606367614779166\"  \"0.00621883436343913\" \n",
       "        \"Variance\" \"3.91599716011118e-05\" \"3.78008425383455e-05\"\n",
       "        [,4]                  \n",
       "output1 \"Full Forest\"         \n",
       "        \"0.00488610732766068\" \n",
       "        \"2.74662030940326e-05\""
      ]
     },
     "execution_count": 15,
     "metadata": {},
     "output_type": "execute_result"
    },
    {
     "name": "stdout",
     "output_type": "stream",
     "text": [
      "[1] \"japan\"\n"
     ]
    },
    {
     "data": {
      "text/html": [
       "<table>\n",
       "<tbody>\n",
       "\t<tr><th scope=row>output1</th><td>Full       </td><td>Full Tree  </td><td>Full Pruned</td><td>Full Forest</td></tr>\n",
       "\t<tr><th scope=row></th><td>Mean              </td><td>0.0317248840187987</td><td>0.0311208321708939</td><td>0.020056679550138 </td></tr>\n",
       "\t<tr><th scope=row></th><td>Variance            </td><td>0.000287143385351351</td><td>0.00028649425116522 </td><td>8.09523098483579e-05</td></tr>\n",
       "</tbody>\n",
       "</table>\n"
      ],
      "text/latex": [
       "\\begin{tabular}{r|llll}\n",
       "\toutput1 & Full        & Full Tree   & Full Pruned & Full Forest\\\\\n",
       "\t & Mean               & 0.0317248840187987 & 0.0311208321708939 & 0.020056679550138 \\\\\n",
       "\t & Variance             & 0.000287143385351351 & 0.00028649425116522  & 8.09523098483579e-05\\\\\n",
       "\\end{tabular}\n"
      ],
      "text/markdown": [
       "1. \"Full\"\n",
       "2. \"Mean\"\n",
       "3. \"Variance\"\n",
       "4. \"Full Tree\"\n",
       "5. \"0.0317248840187987\"\n",
       "6. \"0.000287143385351351\"\n",
       "7. \"Full Pruned\"\n",
       "8. \"0.0311208321708939\"\n",
       "9. \"0.00028649425116522\"\n",
       "10. \"Full Forest\"\n",
       "11. \"0.020056679550138\"\n",
       "12. \"8.09523098483579e-05\"\n",
       "\n",
       "\n"
      ],
      "text/plain": [
       "        [,1]       [,2]                   [,3]                 \n",
       "output1 \"Full\"     \"Full Tree\"            \"Full Pruned\"        \n",
       "        \"Mean\"     \"0.0317248840187987\"   \"0.0311208321708939\" \n",
       "        \"Variance\" \"0.000287143385351351\" \"0.00028649425116522\"\n",
       "        [,4]                  \n",
       "output1 \"Full Forest\"         \n",
       "        \"0.020056679550138\"   \n",
       "        \"8.09523098483579e-05\""
      ]
     },
     "execution_count": 15,
     "metadata": {},
     "output_type": "execute_result"
    },
    {
     "name": "stdout",
     "output_type": "stream",
     "text": [
      "[1] \"korea\"\n"
     ]
    },
    {
     "data": {
      "text/html": [
       "<table>\n",
       "<tbody>\n",
       "\t<tr><th scope=row>output1</th><td>Full       </td><td>Full Tree  </td><td>Full Pruned</td><td>Full Forest</td></tr>\n",
       "\t<tr><th scope=row></th><td>Mean               </td><td>0.0105298205698498 </td><td>0.0100160168849398 </td><td>0.00717086902746789</td></tr>\n",
       "\t<tr><th scope=row></th><td>Variance            </td><td>5.41771177759079e-05</td><td>5.87770380191235e-05</td><td>3.90992018785889e-05</td></tr>\n",
       "</tbody>\n",
       "</table>\n"
      ],
      "text/latex": [
       "\\begin{tabular}{r|llll}\n",
       "\toutput1 & Full        & Full Tree   & Full Pruned & Full Forest\\\\\n",
       "\t & Mean                & 0.0105298205698498  & 0.0100160168849398  & 0.00717086902746789\\\\\n",
       "\t & Variance             & 5.41771177759079e-05 & 5.87770380191235e-05 & 3.90992018785889e-05\\\\\n",
       "\\end{tabular}\n"
      ],
      "text/markdown": [
       "1. \"Full\"\n",
       "2. \"Mean\"\n",
       "3. \"Variance\"\n",
       "4. \"Full Tree\"\n",
       "5. \"0.0105298205698498\"\n",
       "6. \"5.41771177759079e-05\"\n",
       "7. \"Full Pruned\"\n",
       "8. \"0.0100160168849398\"\n",
       "9. \"5.87770380191235e-05\"\n",
       "10. \"Full Forest\"\n",
       "11. \"0.00717086902746789\"\n",
       "12. \"3.90992018785889e-05\"\n",
       "\n",
       "\n"
      ],
      "text/plain": [
       "        [,1]       [,2]                   [,3]                  \n",
       "output1 \"Full\"     \"Full Tree\"            \"Full Pruned\"         \n",
       "        \"Mean\"     \"0.0105298205698498\"   \"0.0100160168849398\"  \n",
       "        \"Variance\" \"5.41771177759079e-05\" \"5.87770380191235e-05\"\n",
       "        [,4]                  \n",
       "output1 \"Full Forest\"         \n",
       "        \"0.00717086902746789\" \n",
       "        \"3.90992018785889e-05\""
      ]
     },
     "execution_count": 15,
     "metadata": {},
     "output_type": "execute_result"
    },
    {
     "name": "stdout",
     "output_type": "stream",
     "text": [
      "[1] \"canada\"\n"
     ]
    },
    {
     "data": {
      "text/html": [
       "<table>\n",
       "<tbody>\n",
       "\t<tr><th scope=row>output1</th><td>AIC       </td><td>AIC Tree  </td><td>AIC Pruned</td><td>AIC Forest</td></tr>\n",
       "\t<tr><th scope=row></th><td>Mean               </td><td>0.00706065350902875</td><td>0.00698684453435173</td><td>0.00496035156413272</td></tr>\n",
       "\t<tr><th scope=row></th><td>Variance            </td><td>6.4161027929064e-05 </td><td>6.35805338491741e-05</td><td>4.62935334544004e-05</td></tr>\n",
       "</tbody>\n",
       "</table>\n"
      ],
      "text/latex": [
       "\\begin{tabular}{r|llll}\n",
       "\toutput1 & AIC        & AIC Tree   & AIC Pruned & AIC Forest\\\\\n",
       "\t & Mean                & 0.00706065350902875 & 0.00698684453435173 & 0.00496035156413272\\\\\n",
       "\t & Variance             & 6.4161027929064e-05  & 6.35805338491741e-05 & 4.62935334544004e-05\\\\\n",
       "\\end{tabular}\n"
      ],
      "text/markdown": [
       "1. \"AIC\"\n",
       "2. \"Mean\"\n",
       "3. \"Variance\"\n",
       "4. \"AIC Tree\"\n",
       "5. \"0.00706065350902875\"\n",
       "6. \"6.4161027929064e-05\"\n",
       "7. \"AIC Pruned\"\n",
       "8. \"0.00698684453435173\"\n",
       "9. \"6.35805338491741e-05\"\n",
       "10. \"AIC Forest\"\n",
       "11. \"0.00496035156413272\"\n",
       "12. \"4.62935334544004e-05\"\n",
       "\n",
       "\n"
      ],
      "text/plain": [
       "        [,1]       [,2]                  [,3]                  \n",
       "output1 \"AIC\"      \"AIC Tree\"            \"AIC Pruned\"          \n",
       "        \"Mean\"     \"0.00706065350902875\" \"0.00698684453435173\" \n",
       "        \"Variance\" \"6.4161027929064e-05\" \"6.35805338491741e-05\"\n",
       "        [,4]                  \n",
       "output1 \"AIC Forest\"          \n",
       "        \"0.00496035156413272\" \n",
       "        \"4.62935334544004e-05\""
      ]
     },
     "execution_count": 15,
     "metadata": {},
     "output_type": "execute_result"
    },
    {
     "name": "stdout",
     "output_type": "stream",
     "text": [
      "[1] \"europe\"\n"
     ]
    },
    {
     "data": {
      "text/html": [
       "<table>\n",
       "<tbody>\n",
       "\t<tr><th scope=row>output1</th><td>AIC       </td><td>AIC Tree  </td><td>AIC Pruned</td><td>AIC Forest</td></tr>\n",
       "\t<tr><th scope=row></th><td>Mean              </td><td>0.0179074713243165</td><td>0.0177521792987901</td><td>0.0104509873819131</td></tr>\n",
       "\t<tr><th scope=row></th><td>Variance            </td><td>0.000128415169396342</td><td>0.000128107135895317</td><td>3.36014524372014e-05</td></tr>\n",
       "</tbody>\n",
       "</table>\n"
      ],
      "text/latex": [
       "\\begin{tabular}{r|llll}\n",
       "\toutput1 & AIC        & AIC Tree   & AIC Pruned & AIC Forest\\\\\n",
       "\t & Mean               & 0.0179074713243165 & 0.0177521792987901 & 0.0104509873819131\\\\\n",
       "\t & Variance             & 0.000128415169396342 & 0.000128107135895317 & 3.36014524372014e-05\\\\\n",
       "\\end{tabular}\n"
      ],
      "text/markdown": [
       "1. \"AIC\"\n",
       "2. \"Mean\"\n",
       "3. \"Variance\"\n",
       "4. \"AIC Tree\"\n",
       "5. \"0.0179074713243165\"\n",
       "6. \"0.000128415169396342\"\n",
       "7. \"AIC Pruned\"\n",
       "8. \"0.0177521792987901\"\n",
       "9. \"0.000128107135895317\"\n",
       "10. \"AIC Forest\"\n",
       "11. \"0.0104509873819131\"\n",
       "12. \"3.36014524372014e-05\"\n",
       "\n",
       "\n"
      ],
      "text/plain": [
       "        [,1]       [,2]                   [,3]                  \n",
       "output1 \"AIC\"      \"AIC Tree\"             \"AIC Pruned\"          \n",
       "        \"Mean\"     \"0.0179074713243165\"   \"0.0177521792987901\"  \n",
       "        \"Variance\" \"0.000128415169396342\" \"0.000128107135895317\"\n",
       "        [,4]                  \n",
       "output1 \"AIC Forest\"          \n",
       "        \"0.0104509873819131\"  \n",
       "        \"3.36014524372014e-05\""
      ]
     },
     "execution_count": 15,
     "metadata": {},
     "output_type": "execute_result"
    },
    {
     "name": "stdout",
     "output_type": "stream",
     "text": [
      "[1] \"mexico\"\n"
     ]
    },
    {
     "data": {
      "text/html": [
       "<table>\n",
       "<tbody>\n",
       "\t<tr><th scope=row>output1</th><td>AIC       </td><td>AIC Tree  </td><td>AIC Pruned</td><td>AIC Forest</td></tr>\n",
       "\t<tr><th scope=row></th><td>Mean               </td><td>0.00588881746667127</td><td>0.00588510911453325</td><td>0.00385358320812958</td></tr>\n",
       "\t<tr><th scope=row></th><td>Variance            </td><td>3.14794576669526e-05</td><td>2.82456954536241e-05</td><td>1.66657651173275e-05</td></tr>\n",
       "</tbody>\n",
       "</table>\n"
      ],
      "text/latex": [
       "\\begin{tabular}{r|llll}\n",
       "\toutput1 & AIC        & AIC Tree   & AIC Pruned & AIC Forest\\\\\n",
       "\t & Mean                & 0.00588881746667127 & 0.00588510911453325 & 0.00385358320812958\\\\\n",
       "\t & Variance             & 3.14794576669526e-05 & 2.82456954536241e-05 & 1.66657651173275e-05\\\\\n",
       "\\end{tabular}\n"
      ],
      "text/markdown": [
       "1. \"AIC\"\n",
       "2. \"Mean\"\n",
       "3. \"Variance\"\n",
       "4. \"AIC Tree\"\n",
       "5. \"0.00588881746667127\"\n",
       "6. \"3.14794576669526e-05\"\n",
       "7. \"AIC Pruned\"\n",
       "8. \"0.00588510911453325\"\n",
       "9. \"2.82456954536241e-05\"\n",
       "10. \"AIC Forest\"\n",
       "11. \"0.00385358320812958\"\n",
       "12. \"1.66657651173275e-05\"\n",
       "\n",
       "\n"
      ],
      "text/plain": [
       "        [,1]       [,2]                   [,3]                  \n",
       "output1 \"AIC\"      \"AIC Tree\"             \"AIC Pruned\"          \n",
       "        \"Mean\"     \"0.00588881746667127\"  \"0.00588510911453325\" \n",
       "        \"Variance\" \"3.14794576669526e-05\" \"2.82456954536241e-05\"\n",
       "        [,4]                  \n",
       "output1 \"AIC Forest\"          \n",
       "        \"0.00385358320812958\" \n",
       "        \"1.66657651173275e-05\""
      ]
     },
     "execution_count": 15,
     "metadata": {},
     "output_type": "execute_result"
    },
    {
     "name": "stdout",
     "output_type": "stream",
     "text": [
      "[1] \"japan\"\n"
     ]
    },
    {
     "data": {
      "text/html": [
       "<table>\n",
       "<tbody>\n",
       "\t<tr><th scope=row>output1</th><td>AIC       </td><td>AIC Tree  </td><td>AIC Pruned</td><td>AIC Forest</td></tr>\n",
       "\t<tr><th scope=row></th><td>Mean              </td><td>0.0321145869754097</td><td>0.0319260536104283</td><td>0.0184043480877135</td></tr>\n",
       "\t<tr><th scope=row></th><td>Variance            </td><td>0.000253638592693912</td><td>0.0002472665555028  </td><td>4.32466244040458e-05</td></tr>\n",
       "</tbody>\n",
       "</table>\n"
      ],
      "text/latex": [
       "\\begin{tabular}{r|llll}\n",
       "\toutput1 & AIC        & AIC Tree   & AIC Pruned & AIC Forest\\\\\n",
       "\t & Mean               & 0.0321145869754097 & 0.0319260536104283 & 0.0184043480877135\\\\\n",
       "\t & Variance             & 0.000253638592693912 & 0.0002472665555028   & 4.32466244040458e-05\\\\\n",
       "\\end{tabular}\n"
      ],
      "text/markdown": [
       "1. \"AIC\"\n",
       "2. \"Mean\"\n",
       "3. \"Variance\"\n",
       "4. \"AIC Tree\"\n",
       "5. \"0.0321145869754097\"\n",
       "6. \"0.000253638592693912\"\n",
       "7. \"AIC Pruned\"\n",
       "8. \"0.0319260536104283\"\n",
       "9. \"0.0002472665555028\"\n",
       "10. \"AIC Forest\"\n",
       "11. \"0.0184043480877135\"\n",
       "12. \"4.32466244040458e-05\"\n",
       "\n",
       "\n"
      ],
      "text/plain": [
       "        [,1]       [,2]                   [,3]                \n",
       "output1 \"AIC\"      \"AIC Tree\"             \"AIC Pruned\"        \n",
       "        \"Mean\"     \"0.0321145869754097\"   \"0.0319260536104283\"\n",
       "        \"Variance\" \"0.000253638592693912\" \"0.0002472665555028\"\n",
       "        [,4]                  \n",
       "output1 \"AIC Forest\"          \n",
       "        \"0.0184043480877135\"  \n",
       "        \"4.32466244040458e-05\""
      ]
     },
     "execution_count": 15,
     "metadata": {},
     "output_type": "execute_result"
    },
    {
     "name": "stdout",
     "output_type": "stream",
     "text": [
      "[1] \"korea\"\n"
     ]
    },
    {
     "data": {
      "text/html": [
       "<table>\n",
       "<tbody>\n",
       "\t<tr><th scope=row>output1</th><td>AIC       </td><td>AIC Tree  </td><td>AIC Pruned</td><td>AIC Forest</td></tr>\n",
       "\t<tr><th scope=row></th><td>Mean               </td><td>0.00825814125651387</td><td>0.0084239273887678 </td><td>0.00947632468592924</td></tr>\n",
       "\t<tr><th scope=row></th><td>Variance            </td><td>6.80557341410091e-05</td><td>6.60906403996776e-05</td><td>8.65451375568666e-05</td></tr>\n",
       "</tbody>\n",
       "</table>\n"
      ],
      "text/latex": [
       "\\begin{tabular}{r|llll}\n",
       "\toutput1 & AIC        & AIC Tree   & AIC Pruned & AIC Forest\\\\\n",
       "\t & Mean                & 0.00825814125651387 & 0.0084239273887678  & 0.00947632468592924\\\\\n",
       "\t & Variance             & 6.80557341410091e-05 & 6.60906403996776e-05 & 8.65451375568666e-05\\\\\n",
       "\\end{tabular}\n"
      ],
      "text/markdown": [
       "1. \"AIC\"\n",
       "2. \"Mean\"\n",
       "3. \"Variance\"\n",
       "4. \"AIC Tree\"\n",
       "5. \"0.00825814125651387\"\n",
       "6. \"6.80557341410091e-05\"\n",
       "7. \"AIC Pruned\"\n",
       "8. \"0.0084239273887678\"\n",
       "9. \"6.60906403996776e-05\"\n",
       "10. \"AIC Forest\"\n",
       "11. \"0.00947632468592924\"\n",
       "12. \"8.65451375568666e-05\"\n",
       "\n",
       "\n"
      ],
      "text/plain": [
       "        [,1]       [,2]                   [,3]                  \n",
       "output1 \"AIC\"      \"AIC Tree\"             \"AIC Pruned\"          \n",
       "        \"Mean\"     \"0.00825814125651387\"  \"0.0084239273887678\"  \n",
       "        \"Variance\" \"6.80557341410091e-05\" \"6.60906403996776e-05\"\n",
       "        [,4]                  \n",
       "output1 \"AIC Forest\"          \n",
       "        \"0.00947632468592924\" \n",
       "        \"8.65451375568666e-05\""
      ]
     },
     "execution_count": 15,
     "metadata": {},
     "output_type": "execute_result"
    }
   ],
   "source": [
    "countries <- c('japan','europe','korea','mexico','canada')\n",
    "for (country in countries){\n",
    "ex_rates <- read.csv('topfive.csv')\n",
    "ex_rates <- subset(ex_rates, ex_rates$Country.y==country)\n",
    "    \n",
    "full <- subset(ex_rates, select = c(Pct_Chg, Exchange, X1Y_Yield_d, \n",
    "                X1Y_Yield_f, Int_d, Int_f,  Infl_d, Infl_f, GDPG_d,\n",
    "                GDPG_f, BOT_f, BOT_d, FER_f))\n",
    "\n",
    "full <- full %>% mutate(lag1.Exchange = lag(Exchange,1)) %>%\n",
    "                mutate(lag1.X1Y_Yield_d = lag(X1Y_Yield_d,1)) %>%\n",
    "                mutate(lag1.X1Y_Yield_f = lag(X1Y_Yield_f,1)) %>%\n",
    "                mutate(lag1.Infl_d = lag(Infl_d,1)) %>%\n",
    "                mutate(lag1.Infl_f = lag(Infl_f,1)) %>%\n",
    "                mutate(lag1.Int_d = lag(Int_d,1)) %>%\n",
    "                mutate(lag1.Int_f = lag(Int_f,1)) %>%\n",
    "\n",
    "                mutate(lag2.Exchange = lag(Exchange,2)) %>%\n",
    "                mutate(lag2.X1Y_Yield_d = lag(X1Y_Yield_d,2)) %>%\n",
    "                mutate(lag2.X1Y_Yield_f = lag(X1Y_Yield_f,2)) %>%\n",
    "                mutate(lag2.Infl_d = lag(Infl_d,2)) %>%\n",
    "                mutate(lag2.Infl_f = lag(Infl_f,2)) %>%\n",
    "                mutate(lag2.Int_d = lag(Int_d,2)) %>%\n",
    "                mutate(lag2.Int_f = lag(Int_f,2)) %>%\n",
    "    \n",
    "                mutate(lag3.Exchange = lag(Exchange,3)) %>%\n",
    "                mutate(lag3.X1Y_Yield_d = lag(X1Y_Yield_d,3)) %>%\n",
    "                mutate(lag3.X1Y_Yield_f = lag(X1Y_Yield_f,3)) %>%\n",
    "                mutate(lag3.Infl_d = lag(Infl_d,3)) %>%\n",
    "                mutate(lag3.Infl_f = lag(Infl_f,3)) %>%\n",
    "                mutate(lag3.Int_d = lag(Int_d,3)) %>%\n",
    "                mutate(lag3.Int_f = lag(Int_f,3)) %>%\n",
    "    \n",
    "                mutate(lag4.Exchange = lag(Exchange,4)) %>%\n",
    "                mutate(lag4.X1Y_Yield_d = lag(X1Y_Yield_d,4)) %>%\n",
    "                mutate(lag4.X1Y_Yield_f = lag(X1Y_Yield_f,4)) %>%\n",
    "                mutate(lag4.Infl_d = lag(Infl_d,4)) %>%\n",
    "                mutate(lag4.Infl_f = lag(Infl_f,4)) %>%\n",
    "                mutate(lag4.Int_d = lag(Int_d,4)) %>%\n",
    "                mutate(lag4.Int_f = lag(Int_f,4)) %>%\n",
    "    \n",
    "                mutate(lag5.Exchange = lag(Exchange,5)) %>%\n",
    "                mutate(lag5.X1Y_Yield_d = lag(X1Y_Yield_d,5)) %>%\n",
    "                mutate(lag5.X1Y_Yield_f = lag(X1Y_Yield_f,5)) %>%\n",
    "                mutate(lag5.Infl_d = lag(Infl_d,5)) %>%\n",
    "                mutate(lag5.Infl_f = lag(Infl_f,5)) %>%\n",
    "                mutate(lag5.Int_d = lag(Int_d,5)) %>%\n",
    "                mutate(lag5.Int_f = lag(Int_f,5)) %>%\n",
    "    \n",
    "                mutate(lag6.Exchange = lag(Exchange,6)) %>%\n",
    "                mutate(lag6.X1Y_Yield_d = lag(X1Y_Yield_d,6)) %>%\n",
    "                mutate(lag6.X1Y_Yield_f = lag(X1Y_Yield_f,6)) %>%\n",
    "                mutate(lag6.Infl_d = lag(Infl_d,6)) %>%\n",
    "                mutate(lag6.Infl_f = lag(Infl_f,6)) %>%\n",
    "                mutate(lag6.Int_d = lag(Int_d,6)) %>%\n",
    "                mutate(lag6.Int_f = lag(Int_f,6)) %>%\n",
    "\n",
    "                mutate(lag7.Exchange = lag(Exchange,7)) %>%\n",
    "                mutate(lag7.X1Y_Yield_d = lag(X1Y_Yield_d,7)) %>%\n",
    "                mutate(lag7.X1Y_Yield_f = lag(X1Y_Yield_f,7)) %>%\n",
    "                mutate(lag7.Infl_d = lag(Infl_d,7)) %>%\n",
    "                mutate(lag7.Infl_f = lag(Infl_f,7)) %>%\n",
    "                mutate(lag7.Int_d = lag(Int_d,7)) %>%\n",
    "                mutate(lag7.Int_f = lag(Int_f,7)) %>%\n",
    "\n",
    "                mutate(lag8.Exchange = lag(Exchange,8)) %>%\n",
    "                mutate(lag8.X1Y_Yield_d = lag(X1Y_Yield_d,8)) %>%\n",
    "                mutate(lag8.X1Y_Yield_f = lag(X1Y_Yield_f,8)) %>%\n",
    "                mutate(lag8.Infl_d = lag(Infl_d,8)) %>%\n",
    "                mutate(lag8.Infl_f = lag(Infl_f,8)) %>%\n",
    "                mutate(lag8.Int_d = lag(Int_d,8)) %>%\n",
    "                mutate(lag8.Int_f = lag(Int_f,8)) %>%\n",
    "    \n",
    "                mutate(lag9.Exchange = lag(Exchange,9)) %>%\n",
    "                mutate(lag9.X1Y_Yield_d = lag(X1Y_Yield_d,9)) %>%\n",
    "                mutate(lag9.X1Y_Yield_f = lag(X1Y_Yield_f,9)) %>%\n",
    "                mutate(lag9.Infl_d = lag(Infl_d,9)) %>%\n",
    "                mutate(lag9.Infl_f = lag(Infl_f,9)) %>%\n",
    "                mutate(lag9.Int_d = lag(Int_d,9)) %>%\n",
    "                mutate(lag9.Int_f = lag(Int_f,9))\n",
    "\n",
    "full <- na.omit(full)\n",
    "write.csv(full,file = paste(country,'_full.csv',sep=''))\n",
    "}\n",
    "\n",
    "print('canada')\n",
    "test_full_trees('canada',100)\n",
    "print('europe')\n",
    "test_full_trees('europe',100)\n",
    "print('mexico')\n",
    "test_full_trees('mexico',100)\n",
    "print('japan')\n",
    "test_full_trees('japan',100)\n",
    "print('korea')\n",
    "test_full_trees('korea',100)\n",
    "\n",
    "print('canada')\n",
    "test_aic_trees('canada',100)\n",
    "print('europe')\n",
    "test_aic_trees('europe',100)\n",
    "print('mexico')\n",
    "test_aic_trees('mexico',100)\n",
    "print('japan')\n",
    "test_aic_trees('japan',100)\n",
    "print('korea')\n",
    "test_aic_trees('korea',100)"
   ]
  },
  {
   "cell_type": "code",
   "execution_count": 16,
   "metadata": {
    "collapsed": false
   },
   "outputs": [
    {
     "name": "stdout",
     "output_type": "stream",
     "text": [
      "[1] \"canada\"\n"
     ]
    },
    {
     "data": {
      "text/html": [
       "<table>\n",
       "<tbody>\n",
       "\t<tr><th scope=row>output1</th><td>Full       </td><td>Full Tree  </td><td>Full Pruned</td><td>Full Forest</td></tr>\n",
       "\t<tr><th scope=row></th><td>Mean               </td><td>0.00563409394203227</td><td>0.00564438212499927</td><td>0.00461066777799263</td></tr>\n",
       "\t<tr><th scope=row></th><td>Variance            </td><td>4.54186956112902e-05</td><td>4.50671307406396e-05</td><td>3.96442143293759e-05</td></tr>\n",
       "</tbody>\n",
       "</table>\n"
      ],
      "text/latex": [
       "\\begin{tabular}{r|llll}\n",
       "\toutput1 & Full        & Full Tree   & Full Pruned & Full Forest\\\\\n",
       "\t & Mean                & 0.00563409394203227 & 0.00564438212499927 & 0.00461066777799263\\\\\n",
       "\t & Variance             & 4.54186956112902e-05 & 4.50671307406396e-05 & 3.96442143293759e-05\\\\\n",
       "\\end{tabular}\n"
      ],
      "text/markdown": [
       "1. \"Full\"\n",
       "2. \"Mean\"\n",
       "3. \"Variance\"\n",
       "4. \"Full Tree\"\n",
       "5. \"0.00563409394203227\"\n",
       "6. \"4.54186956112902e-05\"\n",
       "7. \"Full Pruned\"\n",
       "8. \"0.00564438212499927\"\n",
       "9. \"4.50671307406396e-05\"\n",
       "10. \"Full Forest\"\n",
       "11. \"0.00461066777799263\"\n",
       "12. \"3.96442143293759e-05\"\n",
       "\n",
       "\n"
      ],
      "text/plain": [
       "        [,1]       [,2]                   [,3]                  \n",
       "output1 \"Full\"     \"Full Tree\"            \"Full Pruned\"         \n",
       "        \"Mean\"     \"0.00563409394203227\"  \"0.00564438212499927\" \n",
       "        \"Variance\" \"4.54186956112902e-05\" \"4.50671307406396e-05\"\n",
       "        [,4]                  \n",
       "output1 \"Full Forest\"         \n",
       "        \"0.00461066777799263\" \n",
       "        \"3.96442143293759e-05\""
      ]
     },
     "execution_count": 16,
     "metadata": {},
     "output_type": "execute_result"
    },
    {
     "name": "stdout",
     "output_type": "stream",
     "text": [
      "[1] \"europe\"\n"
     ]
    },
    {
     "data": {
      "text/html": [
       "<table>\n",
       "<tbody>\n",
       "\t<tr><th scope=row>output1</th><td>Full       </td><td>Full Tree  </td><td>Full Pruned</td><td>Full Forest</td></tr>\n",
       "\t<tr><th scope=row></th><td>Mean              </td><td>0.0151217018496651</td><td>0.0153012434127315</td><td>0.0113965787755688</td></tr>\n",
       "\t<tr><th scope=row></th><td>Variance            </td><td>6.97866391727101e-05</td><td>7.22146592991335e-05</td><td>4.93611502963855e-05</td></tr>\n",
       "</tbody>\n",
       "</table>\n"
      ],
      "text/latex": [
       "\\begin{tabular}{r|llll}\n",
       "\toutput1 & Full        & Full Tree   & Full Pruned & Full Forest\\\\\n",
       "\t & Mean               & 0.0151217018496651 & 0.0153012434127315 & 0.0113965787755688\\\\\n",
       "\t & Variance             & 6.97866391727101e-05 & 7.22146592991335e-05 & 4.93611502963855e-05\\\\\n",
       "\\end{tabular}\n"
      ],
      "text/markdown": [
       "1. \"Full\"\n",
       "2. \"Mean\"\n",
       "3. \"Variance\"\n",
       "4. \"Full Tree\"\n",
       "5. \"0.0151217018496651\"\n",
       "6. \"6.97866391727101e-05\"\n",
       "7. \"Full Pruned\"\n",
       "8. \"0.0153012434127315\"\n",
       "9. \"7.22146592991335e-05\"\n",
       "10. \"Full Forest\"\n",
       "11. \"0.0113965787755688\"\n",
       "12. \"4.93611502963855e-05\"\n",
       "\n",
       "\n"
      ],
      "text/plain": [
       "        [,1]       [,2]                   [,3]                  \n",
       "output1 \"Full\"     \"Full Tree\"            \"Full Pruned\"         \n",
       "        \"Mean\"     \"0.0151217018496651\"   \"0.0153012434127315\"  \n",
       "        \"Variance\" \"6.97866391727101e-05\" \"7.22146592991335e-05\"\n",
       "        [,4]                  \n",
       "output1 \"Full Forest\"         \n",
       "        \"0.0113965787755688\"  \n",
       "        \"4.93611502963855e-05\""
      ]
     },
     "execution_count": 16,
     "metadata": {},
     "output_type": "execute_result"
    },
    {
     "name": "stdout",
     "output_type": "stream",
     "text": [
      "[1] \"mexico\"\n"
     ]
    },
    {
     "data": {
      "text/html": [
       "<table>\n",
       "<tbody>\n",
       "\t<tr><th scope=row>output1</th><td>Full       </td><td>Full Tree  </td><td>Full Pruned</td><td>Full Forest</td></tr>\n",
       "\t<tr><th scope=row></th><td>Mean               </td><td>0.00824862179701571</td><td>0.00806109380063217</td><td>0.00487092022287228</td></tr>\n",
       "\t<tr><th scope=row></th><td>Variance            </td><td>6.11513790054365e-05</td><td>6.21862374074834e-05</td><td>2.22563819138239e-05</td></tr>\n",
       "</tbody>\n",
       "</table>\n"
      ],
      "text/latex": [
       "\\begin{tabular}{r|llll}\n",
       "\toutput1 & Full        & Full Tree   & Full Pruned & Full Forest\\\\\n",
       "\t & Mean                & 0.00824862179701571 & 0.00806109380063217 & 0.00487092022287228\\\\\n",
       "\t & Variance             & 6.11513790054365e-05 & 6.21862374074834e-05 & 2.22563819138239e-05\\\\\n",
       "\\end{tabular}\n"
      ],
      "text/markdown": [
       "1. \"Full\"\n",
       "2. \"Mean\"\n",
       "3. \"Variance\"\n",
       "4. \"Full Tree\"\n",
       "5. \"0.00824862179701571\"\n",
       "6. \"6.11513790054365e-05\"\n",
       "7. \"Full Pruned\"\n",
       "8. \"0.00806109380063217\"\n",
       "9. \"6.21862374074834e-05\"\n",
       "10. \"Full Forest\"\n",
       "11. \"0.00487092022287228\"\n",
       "12. \"2.22563819138239e-05\"\n",
       "\n",
       "\n"
      ],
      "text/plain": [
       "        [,1]       [,2]                   [,3]                  \n",
       "output1 \"Full\"     \"Full Tree\"            \"Full Pruned\"         \n",
       "        \"Mean\"     \"0.00824862179701571\"  \"0.00806109380063217\" \n",
       "        \"Variance\" \"6.11513790054365e-05\" \"6.21862374074834e-05\"\n",
       "        [,4]                  \n",
       "output1 \"Full Forest\"         \n",
       "        \"0.00487092022287228\" \n",
       "        \"2.22563819138239e-05\""
      ]
     },
     "execution_count": 16,
     "metadata": {},
     "output_type": "execute_result"
    },
    {
     "name": "stdout",
     "output_type": "stream",
     "text": [
      "[1] \"japan\"\n"
     ]
    },
    {
     "data": {
      "text/html": [
       "<table>\n",
       "<tbody>\n",
       "\t<tr><th scope=row>output1</th><td>Full       </td><td>Full Tree  </td><td>Full Pruned</td><td>Full Forest</td></tr>\n",
       "\t<tr><th scope=row></th><td>Mean              </td><td>0.0289748139069343</td><td>0.0288063797097178</td><td>0.0200058805003958</td></tr>\n",
       "\t<tr><th scope=row></th><td>Variance            </td><td>0.000162612055288843</td><td>0.000166971384249707</td><td>5.79248202222632e-05</td></tr>\n",
       "</tbody>\n",
       "</table>\n"
      ],
      "text/latex": [
       "\\begin{tabular}{r|llll}\n",
       "\toutput1 & Full        & Full Tree   & Full Pruned & Full Forest\\\\\n",
       "\t & Mean               & 0.0289748139069343 & 0.0288063797097178 & 0.0200058805003958\\\\\n",
       "\t & Variance             & 0.000162612055288843 & 0.000166971384249707 & 5.79248202222632e-05\\\\\n",
       "\\end{tabular}\n"
      ],
      "text/markdown": [
       "1. \"Full\"\n",
       "2. \"Mean\"\n",
       "3. \"Variance\"\n",
       "4. \"Full Tree\"\n",
       "5. \"0.0289748139069343\"\n",
       "6. \"0.000162612055288843\"\n",
       "7. \"Full Pruned\"\n",
       "8. \"0.0288063797097178\"\n",
       "9. \"0.000166971384249707\"\n",
       "10. \"Full Forest\"\n",
       "11. \"0.0200058805003958\"\n",
       "12. \"5.79248202222632e-05\"\n",
       "\n",
       "\n"
      ],
      "text/plain": [
       "        [,1]       [,2]                   [,3]                  \n",
       "output1 \"Full\"     \"Full Tree\"            \"Full Pruned\"         \n",
       "        \"Mean\"     \"0.0289748139069343\"   \"0.0288063797097178\"  \n",
       "        \"Variance\" \"0.000162612055288843\" \"0.000166971384249707\"\n",
       "        [,4]                  \n",
       "output1 \"Full Forest\"         \n",
       "        \"0.0200058805003958\"  \n",
       "        \"5.79248202222632e-05\""
      ]
     },
     "execution_count": 16,
     "metadata": {},
     "output_type": "execute_result"
    },
    {
     "name": "stdout",
     "output_type": "stream",
     "text": [
      "[1] \"korea\"\n"
     ]
    },
    {
     "data": {
      "text/html": [
       "<table>\n",
       "<tbody>\n",
       "\t<tr><th scope=row>output1</th><td>Full       </td><td>Full Tree  </td><td>Full Pruned</td><td>Full Forest</td></tr>\n",
       "\t<tr><th scope=row></th><td>Mean               </td><td>0.0099565723296568 </td><td>0.00998910684744552</td><td>0.00808917290457083</td></tr>\n",
       "\t<tr><th scope=row></th><td>Variance            </td><td>7.96342891880055e-05</td><td>7.96611325558872e-05</td><td>5.81346228383466e-05</td></tr>\n",
       "</tbody>\n",
       "</table>\n"
      ],
      "text/latex": [
       "\\begin{tabular}{r|llll}\n",
       "\toutput1 & Full        & Full Tree   & Full Pruned & Full Forest\\\\\n",
       "\t & Mean                & 0.0099565723296568  & 0.00998910684744552 & 0.00808917290457083\\\\\n",
       "\t & Variance             & 7.96342891880055e-05 & 7.96611325558872e-05 & 5.81346228383466e-05\\\\\n",
       "\\end{tabular}\n"
      ],
      "text/markdown": [
       "1. \"Full\"\n",
       "2. \"Mean\"\n",
       "3. \"Variance\"\n",
       "4. \"Full Tree\"\n",
       "5. \"0.0099565723296568\"\n",
       "6. \"7.96342891880055e-05\"\n",
       "7. \"Full Pruned\"\n",
       "8. \"0.00998910684744552\"\n",
       "9. \"7.96611325558872e-05\"\n",
       "10. \"Full Forest\"\n",
       "11. \"0.00808917290457083\"\n",
       "12. \"5.81346228383466e-05\"\n",
       "\n",
       "\n"
      ],
      "text/plain": [
       "        [,1]       [,2]                   [,3]                  \n",
       "output1 \"Full\"     \"Full Tree\"            \"Full Pruned\"         \n",
       "        \"Mean\"     \"0.0099565723296568\"   \"0.00998910684744552\" \n",
       "        \"Variance\" \"7.96342891880055e-05\" \"7.96611325558872e-05\"\n",
       "        [,4]                  \n",
       "output1 \"Full Forest\"         \n",
       "        \"0.00808917290457083\" \n",
       "        \"5.81346228383466e-05\""
      ]
     },
     "execution_count": 16,
     "metadata": {},
     "output_type": "execute_result"
    },
    {
     "name": "stdout",
     "output_type": "stream",
     "text": [
      "[1] \"canada\"\n"
     ]
    },
    {
     "ename": "ERROR",
     "evalue": "Error in `[.data.frame`(full, var_list): undefined columns selected\n",
     "output_type": "error",
     "traceback": [
      "Error in `[.data.frame`(full, var_list): undefined columns selected\n"
     ]
    },
    {
     "name": "stdout",
     "output_type": "stream",
     "text": [
      "[1] \"europe\"\n"
     ]
    },
    {
     "data": {
      "text/html": [
       "<table>\n",
       "<tbody>\n",
       "\t<tr><th scope=row>output1</th><td>AIC       </td><td>AIC Tree  </td><td>AIC Pruned</td><td>AIC Forest</td></tr>\n",
       "\t<tr><th scope=row></th><td>Mean              </td><td>0.0137429166377971</td><td>0.0137697506368963</td><td>0.0111586061391944</td></tr>\n",
       "\t<tr><th scope=row></th><td>Variance            </td><td>0.000116296603496673</td><td>0.000115492520219748</td><td>5.75885510059824e-05</td></tr>\n",
       "</tbody>\n",
       "</table>\n"
      ],
      "text/latex": [
       "\\begin{tabular}{r|llll}\n",
       "\toutput1 & AIC        & AIC Tree   & AIC Pruned & AIC Forest\\\\\n",
       "\t & Mean               & 0.0137429166377971 & 0.0137697506368963 & 0.0111586061391944\\\\\n",
       "\t & Variance             & 0.000116296603496673 & 0.000115492520219748 & 5.75885510059824e-05\\\\\n",
       "\\end{tabular}\n"
      ],
      "text/markdown": [
       "1. \"AIC\"\n",
       "2. \"Mean\"\n",
       "3. \"Variance\"\n",
       "4. \"AIC Tree\"\n",
       "5. \"0.0137429166377971\"\n",
       "6. \"0.000116296603496673\"\n",
       "7. \"AIC Pruned\"\n",
       "8. \"0.0137697506368963\"\n",
       "9. \"0.000115492520219748\"\n",
       "10. \"AIC Forest\"\n",
       "11. \"0.0111586061391944\"\n",
       "12. \"5.75885510059824e-05\"\n",
       "\n",
       "\n"
      ],
      "text/plain": [
       "        [,1]       [,2]                   [,3]                  \n",
       "output1 \"AIC\"      \"AIC Tree\"             \"AIC Pruned\"          \n",
       "        \"Mean\"     \"0.0137429166377971\"   \"0.0137697506368963\"  \n",
       "        \"Variance\" \"0.000116296603496673\" \"0.000115492520219748\"\n",
       "        [,4]                  \n",
       "output1 \"AIC Forest\"          \n",
       "        \"0.0111586061391944\"  \n",
       "        \"5.75885510059824e-05\""
      ]
     },
     "execution_count": 16,
     "metadata": {},
     "output_type": "execute_result"
    },
    {
     "name": "stdout",
     "output_type": "stream",
     "text": [
      "[1] \"mexico\"\n"
     ]
    },
    {
     "ename": "ERROR",
     "evalue": "Error in `[.data.frame`(full, var_list): undefined columns selected\n",
     "output_type": "error",
     "traceback": [
      "Error in `[.data.frame`(full, var_list): undefined columns selected\n"
     ]
    },
    {
     "name": "stdout",
     "output_type": "stream",
     "text": [
      "[1] \"japan\"\n"
     ]
    },
    {
     "data": {
      "text/html": [
       "<table>\n",
       "<tbody>\n",
       "\t<tr><th scope=row>output1</th><td>AIC       </td><td>AIC Tree  </td><td>AIC Pruned</td><td>AIC Forest</td></tr>\n",
       "\t<tr><th scope=row></th><td>Mean              </td><td>0.0296440302395559</td><td>0.0296440172972504</td><td>0.0190270215807868</td></tr>\n",
       "\t<tr><th scope=row></th><td>Variance            </td><td>0.000174909431687258</td><td>0.000174266383257628</td><td>4.9186765041553e-05 </td></tr>\n",
       "</tbody>\n",
       "</table>\n"
      ],
      "text/latex": [
       "\\begin{tabular}{r|llll}\n",
       "\toutput1 & AIC        & AIC Tree   & AIC Pruned & AIC Forest\\\\\n",
       "\t & Mean               & 0.0296440302395559 & 0.0296440172972504 & 0.0190270215807868\\\\\n",
       "\t & Variance             & 0.000174909431687258 & 0.000174266383257628 & 4.9186765041553e-05 \\\\\n",
       "\\end{tabular}\n"
      ],
      "text/markdown": [
       "1. \"AIC\"\n",
       "2. \"Mean\"\n",
       "3. \"Variance\"\n",
       "4. \"AIC Tree\"\n",
       "5. \"0.0296440302395559\"\n",
       "6. \"0.000174909431687258\"\n",
       "7. \"AIC Pruned\"\n",
       "8. \"0.0296440172972504\"\n",
       "9. \"0.000174266383257628\"\n",
       "10. \"AIC Forest\"\n",
       "11. \"0.0190270215807868\"\n",
       "12. \"4.9186765041553e-05\"\n",
       "\n",
       "\n"
      ],
      "text/plain": [
       "        [,1]       [,2]                   [,3]                  \n",
       "output1 \"AIC\"      \"AIC Tree\"             \"AIC Pruned\"          \n",
       "        \"Mean\"     \"0.0296440302395559\"   \"0.0296440172972504\"  \n",
       "        \"Variance\" \"0.000174909431687258\" \"0.000174266383257628\"\n",
       "        [,4]                 \n",
       "output1 \"AIC Forest\"         \n",
       "        \"0.0190270215807868\" \n",
       "        \"4.9186765041553e-05\""
      ]
     },
     "execution_count": 16,
     "metadata": {},
     "output_type": "execute_result"
    },
    {
     "name": "stdout",
     "output_type": "stream",
     "text": [
      "[1] \"korea\"\n"
     ]
    },
    {
     "data": {
      "text/html": [
       "<table>\n",
       "<tbody>\n",
       "\t<tr><th scope=row>output1</th><td>AIC       </td><td>AIC Tree  </td><td>AIC Pruned</td><td>AIC Forest</td></tr>\n",
       "\t<tr><th scope=row></th><td>Mean               </td><td>0.00958579691676819</td><td>0.00960645211932238</td><td>0.00775683615187804</td></tr>\n",
       "\t<tr><th scope=row></th><td>Variance            </td><td>9.81619074671622e-05</td><td>9.77585523131729e-05</td><td>5.64308796330171e-05</td></tr>\n",
       "</tbody>\n",
       "</table>\n"
      ],
      "text/latex": [
       "\\begin{tabular}{r|llll}\n",
       "\toutput1 & AIC        & AIC Tree   & AIC Pruned & AIC Forest\\\\\n",
       "\t & Mean                & 0.00958579691676819 & 0.00960645211932238 & 0.00775683615187804\\\\\n",
       "\t & Variance             & 9.81619074671622e-05 & 9.77585523131729e-05 & 5.64308796330171e-05\\\\\n",
       "\\end{tabular}\n"
      ],
      "text/markdown": [
       "1. \"AIC\"\n",
       "2. \"Mean\"\n",
       "3. \"Variance\"\n",
       "4. \"AIC Tree\"\n",
       "5. \"0.00958579691676819\"\n",
       "6. \"9.81619074671622e-05\"\n",
       "7. \"AIC Pruned\"\n",
       "8. \"0.00960645211932238\"\n",
       "9. \"9.77585523131729e-05\"\n",
       "10. \"AIC Forest\"\n",
       "11. \"0.00775683615187804\"\n",
       "12. \"5.64308796330171e-05\"\n",
       "\n",
       "\n"
      ],
      "text/plain": [
       "        [,1]       [,2]                   [,3]                  \n",
       "output1 \"AIC\"      \"AIC Tree\"             \"AIC Pruned\"          \n",
       "        \"Mean\"     \"0.00958579691676819\"  \"0.00960645211932238\" \n",
       "        \"Variance\" \"9.81619074671622e-05\" \"9.77585523131729e-05\"\n",
       "        [,4]                  \n",
       "output1 \"AIC Forest\"          \n",
       "        \"0.00775683615187804\" \n",
       "        \"5.64308796330171e-05\""
      ]
     },
     "execution_count": 16,
     "metadata": {},
     "output_type": "execute_result"
    }
   ],
   "source": [
    "countries <- c('japan','europe','korea','mexico','canada')\n",
    "for (country in countries){\n",
    "ex_rates <- read.csv('topfive.csv')\n",
    "ex_rates <- subset(ex_rates, ex_rates$Country.y==country)\n",
    "    \n",
    "full <- subset(ex_rates, select = c(Pct_Chg, Exchange, X1Y_Yield_d, \n",
    "                X1Y_Yield_f, Int_d, Int_f,  Infl_d, Infl_f, GDPG_d,\n",
    "                GDPG_f, BOT_f, BOT_d, FER_f))\n",
    "\n",
    "full <- full %>% mutate(lag1.Exchange = lag(Exchange,1)) %>%\n",
    "                mutate(lag1.X1Y_Yield_d = lag(X1Y_Yield_d,1)) %>%\n",
    "                mutate(lag1.X1Y_Yield_f = lag(X1Y_Yield_f,1)) %>%\n",
    "                mutate(lag1.Infl_d = lag(Infl_d,1)) %>%\n",
    "                mutate(lag1.Infl_f = lag(Infl_f,1)) %>%\n",
    "                mutate(lag1.Int_d = lag(Int_d,1)) %>%\n",
    "                mutate(lag1.Int_f = lag(Int_f,1)) %>%\n",
    "\n",
    "                mutate(lag2.Exchange = lag(Exchange,2)) %>%\n",
    "                mutate(lag2.X1Y_Yield_d = lag(X1Y_Yield_d,2)) %>%\n",
    "                mutate(lag2.X1Y_Yield_f = lag(X1Y_Yield_f,2)) %>%\n",
    "                mutate(lag2.Infl_d = lag(Infl_d,2)) %>%\n",
    "                mutate(lag2.Infl_f = lag(Infl_f,2)) %>%\n",
    "                mutate(lag2.Int_d = lag(Int_d,2)) %>%\n",
    "                mutate(lag2.Int_f = lag(Int_f,2)) %>%\n",
    "    \n",
    "                mutate(lag3.Exchange = lag(Exchange,3)) %>%\n",
    "                mutate(lag3.X1Y_Yield_d = lag(X1Y_Yield_d,3)) %>%\n",
    "                mutate(lag3.X1Y_Yield_f = lag(X1Y_Yield_f,3)) %>%\n",
    "                mutate(lag3.Infl_d = lag(Infl_d,3)) %>%\n",
    "                mutate(lag3.Infl_f = lag(Infl_f,3)) %>%\n",
    "                mutate(lag3.Int_d = lag(Int_d,3)) %>%\n",
    "                mutate(lag3.Int_f = lag(Int_f,3)) %>%\n",
    "    \n",
    "                mutate(lag4.Exchange = lag(Exchange,4)) %>%\n",
    "                mutate(lag4.X1Y_Yield_d = lag(X1Y_Yield_d,4)) %>%\n",
    "                mutate(lag4.X1Y_Yield_f = lag(X1Y_Yield_f,4)) %>%\n",
    "                mutate(lag4.Infl_d = lag(Infl_d,4)) %>%\n",
    "                mutate(lag4.Infl_f = lag(Infl_f,4)) %>%\n",
    "                mutate(lag4.Int_d = lag(Int_d,4)) %>%\n",
    "                mutate(lag4.Int_f = lag(Int_f,4)) %>%\n",
    "    \n",
    "                mutate(lag5.Exchange = lag(Exchange,5)) %>%\n",
    "                mutate(lag5.X1Y_Yield_d = lag(X1Y_Yield_d,5)) %>%\n",
    "                mutate(lag5.X1Y_Yield_f = lag(X1Y_Yield_f,5)) %>%\n",
    "                mutate(lag5.Infl_d = lag(Infl_d,5)) %>%\n",
    "                mutate(lag5.Infl_f = lag(Infl_f,5)) %>%\n",
    "                mutate(lag5.Int_d = lag(Int_d,5)) %>%\n",
    "                mutate(lag5.Int_f = lag(Int_f,5)) %>%\n",
    "    \n",
    "                mutate(lag6.Exchange = lag(Exchange,6)) %>%\n",
    "                mutate(lag6.X1Y_Yield_d = lag(X1Y_Yield_d,6)) %>%\n",
    "                mutate(lag6.X1Y_Yield_f = lag(X1Y_Yield_f,6)) %>%\n",
    "                mutate(lag6.Infl_d = lag(Infl_d,6)) %>%\n",
    "                mutate(lag6.Infl_f = lag(Infl_f,6)) %>%\n",
    "                mutate(lag6.Int_d = lag(Int_d,6)) %>%\n",
    "                mutate(lag6.Int_f = lag(Int_f,6)) %>%\n",
    "\n",
    "                mutate(lag7.Exchange = lag(Exchange,7)) %>%\n",
    "                mutate(lag7.X1Y_Yield_d = lag(X1Y_Yield_d,7)) %>%\n",
    "                mutate(lag7.X1Y_Yield_f = lag(X1Y_Yield_f,7)) %>%\n",
    "                mutate(lag7.Infl_d = lag(Infl_d,7)) %>%\n",
    "                mutate(lag7.Infl_f = lag(Infl_f,7)) %>%\n",
    "                mutate(lag7.Int_d = lag(Int_d,7)) %>%\n",
    "                mutate(lag7.Int_f = lag(Int_f,7)) %>%\n",
    "\n",
    "                mutate(lag8.Exchange = lag(Exchange,8)) %>%\n",
    "                mutate(lag8.X1Y_Yield_d = lag(X1Y_Yield_d,8)) %>%\n",
    "                mutate(lag8.X1Y_Yield_f = lag(X1Y_Yield_f,8)) %>%\n",
    "                mutate(lag8.Infl_d = lag(Infl_d,8)) %>%\n",
    "                mutate(lag8.Infl_f = lag(Infl_f,8)) %>%\n",
    "                mutate(lag8.Int_d = lag(Int_d,8)) %>%\n",
    "                mutate(lag8.Int_f = lag(Int_f,8)) %>%\n",
    "    \n",
    "                mutate(lag9.Exchange = lag(Exchange,9)) %>%\n",
    "                mutate(lag9.X1Y_Yield_d = lag(X1Y_Yield_d,9)) %>%\n",
    "                mutate(lag9.X1Y_Yield_f = lag(X1Y_Yield_f,9)) %>%\n",
    "                mutate(lag9.Infl_d = lag(Infl_d,9)) %>%\n",
    "                mutate(lag9.Infl_f = lag(Infl_f,9)) %>%\n",
    "                mutate(lag9.Int_d = lag(Int_d,9)) %>%\n",
    "                mutate(lag9.Int_f = lag(Int_f,9)) %>%\n",
    "    \n",
    "                mutate(lag10.Exchange = lag(Exchange,10)) %>%\n",
    "                mutate(lag10.X1Y_Yield_d = lag(X1Y_Yield_d,10)) %>%\n",
    "                mutate(lag10.X1Y_Yield_f = lag(X1Y_Yield_f,10)) %>%\n",
    "                mutate(lag10.Infl_d = lag(Infl_d,10)) %>%\n",
    "                mutate(lag10.Infl_f = lag(Infl_f,10)) %>%\n",
    "                mutate(lag10.Int_d = lag(Int_d,10)) %>%\n",
    "                mutate(lag10.Int_f = lag(Int_f,10)) \n",
    "\n",
    "full <- na.omit(full)\n",
    "write.csv(full,file = paste(country,'_full.csv',sep=''))\n",
    "}\n",
    "\n",
    "print('canada')\n",
    "test_full_trees('canada',100)\n",
    "print('europe')\n",
    "test_full_trees('europe',100)\n",
    "print('mexico')\n",
    "test_full_trees('mexico',100)\n",
    "print('japan')\n",
    "test_full_trees('japan',100)\n",
    "print('korea')\n",
    "test_full_trees('korea',100)\n",
    "\n",
    "print('canada')\n",
    "test_aic_trees('canada',100)\n",
    "print('europe')\n",
    "test_aic_trees('europe',100)\n",
    "print('mexico')\n",
    "test_aic_trees('mexico',100)\n",
    "print('japan')\n",
    "test_aic_trees('japan',100)\n",
    "print('korea')\n",
    "test_aic_trees('korea',100)"
   ]
  },
  {
   "cell_type": "code",
   "execution_count": null,
   "metadata": {
    "collapsed": true
   },
   "outputs": [],
   "source": []
  }
 ],
 "metadata": {
  "kernelspec": {
   "display_name": "R",
   "language": "R",
   "name": "ir"
  },
  "language_info": {
   "codemirror_mode": "r",
   "file_extension": ".r",
   "mimetype": "text/x-r-source",
   "name": "R",
   "pygments_lexer": "r",
   "version": "3.1.3"
  }
 },
 "nbformat": 4,
 "nbformat_minor": 0
}
