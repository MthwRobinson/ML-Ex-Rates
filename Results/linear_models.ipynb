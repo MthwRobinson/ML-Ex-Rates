{
 "cells": [
  {
   "cell_type": "code",
   "execution_count": 2,
   "metadata": {
    "collapsed": false
   },
   "outputs": [],
   "source": [
    "library(class)\n",
    "library(MASS)\n",
    "library(pls)\n",
    "library(lars)\n",
    "library(lattice)"
   ]
  },
  {
   "cell_type": "code",
   "execution_count": 14,
   "metadata": {
    "collapsed": false
   },
   "outputs": [],
   "source": [
    "setwd('/home/matt/MSOR/ISYE7406/ML-Ex-Rates/Data')\n",
    "ex_rate <- read.csv('oecd.csv')"
   ]
  },
  {
   "cell_type": "code",
   "execution_count": 24,
   "metadata": {
    "collapsed": false
   },
   "outputs": [
    {
     "data": {
      "text/html": [
       "<table>\n",
       "<tbody>\n",
       "\t<tr><th scope=row>output</th><td>Measure</td><td>Step   </td><td>Ridge  </td><td>Naive  </td></tr>\n",
       "\t<tr><th scope=row></th><td>Mean               </td><td>0.0095003070684963 </td><td>0.00557885150813592</td><td>0.00711638519785159</td></tr>\n",
       "\t<tr><th scope=row></th><td>Variance            </td><td>6.89783560612541e-05</td><td>1.08304149737592e-05</td><td>3.57907347521221e-05</td></tr>\n",
       "</tbody>\n",
       "</table>\n"
      ],
      "text/latex": [
       "\\begin{tabular}{r|llll}\n",
       "\toutput & Measure & Step    & Ridge   & Naive  \\\\\n",
       "\t & Mean                & 0.0095003070684963  & 0.00557885150813592 & 0.00711638519785159\\\\\n",
       "\t & Variance             & 6.89783560612541e-05 & 1.08304149737592e-05 & 3.57907347521221e-05\\\\\n",
       "\\end{tabular}\n"
      ],
      "text/markdown": [
       "1. 'Measure'\n",
       "2. 'Mean'\n",
       "3. 'Variance'\n",
       "4. 'Step'\n",
       "5. '0.0095003070684963'\n",
       "6. '6.89783560612541e-05'\n",
       "7. 'Ridge'\n",
       "8. '0.00557885150813592'\n",
       "9. '1.08304149737592e-05'\n",
       "10. 'Naive'\n",
       "11. '0.00711638519785159'\n",
       "12. '3.57907347521221e-05'\n",
       "\n",
       "\n"
      ],
      "text/plain": [
       "       [,1]       [,2]                   [,3]                  \n",
       "output \"Measure\"  \"Step\"                 \"Ridge\"               \n",
       "       \"Mean\"     \"0.0095003070684963\"   \"0.00557885150813592\" \n",
       "       \"Variance\" \"6.89783560612541e-05\" \"1.08304149737592e-05\"\n",
       "       [,4]                  \n",
       "output \"Naive\"               \n",
       "       \"0.00711638519785159\" \n",
       "       \"3.57907347521221e-05\""
      ]
     },
     "execution_count": 24,
     "metadata": {},
     "output_type": "execute_result"
    },
    {
     "data": {
      "text/html": [
       "<table>\n",
       "<tbody>\n",
       "\t<tr><th scope=row>output</th><td>Measure</td><td>Step   </td><td>Ridge  </td><td>Naive  </td></tr>\n",
       "\t<tr><th scope=row></th><td>Mean              </td><td>0.0249765370753851</td><td>0.0190941820562045</td><td>0.0122329760423686</td></tr>\n",
       "\t<tr><th scope=row></th><td>Variance            </td><td>0.00066397207948591 </td><td>0.000236784208550773</td><td>2.42574617624061e-05</td></tr>\n",
       "</tbody>\n",
       "</table>\n"
      ],
      "text/latex": [
       "\\begin{tabular}{r|llll}\n",
       "\toutput & Measure & Step    & Ridge   & Naive  \\\\\n",
       "\t & Mean               & 0.0249765370753851 & 0.0190941820562045 & 0.0122329760423686\\\\\n",
       "\t & Variance             & 0.00066397207948591  & 0.000236784208550773 & 2.42574617624061e-05\\\\\n",
       "\\end{tabular}\n"
      ],
      "text/markdown": [
       "1. 'Measure'\n",
       "2. 'Mean'\n",
       "3. 'Variance'\n",
       "4. 'Step'\n",
       "5. '0.0249765370753851'\n",
       "6. '0.00066397207948591'\n",
       "7. 'Ridge'\n",
       "8. '0.0190941820562045'\n",
       "9. '0.000236784208550773'\n",
       "10. 'Naive'\n",
       "11. '0.0122329760423686'\n",
       "12. '2.42574617624061e-05'\n",
       "\n",
       "\n"
      ],
      "text/plain": [
       "       [,1]       [,2]                  [,3]                  \n",
       "output \"Measure\"  \"Step\"                \"Ridge\"               \n",
       "       \"Mean\"     \"0.0249765370753851\"  \"0.0190941820562045\"  \n",
       "       \"Variance\" \"0.00066397207948591\" \"0.000236784208550773\"\n",
       "       [,4]                  \n",
       "output \"Naive\"               \n",
       "       \"0.0122329760423686\"  \n",
       "       \"2.42574617624061e-05\""
      ]
     },
     "execution_count": 24,
     "metadata": {},
     "output_type": "execute_result"
    },
    {
     "data": {
      "text/html": [
       "<table>\n",
       "<tbody>\n",
       "\t<tr><th scope=row>output</th><td>Measure</td><td>Step   </td><td>Ridge  </td><td>Naive  </td></tr>\n",
       "\t<tr><th scope=row></th><td>Mean               </td><td>0.0187883382445681 </td><td>0.00680272279598375</td><td>0.00842874833881592</td></tr>\n",
       "\t<tr><th scope=row></th><td>Variance            </td><td>0.000690708462255487</td><td>5.36639395900579e-05</td><td>5.50111180456639e-05</td></tr>\n",
       "</tbody>\n",
       "</table>\n"
      ],
      "text/latex": [
       "\\begin{tabular}{r|llll}\n",
       "\toutput & Measure & Step    & Ridge   & Naive  \\\\\n",
       "\t & Mean                & 0.0187883382445681  & 0.00680272279598375 & 0.00842874833881592\\\\\n",
       "\t & Variance             & 0.000690708462255487 & 5.36639395900579e-05 & 5.50111180456639e-05\\\\\n",
       "\\end{tabular}\n"
      ],
      "text/markdown": [
       "1. 'Measure'\n",
       "2. 'Mean'\n",
       "3. 'Variance'\n",
       "4. 'Step'\n",
       "5. '0.0187883382445681'\n",
       "6. '0.000690708462255487'\n",
       "7. 'Ridge'\n",
       "8. '0.00680272279598375'\n",
       "9. '5.36639395900579e-05'\n",
       "10. 'Naive'\n",
       "11. '0.00842874833881592'\n",
       "12. '5.50111180456639e-05'\n",
       "\n",
       "\n"
      ],
      "text/plain": [
       "       [,1]       [,2]                   [,3]                  \n",
       "output \"Measure\"  \"Step\"                 \"Ridge\"               \n",
       "       \"Mean\"     \"0.0187883382445681\"   \"0.00680272279598375\" \n",
       "       \"Variance\" \"0.000690708462255487\" \"5.36639395900579e-05\"\n",
       "       [,4]                  \n",
       "output \"Naive\"               \n",
       "       \"0.00842874833881592\" \n",
       "       \"5.50111180456639e-05\""
      ]
     },
     "execution_count": 24,
     "metadata": {},
     "output_type": "execute_result"
    },
    {
     "data": {
      "text/html": [
       "<table>\n",
       "<tbody>\n",
       "\t<tr><th scope=row>output</th><td>Measure</td><td>Step   </td><td>Ridge  </td><td>Naive  </td></tr>\n",
       "\t<tr><th scope=row></th><td>Mean              </td><td>0.0232411186352456</td><td>0.0257441401238366</td><td>0.0193478540247889</td></tr>\n",
       "\t<tr><th scope=row></th><td>Variance            </td><td>0.000639879995321904</td><td>0.000314330790447216</td><td>7.16137923150832e-05</td></tr>\n",
       "</tbody>\n",
       "</table>\n"
      ],
      "text/latex": [
       "\\begin{tabular}{r|llll}\n",
       "\toutput & Measure & Step    & Ridge   & Naive  \\\\\n",
       "\t & Mean               & 0.0232411186352456 & 0.0257441401238366 & 0.0193478540247889\\\\\n",
       "\t & Variance             & 0.000639879995321904 & 0.000314330790447216 & 7.16137923150832e-05\\\\\n",
       "\\end{tabular}\n"
      ],
      "text/markdown": [
       "1. 'Measure'\n",
       "2. 'Mean'\n",
       "3. 'Variance'\n",
       "4. 'Step'\n",
       "5. '0.0232411186352456'\n",
       "6. '0.000639879995321904'\n",
       "7. 'Ridge'\n",
       "8. '0.0257441401238366'\n",
       "9. '0.000314330790447216'\n",
       "10. 'Naive'\n",
       "11. '0.0193478540247889'\n",
       "12. '7.16137923150832e-05'\n",
       "\n",
       "\n"
      ],
      "text/plain": [
       "       [,1]       [,2]                   [,3]                  \n",
       "output \"Measure\"  \"Step\"                 \"Ridge\"               \n",
       "       \"Mean\"     \"0.0232411186352456\"   \"0.0257441401238366\"  \n",
       "       \"Variance\" \"0.000639879995321904\" \"0.000314330790447216\"\n",
       "       [,4]                  \n",
       "output \"Naive\"               \n",
       "       \"0.0193478540247889\"  \n",
       "       \"7.16137923150832e-05\""
      ]
     },
     "execution_count": 24,
     "metadata": {},
     "output_type": "execute_result"
    },
    {
     "data": {
      "text/html": [
       "<table>\n",
       "<tbody>\n",
       "\t<tr><th scope=row>output</th><td>Measure</td><td>Step   </td><td>Ridge  </td><td>Naive  </td></tr>\n",
       "\t<tr><th scope=row></th><td>Mean               </td><td>0.00589473611065569</td><td>0.00907550059905802</td><td>0.0123134120094243 </td></tr>\n",
       "\t<tr><th scope=row></th><td>Variance            </td><td>6.02811624300079e-06</td><td>4.57667420403888e-05</td><td>9.30619198954257e-05</td></tr>\n",
       "</tbody>\n",
       "</table>\n"
      ],
      "text/latex": [
       "\\begin{tabular}{r|llll}\n",
       "\toutput & Measure & Step    & Ridge   & Naive  \\\\\n",
       "\t & Mean                & 0.00589473611065569 & 0.00907550059905802 & 0.0123134120094243 \\\\\n",
       "\t & Variance             & 6.02811624300079e-06 & 4.57667420403888e-05 & 9.30619198954257e-05\\\\\n",
       "\\end{tabular}\n"
      ],
      "text/markdown": [
       "1. 'Measure'\n",
       "2. 'Mean'\n",
       "3. 'Variance'\n",
       "4. 'Step'\n",
       "5. '0.00589473611065569'\n",
       "6. '6.02811624300079e-06'\n",
       "7. 'Ridge'\n",
       "8. '0.00907550059905802'\n",
       "9. '4.57667420403888e-05'\n",
       "10. 'Naive'\n",
       "11. '0.0123134120094243'\n",
       "12. '9.30619198954257e-05'\n",
       "\n",
       "\n"
      ],
      "text/plain": [
       "       [,1]       [,2]                   [,3]                  \n",
       "output \"Measure\"  \"Step\"                 \"Ridge\"               \n",
       "       \"Mean\"     \"0.00589473611065569\"  \"0.00907550059905802\" \n",
       "       \"Variance\" \"6.02811624300079e-06\" \"4.57667420403888e-05\"\n",
       "       [,4]                  \n",
       "output \"Naive\"               \n",
       "       \"0.0123134120094243\"  \n",
       "       \"9.30619198954257e-05\""
      ]
     },
     "execution_count": 24,
     "metadata": {},
     "output_type": "execute_result"
    }
   ],
   "source": [
    "test_lin_models('canada',100)\n",
    "test_lin_models('europe',100)\n",
    "test_lin_models('mexico',100)\n",
    "test_lin_models('japan',100)\n",
    "test_lin_models('korea',100)"
   ]
  },
  {
   "cell_type": "code",
   "execution_count": 22,
   "metadata": {
    "collapsed": true
   },
   "outputs": [],
   "source": [
    "test_lin_models <- function(country, B){\n",
    "        df <- subset(ex_rate,ex_rate$Country.y==country)\n",
    "        df_set <- subset(df, \n",
    "                    select = -c(X,Country.x,Country.y,Date,Yield_f,\n",
    "                                 PrimeRate_f,FDI_f,Exchange_fut))\n",
    "        df_set <- na.omit(df_set)\n",
    "        # Note: Exchange, Exchange_fut and Pct_Change are cols 17 - 19\n",
    "\n",
    "        # Split into training and testing sets\n",
    "        n <- dim(df_set)[1]; n\n",
    "        n1 <- round(n/5); n1\n",
    "        B <- 100\n",
    "        set.seed(19890211)\n",
    "        train <- df_set[1:(n-n1),]; test <- df_set[(n-n1+1):n,]\n",
    "        \n",
    "        # AIC Stepwise\n",
    "        linreg_AIC.TE_list <- vector(length=0)\n",
    "        for(i in 1:B){\n",
    "            start <- sample(1:(n-n1-1),1)\n",
    "            flag <- (start):(start+n1)\n",
    "            train <- df_set[-flag,]; test <- df_set[flag,]\n",
    "    \n",
    "            regmodel <- lm(Pct_Chg ~ ., data = train)\n",
    "            min.model = lm(Pct_Chg ~ 1, data = train)\n",
    "            max_model <- formula(regmodel)\n",
    "            linreg_AIC = step(min.model, direction = 'forward', \n",
    "                  scope = max_model, trace = FALSE)\n",
    "            linreg_AIC.test <- predict.lm(linreg_AIC,test[,-18])\n",
    "            linreg_AIC.TE <- mean( (test[,18]-linreg_AIC.test)^2)\n",
    "            linreg_AIC.TE_list <- c(linreg_AIC.TE_list, linreg_AIC.TE)\n",
    "    \n",
    "        }    \n",
    "    \n",
    "        # Ridge Regression\n",
    "        ridge.TE_list <- vector(length=0)\n",
    "        for(i in 1:B){\n",
    "            start <- sample(1:(n-n1-1),1)\n",
    "            flag <- (start):(start+n1)\n",
    "            train <- df_set[-flag,]; test <- df_set[flag,]\n",
    "    \n",
    "            ridgereg <- lm.ridge(Pct_Chg ~ Exchange + X1Y_Yield_d + \n",
    "                      X1Y_Yield_f + Int_d + Int_f +  Infl_d + Infl_f, \n",
    "                    data = train, lambda = seq(0,10,0.001))\n",
    "            lambdaopt <- which.min(ridgereg$GCV)\n",
    "            ridge_coef <- coef(ridgereg)[lambdaopt,]\n",
    "            test_ridge <- subset(test, select = c(Pct_Chg, Exchange,\n",
    "                   X1Y_Yield_d, X1Y_Yield_f, Int_d, Int_f, \n",
    "                    Infl_d, Infl_f))\n",
    "            ridge_testmat <- as.matrix(cbind(1,test_ridge[,-1]))\n",
    "            ridge.test <- as.matrix(ridge_testmat %*% ridge_coef)\n",
    "            ridge.TE <- mean( (test_ridge[,1] - ridge.test)^2)\n",
    "            ridge.TE_list <- c(ridge.TE_list, ridge.TE)\n",
    "    \n",
    "        }\n",
    "    \n",
    "        # Naive\n",
    "        naive.TE_list <- vector(length=0)\n",
    "        for(i in 1:B){\n",
    "            start <- sample(1:(n-n1-1),1)\n",
    "            flag <- (start):(start+n1)\n",
    "            train <- df_set[-flag,]; test <- df_set[flag,]\n",
    "            naive.TE <- mean ( (test[,18])^2)\n",
    "            naive.TE_list <- c(naive.TE_list,naive.TE)\n",
    "        }\n",
    "    \n",
    "        output <- c('Measure','Step','Ridge','Naive')\n",
    "        output <- rbind(output, c('Mean', mean(linreg_AIC.TE_list),\n",
    "                             mean(ridge.TE_list),mean(naive.TE_list)))\n",
    "        output <- rbind(output, c('Variance', var(linreg_AIC.TE_list),\n",
    "                             var(ridge.TE_list),var(naive.TE_list)))\n",
    "    \n",
    "        return(output)\n",
    "}"
   ]
  }
 ],
 "metadata": {
  "kernelspec": {
   "display_name": "R",
   "language": "R",
   "name": "ir"
  },
  "language_info": {
   "codemirror_mode": "r",
   "file_extension": ".r",
   "mimetype": "text/x-r-source",
   "name": "R",
   "pygments_lexer": "r",
   "version": "3.2.2"
  }
 },
 "nbformat": 4,
 "nbformat_minor": 0
}
