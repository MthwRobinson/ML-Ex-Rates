{
 "cells": [
  {
   "cell_type": "code",
   "execution_count": 1,
   "metadata": {
    "collapsed": false
   },
   "outputs": [
    {
     "name": "stderr",
     "output_type": "stream",
     "text": [
      "randomForest 4.6-10\n",
      "Type rfNews() to see new features/changes/bug fixes.\n",
      "\n",
      "Attaching package: 'dplyr'\n",
      "\n",
      "The following object is masked from 'package:randomForest':\n",
      "\n",
      "    combine\n",
      "\n",
      "The following object is masked from 'package:stats':\n",
      "\n",
      "    filter\n",
      "\n",
      "The following objects are masked from 'package:base':\n",
      "\n",
      "    intersect, setdiff, setequal, union\n",
      "\n"
     ]
    },
    {
     "name": "stdout",
     "output_type": "stream",
     "text": [
      "[1] \"canada\"\n"
     ]
    },
    {
     "data": {
      "text/html": [
       "<table>\n",
       "<tbody>\n",
       "\t<tr><th scope=row>output1</th><td>Full       </td><td>Full Tree  </td><td>Full Pruned</td><td>Full Forest</td></tr>\n",
       "\t<tr><th scope=row></th><td>Mean               </td><td>0.00738881355527953</td><td>0.00734461551975625</td><td>0.00449553836717566</td></tr>\n",
       "\t<tr><th scope=row></th><td>Variance            </td><td>6.81083472834278e-05</td><td>6.63864784116058e-05</td><td>3.53430112402808e-05</td></tr>\n",
       "</tbody>\n",
       "</table>\n"
      ],
      "text/latex": [
       "\\begin{tabular}{r|llll}\n",
       "\toutput1 & Full        & Full Tree   & Full Pruned & Full Forest\\\\\n",
       "\t & Mean                & 0.00738881355527953 & 0.00734461551975625 & 0.00449553836717566\\\\\n",
       "\t & Variance             & 6.81083472834278e-05 & 6.63864784116058e-05 & 3.53430112402808e-05\\\\\n",
       "\\end{tabular}\n"
      ],
      "text/markdown": [
       "1. \"Full\"\n",
       "2. \"Mean\"\n",
       "3. \"Variance\"\n",
       "4. \"Full Tree\"\n",
       "5. \"0.00738881355527953\"\n",
       "6. \"6.81083472834278e-05\"\n",
       "7. \"Full Pruned\"\n",
       "8. \"0.00734461551975625\"\n",
       "9. \"6.63864784116058e-05\"\n",
       "10. \"Full Forest\"\n",
       "11. \"0.00449553836717566\"\n",
       "12. \"3.53430112402808e-05\"\n",
       "\n",
       "\n"
      ],
      "text/plain": [
       "        [,1]       [,2]                   [,3]                  \n",
       "output1 \"Full\"     \"Full Tree\"            \"Full Pruned\"         \n",
       "        \"Mean\"     \"0.00738881355527953\"  \"0.00734461551975625\" \n",
       "        \"Variance\" \"6.81083472834278e-05\" \"6.63864784116058e-05\"\n",
       "        [,4]                  \n",
       "output1 \"Full Forest\"         \n",
       "        \"0.00449553836717566\" \n",
       "        \"3.53430112402808e-05\""
      ]
     },
     "execution_count": 1,
     "metadata": {},
     "output_type": "execute_result"
    },
    {
     "name": "stdout",
     "output_type": "stream",
     "text": [
      "[1] \"europe\"\n"
     ]
    },
    {
     "data": {
      "text/html": [
       "<table>\n",
       "<tbody>\n",
       "\t<tr><th scope=row>output1</th><td>Full       </td><td>Full Tree  </td><td>Full Pruned</td><td>Full Forest</td></tr>\n",
       "\t<tr><th scope=row></th><td>Mean              </td><td>0.018559912364554 </td><td>0.0186502027373072</td><td>0.0117277801853307</td></tr>\n",
       "\t<tr><th scope=row></th><td>Variance            </td><td>0.000155115258102305</td><td>0.000156048693641692</td><td>5.10149439376311e-05</td></tr>\n",
       "</tbody>\n",
       "</table>\n"
      ],
      "text/latex": [
       "\\begin{tabular}{r|llll}\n",
       "\toutput1 & Full        & Full Tree   & Full Pruned & Full Forest\\\\\n",
       "\t & Mean               & 0.018559912364554  & 0.0186502027373072 & 0.0117277801853307\\\\\n",
       "\t & Variance             & 0.000155115258102305 & 0.000156048693641692 & 5.10149439376311e-05\\\\\n",
       "\\end{tabular}\n"
      ],
      "text/markdown": [
       "1. \"Full\"\n",
       "2. \"Mean\"\n",
       "3. \"Variance\"\n",
       "4. \"Full Tree\"\n",
       "5. \"0.018559912364554\"\n",
       "6. \"0.000155115258102305\"\n",
       "7. \"Full Pruned\"\n",
       "8. \"0.0186502027373072\"\n",
       "9. \"0.000156048693641692\"\n",
       "10. \"Full Forest\"\n",
       "11. \"0.0117277801853307\"\n",
       "12. \"5.10149439376311e-05\"\n",
       "\n",
       "\n"
      ],
      "text/plain": [
       "        [,1]       [,2]                   [,3]                  \n",
       "output1 \"Full\"     \"Full Tree\"            \"Full Pruned\"         \n",
       "        \"Mean\"     \"0.018559912364554\"    \"0.0186502027373072\"  \n",
       "        \"Variance\" \"0.000155115258102305\" \"0.000156048693641692\"\n",
       "        [,4]                  \n",
       "output1 \"Full Forest\"         \n",
       "        \"0.0117277801853307\"  \n",
       "        \"5.10149439376311e-05\""
      ]
     },
     "execution_count": 1,
     "metadata": {},
     "output_type": "execute_result"
    },
    {
     "name": "stdout",
     "output_type": "stream",
     "text": [
      "[1] \"mexico\"\n"
     ]
    },
    {
     "data": {
      "text/html": [
       "<table>\n",
       "<tbody>\n",
       "\t<tr><th scope=row>output1</th><td>Full       </td><td>Full Tree  </td><td>Full Pruned</td><td>Full Forest</td></tr>\n",
       "\t<tr><th scope=row></th><td>Mean               </td><td>0.00707414274690525</td><td>0.00706475831543387</td><td>0.00376004145962435</td></tr>\n",
       "\t<tr><th scope=row></th><td>Variance            </td><td>3.20399959092261e-05</td><td>3.13438412036878e-05</td><td>1.19293745642211e-05</td></tr>\n",
       "</tbody>\n",
       "</table>\n"
      ],
      "text/latex": [
       "\\begin{tabular}{r|llll}\n",
       "\toutput1 & Full        & Full Tree   & Full Pruned & Full Forest\\\\\n",
       "\t & Mean                & 0.00707414274690525 & 0.00706475831543387 & 0.00376004145962435\\\\\n",
       "\t & Variance             & 3.20399959092261e-05 & 3.13438412036878e-05 & 1.19293745642211e-05\\\\\n",
       "\\end{tabular}\n"
      ],
      "text/markdown": [
       "1. \"Full\"\n",
       "2. \"Mean\"\n",
       "3. \"Variance\"\n",
       "4. \"Full Tree\"\n",
       "5. \"0.00707414274690525\"\n",
       "6. \"3.20399959092261e-05\"\n",
       "7. \"Full Pruned\"\n",
       "8. \"0.00706475831543387\"\n",
       "9. \"3.13438412036878e-05\"\n",
       "10. \"Full Forest\"\n",
       "11. \"0.00376004145962435\"\n",
       "12. \"1.19293745642211e-05\"\n",
       "\n",
       "\n"
      ],
      "text/plain": [
       "        [,1]       [,2]                   [,3]                  \n",
       "output1 \"Full\"     \"Full Tree\"            \"Full Pruned\"         \n",
       "        \"Mean\"     \"0.00707414274690525\"  \"0.00706475831543387\" \n",
       "        \"Variance\" \"3.20399959092261e-05\" \"3.13438412036878e-05\"\n",
       "        [,4]                  \n",
       "output1 \"Full Forest\"         \n",
       "        \"0.00376004145962435\" \n",
       "        \"1.19293745642211e-05\""
      ]
     },
     "execution_count": 1,
     "metadata": {},
     "output_type": "execute_result"
    },
    {
     "name": "stdout",
     "output_type": "stream",
     "text": [
      "[1] \"japan\"\n"
     ]
    },
    {
     "data": {
      "text/html": [
       "<table>\n",
       "<tbody>\n",
       "\t<tr><th scope=row>output1</th><td>Full       </td><td>Full Tree  </td><td>Full Pruned</td><td>Full Forest</td></tr>\n",
       "\t<tr><th scope=row></th><td>Mean              </td><td>0.0317248840187987</td><td>0.0311208321708939</td><td>0.020056679550138 </td></tr>\n",
       "\t<tr><th scope=row></th><td>Variance            </td><td>0.000287143385351351</td><td>0.00028649425116522 </td><td>8.09523098483579e-05</td></tr>\n",
       "</tbody>\n",
       "</table>\n"
      ],
      "text/latex": [
       "\\begin{tabular}{r|llll}\n",
       "\toutput1 & Full        & Full Tree   & Full Pruned & Full Forest\\\\\n",
       "\t & Mean               & 0.0317248840187987 & 0.0311208321708939 & 0.020056679550138 \\\\\n",
       "\t & Variance             & 0.000287143385351351 & 0.00028649425116522  & 8.09523098483579e-05\\\\\n",
       "\\end{tabular}\n"
      ],
      "text/markdown": [
       "1. \"Full\"\n",
       "2. \"Mean\"\n",
       "3. \"Variance\"\n",
       "4. \"Full Tree\"\n",
       "5. \"0.0317248840187987\"\n",
       "6. \"0.000287143385351351\"\n",
       "7. \"Full Pruned\"\n",
       "8. \"0.0311208321708939\"\n",
       "9. \"0.00028649425116522\"\n",
       "10. \"Full Forest\"\n",
       "11. \"0.020056679550138\"\n",
       "12. \"8.09523098483579e-05\"\n",
       "\n",
       "\n"
      ],
      "text/plain": [
       "        [,1]       [,2]                   [,3]                 \n",
       "output1 \"Full\"     \"Full Tree\"            \"Full Pruned\"        \n",
       "        \"Mean\"     \"0.0317248840187987\"   \"0.0311208321708939\" \n",
       "        \"Variance\" \"0.000287143385351351\" \"0.00028649425116522\"\n",
       "        [,4]                  \n",
       "output1 \"Full Forest\"         \n",
       "        \"0.020056679550138\"   \n",
       "        \"8.09523098483579e-05\""
      ]
     },
     "execution_count": 1,
     "metadata": {},
     "output_type": "execute_result"
    },
    {
     "name": "stdout",
     "output_type": "stream",
     "text": [
      "[1] \"korea\"\n"
     ]
    },
    {
     "data": {
      "text/html": [
       "<table>\n",
       "<tbody>\n",
       "\t<tr><th scope=row>output1</th><td>Full       </td><td>Full Tree  </td><td>Full Pruned</td><td>Full Forest</td></tr>\n",
       "\t<tr><th scope=row></th><td>Mean               </td><td>0.0105298205698498 </td><td>0.0100160168849398 </td><td>0.00717086902746789</td></tr>\n",
       "\t<tr><th scope=row></th><td>Variance            </td><td>5.41771177759079e-05</td><td>5.87770380191235e-05</td><td>3.90992018785889e-05</td></tr>\n",
       "</tbody>\n",
       "</table>\n"
      ],
      "text/latex": [
       "\\begin{tabular}{r|llll}\n",
       "\toutput1 & Full        & Full Tree   & Full Pruned & Full Forest\\\\\n",
       "\t & Mean                & 0.0105298205698498  & 0.0100160168849398  & 0.00717086902746789\\\\\n",
       "\t & Variance             & 5.41771177759079e-05 & 5.87770380191235e-05 & 3.90992018785889e-05\\\\\n",
       "\\end{tabular}\n"
      ],
      "text/markdown": [
       "1. \"Full\"\n",
       "2. \"Mean\"\n",
       "3. \"Variance\"\n",
       "4. \"Full Tree\"\n",
       "5. \"0.0105298205698498\"\n",
       "6. \"5.41771177759079e-05\"\n",
       "7. \"Full Pruned\"\n",
       "8. \"0.0100160168849398\"\n",
       "9. \"5.87770380191235e-05\"\n",
       "10. \"Full Forest\"\n",
       "11. \"0.00717086902746789\"\n",
       "12. \"3.90992018785889e-05\"\n",
       "\n",
       "\n"
      ],
      "text/plain": [
       "        [,1]       [,2]                   [,3]                  \n",
       "output1 \"Full\"     \"Full Tree\"            \"Full Pruned\"         \n",
       "        \"Mean\"     \"0.0105298205698498\"   \"0.0100160168849398\"  \n",
       "        \"Variance\" \"5.41771177759079e-05\" \"5.87770380191235e-05\"\n",
       "        [,4]                  \n",
       "output1 \"Full Forest\"         \n",
       "        \"0.00717086902746789\" \n",
       "        \"3.90992018785889e-05\""
      ]
     },
     "execution_count": 1,
     "metadata": {},
     "output_type": "execute_result"
    }
   ],
   "source": [
    "setwd('C:/Users/Eddie/Documents/GitHub/ML-Ex-Rates/Results')\n",
    "library(rpart)\n",
    "library(randomForest)\n",
    "library(dplyr)\n",
    "\n",
    "setwd('C:/Users/Eddie/Documents/GitHub/ML-Ex-Rates/Results')\n",
    "library(rpart)\n",
    "library(randomForest)\n",
    "library(dplyr)\n",
    "\n",
    "test_full_trees <- function(country, B){\n",
    "    full <- read.csv(paste(country,'_final.csv',sep=''))\n",
    "    full <- full[,-1]\n",
    "    rownames(full) <- 1:nrow(full)\n",
    "    \n",
    "    # Split into testing and training\n",
    "    n <- dim(full)[1]\n",
    "    n1 <- round(n/5)\n",
    "    \n",
    "    # full Tree Models\n",
    "    set.seed(19890211)\n",
    "    fulltree.TE_list <- vector(length=0)\n",
    "    for(i in 1:B){\n",
    "        start <- sample(1:(n-n1-1),1)\n",
    "        flag <- (start+6):(start+n1-6)\n",
    "        train <- full[-flag,]\n",
    "        test <- full[flag,]\n",
    "        \n",
    "        treemodel <- rpart(Pct_Chg ~ ., method=\"anova\",data = train)\n",
    "        fulltree.test <- predict(treemodel,test[,-1])\n",
    "        fulltree.TE <- mean((test[,1]-fulltree.test)^2)\n",
    "        fulltree.TE_list <- c(fulltree.TE_list, fulltree.TE)\n",
    "    }\n",
    "    \n",
    "    # pruned tree models\n",
    "    set.seed(19890211)\n",
    "    fullpruned.TE_list <- vector(length=0)\n",
    "    for(i in 1:B) {\n",
    "        start <- sample(1:(n-n1-1),1)\n",
    "        flag <- (start+6):(start+n1-6)\n",
    "        train <- full[-flag,]\n",
    "        test <- full[flag,]\n",
    "        \n",
    "        treemodel <- rpart(Pct_Chg ~ ., method=\"anova\",data = train)\n",
    "        prunedtree <- prune(treemodel,\n",
    "                    treemodel$cptable[which.min(treemodel$cptable[,'xerror']),\"CP\"])\n",
    "        fullpruned.test <- predict(prunedtree,test[,-1])\n",
    "        fullpruned.TE <- mean((test[,1]-fullpruned.test)^2)\n",
    "        fullpruned.TE_list <- c(fullpruned.TE_list,fullpruned.TE)  \n",
    "    }\n",
    "    \n",
    "    # Full Random Forest\n",
    "    set.seed(19890211)\n",
    "    fullforest.TE_list <- vector(length=0)\n",
    "    for(i in 1:B) {\n",
    "        start <- sample(1:(n-n1-1),1)\n",
    "        flag <- (start+6):(start+n1-6)\n",
    "        train <- full[-flag,]\n",
    "        test <- full[flag,]\n",
    "        \n",
    "        forestmodel <- randomForest(Pct_Chg ~ ., data = train)\n",
    "        fullforest.test <- predict(forestmodel,test[,-1])\n",
    "        fullforest.TE <- mean((test[,1]-fullforest.test)^2)\n",
    "        fullforest.TE_list <- c(fullforest.TE_list, fullforest.TE) \n",
    "        \n",
    "    }\n",
    "\n",
    "output1 <- c('Full','Full Tree','Full Pruned', 'Full Forest')\n",
    "output1 <- rbind(output1,c('Mean',mean(fulltree.TE_list),mean(fullpruned.TE_list),mean(fullforest.TE_list)))\n",
    "output1 <- rbind(output1,c('Variance',var(fulltree.TE_list),var(fullpruned.TE_list),var(fullforest.TE_list)))\n",
    "\n",
    "\n",
    "return(output1)\n",
    "\n",
    "}\n",
    "\n",
    "print('canada')\n",
    "test_full_trees('canada',100)\n",
    "print('europe')\n",
    "test_full_trees('europe',100)\n",
    "print('mexico')\n",
    "test_full_trees('mexico',100)\n",
    "print('japan')\n",
    "test_full_trees('japan',100)\n",
    "print('korea')\n",
    "test_full_trees('korea',100)\n"
   ]
  },
  {
   "cell_type": "code",
   "execution_count": null,
   "metadata": {
    "collapsed": true
   },
   "outputs": [],
   "source": []
  }
 ],
 "metadata": {
  "kernelspec": {
   "display_name": "R",
   "language": "R",
   "name": "ir"
  },
  "language_info": {
   "codemirror_mode": "r",
   "file_extension": ".r",
   "mimetype": "text/x-r-source",
   "name": "R",
   "pygments_lexer": "r",
   "version": "3.1.3"
  }
 },
 "nbformat": 4,
 "nbformat_minor": 0
}
