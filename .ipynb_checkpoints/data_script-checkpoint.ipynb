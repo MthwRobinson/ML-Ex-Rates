{
 "cells": [
  {
   "cell_type": "code",
   "execution_count": 2,
   "metadata": {
    "collapsed": false
   },
   "outputs": [],
   "source": [
    "#install.packages(\"lubridate\", repos=\"http://cran.r-project.org\")\n",
    "# api key sWyMx5Thd3sPhF613nE6\n",
    "library(Quandl)\n",
    "library(RCurl)\n",
    "library(httr)\n",
    "library(stats)\n",
    "library(zoo)\n",
    "library(lubridate)\n",
    "set_config( config( ssl_verifypeer = 0L ) )\n",
    "Quandl.api_key('sWyMx5Thd3sPhF613nE6')"
   ]
  },
  {
   "cell_type": "code",
   "execution_count": 12,
   "metadata": {
    "collapsed": false
   },
   "outputs": [],
   "source": [
    "trade_econ_data <- function(country, code, excode = 'NULL',\n",
    "                            monthly, quarterly, col_names ){\n",
    "    \n",
    "    data_list <- list()\n",
    "    \n",
    "    # Monthly Data\n",
    "    for (data_set in monthly){\n",
    "        print(paste('Downloading',data_set,sep=' '))\n",
    "        link <- paste('SGE/',code,data_set,sep='')\n",
    "        df <- Quandl(link, start_date = '1971-01-01', collapse = 'monthly')\n",
    "        colnames(df) <- c('Date',data_set)\n",
    "        df$Date <- round_date(df$Date, unit = 'month')\n",
    "        data_list[[length(data_list)+1]] <- df\n",
    "        \n",
    "    }\n",
    "    \n",
    "    \n",
    "    # Quarterly Data\n",
    "    for (data_set in quarterly){\n",
    "        print(paste('Downloading',data_set,sep=' '))\n",
    "        link <- paste('SGE/',code,data_set,sep='')\n",
    "        df <- Quandl(link, start_date = '1971-01-01', collapse = 'quarterly')\n",
    "        colnames(df) <- c('Date',data_set)\n",
    "        df$Date <- round_date(df$Date, unit = 'month')\n",
    "        data_list[[length(data_list)+1]] <- df\n",
    "    }\n",
    "    \n",
    "    \n",
    "    # Exchange Rate\n",
    "    if (excode != 'NULL'){\n",
    "        print(paste('Downloading','exchange rate',sep=' '))\n",
    "        link <- paste('FRED/',excode,sep='')\n",
    "        df <- Quandl(link, start_date = '1971-01-01', collapse = 'monthly')\n",
    "        colnames(df) <- c('Date','Exchange')\n",
    "        df$Date <- round_date(df$Date, unit = 'month')\n",
    "        data_list[[length(data_list)+1]] <- df\n",
    "    }\n",
    "\n",
    "    \n",
    "    # Merge all of the data into one date frame by date\n",
    "    df <- Reduce(function(...) merge(..., by='Date', all=TRUE), data_list)\n",
    "    df$Country <- rep(country,dim(df)[1])\n",
    "    colnames(df) <- col_names\n",
    "    \n",
    "    \n",
    "    # Interpolate intermediate values for quarterly data using splines\n",
    "    #start <- length(monthly)+2\n",
    "    #end <- start + length(quarterly)\n",
    "    #for( i in start:end){\n",
    "    #    if( sum(is.na(df[,i])) > 0 ){\n",
    "    #        df[,i] <- na.spline(df[,i])\n",
    "    #    }\n",
    "    #}\n",
    "    \n",
    "    \n",
    "\n",
    "\n",
    "    filename <- paste(country,'.csv',sep='')\n",
    "    setwd('/home/matt/MSOR/ISYE7406/Data_Local/RawData')\n",
    "    write.csv(df, file = filename)\n",
    "    return(df)\n",
    "}"
   ]
  },
  {
   "cell_type": "code",
   "execution_count": 13,
   "metadata": {
    "collapsed": false
   },
   "outputs": [
    {
     "name": "stdout",
     "output_type": "stream",
     "text": [
      "[1] \"Downloading CPIC\"\n",
      "[1] \"Downloading BOT\"\n",
      "[1] \"Downloading GYLD\"\n",
      "[1] \"Downloading FER\"\n",
      "[1] \"Downloading IR\"\n",
      "[1] \"Downloading BLR\"\n",
      "[1] \"Downloading GGR\"\n",
      "[1] \"Downloading CA\"\n",
      "[1] \"Downloading FDI\"\n"
     ]
    }
   ],
   "source": [
    "# USA Data Frame\n",
    "usa <- trade_econ_data(country = 'usa', code = 'USA', excode = 'NULL',\n",
    "                            monthly = c('CPIC','BOT','GYLD','FER','IR','BLR'),\n",
    "                            quarterly = c('GGR','CA','FDI'), \n",
    "                    col_names = c('Date','Infl_d','BOT_d',\n",
    "                                  'Yield_d','FER_d','Int_d','PrimeRate_d','GDPG_d',\n",
    "                                  'CA_d','FDI_d','Country'))"
   ]
  },
  {
   "cell_type": "code",
   "execution_count": 14,
   "metadata": {
    "collapsed": false
   },
   "outputs": [
    {
     "name": "stdout",
     "output_type": "stream",
     "text": [
      "[1] \"Downloading CPIC\"\n",
      "[1] \"Downloading BOT\"\n",
      "[1] \"Downloading FER\"\n",
      "[1] \"Downloading IR\"\n",
      "[1] \"Downloading GGR\"\n",
      "[1] \"Downloading CA\"\n",
      "[1] \"Downloading exchange rate\"\n"
     ]
    }
   ],
   "source": [
    "# Euro-zone Data Frame\n",
    "# No GYLD or BLR data\n",
    "euro <- trade_econ_data(country = 'europe', code = 'EUR', excode = 'EXUSEU',\n",
    "                            monthly = c('CPIC','BOT','FER','IR'),\n",
    "                            quarterly = c('GGR','CA'), \n",
    "                    col_names = c('Date','Infl_f','BOT_f',\n",
    "                                  'FER_f','Int_f','GDPG_f',\n",
    "                                  'CA_f','Exchange','Country'))\n",
    "euro$Exchange <- 1/euro$Exchange\n",
    "setwd('/home/matt/MSOR/ISYE7406/Data_Local/RawData')\n",
    "write.csv(euro, file = 'europe.csv')"
   ]
  },
  {
   "cell_type": "code",
   "execution_count": 15,
   "metadata": {
    "collapsed": false
   },
   "outputs": [
    {
     "name": "stdout",
     "output_type": "stream",
     "text": [
      "[1] \"Downloading CPIC\"\n",
      "[1] \"Downloading BOT\"\n",
      "[1] \"Downloading GYLD\"\n",
      "[1] \"Downloading FER\"\n",
      "[1] \"Downloading IR\"\n",
      "[1] \"Downloading GGR\"\n",
      "[1] \"Downloading CA\"\n",
      "[1] \"Downloading FDI\"\n",
      "[1] \"Downloading exchange rate\"\n"
     ]
    }
   ],
   "source": [
    "# Australia Data Frame\n",
    "# No BLR data\n",
    "aus <- trade_econ_data(country = 'australia', code = 'AUS', excode = 'EXUSAL',\n",
    "                            monthly = c('CPIC','BOT','GYLD','FER','IR'),\n",
    "                            quarterly = c('GGR','CA','FDI'), \n",
    "                    col_names = c('Date','Infl_f','BOT_f',\n",
    "                                  'Yield_f','FER_f','Int_f','GDPG_f',\n",
    "                                  'CA_f','FDI_f','Exchange','Country'))\n",
    "aus$Exchange <- 1/aus$Exchange\n",
    "setwd('/home/matt/MSOR/ISYE7406/Data_Local/RawData')\n",
    "write.csv(euro, file = 'australia.csv')"
   ]
  },
  {
   "cell_type": "code",
   "execution_count": 16,
   "metadata": {
    "collapsed": false
   },
   "outputs": [
    {
     "name": "stdout",
     "output_type": "stream",
     "text": [
      "[1] \"Downloading CPIC\"\n",
      "[1] \"Downloading BOT\"\n",
      "[1] \"Downloading GYLD\"\n",
      "[1] \"Downloading FER\"\n",
      "[1] \"Downloading IR\"\n",
      "[1] \"Downloading BLR\"\n",
      "[1] \"Downloading GGR\"\n",
      "[1] \"Downloading CA\"\n",
      "[1] \"Downloading FDI\"\n",
      "[1] \"Downloading exchange rate\"\n"
     ]
    }
   ],
   "source": [
    "# Canada Data Frame\n",
    "can <- trade_econ_data(country = 'canada', code = 'CAN', excode = 'EXCAUS',\n",
    "                            monthly = c('CPIC','BOT','GYLD','FER','IR','BLR'),\n",
    "                            quarterly = c('GGR','CA','FDI'), \n",
    "                    col_names = c('Date','Infl_f','BOT_f',\n",
    "                                  'Yield_f','FER_f','Int_f','PrimeRate_f',\n",
    "                                  'GDPG_f','CA_f','FDI_f','Exchange','Country'))"
   ]
  },
  {
   "cell_type": "code",
   "execution_count": 17,
   "metadata": {
    "collapsed": false
   },
   "outputs": [
    {
     "name": "stdout",
     "output_type": "stream",
     "text": [
      "[1] \"Downloading CPIC\"\n",
      "[1] \"Downloading BOT\"\n",
      "[1] \"Downloading GYLD\"\n",
      "[1] \"Downloading FER\"\n",
      "[1] \"Downloading IR\"\n",
      "[1] \"Downloading GGR\"\n",
      "[1] \"Downloading CA\"\n",
      "[1] \"Downloading exchange rate\"\n"
     ]
    }
   ],
   "source": [
    "# Denmark Data Frame\n",
    "# No BLR, FDI data\n",
    "den <- trade_econ_data(country = 'denmark', code = 'DNK', excode = 'EXDNUS',\n",
    "                            monthly = c('CPIC','BOT','GYLD','FER','IR'),\n",
    "                            quarterly = c('GGR','CA'), \n",
    "                    col_names = c('Date','Infl_f','BOT_f',\n",
    "                                  'Yield_f','FER_f','Int_f',\n",
    "                                  'GDPG_f','CA_f','Exchange','Country'))"
   ]
  },
  {
   "cell_type": "code",
   "execution_count": 18,
   "metadata": {
    "collapsed": false
   },
   "outputs": [
    {
     "name": "stdout",
     "output_type": "stream",
     "text": [
      "[1] \"Downloading CPIC\"\n",
      "[1] \"Downloading BOT\"\n",
      "[1] \"Downloading GYLD\"\n",
      "[1] \"Downloading FER\"\n",
      "[1] \"Downloading IR\"\n",
      "[1] \"Downloading BLR\"\n",
      "[1] \"Downloading GGR\"\n",
      "[1] \"Downloading CA\"\n",
      "[1] \"Downloading FDI\"\n",
      "[1] \"Downloading exchange rate\"\n"
     ]
    }
   ],
   "source": [
    "# Japan Data Frame\n",
    "jap <- trade_econ_data(country = 'japan', code = 'JPN', excode = 'EXJPUS',\n",
    "                            monthly = c('CPIC','BOT','GYLD','FER','IR','BLR'),\n",
    "                            quarterly = c('GGR','CA','FDI'), \n",
    "                    col_names = c('Date','Infl_f','BOT_f',\n",
    "                                  'Yield_f','FER_f','Int_f','PrimeRate_f',\n",
    "                                  'GDPG_f','CA_f','FDI_f','Exchange','Country'))"
   ]
  },
  {
   "cell_type": "code",
   "execution_count": 19,
   "metadata": {
    "collapsed": false
   },
   "outputs": [
    {
     "name": "stdout",
     "output_type": "stream",
     "text": [
      "[1] \"Downloading CPIC\"\n",
      "[1] \"Downloading BOT\"\n",
      "[1] \"Downloading GYLD\"\n",
      "[1] \"Downloading FER\"\n",
      "[1] \"Downloading IR\"\n",
      "[1] \"Downloading BLR\"\n",
      "[1] \"Downloading GGR\"\n",
      "[1] \"Downloading CA\"\n",
      "[1] \"Downloading FDI\"\n",
      "[1] \"Downloading exchange rate\"\n"
     ]
    }
   ],
   "source": [
    "# Korea Data Frame\n",
    "korea <- trade_econ_data(country = 'korea', code = 'KOR', excode = 'EXKOUS',\n",
    "                            monthly = c('CPIC','BOT','GYLD','FER','IR','BLR'),\n",
    "                            quarterly = c('GGR','CA','FDI'), \n",
    "                    col_names = c('Date','Infl_f','BOT_f',\n",
    "                                  'Yield_f','FER_f','Int_f','PrimeRate_f',\n",
    "                                  'GDPG_f','CA_f','FDI_f','Exchange','Country'))"
   ]
  },
  {
   "cell_type": "code",
   "execution_count": 20,
   "metadata": {
    "collapsed": false
   },
   "outputs": [
    {
     "name": "stdout",
     "output_type": "stream",
     "text": [
      "[1] \"Downloading CPIC\"\n",
      "[1] \"Downloading BOT\"\n",
      "[1] \"Downloading GYLD\"\n",
      "[1] \"Downloading FER\"\n",
      "[1] \"Downloading IR\"\n",
      "[1] \"Downloading GGR\"\n",
      "[1] \"Downloading CA\"\n",
      "[1] \"Downloading FDI\"\n",
      "[1] \"Downloading exchange rate\"\n"
     ]
    }
   ],
   "source": [
    "# Mexico Data Frame\n",
    "# No BLR data\n",
    "mex <- trade_econ_data(country = 'mexico', code = 'MEX', excode = 'EXMXUS',\n",
    "                            monthly = c('CPIC','BOT','GYLD','FER','IR'),\n",
    "                            quarterly = c('GGR','CA','FDI'), \n",
    "                    col_names = c('Date','Infl_f','BOT_f',\n",
    "                                  'Yield_f','FER_f','Int_f',\n",
    "                                  'GDPG_f','CA_f','FDI_f','Exchange','Country'))"
   ]
  },
  {
   "cell_type": "code",
   "execution_count": 21,
   "metadata": {
    "collapsed": false
   },
   "outputs": [
    {
     "name": "stdout",
     "output_type": "stream",
     "text": [
      "[1] \"Downloading CPIC\"\n",
      "[1] \"Downloading BOT\"\n",
      "[1] \"Downloading GYLD\"\n",
      "[1] \"Downloading FER\"\n",
      "[1] \"Downloading IR\"\n",
      "[1] \"Downloading BLR\"\n",
      "[1] \"Downloading GGR\"\n",
      "[1] \"Downloading CA\"\n",
      "[1] \"Downloading FDI\"\n",
      "[1] \"Downloading exchange rate\"\n"
     ]
    }
   ],
   "source": [
    "# New Zealand Data Frame\n",
    "nzl <- trade_econ_data(country = 'new_zealand', code = 'NZL', excode = 'EXUSNZ',\n",
    "                            monthly = c('CPIC','BOT','GYLD','FER','IR','BLR'),\n",
    "                            quarterly = c('GGR','CA','FDI'), \n",
    "                    col_names = c('Date','Infl_f','BOT_f',\n",
    "                                  'Yield_f','FER_f','Int_f','PrimeRate_f',\n",
    "                                  'GDPG_f','CA_f','FDI_f','Exchange','Country'))\n",
    "nzl$Exchange <- 1/nzl$Exchange\n",
    "setwd('/home/matt/MSOR/ISYE7406/ML-Ex-Rates/Data')\n",
    "write.csv(nzl, file = 'new_zealand.csv')"
   ]
  },
  {
   "cell_type": "code",
   "execution_count": 22,
   "metadata": {
    "collapsed": false
   },
   "outputs": [
    {
     "name": "stdout",
     "output_type": "stream",
     "text": [
      "[1] \"Downloading CPIC\"\n",
      "[1] \"Downloading BOT\"\n",
      "[1] \"Downloading GYLD\"\n",
      "[1] \"Downloading FER\"\n",
      "[1] \"Downloading IR\"\n",
      "[1] \"Downloading GGR\"\n",
      "[1] \"Downloading CA\"\n",
      "[1] \"Downloading exchange rate\"\n"
     ]
    }
   ],
   "source": [
    "# Norway Data Frame\n",
    "# No BLR or FDI data\n",
    "nor <- trade_econ_data(country = 'norway', code = 'NOR', excode = 'EXNOUS',\n",
    "                            monthly = c('CPIC','BOT','GYLD','FER','IR'),\n",
    "                            quarterly = c('GGR','CA'), \n",
    "                    col_names = c('Date','Infl_f','BOT_f',\n",
    "                                  'Yield_f','FER_f','Int_f',\n",
    "                                  'GDPG_f','CA_f','Exchange','Country'))"
   ]
  },
  {
   "cell_type": "code",
   "execution_count": 23,
   "metadata": {
    "collapsed": false
   },
   "outputs": [
    {
     "name": "stdout",
     "output_type": "stream",
     "text": [
      "[1] \"Downloading CPIC\"\n",
      "[1] \"Downloading BOT\"\n",
      "[1] \"Downloading GYLD\"\n",
      "[1] \"Downloading FER\"\n",
      "[1] \"Downloading IR\"\n",
      "[1] \"Downloading GGR\"\n",
      "[1] \"Downloading CA\"\n",
      "[1] \"Downloading FDI\"\n",
      "[1] \"Downloading exchange rate\"\n"
     ]
    }
   ],
   "source": [
    "# Sweden Data Frame\n",
    "# No BLR data\n",
    "swe <- trade_econ_data(country = 'sweden', code = 'SWE', excode = 'EXSZUS',\n",
    "                            monthly = c('CPIC','BOT','GYLD','FER','IR'),\n",
    "                            quarterly = c('GGR','CA','FDI'), \n",
    "                    col_names = c('Date','Infl_f','BOT_f',\n",
    "                                  'Yield_f','FER_f','Int_f',\n",
    "                                  'GDPG_f','CA_f','FDI_f','Exchange','Country'))"
   ]
  },
  {
   "cell_type": "code",
   "execution_count": 24,
   "metadata": {
    "collapsed": false
   },
   "outputs": [
    {
     "name": "stdout",
     "output_type": "stream",
     "text": [
      "[1] \"Downloading CPIC\"\n",
      "[1] \"Downloading BOT\"\n",
      "[1] \"Downloading GYLD\"\n",
      "[1] \"Downloading FER\"\n",
      "[1] \"Downloading IR\"\n",
      "[1] \"Downloading GGR\"\n",
      "[1] \"Downloading CA\"\n",
      "[1] \"Downloading FDI\"\n",
      "[1] \"Downloading exchange rate\"\n"
     ]
    }
   ],
   "source": [
    "# Switzerland Data Frame\n",
    "# No BLR data\n",
    "switz <- trade_econ_data(country = 'switzerland', code = 'CHE', excode = 'EXSZUS',\n",
    "                            monthly = c('CPIC','BOT','GYLD','FER','IR'),\n",
    "                            quarterly = c('GGR','CA','FDI'), \n",
    "                    col_names = c('Date','Infl_f','BOT_f',\n",
    "                                  'Yield_f','FER_f','Int_f',\n",
    "                                  'GDPG_f','CA_f','FDI_f','Exchange','Country'))"
   ]
  },
  {
   "cell_type": "code",
   "execution_count": 25,
   "metadata": {
    "collapsed": false
   },
   "outputs": [
    {
     "name": "stdout",
     "output_type": "stream",
     "text": [
      "[1] \"Downloading CPIC\"\n",
      "[1] \"Downloading BOT\"\n",
      "[1] \"Downloading GYLD\"\n",
      "[1] \"Downloading FER\"\n",
      "[1] \"Downloading IR\"\n",
      "[1] \"Downloading BLR\"\n",
      "[1] \"Downloading GGR\"\n",
      "[1] \"Downloading CA\"\n",
      "[1] \"Downloading FDI\"\n"
     ]
    }
   ],
   "source": [
    "# United Kingdom Data Frame\n",
    "uk <- trade_econ_data(country = 'uk', code = 'GBR', excode = 'NULL',\n",
    "                            monthly = c('CPIC','BOT','GYLD','FER','IR','BLR'),\n",
    "                            quarterly = c('GGR','CA','FDI'), \n",
    "                    col_names = c('Date','Infl_f','BOT_f',\n",
    "                                  'Yield_f','FER_f','Int_f','PrimeRate_f',\n",
    "                                  'GDPG_f','CA_f','FDI_f','Country'))\n",
    "exchange <- Quandl(\"FED/RXI_US_N_M_UK\", start_date = '1971-01-01')\n",
    "uk$Exchange <- 1/exchange$Value\n",
    "setwd('/home/matt/MSOR/ISYE7406/Data_Local/RawData')\n",
    "write.csv(uk, file = 'uk.csv')"
   ]
  },
  {
   "cell_type": "code",
   "execution_count": null,
   "metadata": {
    "collapsed": true
   },
   "outputs": [],
   "source": [
    "# Need to find monthly exchange rate data for\n",
    "# Czech Republic\n",
    "# Hungary\n",
    "# Iceland\n",
    "# Poland\n",
    "# Turkey"
   ]
  },
  {
   "cell_type": "code",
   "execution_count": null,
   "metadata": {
    "collapsed": true
   },
   "outputs": [],
   "source": []
  },
  {
   "cell_type": "code",
   "execution_count": null,
   "metadata": {
    "collapsed": false
   },
   "outputs": [],
   "source": [
    "'''\n",
    "Original ad-hoc code to produce the USA data frame\n",
    "\n",
    "# US Data Frame\n",
    "\n",
    "# Monthly Data\n",
    "# Inflation, Balance of Trade, Prime Lending Rate, Bond Yield,\n",
    "#  Foreign Exchange Reserves, Interest Rate\n",
    "infl <- Quandl(\"SGE/USACPIC\", start_date = '1971-01-01', collapse = 'monthly')\n",
    "colnames(infl) <- c('Date','Infl_d')\n",
    "infl$Date <- round_date(infl$Date, unit = 'month')\n",
    "\n",
    "bot <- Quandl(\"SGE/USABOT\", start_date = '1971-01-01', collapse = 'monthly')\n",
    "colnames(bot) <- c('Date','BOT_d')\n",
    "bot$Date <- round_date(bot$Date, unit = 'month')\n",
    "\n",
    "prime_rate <- Quandl(\"SGE/USABLR\", start_date = '1971-01-01', collapse = 'monthly')\n",
    "colnames(prime_rate) <- c('Date','PrimeRate_d')\n",
    "prime_rate$Date <- round_date(prime_rate$Date, unit = 'month')\n",
    "\n",
    "yield <- Quandl(\"SGE/USAGYLD\", start_date = '1971-01-01', collapse = 'monthly')\n",
    "colnames(yield) <- c('Date','Yield_d')\n",
    "yield$Date <- round_date(yield$Date, unit = 'month')\n",
    "\n",
    "fer <- Quandl(\"SGE/USAFER\", start_date = '1971-01-01', collapse = 'monthly')\n",
    "colnames(fer) <- c('Date','FER_d')\n",
    "fer$Date <- round_date(fer$Date, unit = 'month')\n",
    "\n",
    "int <- Quandl(\"SGE/USAIR\", start_date = '1971-01-01', collapse = 'monthly')\n",
    "colnames(int) <- c('Date','Int_d')\n",
    "int$Date <- round_date(int$Date, unit = 'month')\n",
    "\n",
    "# Quarterly Data\n",
    "# GDP Growth, Current Account\n",
    "gdpg <- Quandl(\"SGE/USAGGR\", start_date = '1971-01-01', collapse = 'quarterly')\n",
    "colnames(gdpg) <- c('Date','GDPG_d')\n",
    "gdpg$Date <- round_date(gdpg$Date, unit = 'month')\n",
    "\n",
    "ca <- Quandl(\"SGE/USACA\", start_date = '1971-01-01', collapse = 'quarterly')\n",
    "colnames(ca) <- c('Date','CA_d')\n",
    "ca$Date <- round_date(ca$Date, unit = 'month')\n",
    "\n",
    "fdi <- Quandl(\"SGE/USAFDI\", start_date = '1971-01-01', collapse = 'quarterly')\n",
    "colnames(fdi) <- c('Date','FDI_d')\n",
    "fdi$Date <- round_date(fdi$Date, unit = 'month')\n",
    "\n",
    "# Merge all of the data into one date frame by date\n",
    "usa <- Reduce(function(...) merge(..., by='Date', all=TRUE), \n",
    "    list(infl, bot, prime_rate, yield, fer, int, gdpg, ca, fdi))\n",
    "    \n",
    "# Interpolate intermediate values for quarterly data using splines\n",
    "usa$GDPG_d <- na.spline(usa$GDPG_d)\n",
    "usa$CA_d <- na.spline(usa$CA_d)\n",
    "usa$FDI_d <- na.spline(usa$FDI_d)\n",
    "\n",
    "setwd('/home/matt/MSOR/ISYE7406/ML-Ex-Rates/Data')\n",
    "write.csv(usa, file = 'usa.csv')\n",
    "'''"
   ]
  },
  {
   "cell_type": "code",
   "execution_count": null,
   "metadata": {
    "collapsed": true
   },
   "outputs": [],
   "source": []
  }
 ],
 "metadata": {
  "kernelspec": {
   "display_name": "R",
   "language": "R",
   "name": "ir"
  },
  "language_info": {
   "codemirror_mode": "r",
   "file_extension": ".r",
   "mimetype": "text/x-r-source",
   "name": "R",
   "pygments_lexer": "r",
   "version": "3.2.2"
  }
 },
 "nbformat": 4,
 "nbformat_minor": 0
}
