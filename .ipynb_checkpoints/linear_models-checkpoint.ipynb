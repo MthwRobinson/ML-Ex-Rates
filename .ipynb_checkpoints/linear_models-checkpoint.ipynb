{
 "cells": [
  {
   "cell_type": "code",
   "execution_count": 12,
   "metadata": {
    "collapsed": false
   },
   "outputs": [],
   "source": [
    "library(class)\n",
    "library(MASS)\n",
    "library(pls)\n",
    "library(lars)\n",
    "library(lattice)"
   ]
  },
  {
   "cell_type": "code",
   "execution_count": 23,
   "metadata": {
    "collapsed": false
   },
   "outputs": [],
   "source": [
    "setwd('/home/matt/MSOR/ISYE7406/ML-Ex-Rates/Data')\n",
    "ex_rate <- read.csv('oecd.csv')\n",
    "country <- 'europe'"
   ]
  },
  {
   "cell_type": "code",
   "execution_count": 24,
   "metadata": {
    "collapsed": false
   },
   "outputs": [
    {
     "data": {
      "text/html": [
       "191"
      ],
      "text/latex": [
       "191"
      ],
      "text/markdown": [
       "191"
      ],
      "text/plain": [
       "[1] 191"
      ]
     },
     "execution_count": 24,
     "metadata": {},
     "output_type": "execute_result"
    },
    {
     "data": {
      "text/html": [
       "38"
      ],
      "text/latex": [
       "38"
      ],
      "text/markdown": [
       "38"
      ],
      "text/plain": [
       "[1] 38"
      ]
     },
     "execution_count": 24,
     "metadata": {},
     "output_type": "execute_result"
    }
   ],
   "source": [
    "df <- subset(ex_rate,ex_rate$Country.y==country)\n",
    "df_set <- subset(df, select = -c(X,Country.x,Country.y,Date,Yield_f,\n",
    "                                 PrimeRate_f,FDI_f,Exchange_fut))\n",
    "df_set <- na.omit(df_set)\n",
    "# Note: Exchange, Exchange_fut and Pct_Change are cols 17 - 19\n",
    "\n",
    "# Split into training and testing sets\n",
    "n <- dim(df_set)[1]; n\n",
    "n1 <- round(n/5); n1\n",
    "set.seed(19890211)\n",
    "flag <- sort(sample(1:n,n1))\n",
    "#train <- df_set[-flag,]; test <- df_set[flag,]\n",
    "train <- df_set[1:(n-n1),]; test <- df_set[(n-n1+1):n,]"
   ]
  },
  {
   "cell_type": "code",
   "execution_count": 25,
   "metadata": {
    "collapsed": false
   },
   "outputs": [
    {
     "data": {
      "text/plain": [
       "\n",
       "Call:\n",
       "lm(formula = Pct_Chg ~ ., data = train)\n",
       "\n",
       "Residuals:\n",
       "      Min        1Q    Median        3Q       Max \n",
       "-0.122388 -0.033051  0.000114  0.030453  0.137337 \n",
       "\n",
       "Coefficients:\n",
       "              Estimate Std. Error t value Pr(>|t|)    \n",
       "(Intercept)  2.320e-01  2.417e-01   0.960 0.338684    \n",
       "Infl_d       6.596e-02  8.925e-03   7.390 1.42e-11 ***\n",
       "BOT_d        6.430e-06  1.935e-06   3.323 0.001149 ** \n",
       "Yield_d     -1.219e-02  1.957e-02  -0.623 0.534505    \n",
       "FER_d       -4.187e-07  1.107e-06  -0.378 0.705766    \n",
       "Int_d        8.322e-04  3.949e-02   0.021 0.983218    \n",
       "PrimeRate_d  7.941e-03  4.467e-02   0.178 0.859164    \n",
       "X1Y_Yield_d  5.762e-03  2.908e-03   1.981 0.049641 *  \n",
       "GDPG_d      -2.472e-06  6.178e-07  -4.002 0.000104 ***\n",
       "CA_d        -7.702e-07  2.648e-07  -2.908 0.004255 ** \n",
       "FDI_d       -9.570e-02  2.104e-02  -4.549 1.19e-05 ***\n",
       "Infl_f      -8.213e-02  1.668e-02  -4.924 2.45e-06 ***\n",
       "BOT_f        1.765e-06  1.038e-06   1.700 0.091396 .  \n",
       "FER_f        5.285e-08  6.432e-07   0.082 0.934633    \n",
       "Int_f       -9.339e-03  2.151e-02  -0.434 0.664820    \n",
       "GDPG_f       4.093e-03  9.635e-04   4.248 4.00e-05 ***\n",
       "CA_f         1.020e-01  1.932e-02   5.279 5.10e-07 ***\n",
       "Exchange    -2.637e-01  8.243e-02  -3.199 0.001721 ** \n",
       "X1Y_Yield_f  3.583e-02  1.465e-02   2.445 0.015789 *  \n",
       "---\n",
       "Signif. codes:  0 ‘***’ 0.001 ‘**’ 0.01 ‘*’ 0.05 ‘.’ 0.1 ‘ ’ 1\n",
       "\n",
       "Residual standard error: 0.05258 on 134 degrees of freedom\n",
       "Multiple R-squared:  0.7906,\tAdjusted R-squared:  0.7625 \n",
       "F-statistic: 28.11 on 18 and 134 DF,  p-value: < 2.2e-16\n"
      ]
     },
     "execution_count": 25,
     "metadata": {},
     "output_type": "execute_result"
    },
    {
     "data": {
      "text/html": [
       "0.167352863200313"
      ],
      "text/latex": [
       "0.167352863200313"
      ],
      "text/markdown": [
       "0.167352863200313"
      ],
      "text/plain": [
       "[1] 0.1673529"
      ]
     },
     "execution_count": 25,
     "metadata": {},
     "output_type": "execute_result"
    }
   ],
   "source": [
    "# Linear Regression with all predictors\n",
    "\n",
    "linreg <- lm(Pct_Chg ~ . , data = train)\n",
    "summary(linreg)\n",
    "linreg.test <- predict.lm(linreg,test[,-18])\n",
    "linreg.TE <- mean( (test[,18] - linreg.test)^2 )\n",
    "linreg.TE"
   ]
  },
  {
   "cell_type": "code",
   "execution_count": 26,
   "metadata": {
    "collapsed": false
   },
   "outputs": [
    {
     "data": {
      "text/plain": [
       "\n",
       "Call:\n",
       "lm(formula = Pct_Chg ~ BOT_d + CA_d + FDI_d + CA_f + X1Y_Yield_d + \n",
       "    Infl_f + Infl_d + GDPG_f + GDPG_d + Exchange + X1Y_Yield_f + \n",
       "    BOT_f, data = train)\n",
       "\n",
       "Residuals:\n",
       "      Min        1Q    Median        3Q       Max \n",
       "-0.118844 -0.033133  0.000387  0.032253  0.141217 \n",
       "\n",
       "Coefficients:\n",
       "              Estimate Std. Error t value Pr(>|t|)    \n",
       "(Intercept)  1.686e-01  7.808e-02   2.160 0.032478 *  \n",
       "BOT_d        6.103e-06  1.872e-06   3.260 0.001400 ** \n",
       "CA_d        -7.866e-07  2.119e-07  -3.712 0.000296 ***\n",
       "FDI_d       -8.758e-02  6.214e-03 -14.095  < 2e-16 ***\n",
       "CA_f         9.633e-02  6.929e-03  13.902  < 2e-16 ***\n",
       "X1Y_Yield_d  5.277e-03  2.468e-03   2.138 0.034237 *  \n",
       "Infl_f      -7.969e-02  1.377e-02  -5.785 4.54e-08 ***\n",
       "Infl_d       6.318e-02  7.709e-03   8.195 1.43e-13 ***\n",
       "GDPG_f       4.071e-03  8.933e-04   4.557 1.12e-05 ***\n",
       "GDPG_d      -2.469e-06  5.059e-07  -4.880 2.85e-06 ***\n",
       "Exchange    -2.699e-01  6.967e-02  -3.873 0.000164 ***\n",
       "X1Y_Yield_f  3.397e-02  9.808e-03   3.464 0.000707 ***\n",
       "BOT_f        1.811e-06  9.987e-07   1.813 0.071950 .  \n",
       "---\n",
       "Signif. codes:  0 ‘***’ 0.001 ‘**’ 0.01 ‘*’ 0.05 ‘.’ 0.1 ‘ ’ 1\n",
       "\n",
       "Residual standard error: 0.05174 on 140 degrees of freedom\n",
       "Multiple R-squared:  0.7882,\tAdjusted R-squared:  0.7701 \n",
       "F-statistic: 43.43 on 12 and 140 DF,  p-value: < 2.2e-16\n"
      ]
     },
     "execution_count": 26,
     "metadata": {},
     "output_type": "execute_result"
    },
    {
     "data": {
      "text/html": [
       "0.160801725599829"
      ],
      "text/latex": [
       "0.160801725599829"
      ],
      "text/markdown": [
       "0.160801725599829"
      ],
      "text/plain": [
       "[1] 0.1608017"
      ]
     },
     "execution_count": 26,
     "metadata": {},
     "output_type": "execute_result"
    }
   ],
   "source": [
    "# Stepwise variable selection\n",
    "regmodel <- lm(Pct_Chg ~ ., data = train)\n",
    "min.model = lm(Pct_Chg ~ 1, data = train)\n",
    "max_model <- formula(regmodel)\n",
    "linreg_AIC = step(min.model, direction = 'forward', \n",
    "                  scope = max_model, trace = FALSE)\n",
    "# The variables save by stepwise selection were:\n",
    "# Infl_d, Exchange, CA_d, CA_f, FDI_d, X1Y_Yield_f,\n",
    "#  GPDP_f, Yield_d, BOT_d, FER_f, FER_d, Infl_f,\n",
    "#  BOT_f, Int_f\n",
    "summary(linreg_AIC)\n",
    "linreg_AIC.test <- predict.lm(linreg_AIC,test[,-18])\n",
    "linreg_AIC.TE <- mean( (test[,18]-linreg_AIC.test)^2)\n",
    "linreg_AIC.TE"
   ]
  },
  {
   "cell_type": "code",
   "execution_count": 27,
   "metadata": {
    "collapsed": false
   },
   "outputs": [
    {
     "data": {
      "text/html": [
       "<strong> 0.421:</strong> 422"
      ],
      "text/latex": [
       "\\textbf{ 0.421:} 422"
      ],
      "text/markdown": [
       "** 0.421:** 422"
      ],
      "text/plain": [
       " 0.421 \n",
       "   422 "
      ]
     },
     "execution_count": 27,
     "metadata": {},
     "output_type": "execute_result"
    },
    {
     "data": {
      "text/html": [
       "0.00404549450808868"
      ],
      "text/latex": [
       "0.00404549450808868"
      ],
      "text/markdown": [
       "0.00404549450808868"
      ],
      "text/plain": [
       "[1] 0.004045495"
      ]
     },
     "execution_count": 27,
     "metadata": {},
     "output_type": "execute_result"
    }
   ],
   "source": [
    "# Ridge Regression\n",
    "#ridgereg <- lm.ridge(Pct_Chg ~ Infl_d + Exchange + CA_d + CA_f + FDI_d + \n",
    "#    X1Y_Yield_f + GDPG_f + Yield_d + BOT_d + FER_f + FER_d + \n",
    "#    Infl_f + BOT_f + Int_f, data = train, lambda = seq(0,200,0.01))\n",
    "ridgereg <- lm.ridge(Pct_Chg ~ Exchange + Yield_d + X1Y_Yield_f + Int_f + \n",
    "    PrimeRate_d + FDI_d + Infl_f + Infl_d, data = train, lambda = seq(0,10,0.001))\n",
    "\n",
    "lambdaopt <- which.min(ridgereg$GCV)\n",
    "lambdaopt\n",
    "ridge_coef <- coef(ridgereg)[lambdaopt,]\n",
    "test_ridge <- subset(test, select = c(Pct_Chg, Exchange, Yield_d, \n",
    "                    X1Y_Yield_f, Int_f, PrimeRate_d, FDI_d, Infl_f, Infl_d))\n",
    "#test_ridge <- subset(test, select = c(Pct_Chg,Infl_d,Exchange,\n",
    "#                CA_d,CA_f,FDI_d,X1Y_Yield_f,GDPG_f,Yield_d,BOT_d,\n",
    "#                 FER_f,FER_d,Infl_f,BOT_f,Int_f))\n",
    "ridge_testmat <- as.matrix(cbind(1,test_ridge[,-1]))\n",
    "ridge.test <- as.matrix(ridge_testmat %*% ridge_coef)\n",
    "ridge.TE <- mean( (test_ridge[,1] - ridge.test)^2)\n",
    "ridge.TE"
   ]
  },
  {
   "cell_type": "code",
   "execution_count": 28,
   "metadata": {
    "collapsed": false
   },
   "outputs": [
    {
     "data": {
      "text/html": [
       "0.0281511420796564"
      ],
      "text/latex": [
       "0.0281511420796564"
      ],
      "text/markdown": [
       "0.0281511420796564"
      ],
      "text/plain": [
       "[1] 0.02815114"
      ]
     },
     "execution_count": 28,
     "metadata": {},
     "output_type": "execute_result"
    }
   ],
   "source": [
    "# LASSO Regression\n",
    "lassotrain <- subset(train, select = c(Infl_d,Exchange,\n",
    "                CA_d,CA_f,FDI_d,X1Y_Yield_f,GDPG_f,Yield_d,BOT_d,\n",
    "                 FER_f,FER_d,Infl_f,BOT_f,Int_f))\n",
    "lassotest <- subset(test, select = c(Infl_d,Exchange,\n",
    "                CA_d,CA_f,FDI_d,X1Y_Yield_f,GDPG_f,Yield_d,BOT_d,\n",
    "                 FER_f,FER_d,Infl_f,BOT_f,Int_f))\n",
    "lassoreg <- lars( x = as.matrix(lassotrain), \n",
    "                 y = as.matrix(train[,18]), type = 'lasso')\n",
    "Cp1 <- summary(lassoreg)$Cp\n",
    "index1 <- which.min(Cp1)\n",
    "lasso_coef <- coef(lassoreg)[index1]\n",
    "lasso_lambda <- lassoreg$lambda[index1]\n",
    "lassoreg.fit <- predict(lassoreg, as.matrix(lassotest),\n",
    "                   s = lasso_lambda, type = 'fit', mode = 'lambda')\n",
    "lassoreg.test <- lassoreg.fit$fit\n",
    "lassoreg.TE <- mean(( test[,18] - lassoreg.test)^2)\n",
    "lassoreg.TE"
   ]
  },
  {
   "cell_type": "code",
   "execution_count": 29,
   "metadata": {
    "collapsed": false
   },
   "outputs": [
    {
     "data": {
      "text/html": [
       "0.167352863200951"
      ],
      "text/latex": [
       "0.167352863200951"
      ],
      "text/markdown": [
       "0.167352863200951"
      ],
      "text/plain": [
       "[1] 0.1673529"
      ]
     },
     "execution_count": 29,
     "metadata": {},
     "output_type": "execute_result"
    }
   ],
   "source": [
    "# Principal Component regression\n",
    "pcreg <- pcr(Pct_Chg ~ . , data = train, validation = 'CV')\n",
    "pc.ncompopt <- which.min(pcreg$validation$adj)\n",
    "pcreg.test <- predict(pcreg, ncomp = pc.ncompopt,\n",
    "                     newdata = test[,-18])\n",
    "pcreg.TE <- mean ( (test[,18] - pcreg.test)^2)\n",
    "pcreg.TE"
   ]
  },
  {
   "cell_type": "code",
   "execution_count": 30,
   "metadata": {
    "collapsed": false
   },
   "outputs": [
    {
     "data": {
      "text/html": [
       "0.167352863200319"
      ],
      "text/latex": [
       "0.167352863200319"
      ],
      "text/markdown": [
       "0.167352863200319"
      ],
      "text/plain": [
       "[1] 0.1673529"
      ]
     },
     "execution_count": 30,
     "metadata": {},
     "output_type": "execute_result"
    }
   ],
   "source": [
    "# Partial Least Squares\n",
    "plsreg <- plsr(Pct_Chg ~ ., data = train, validation = 'CV')\n",
    "pls.ncompopt <- plsreg$ncomp\n",
    "plsreg.test <- predict(plsreg, ncomp = pls.ncompopt,\n",
    "                      newdata = test[,-18])\n",
    "plsreg.TE <- mean( (test[,18]-plsreg.test)^2)\n",
    "plsreg.TE"
   ]
  },
  {
   "cell_type": "code",
   "execution_count": 31,
   "metadata": {
    "collapsed": false
   },
   "outputs": [
    {
     "data": {
      "text/html": [
       "0.010383415781216"
      ],
      "text/latex": [
       "0.010383415781216"
      ],
      "text/markdown": [
       "0.010383415781216"
      ],
      "text/plain": [
       "[1] 0.01038342"
      ]
     },
     "execution_count": 31,
     "metadata": {},
     "output_type": "execute_result"
    }
   ],
   "source": [
    "# Naive\n",
    "naive.TE <- mean ( (test[,18])^2)\n",
    "naive.TE"
   ]
  },
  {
   "cell_type": "code",
   "execution_count": null,
   "metadata": {
    "collapsed": true
   },
   "outputs": [],
   "source": []
  }
 ],
 "metadata": {
  "kernelspec": {
   "display_name": "R",
   "language": "R",
   "name": "ir"
  },
  "language_info": {
   "codemirror_mode": "r",
   "file_extension": ".r",
   "mimetype": "text/x-r-source",
   "name": "R",
   "pygments_lexer": "r",
   "version": "3.2.2"
  }
 },
 "nbformat": 4,
 "nbformat_minor": 0
}
