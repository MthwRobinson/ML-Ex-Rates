{
 "cells": [
  {
   "cell_type": "code",
   "execution_count": 31,
   "metadata": {
    "collapsed": true
   },
   "outputs": [],
   "source": [
    "# Takes data from all countries, adds the future exchange rate variables and \n",
    "# merges them into one data set\n",
    "\n",
    "setwd('/home/matt/MSOR/ISYE7406/ML-Ex-Rates/Data')"
   ]
  },
  {
   "cell_type": "code",
   "execution_count": 32,
   "metadata": {
    "collapsed": false
   },
   "outputs": [],
   "source": [
    "data <- list.files(getwd())"
   ]
  },
  {
   "cell_type": "code",
   "execution_count": 33,
   "metadata": {
    "collapsed": false
   },
   "outputs": [
    {
     "name": "stderr",
     "output_type": "stream",
     "text": [
      "Warning message:\n",
      "In merge.data.frame(usa, df, by = \"Date\"): column names ‘Country.x’, ‘Infl_d.x’, ‘BOT_d.x’, ‘Yield_d.x’, ‘FER_d.x’, ‘Int_d.x’, ‘PrimeRate_d.x’, ‘GDPG_d.x’, ‘CA_d.x’, ‘FDI_d.x’, ‘Country.y’, ‘Infl_d.y’, ‘BOT_d.y’, ‘Yield_d.y’, ‘FER_d.y’, ‘Int_d.y’, ‘PrimeRate_d.y’, ‘GDPG_d.y’, ‘CA_d.y’, ‘FDI_d.y’ are duplicated in the result"
     ]
    },
    {
     "ename": "ERROR",
     "evalue": "Error in fix.by(by.x, x): 'by' must specify uniquely valid columns\n",
     "output_type": "error",
     "traceback": [
      "Error in fix.by(by.x, x): 'by' must specify uniquely valid columns\n"
     ]
    }
   ],
   "source": [
    "ex_rate <- data.frame()\n",
    "usa <- read.csv('usa.csv')\n",
    "for (file in data){\n",
    "    print(file)\n",
    "    if (file != 'usa.csv'){\n",
    "        df <- read.csv(file)\n",
    "        future <- rep(NA,12)\n",
    "        future <- c(future,df$Exchange)\n",
    "        future <- head(future,-12)\n",
    "        df$Exchange_fut <- future\n",
    "        df$Pct_Chg <- (df$Exchange_fut - df$Exchange)/df$Exchange\n",
    "        df$ScaledEx <- scale(df$Exchange)\n",
    "        df$ScaledEx_fut <- scale(df$Exchange_fut)\n",
    "        df <- merge(usa, df, by = 'Date')\n",
    "        ex_rate <- merge(df,ex_rate,all=TRUE)\n",
    "    }\n",
    "}\n",
    "ex_rate <- subset(ex_rate, select = -c(X.x,X.y))\n",
    "write.csv(ex_rate,file='oecd.csv')"
   ]
  },
  {
   "cell_type": "code",
   "execution_count": 77,
   "metadata": {
    "collapsed": false
   },
   "outputs": [],
   "source": []
  },
  {
   "cell_type": "code",
   "execution_count": 78,
   "metadata": {
    "collapsed": false
   },
   "outputs": [],
   "source": []
  }
 ],
 "metadata": {
  "kernelspec": {
   "display_name": "R",
   "language": "R",
   "name": "ir"
  },
  "language_info": {
   "codemirror_mode": "r",
   "file_extension": ".r",
   "mimetype": "text/x-r-source",
   "name": "R",
   "pygments_lexer": "r",
   "version": "3.2.2"
  }
 },
 "nbformat": 4,
 "nbformat_minor": 0
}
