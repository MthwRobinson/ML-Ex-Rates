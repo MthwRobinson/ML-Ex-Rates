{
 "cells": [
  {
   "cell_type": "code",
   "execution_count": 3,
   "metadata": {
    "collapsed": true
   },
   "outputs": [],
   "source": [
    "# Takes data from all countries, adds the future exchange rate variables and \n",
    "# merges them into one data set\n",
    "\n",
    "setwd('/home/matt/MSOR/ISYE7406/ML-Ex-Rates/Data')"
   ]
  },
  {
   "cell_type": "code",
   "execution_count": 4,
   "metadata": {
    "collapsed": false
   },
   "outputs": [],
   "source": [
    "data <- list.files(getwd())"
   ]
  },
  {
   "cell_type": "code",
   "execution_count": 5,
   "metadata": {
    "collapsed": false
   },
   "outputs": [
    {
     "name": "stdout",
     "output_type": "stream",
     "text": [
      "[1] \"australia.csv\"\n",
      "[1] \"canada.csv\"\n",
      "[1] \"denmark.csv\"\n",
      "[1] \"europe.csv\"\n",
      "[1] \"japan.csv\"\n",
      "[1] \"korea.csv\"\n",
      "[1] \"mexico.csv\"\n",
      "[1] \"new_zealand.csv\"\n",
      "[1] \"norway.csv\"\n",
      "[1] \"oecd.csv\"\n",
      "[1] \"sweden.csv\"\n",
      "[1] \"switzerland.csv\"\n",
      "[1] \"uk.csv\"\n",
      "[1] \"usa.csv\"\n"
     ]
    }
   ],
   "source": [
    "ex_rate <- data.frame()\n",
    "usa <- read.csv('usa.csv')\n",
    "for (file in data){\n",
    "    print(file)\n",
    "    if (file != 'usa.csv'){ if(file != 'oecd.csv'){\n",
    "        df <- read.csv(file)\n",
    "        future <- rep(NA,12)\n",
    "        future <- c(future,df$Exchange)\n",
    "        future <- head(future,-12)\n",
    "        df$Exchange_fut <- future\n",
    "        df$Pct_Chg <- (df$Exchange_fut - df$Exchange)/df$Exchange\n",
    "        df <- merge(usa, df, by = 'Date')\n",
    "        ex_rate <- merge(df,ex_rate,all=TRUE)\n",
    "    }}\n",
    "}\n",
    "ex_rate <- subset(ex_rate, select = -c(X.x,X.y))\n",
    "write.csv(ex_rate,file='oecd.csv')"
   ]
  },
  {
   "cell_type": "code",
   "execution_count": null,
   "metadata": {
    "collapsed": false
   },
   "outputs": [],
   "source": []
  },
  {
   "cell_type": "code",
   "execution_count": null,
   "metadata": {
    "collapsed": false
   },
   "outputs": [],
   "source": []
  }
 ],
 "metadata": {
  "kernelspec": {
   "display_name": "R",
   "language": "R",
   "name": "ir"
  },
  "language_info": {
   "codemirror_mode": "r",
   "file_extension": ".r",
   "mimetype": "text/x-r-source",
   "name": "R",
   "pygments_lexer": "r",
   "version": "3.2.2"
  }
 },
 "nbformat": 4,
 "nbformat_minor": 0
}
