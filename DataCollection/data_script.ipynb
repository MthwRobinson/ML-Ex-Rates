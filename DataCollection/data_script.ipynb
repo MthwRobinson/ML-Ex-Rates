{
 "cells": [
  {
   "cell_type": "code",
   "execution_count": 3,
   "metadata": {
    "collapsed": false
   },
   "outputs": [],
   "source": [
    "#install.packages(\"lubridate\", repos=\"http://cran.r-project.org\")\n",
    "# api key sWyMx5Thd3sPhF613nE6\n",
    "library(Quandl)\n",
    "library(RCurl)\n",
    "library(httr)\n",
    "library(stats)\n",
    "library(zoo)\n",
    "library(lubridate)\n",
    "set_config( config( ssl_verifypeer = 0L ) )\n",
    "Quandl.api_key('sWyMx5Thd3sPhF613nE6')"
   ]
  },
  {
   "cell_type": "code",
   "execution_count": 4,
   "metadata": {
    "collapsed": false
   },
   "outputs": [],
   "source": [
    "trade_econ_data <- function(country, code, excode = 'NULL', ycode,\n",
    "                            monthly, quarterly, col_names ){\n",
    "    \n",
    "    data_list <- list()\n",
    "    \n",
    "    # Monthly Data\n",
    "    for (data_set in monthly){\n",
    "        print(paste('Downloading',data_set,sep=' '))\n",
    "        link <- paste('SGE/',code,data_set,sep='')\n",
    "        df <- Quandl(link, start_date = '1971-01-01', collapse = 'monthly')\n",
    "        colnames(df) <- c('Date',data_set)\n",
    "        df$Date <- round_date(df$Date, unit = 'month')\n",
    "        data_list[[length(data_list)+1]] <- df\n",
    "        \n",
    "    }\n",
    "    \n",
    "    \n",
    "    \n",
    "    # Quarterly Data\n",
    "    for (data_set in quarterly){\n",
    "        print(paste('Downloading',data_set,sep=' '))\n",
    "        link <- paste('SGE/',code,data_set,sep='')\n",
    "        df <- Quandl(link, start_date = '1971-01-01', collapse = 'quarterly')\n",
    "        colnames(df) <- c('Date',data_set)\n",
    "        df$Date <- round_date(df$Date, unit = 'month')\n",
    "        data_list[[length(data_list)+1]] <- df\n",
    "    }\n",
    "    \n",
    "    # Government Yield\n",
    "    if (ycode != 'NULL'){\n",
    "        print(paste('Downloading','yield',sep=' '))\n",
    "        link <- paste('YC/',ycode,sep='')\n",
    "        df <- Quandl(link, start_date = '1971-01-01', collapse = 'monthly')\n",
    "        colnames(df) <- c('Date','3M_Yield')\n",
    "        df$Date <- round_date(df$Date, unit = 'month')\n",
    "        data_list[[length(data_list)+1]] <- df\n",
    "    }\n",
    "    \n",
    "    # Exchange Rate\n",
    "    if (excode != 'NULL'){\n",
    "        print(paste('Downloading','exchange rate',sep=' '))\n",
    "        link <- paste('FRED/',excode,sep='')\n",
    "        df <- Quandl(link, start_date = '1971-01-01', collapse = 'monthly')\n",
    "        colnames(df) <- c('Date','Exchange')\n",
    "        df$Date <- round_date(df$Date, unit = 'month')\n",
    "        data_list[[length(data_list)+1]] <- df\n",
    "    }\n",
    "\n",
    "    \n",
    "    # Merge all of the data into one date frame by date\n",
    "    df <- Reduce(function(...) merge(..., by='Date', all=TRUE), data_list)\n",
    "    df$Country <- rep(country,dim(df)[1])\n",
    "    colnames(df) <- col_names\n",
    "    \n",
    "    \n",
    "    # Interpolate intermediate values for quarterly data using splines\n",
    "    start <- length(monthly)+2\n",
    "    end <- start + length(quarterly)\n",
    "    for( i in start:end){\n",
    "        if( sum(is.na(df[,i])) > 0 ){\n",
    "            df[,i] <- na.spline(df[,i])\n",
    "        }\n",
    "    }\n",
    "    \n",
    "    \n",
    "\n",
    "\n",
    "    filename <- paste(country,'.csv',sep='')\n",
    "    setwd('/home/matt/MSOR/ISYE7406/ML-Ex-Rates/Data')\n",
    "    write.csv(df, file = filename)\n",
    "    return(df)\n",
    "}"
   ]
  },
  {
   "cell_type": "code",
   "execution_count": 5,
   "metadata": {
    "collapsed": false,
    "scrolled": true
   },
   "outputs": [
    {
     "name": "stdout",
     "output_type": "stream",
     "text": [
      "[1] \"Downloading CPIC\"\n",
      "[1] \"Downloading BOT\"\n",
      "[1] \"Downloading GYLD\"\n",
      "[1] \"Downloading FER\"\n",
      "[1] \"Downloading IR\"\n",
      "[1] \"Downloading BLR\"\n",
      "[1] \"Downloading GGR\"\n",
      "[1] \"Downloading CA\"\n",
      "[1] \"Downloading FDI\"\n",
      "[1] \"Downloading yield\"\n"
     ]
    },
    {
     "data": {
      "text/html": [
       "<table>\n",
       "<thead><tr><th></th><th scope=col>Date</th><th scope=col>Infl_d</th><th scope=col>BOT_d</th><th scope=col>Yield_d</th><th scope=col>FER_d</th><th scope=col>Int_d</th><th scope=col>PrimeRate_d</th><th scope=col>1Y_Yield_d</th><th scope=col>GDPG_d</th><th scope=col>CA_d</th><th scope=col>FDI_d</th><th scope=col>Country</th></tr></thead>\n",
       "<tbody>\n",
       "\t<tr><th scope=row>537</th><td>2015-10-01</td><td>0</td><td>-42484</td><td>2.0368</td><td>120218</td><td>0.25</td><td>3.25</td><td>2</td><td>-124120</td><td>38492</td><td>0.33</td><td>usa</td></tr>\n",
       "\t<tr><th scope=row>538</th><td>2015-11-01</td><td>0.2</td><td>-44610</td><td>2.1421</td><td>119267</td><td>0.25</td><td>3.25</td><td>1.088602</td><td>-276419.5</td><td>33914.59</td><td>0.34</td><td>usa</td></tr>\n",
       "\t<tr><th scope=row>539</th><td>2015-12-01</td><td>0.5</td><td>-42226</td><td>2.206</td><td>116640</td><td>0.25</td><td>3.25</td><td>0.5836637</td><td>-507177.9</td><td>25925.97</td><td>0.51</td><td>usa</td></tr>\n",
       "\t<tr><th scope=row>540</th><td>2016-01-01</td><td>0.7</td><td>-43357</td><td>2.2694</td><td>117581</td><td>0.5</td><td>3.37</td><td>0.7</td><td>-829082.1</td><td>13871.86</td><td>0.65</td><td>usa</td></tr>\n",
       "\t<tr><th scope=row>541</th><td>2016-02-01</td><td>1.4</td><td>NA</td><td>1.9209</td><td>NA</td><td>0.5</td><td>3.5</td><td>1.652426</td><td>-1254819</td><td>-2902.051</td><td>0.47</td><td>usa</td></tr>\n",
       "\t<tr><th scope=row>542</th><td>2016-03-01</td><td>NA</td><td>NA</td><td>1.7449</td><td>NA</td><td>NA</td><td>NA</td><td>3.655755</td><td>-1797074</td><td>-25050.05</td><td>0.53</td><td>usa</td></tr>\n",
       "</tbody>\n",
       "</table>\n"
      ],
      "text/latex": [
       "\\begin{tabular}{r|llllllllllll}\n",
       "  & Date & Infl_d & BOT_d & Yield_d & FER_d & Int_d & PrimeRate_d & 1Y_Yield_d & GDPG_d & CA_d & FDI_d & Country\\\\\n",
       "\\hline\n",
       "\t537 & 2015-10-01 & 0 & -42484 & 2.0368 & 120218 & 0.25 & 3.25 & 2 & -124120 & 38492 & 0.33 & usa\\\\\n",
       "\t538 & 2015-11-01 & 0.2 & -44610 & 2.1421 & 119267 & 0.25 & 3.25 & 1.088602 & -276419.5 & 33914.59 & 0.34 & usa\\\\\n",
       "\t539 & 2015-12-01 & 0.5 & -42226 & 2.206 & 116640 & 0.25 & 3.25 & 0.5836637 & -507177.9 & 25925.97 & 0.51 & usa\\\\\n",
       "\t540 & 2016-01-01 & 0.7 & -43357 & 2.2694 & 117581 & 0.5 & 3.37 & 0.7 & -829082.1 & 13871.86 & 0.65 & usa\\\\\n",
       "\t541 & 2016-02-01 & 1.4 & NA & 1.9209 & NA & 0.5 & 3.5 & 1.652426 & -1254819 & -2902.051 & 0.47 & usa\\\\\n",
       "\t542 & 2016-03-01 & NA & NA & 1.7449 & NA & NA & NA & 3.655755 & -1797074 & -25050.05 & 0.53 & usa\\\\\n",
       "\\end{tabular}\n"
      ],
      "text/plain": [
       "          Date Infl_d  BOT_d Yield_d  FER_d Int_d PrimeRate_d 1Y_Yield_d\n",
       "537 2015-10-01    0.0 -42484  2.0368 120218  0.25        3.25  2.0000000\n",
       "538 2015-11-01    0.2 -44610  2.1421 119267  0.25        3.25  1.0886020\n",
       "539 2015-12-01    0.5 -42226  2.2060 116640  0.25        3.25  0.5836637\n",
       "540 2016-01-01    0.7 -43357  2.2694 117581  0.50        3.37  0.7000000\n",
       "541 2016-02-01    1.4     NA  1.9209     NA  0.50        3.50  1.6524256\n",
       "542 2016-03-01     NA     NA  1.7449     NA    NA          NA  3.6557554\n",
       "        GDPG_d       CA_d FDI_d Country\n",
       "537  -124120.0  38492.000  0.33     usa\n",
       "538  -276419.5  33914.585  0.34     usa\n",
       "539  -507177.9  25925.969  0.51     usa\n",
       "540  -829082.1  13871.856  0.65     usa\n",
       "541 -1254818.6  -2902.051  0.47     usa\n",
       "542 -1797074.1 -25050.048  0.53     usa"
      ]
     },
     "execution_count": 5,
     "metadata": {},
     "output_type": "execute_result"
    }
   ],
   "source": [
    "# USA Data Frame\n",
    "usa <- trade_econ_data(country = 'usa', code = 'USA', excode = 'NULL', ycode = 'USA1Y',\n",
    "                            monthly = c('CPIC','BOT','GYLD','FER','IR','BLR'),\n",
    "                            quarterly = c('GGR','CA','FDI'), \n",
    "                    col_names = c('Date','Infl_d','BOT_d',\n",
    "                                  'Yield_d','FER_d','Int_d','PrimeRate_d','1Y_Yield_d',\n",
    "                                  'GDPG_d','CA_d','FDI_d','Country'))\n",
    "tail(usa)"
   ]
  },
  {
   "cell_type": "code",
   "execution_count": 6,
   "metadata": {
    "collapsed": false
   },
   "outputs": [
    {
     "name": "stdout",
     "output_type": "stream",
     "text": [
      "[1] \"Downloading CPIC\"\n",
      "[1] \"Downloading BOT\"\n",
      "[1] \"Downloading FER\"\n",
      "[1] \"Downloading IR\"\n",
      "[1] \"Downloading GGR\"\n",
      "[1] \"Downloading CA\"\n",
      "[1] \"Downloading yield\"\n",
      "[1] \"Downloading exchange rate\"\n"
     ]
    },
    {
     "data": {
      "text/html": [
       "<table>\n",
       "<thead><tr><th></th><th scope=col>Date</th><th scope=col>Infl_f</th><th scope=col>BOT_f</th><th scope=col>FER_f</th><th scope=col>Int_f</th><th scope=col>1Y_Yield_f</th><th scope=col>GDPG_f</th><th scope=col>CA_f</th><th scope=col>Exchange</th><th scope=col>Country</th></tr></thead>\n",
       "<tbody>\n",
       "\t<tr><th scope=row>297</th><td>2015-10-01</td><td>-0.1</td><td>19950.7</td><td>332253</td><td>0.05</td><td>0.3</td><td>33.8</td><td>-0.27</td><td>0.8905513</td><td>europe</td></tr>\n",
       "\t<tr><th scope=row>298</th><td>2015-11-01</td><td>0.1</td><td>23989.8</td><td>324595</td><td>0.05</td><td>0.2854791</td><td>33.8854</td><td>-0.34</td><td>0.8906306</td><td>europe</td></tr>\n",
       "\t<tr><th scope=row>299</th><td>2015-12-01</td><td>0.2</td><td>23716.5</td><td>323777</td><td>0.05</td><td>0.2842445</td><td>36.16762</td><td>-0.41</td><td>0.9322271</td><td>europe</td></tr>\n",
       "\t<tr><th scope=row>300</th><td>2016-01-01</td><td>0.2</td><td>24281.7</td><td>333872</td><td>0.05</td><td>0.3</td><td>41.4</td><td>-0.39</td><td>0.918358</td><td>europe</td></tr>\n",
       "\t<tr><th scope=row>301</th><td>2016-02-01</td><td>0.4</td><td>NA</td><td>NA</td><td>0.05</td><td>0.3364493</td><td>50.33588</td><td>-0.46</td><td>0.9212345</td><td>europe</td></tr>\n",
       "\t<tr><th scope=row>302</th><td>2016-03-01</td><td>NA</td><td>NA</td><td>NA</td><td>NA</td><td>0.3972961</td><td>63.72858</td><td>-0.5</td><td>0.8971024</td><td>europe</td></tr>\n",
       "</tbody>\n",
       "</table>\n"
      ],
      "text/latex": [
       "\\begin{tabular}{r|llllllllll}\n",
       "  & Date & Infl_f & BOT_f & FER_f & Int_f & 1Y_Yield_f & GDPG_f & CA_f & Exchange & Country\\\\\n",
       "\\hline\n",
       "\t297 & 2015-10-01 & -0.1 & 19950.7 & 332253 & 0.05 & 0.3 & 33.8 & -0.27 & 0.8905513 & europe\\\\\n",
       "\t298 & 2015-11-01 & 0.1 & 23989.8 & 324595 & 0.05 & 0.2854791 & 33.8854 & -0.34 & 0.8906306 & europe\\\\\n",
       "\t299 & 2015-12-01 & 0.2 & 23716.5 & 323777 & 0.05 & 0.2842445 & 36.16762 & -0.41 & 0.9322271 & europe\\\\\n",
       "\t300 & 2016-01-01 & 0.2 & 24281.7 & 333872 & 0.05 & 0.3 & 41.4 & -0.39 & 0.918358 & europe\\\\\n",
       "\t301 & 2016-02-01 & 0.4 & NA & NA & 0.05 & 0.3364493 & 50.33588 & -0.46 & 0.9212345 & europe\\\\\n",
       "\t302 & 2016-03-01 & NA & NA & NA & NA & 0.3972961 & 63.72858 & -0.5 & 0.8971024 & europe\\\\\n",
       "\\end{tabular}\n"
      ],
      "text/plain": [
       "          Date Infl_f   BOT_f  FER_f Int_f 1Y_Yield_f   GDPG_f  CA_f  Exchange\n",
       "297 2015-10-01   -0.1 19950.7 332253  0.05  0.3000000 33.80000 -0.27 0.8905513\n",
       "298 2015-11-01    0.1 23989.8 324595  0.05  0.2854791 33.88540 -0.34 0.8906306\n",
       "299 2015-12-01    0.2 23716.5 323777  0.05  0.2842445 36.16762 -0.41 0.9322271\n",
       "300 2016-01-01    0.2 24281.7 333872  0.05  0.3000000 41.40000 -0.39 0.9183580\n",
       "301 2016-02-01    0.4      NA     NA  0.05  0.3364493 50.33588 -0.46 0.9212345\n",
       "302 2016-03-01     NA      NA     NA    NA  0.3972961 63.72858 -0.50 0.8971024\n",
       "    Country\n",
       "297  europe\n",
       "298  europe\n",
       "299  europe\n",
       "300  europe\n",
       "301  europe\n",
       "302  europe"
      ]
     },
     "execution_count": 6,
     "metadata": {},
     "output_type": "execute_result"
    }
   ],
   "source": [
    "# Euro-zone Data Frame\n",
    "# No GYLD or BLR data\n",
    "euro <- trade_econ_data(country = 'europe', code = 'EUR', excode = 'EXUSEU', \n",
    "                        ycode = 'DEU1Y',\n",
    "                            monthly = c('CPIC','BOT','FER','IR'),\n",
    "                            quarterly = c('GGR','CA'), \n",
    "                    col_names = c('Date','Infl_f','BOT_f',\n",
    "                                  'FER_f','Int_f','1Y_Yield_f','GDPG_f',\n",
    "                                  'CA_f','Exchange','Country'))\n",
    "euro$Exchange <- 1/euro$Exchange\n",
    "setwd('/home/matt/MSOR/ISYE7406/ML-Ex-Rates/Data')\n",
    "write.csv(euro, file = 'europe.csv')\n",
    "tail(euro)"
   ]
  },
  {
   "cell_type": "code",
   "execution_count": 7,
   "metadata": {
    "collapsed": false
   },
   "outputs": [
    {
     "name": "stdout",
     "output_type": "stream",
     "text": [
      "[1] \"Downloading CPIC\"\n",
      "[1] \"Downloading BOT\"\n",
      "[1] \"Downloading GYLD\"\n",
      "[1] \"Downloading FER\"\n",
      "[1] \"Downloading IR\"\n",
      "[1] \"Downloading GGR\"\n",
      "[1] \"Downloading CA\"\n",
      "[1] \"Downloading FDI\"\n",
      "[1] \"Downloading exchange rate\"\n"
     ]
    },
    {
     "data": {
      "text/html": [
       "<table>\n",
       "<thead><tr><th></th><th scope=col>Date</th><th scope=col>Infl_f</th><th scope=col>BOT_f</th><th scope=col>Yield_f</th><th scope=col>FER_f</th><th scope=col>Int_f</th><th scope=col>GDPG_f</th><th scope=col>CA_f</th><th scope=col>FDI_f</th><th scope=col>Exchange</th><th scope=col>Country</th></tr></thead>\n",
       "<tbody>\n",
       "\t<tr><th scope=row>537</th><td>2015-10-01</td><td>1.5</td><td>-2063</td><td>2.605</td><td>72670</td><td>2</td><td>0.9</td><td>-18104</td><td>56027.78</td><td>1.416631</td><td>australia</td></tr>\n",
       "\t<tr><th scope=row>538</th><td>2015-11-01</td><td>NA</td><td>-2317</td><td>2.611</td><td>64337</td><td>2</td><td>1.795153</td><td>-12805.35</td><td>55703.4</td><td>1.388889</td><td>australia</td></tr>\n",
       "\t<tr><th scope=row>539</th><td>2015-12-01</td><td>NA</td><td>-2727</td><td>2.86</td><td>68208</td><td>2</td><td>3.173684</td><td>-4445.988</td><td>55340.94</td><td>1.399384</td><td>australia</td></tr>\n",
       "\t<tr><th scope=row>540</th><td>2016-01-01</td><td>1.7</td><td>-3535</td><td>2.88</td><td>67440</td><td>2</td><td>5.117076</td><td>7461.133</td><td>54938.62</td><td>1.379881</td><td>australia</td></tr>\n",
       "\t<tr><th scope=row>541</th><td>2016-02-01</td><td>NA</td><td>NA</td><td>2.635</td><td>61585</td><td>2</td><td>7.70681</td><td>23403.05</td><td>54494.69</td><td>1.42633</td><td>australia</td></tr>\n",
       "\t<tr><th scope=row>542</th><td>2016-03-01</td><td>NA</td><td>NA</td><td>2.43</td><td>NA</td><td>2</td><td>11.02437</td><td>43866.79</td><td>54007.38</td><td>1.407856</td><td>australia</td></tr>\n",
       "</tbody>\n",
       "</table>\n"
      ],
      "text/latex": [
       "\\begin{tabular}{r|lllllllllll}\n",
       "  & Date & Infl_f & BOT_f & Yield_f & FER_f & Int_f & GDPG_f & CA_f & FDI_f & Exchange & Country\\\\\n",
       "\\hline\n",
       "\t537 & 2015-10-01 & 1.5 & -2063 & 2.605 & 72670 & 2 & 0.9 & -18104 & 56027.78 & 1.416631 & australia\\\\\n",
       "\t538 & 2015-11-01 & NA & -2317 & 2.611 & 64337 & 2 & 1.795153 & -12805.35 & 55703.4 & 1.388889 & australia\\\\\n",
       "\t539 & 2015-12-01 & NA & -2727 & 2.86 & 68208 & 2 & 3.173684 & -4445.988 & 55340.94 & 1.399384 & australia\\\\\n",
       "\t540 & 2016-01-01 & 1.7 & -3535 & 2.88 & 67440 & 2 & 5.117076 & 7461.133 & 54938.62 & 1.379881 & australia\\\\\n",
       "\t541 & 2016-02-01 & NA & NA & 2.635 & 61585 & 2 & 7.70681 & 23403.05 & 54494.69 & 1.42633 & australia\\\\\n",
       "\t542 & 2016-03-01 & NA & NA & 2.43 & NA & 2 & 11.02437 & 43866.79 & 54007.38 & 1.407856 & australia\\\\\n",
       "\\end{tabular}\n"
      ],
      "text/plain": [
       "          Date Infl_f BOT_f Yield_f FER_f Int_f    GDPG_f       CA_f    FDI_f\n",
       "537 2015-10-01    1.5 -2063   2.605 72670     2  0.900000 -18104.000 56027.78\n",
       "538 2015-11-01     NA -2317   2.611 64337     2  1.795153 -12805.353 55703.40\n",
       "539 2015-12-01     NA -2727   2.860 68208     2  3.173684  -4445.988 55340.94\n",
       "540 2016-01-01    1.7 -3535   2.880 67440     2  5.117076   7461.133 54938.62\n",
       "541 2016-02-01     NA    NA   2.635 61585     2  7.706810  23403.047 54494.69\n",
       "542 2016-03-01     NA    NA   2.430    NA     2 11.024367  43866.790 54007.38\n",
       "    Exchange   Country\n",
       "537 1.416631 australia\n",
       "538 1.388889 australia\n",
       "539 1.399384 australia\n",
       "540 1.379881 australia\n",
       "541 1.426330 australia\n",
       "542 1.407856 australia"
      ]
     },
     "execution_count": 7,
     "metadata": {},
     "output_type": "execute_result"
    }
   ],
   "source": [
    "# Australia Data Frame\n",
    "# No BLR data, No 1Y yield\n",
    "aus <- trade_econ_data(country = 'australia', code = 'AUS', excode = 'EXUSAL',\n",
    "                       ycode = 'NULL',\n",
    "                            monthly = c('CPIC','BOT','GYLD','FER','IR'),\n",
    "                            quarterly = c('GGR','CA','FDI'), \n",
    "                    col_names = c('Date','Infl_f','BOT_f',\n",
    "                                  'Yield_f','FER_f','Int_f',                                  'GDPG_f',\n",
    "                                  'CA_f','FDI_f','Exchange','Country'))\n",
    "aus$Exchange <- 1/aus$Exchange\n",
    "setwd('/home/matt/MSOR/ISYE7406/ML-Ex-Rates/Data')\n",
    "write.csv(euro, file = 'australia.csv')\n",
    "tail(aus)"
   ]
  },
  {
   "cell_type": "code",
   "execution_count": 8,
   "metadata": {
    "collapsed": false
   },
   "outputs": [
    {
     "name": "stdout",
     "output_type": "stream",
     "text": [
      "[1] \"Downloading CPIC\"\n",
      "[1] \"Downloading BOT\"\n",
      "[1] \"Downloading GYLD\"\n",
      "[1] \"Downloading FER\"\n",
      "[1] \"Downloading IR\"\n",
      "[1] \"Downloading BLR\"\n",
      "[1] \"Downloading GGR\"\n",
      "[1] \"Downloading CA\"\n",
      "[1] \"Downloading FDI\"\n",
      "[1] \"Downloading yield\"\n",
      "[1] \"Downloading exchange rate\"\n"
     ]
    }
   ],
   "source": [
    "# Canada Data Frame\n",
    "can <- trade_econ_data(country = 'canada', code = 'CAN', excode = 'EXCAUS',\n",
    "                       ycode = 'CAN1Y',\n",
    "                            monthly = c('CPIC','BOT','GYLD','FER','IR','BLR'),\n",
    "                            quarterly = c('GGR','CA','FDI'), \n",
    "                    col_names = c('Date','Infl_f','BOT_f',\n",
    "                                  'Yield_f','FER_f','Int_f','PrimeRate_f','1Y_Yield_f',\n",
    "                                  'GDPG_f','CA_f','FDI_f','Exchange','Country'))"
   ]
  },
  {
   "cell_type": "code",
   "execution_count": 9,
   "metadata": {
    "collapsed": false
   },
   "outputs": [
    {
     "name": "stdout",
     "output_type": "stream",
     "text": [
      "[1] \"Downloading CPIC\"\n",
      "[1] \"Downloading BOT\"\n",
      "[1] \"Downloading GYLD\"\n",
      "[1] \"Downloading FER\"\n",
      "[1] \"Downloading IR\"\n",
      "[1] \"Downloading GGR\"\n",
      "[1] \"Downloading CA\"\n",
      "[1] \"Downloading exchange rate\"\n"
     ]
    }
   ],
   "source": [
    "# Denmark Data Frame\n",
    "# No BLR, FDI data, No 1Y yield\n",
    "den <- trade_econ_data(country = 'denmark', code = 'DNK', excode = 'EXDNUS',\n",
    "                       ycode = 'NULL',\n",
    "                            monthly = c('CPIC','BOT','GYLD','FER','IR'),\n",
    "                            quarterly = c('GGR','CA'), \n",
    "                    col_names = c('Date','Infl_f','BOT_f',\n",
    "                                  'Yield_f','FER_f','Int_f',\n",
    "                                  'GDPG_f','CA_f','Exchange','Country'))"
   ]
  },
  {
   "cell_type": "code",
   "execution_count": 10,
   "metadata": {
    "collapsed": false
   },
   "outputs": [
    {
     "name": "stdout",
     "output_type": "stream",
     "text": [
      "[1] \"Downloading CPIC\"\n",
      "[1] \"Downloading BOT\"\n",
      "[1] \"Downloading GYLD\"\n",
      "[1] \"Downloading FER\"\n",
      "[1] \"Downloading IR\"\n",
      "[1] \"Downloading BLR\"\n",
      "[1] \"Downloading GGR\"\n",
      "[1] \"Downloading CA\"\n",
      "[1] \"Downloading FDI\"\n",
      "[1] \"Downloading yield\"\n",
      "[1] \"Downloading exchange rate\"\n"
     ]
    }
   ],
   "source": [
    "# Japan Data Frame\n",
    "jap <- trade_econ_data(country = 'japan', code = 'JPN', excode = 'EXJPUS', \n",
    "                       ycode = 'JPN1Y',\n",
    "                            monthly = c('CPIC','BOT','GYLD','FER','IR','BLR'),\n",
    "                            quarterly = c('GGR','CA','FDI'), \n",
    "                    col_names = c('Date','Infl_f','BOT_f',\n",
    "                                  'Yield_f','FER_f','Int_f','PrimeRate_f','1Y_Yield_f',\n",
    "                                  'GDPG_f','CA_f','FDI_f','Exchange','Country'))"
   ]
  },
  {
   "cell_type": "code",
   "execution_count": 11,
   "metadata": {
    "collapsed": false
   },
   "outputs": [
    {
     "name": "stdout",
     "output_type": "stream",
     "text": [
      "[1] \"Downloading CPIC\"\n",
      "[1] \"Downloading BOT\"\n",
      "[1] \"Downloading GYLD\"\n",
      "[1] \"Downloading FER\"\n",
      "[1] \"Downloading IR\"\n",
      "[1] \"Downloading BLR\"\n",
      "[1] \"Downloading GGR\"\n",
      "[1] \"Downloading CA\"\n",
      "[1] \"Downloading FDI\"\n",
      "[1] \"Downloading yield\"\n",
      "[1] \"Downloading exchange rate\"\n"
     ]
    }
   ],
   "source": [
    "# Korea Data Frame\n",
    "korea <- trade_econ_data(country = 'korea', code = 'KOR', excode = 'EXKOUS',\n",
    "                         ycode = 'KOR1Y',\n",
    "                            monthly = c('CPIC','BOT','GYLD','FER','IR','BLR'),\n",
    "                            quarterly = c('GGR','CA','FDI'), \n",
    "                    col_names = c('Date','Infl_f','BOT_f',\n",
    "                                  'Yield_f','FER_f','Int_f','PrimeRate_f','1Y_Yield_f',\n",
    "                                  'GDPG_f','CA_f','FDI_f','Exchange','Country'))"
   ]
  },
  {
   "cell_type": "code",
   "execution_count": 12,
   "metadata": {
    "collapsed": false
   },
   "outputs": [
    {
     "name": "stdout",
     "output_type": "stream",
     "text": [
      "[1] \"Downloading CPIC\"\n",
      "[1] \"Downloading BOT\"\n",
      "[1] \"Downloading GYLD\"\n",
      "[1] \"Downloading FER\"\n",
      "[1] \"Downloading IR\"\n",
      "[1] \"Downloading GGR\"\n",
      "[1] \"Downloading CA\"\n",
      "[1] \"Downloading FDI\"\n",
      "[1] \"Downloading yield\"\n",
      "[1] \"Downloading exchange rate\"\n"
     ]
    }
   ],
   "source": [
    "# Mexico Data Frame\n",
    "# No BLR data\n",
    "mex <- trade_econ_data(country = 'mexico', code = 'MEX', excode = 'EXMXUS',\n",
    "                       ycode = 'MEX1Y',\n",
    "                            monthly = c('CPIC','BOT','GYLD','FER','IR'),\n",
    "                            quarterly = c('GGR','CA','FDI'), \n",
    "                    col_names = c('Date','Infl_f','BOT_f',\n",
    "                                  'Yield_f','FER_f','Int_f','1Y_Yield_f',\n",
    "                                  'GDPG_f','CA_f','FDI_f','Exchange','Country'))"
   ]
  },
  {
   "cell_type": "code",
   "execution_count": 13,
   "metadata": {
    "collapsed": false
   },
   "outputs": [
    {
     "name": "stdout",
     "output_type": "stream",
     "text": [
      "[1] \"Downloading CPIC\"\n",
      "[1] \"Downloading BOT\"\n",
      "[1] \"Downloading GYLD\"\n",
      "[1] \"Downloading FER\"\n",
      "[1] \"Downloading IR\"\n",
      "[1] \"Downloading BLR\"\n",
      "[1] \"Downloading GGR\"\n",
      "[1] \"Downloading CA\"\n",
      "[1] \"Downloading FDI\"\n",
      "[1] \"Downloading yield\"\n",
      "[1] \"Downloading exchange rate\"\n"
     ]
    }
   ],
   "source": [
    "# New Zealand Data Frame\n",
    "nzl <- trade_econ_data(country = 'new_zealand', code = 'NZL', excode = 'EXUSNZ',\n",
    "                       ycode = 'NZL1Y',\n",
    "                            monthly = c('CPIC','BOT','GYLD','FER','IR','BLR'),\n",
    "                            quarterly = c('GGR','CA','FDI'), \n",
    "                    col_names = c('Date','Infl_f','BOT_f',\n",
    "                                  'Yield_f','FER_f','Int_f','PrimeRate_f','1Y_Yield_f',\n",
    "                                  'GDPG_f','CA_f','FDI_f','Exchange','Country'))\n",
    "nzl$Exchange <- 1/nzl$Exchange\n",
    "setwd('/home/matt/MSOR/ISYE7406/ML-Ex-Rates/Data')\n",
    "write.csv(nzl, file = 'new_zealand.csv')"
   ]
  },
  {
   "cell_type": "code",
   "execution_count": 14,
   "metadata": {
    "collapsed": false
   },
   "outputs": [
    {
     "name": "stdout",
     "output_type": "stream",
     "text": [
      "[1] \"Downloading CPIC\"\n",
      "[1] \"Downloading BOT\"\n",
      "[1] \"Downloading GYLD\"\n",
      "[1] \"Downloading FER\"\n",
      "[1] \"Downloading IR\"\n",
      "[1] \"Downloading GGR\"\n",
      "[1] \"Downloading CA\"\n",
      "[1] \"Downloading yield\"\n",
      "[1] \"Downloading exchange rate\"\n"
     ]
    }
   ],
   "source": [
    "# Norway Data Frame\n",
    "# No BLR or FDI data\n",
    "nor <- trade_econ_data(country = 'norway', code = 'NOR', excode = 'EXNOUS',\n",
    "                       ycode = 'NOR12M',\n",
    "                            monthly = c('CPIC','BOT','GYLD','FER','IR'),\n",
    "                            quarterly = c('GGR','CA'), \n",
    "                    col_names = c('Date','Infl_f','BOT_f',\n",
    "                                  'Yield_f','FER_f','Int_f','1Y_Yield_f',\n",
    "                                  'GDPG_f','CA_f','Exchange','Country'))"
   ]
  },
  {
   "cell_type": "code",
   "execution_count": 15,
   "metadata": {
    "collapsed": false
   },
   "outputs": [
    {
     "name": "stdout",
     "output_type": "stream",
     "text": [
      "[1] \"Downloading CPIC\"\n",
      "[1] \"Downloading BOT\"\n",
      "[1] \"Downloading GYLD\"\n",
      "[1] \"Downloading FER\"\n",
      "[1] \"Downloading IR\"\n",
      "[1] \"Downloading GGR\"\n",
      "[1] \"Downloading CA\"\n",
      "[1] \"Downloading FDI\"\n",
      "[1] \"Downloading yield\"\n",
      "[1] \"Downloading exchange rate\"\n"
     ]
    }
   ],
   "source": [
    "# Sweden Data Frame\n",
    "# No BLR data\n",
    "swe <- trade_econ_data(country = 'sweden', code = 'SWE', excode = 'EXSZUS',\n",
    "                       ycode = 'SWE12M',\n",
    "                            monthly = c('CPIC','BOT','GYLD','FER','IR'),\n",
    "                            quarterly = c('GGR','CA','FDI'), \n",
    "                    col_names = c('Date','Infl_f','BOT_f',\n",
    "                                  'Yield_f','FER_f','Int_f','1Y_Yield_f',\n",
    "                                  'GDPG_f','CA_f','FDI_f','Exchange','Country'))"
   ]
  },
  {
   "cell_type": "code",
   "execution_count": 16,
   "metadata": {
    "collapsed": false
   },
   "outputs": [
    {
     "name": "stdout",
     "output_type": "stream",
     "text": [
      "[1] \"Downloading CPIC\"\n",
      "[1] \"Downloading BOT\"\n",
      "[1] \"Downloading GYLD\"\n",
      "[1] \"Downloading FER\"\n",
      "[1] \"Downloading IR\"\n",
      "[1] \"Downloading GGR\"\n",
      "[1] \"Downloading CA\"\n",
      "[1] \"Downloading FDI\"\n",
      "[1] \"Downloading yield\"\n",
      "[1] \"Downloading exchange rate\"\n"
     ]
    }
   ],
   "source": [
    "# Switzerland Data Frame\n",
    "# No BLR data\n",
    "switz <- trade_econ_data(country = 'switzerland', code = 'CHE', excode = 'EXSZUS',\n",
    "                         ycode = 'CHE12M',\n",
    "                            monthly = c('CPIC','BOT','GYLD','FER','IR'),\n",
    "                            quarterly = c('GGR','CA','FDI'), \n",
    "                    col_names = c('Date','Infl_f','BOT_f',\n",
    "                                  'Yield_f','FER_f','Int_f','1Y_Yield_f',\n",
    "                                  'GDPG_f','CA_f','FDI_f','Exchange','Country'))"
   ]
  },
  {
   "cell_type": "code",
   "execution_count": 17,
   "metadata": {
    "collapsed": false
   },
   "outputs": [
    {
     "name": "stdout",
     "output_type": "stream",
     "text": [
      "[1] \"Downloading CPIC\"\n",
      "[1] \"Downloading BOT\"\n",
      "[1] \"Downloading GYLD\"\n",
      "[1] \"Downloading FER\"\n",
      "[1] \"Downloading IR\"\n",
      "[1] \"Downloading BLR\"\n",
      "[1] \"Downloading GGR\"\n",
      "[1] \"Downloading CA\"\n",
      "[1] \"Downloading FDI\"\n"
     ]
    }
   ],
   "source": [
    "# United Kingdom Data Frame\n",
    "uk <- trade_econ_data(country = 'uk', code = 'GBR', excode = 'NULL',\n",
    "                      ycode = 'NULL',\n",
    "                            monthly = c('CPIC','BOT','GYLD','FER','IR','BLR'),\n",
    "                            quarterly = c('GGR','CA','FDI'), \n",
    "                    col_names = c('Date','Infl_f','BOT_f',\n",
    "                                  'Yield_f','FER_f','Int_f','PrimeRate_f',\n",
    "                                  'GDPG_f','CA_f','FDI_f','Country'))\n",
    "exchange <- Quandl(\"FED/RXI_US_N_M_UK\", start_date = '1971-01-01')\n",
    "uk$Exchange <- 1/exchange$Value\n",
    "setwd('/home/matt/MSOR/ISYE7406/ML-Ex-Rates/Data')\n",
    "write.csv(uk, file = 'uk.csv')"
   ]
  },
  {
   "cell_type": "code",
   "execution_count": null,
   "metadata": {
    "collapsed": true
   },
   "outputs": [],
   "source": []
  },
  {
   "cell_type": "code",
   "execution_count": null,
   "metadata": {
    "collapsed": true
   },
   "outputs": [],
   "source": []
  }
 ],
 "metadata": {
  "kernelspec": {
   "display_name": "R",
   "language": "R",
   "name": "ir"
  },
  "language_info": {
   "codemirror_mode": "r",
   "file_extension": ".r",
   "mimetype": "text/x-r-source",
   "name": "R",
   "pygments_lexer": "r",
   "version": "3.2.2"
  }
 },
 "nbformat": 4,
 "nbformat_minor": 0
}
